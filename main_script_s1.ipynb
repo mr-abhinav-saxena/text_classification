{
 "cells": [
  {
   "cell_type": "markdown",
   "id": "bbb1ff00-c14c-4208-963f-01f3ed127172",
   "metadata": {
    "jp-MarkdownHeadingCollapsed": true
   },
   "source": [
    "# Setup"
   ]
  },
  {
   "cell_type": "markdown",
   "id": "60d942d1-427a-4abf-a6dd-c399ff0ecdc0",
   "metadata": {},
   "source": [
    "### Run this cell only one time (For installation of required packages)"
   ]
  },
  {
   "cell_type": "code",
   "execution_count": 2,
   "id": "c572cd2d-1241-429b-8812-9cde1379eccd",
   "metadata": {},
   "outputs": [],
   "source": [
    "pip install -r required_packages.txt"
   ]
  },
  {
   "cell_type": "markdown",
   "id": "b718a9e7-7296-4d80-970a-e135828f275a",
   "metadata": {},
   "source": [
    "### Run this cell only one time (Requires human intevention for one time download of NLTK data)"
   ]
  },
  {
   "cell_type": "code",
   "execution_count": null,
   "id": "cfd61153-d45d-4fca-8f9c-d7a871c0572f",
   "metadata": {},
   "outputs": [],
   "source": [
    "# Run this is only one time as it will download nltk data and will not require downloading again\n",
    "\n",
    "import nltk\n",
    "nltk.download()  # This will open a pop-up window for installation of NLTK data in few seconds (follow the steps in the installation window)"
   ]
  },
  {
   "cell_type": "code",
   "execution_count": 1,
   "id": "32bff629-bc2c-4ed8-9549-f66f8e3f0142",
   "metadata": {},
   "outputs": [
    {
     "name": "stderr",
     "output_type": "stream",
     "text": [
      "C:\\Users\\AbhinavSaxenaAdaptfy\\anaconda3\\envs\\my_ds_laboratory\\Lib\\site-packages\\tqdm\\auto.py:21: TqdmWarning: IProgress not found. Please update jupyter and ipywidgets. See https://ipywidgets.readthedocs.io/en/stable/user_install.html\n",
      "  from .autonotebook import tqdm as notebook_tqdm\n"
     ]
    }
   ],
   "source": [
    "# Gereral\n",
    "import os\n",
    "\n",
    "import numpy as np\n",
    "import pandas as pd\n",
    "import datetime as dt\n",
    "import time\n",
    "import copy\n",
    "import pickle\n",
    "\n",
    "# Exploration\n",
    "import matplotlib.pyplot as plt\n",
    "import seaborn as sns\n",
    "import wordcloud\n",
    "from wordcloud import WordCloud\n",
    "\n",
    "# NLP\n",
    "import re\n",
    "import nltk\n",
    "\n",
    "from nltk.corpus import stopwords\n",
    "from nltk.tag import pos_tag\n",
    "from spello.model import SpellCorrectionModel\n",
    "from langdetect import detect, detect_langs\n",
    "\n",
    "# ML\n",
    "from sklearn.pipeline import Pipeline\n",
    "from sklearn import preprocessing\n",
    "from sklearn.feature_extraction.text import TfidfVectorizer\n",
    "from sklearn.model_selection import train_test_split\n",
    "from sklearn.svm import LinearSVC\n",
    "from sklearn.ensemble import RandomForestClassifier\n",
    "from xgboost import XGBClassifier, plot_importance\n",
    "from sklearn.metrics import classification_report, accuracy_score, f1_score, precision_score, recall_score\n",
    "from sklearn.model_selection import cross_val_score\n",
    "\n",
    "from collections import Counter\n",
    "\n",
    "from imblearn.over_sampling import RandomOverSampler, SMOTE, KMeansSMOTE , ADASYN,SVMSMOTE,KMeansSMOTE,BorderlineSMOTE\n",
    "from imblearn.combine import SMOTEENN, SMOTETomek\n",
    "from imblearn.metrics import classification_report_imbalanced\n",
    "\n",
    "\n",
    "from transformers import AutoTokenizer, TFAutoModel\n",
    "\n",
    "import tensorflow as tf\n",
    "from tensorflow.keras.utils import to_categorical\n",
    "from tensorflow.keras import Model\n",
    "from tensorflow.keras.models import Sequential\n",
    "from tensorflow.keras.layers import Dense, Dropout, GlobalMaxPool1D, Input #, InputLayer\n",
    "\n",
    "from tensorflow.keras.optimizers import Adam\n",
    "from tensorflow.keras.callbacks import EarlyStopping\n",
    "from tensorflow.keras.initializers import TruncatedNormal\n",
    "from tensorflow.keras.losses import CategoricalCrossentropy\n",
    "from tensorflow.keras.metrics import CategoricalAccuracy\n",
    "\n",
    "import warnings\n",
    "warnings.simplefilter(\"ignore\")"
   ]
  },
  {
   "cell_type": "markdown",
   "id": "cdadc528-d083-42e2-8910-25b426560e9b",
   "metadata": {
    "jp-MarkdownHeadingCollapsed": true
   },
   "source": [
    "# Load Data"
   ]
  },
  {
   "cell_type": "code",
   "execution_count": 3,
   "id": "568e455d-e5d8-4ae5-8f66-8d6a145c3aec",
   "metadata": {},
   "outputs": [
    {
     "data": {
      "text/plain": [
       "'C:\\\\Users\\\\AbhinavSaxenaAdaptfy\\\\Downloads\\\\India AI Hackathon\\\\Codebase'"
      ]
     },
     "execution_count": 3,
     "metadata": {},
     "output_type": "execute_result"
    }
   ],
   "source": [
    "os.getcwd()"
   ]
  },
  {
   "cell_type": "code",
   "execution_count": 4,
   "id": "a02757ed-43f0-4551-a391-5efa334397cf",
   "metadata": {},
   "outputs": [],
   "source": [
    "train_path = os.path.join(\"Input Data\",\"train.csv\")\n",
    "test_path = os.path.join(\"Input Data\",\"test.csv\")"
   ]
  },
  {
   "cell_type": "code",
   "execution_count": 5,
   "id": "f0fb87b8-12e7-4184-bdba-e0d3ab9a22af",
   "metadata": {},
   "outputs": [],
   "source": [
    "# Load data\n",
    "def load_data():\n",
    "    data_train = pd.read_csv(filepath_or_buffer = train_path, sep = \",\", header = 0)\n",
    "    data_test = pd.read_csv(filepath_or_buffer = test_path, sep = \",\", header = 0)\n",
    "    return data_train, data_test"
   ]
  },
  {
   "cell_type": "code",
   "execution_count": 6,
   "id": "c51c14a0-71c6-48e6-a4aa-f4fd233adbca",
   "metadata": {},
   "outputs": [],
   "source": [
    "data_train, data_test = load_data()"
   ]
  },
  {
   "cell_type": "markdown",
   "id": "1709d593-469d-4b71-bd04-74e3ba69a8f9",
   "metadata": {
    "jp-MarkdownHeadingCollapsed": true
   },
   "source": [
    "# EDA (Before Data Cleaning)"
   ]
  },
  {
   "cell_type": "markdown",
   "id": "3dc79c24-c90a-4093-948c-9b470c1cfc70",
   "metadata": {},
   "source": [
    "##### Let's look at the structure of the data"
   ]
  },
  {
   "cell_type": "code",
   "execution_count": 6,
   "id": "c0b3a7b3-6b6a-4f14-a107-4254f3dfc246",
   "metadata": {},
   "outputs": [
    {
     "data": {
      "text/html": [
       "<div>\n",
       "<style scoped>\n",
       "    .dataframe tbody tr th:only-of-type {\n",
       "        vertical-align: middle;\n",
       "    }\n",
       "\n",
       "    .dataframe tbody tr th {\n",
       "        vertical-align: top;\n",
       "    }\n",
       "\n",
       "    .dataframe thead th {\n",
       "        text-align: right;\n",
       "    }\n",
       "</style>\n",
       "<table border=\"1\" class=\"dataframe\">\n",
       "  <thead>\n",
       "    <tr style=\"text-align: right;\">\n",
       "      <th></th>\n",
       "      <th>category</th>\n",
       "      <th>sub_category</th>\n",
       "      <th>crimeaditionalinfo</th>\n",
       "    </tr>\n",
       "  </thead>\n",
       "  <tbody>\n",
       "    <tr>\n",
       "      <th>0</th>\n",
       "      <td>Online and Social Media Related Crime</td>\n",
       "      <td>Cyber Bullying  Stalking  Sexting</td>\n",
       "      <td>I had continue received random calls and abusi...</td>\n",
       "    </tr>\n",
       "    <tr>\n",
       "      <th>1</th>\n",
       "      <td>Online Financial Fraud</td>\n",
       "      <td>Fraud CallVishing</td>\n",
       "      <td>The above fraudster is continuously messaging ...</td>\n",
       "    </tr>\n",
       "    <tr>\n",
       "      <th>2</th>\n",
       "      <td>Online Gambling  Betting</td>\n",
       "      <td>Online Gambling  Betting</td>\n",
       "      <td>He is acting like a police and demanding for m...</td>\n",
       "    </tr>\n",
       "    <tr>\n",
       "      <th>3</th>\n",
       "      <td>Online and Social Media Related Crime</td>\n",
       "      <td>Online Job Fraud</td>\n",
       "      <td>In apna Job I have applied for job interview f...</td>\n",
       "    </tr>\n",
       "    <tr>\n",
       "      <th>4</th>\n",
       "      <td>Online Financial Fraud</td>\n",
       "      <td>Fraud CallVishing</td>\n",
       "      <td>I received a call from lady stating that she w...</td>\n",
       "    </tr>\n",
       "  </tbody>\n",
       "</table>\n",
       "</div>"
      ],
      "text/plain": [
       "                                category                       sub_category  \\\n",
       "0  Online and Social Media Related Crime  Cyber Bullying  Stalking  Sexting   \n",
       "1                 Online Financial Fraud                  Fraud CallVishing   \n",
       "2               Online Gambling  Betting           Online Gambling  Betting   \n",
       "3  Online and Social Media Related Crime                   Online Job Fraud   \n",
       "4                 Online Financial Fraud                  Fraud CallVishing   \n",
       "\n",
       "                                  crimeaditionalinfo  \n",
       "0  I had continue received random calls and abusi...  \n",
       "1  The above fraudster is continuously messaging ...  \n",
       "2  He is acting like a police and demanding for m...  \n",
       "3  In apna Job I have applied for job interview f...  \n",
       "4  I received a call from lady stating that she w...  "
      ]
     },
     "execution_count": 6,
     "metadata": {},
     "output_type": "execute_result"
    }
   ],
   "source": [
    "#pd.set_option('display.max_columns', 81)\n",
    "data_train.head()"
   ]
  },
  {
   "cell_type": "code",
   "execution_count": 7,
   "id": "2224e15b-b130-4c45-94d5-9e2964b86447",
   "metadata": {},
   "outputs": [
    {
     "name": "stdout",
     "output_type": "stream",
     "text": [
      "<class 'pandas.core.frame.DataFrame'>\n",
      "RangeIndex: 93686 entries, 0 to 93685\n",
      "Data columns (total 3 columns):\n",
      " #   Column              Non-Null Count  Dtype \n",
      "---  ------              --------------  ----- \n",
      " 0   category            93686 non-null  object\n",
      " 1   sub_category        87095 non-null  object\n",
      " 2   crimeaditionalinfo  93665 non-null  object\n",
      "dtypes: object(3)\n",
      "memory usage: 2.1+ MB\n"
     ]
    }
   ],
   "source": [
    "data_train.info()"
   ]
  },
  {
   "cell_type": "code",
   "execution_count": 8,
   "id": "c6b2722e-e564-46e0-bee6-e98eaedc6166",
   "metadata": {},
   "outputs": [
    {
     "data": {
      "text/html": [
       "<div>\n",
       "<style scoped>\n",
       "    .dataframe tbody tr th:only-of-type {\n",
       "        vertical-align: middle;\n",
       "    }\n",
       "\n",
       "    .dataframe tbody tr th {\n",
       "        vertical-align: top;\n",
       "    }\n",
       "\n",
       "    .dataframe thead th {\n",
       "        text-align: right;\n",
       "    }\n",
       "</style>\n",
       "<table border=\"1\" class=\"dataframe\">\n",
       "  <thead>\n",
       "    <tr style=\"text-align: right;\">\n",
       "      <th></th>\n",
       "      <th>category</th>\n",
       "      <th>sub_category</th>\n",
       "      <th>crimeaditionalinfo</th>\n",
       "    </tr>\n",
       "  </thead>\n",
       "  <tbody>\n",
       "    <tr>\n",
       "      <th>count</th>\n",
       "      <td>93686</td>\n",
       "      <td>87095</td>\n",
       "      <td>93665</td>\n",
       "    </tr>\n",
       "    <tr>\n",
       "      <th>unique</th>\n",
       "      <td>15</td>\n",
       "      <td>35</td>\n",
       "      <td>85013</td>\n",
       "    </tr>\n",
       "    <tr>\n",
       "      <th>top</th>\n",
       "      <td>Online Financial Fraud</td>\n",
       "      <td>UPI Related Frauds</td>\n",
       "      <td>Respected Sir\\r\\n\\r\\nA very serious matter I w...</td>\n",
       "    </tr>\n",
       "    <tr>\n",
       "      <th>freq</th>\n",
       "      <td>57434</td>\n",
       "      <td>26856</td>\n",
       "      <td>2342</td>\n",
       "    </tr>\n",
       "  </tbody>\n",
       "</table>\n",
       "</div>"
      ],
      "text/plain": [
       "                      category        sub_category  \\\n",
       "count                    93686               87095   \n",
       "unique                      15                  35   \n",
       "top     Online Financial Fraud  UPI Related Frauds   \n",
       "freq                     57434               26856   \n",
       "\n",
       "                                       crimeaditionalinfo  \n",
       "count                                               93665  \n",
       "unique                                              85013  \n",
       "top     Respected Sir\\r\\n\\r\\nA very serious matter I w...  \n",
       "freq                                                 2342  "
      ]
     },
     "execution_count": 8,
     "metadata": {},
     "output_type": "execute_result"
    }
   ],
   "source": [
    "data_train.describe()"
   ]
  },
  {
   "cell_type": "markdown",
   "id": "891b962f-6b9d-40d4-9e3b-1055246a4e8e",
   "metadata": {},
   "source": [
    "##### Let's look at the distribution of the crime reports"
   ]
  },
  {
   "cell_type": "code",
   "execution_count": 44,
   "id": "a394076c-cf4f-47c9-b639-ee582392ebec",
   "metadata": {},
   "outputs": [
    {
     "data": {
      "image/png": "[encoded data removed]",
      "text/plain": [
       "<Figure size 600x600 with 1 Axes>"
      ]
     },
     "metadata": {},
     "output_type": "display_data"
    }
   ],
   "source": [
    "fig, axs = plt.subplots(nrows = 1, ncols = 1, tight_layout=True, dpi = 300)\n",
    "\n",
    "data_train.groupby(['category']).size().plot(ax = axs, kind='pie', y='reports', autopct='%1.0f%%', fontsize=2, figsize = (2,2))\n",
    "\n",
    "plt.show()"
   ]
  },
  {
   "cell_type": "code",
   "execution_count": 9,
   "id": "984aa0eb-8a8f-484a-a18d-518fd549162d",
   "metadata": {},
   "outputs": [
    {
     "data": {
      "text/plain": [
       "category\n",
       "Online Financial Fraud                                  57434\n",
       "Online and Social Media Related Crime                   12140\n",
       "Any Other Cyber Crime                                   10878\n",
       "Cyber Attack/ Dependent Crimes                           3608\n",
       "RapeGang Rape RGRSexually Abusive Content                2822\n",
       "Sexually Obscene material                                1838\n",
       "Hacking  Damage to computercomputer system etc           1710\n",
       "Sexually Explicit Act                                    1552\n",
       "Cryptocurrency Crime                                      480\n",
       "Online Gambling  Betting                                  444\n",
       "Child Pornography CPChild Sexual Abuse Material CSAM      379\n",
       "Online Cyber Trafficking                                  183\n",
       "Cyber Terrorism                                           161\n",
       "Ransomware                                                 56\n",
       "Report Unlawful Content                                     1\n",
       "Name: count, dtype: int64"
      ]
     },
     "execution_count": 9,
     "metadata": {},
     "output_type": "execute_result"
    }
   ],
   "source": [
    "data_train['category'].value_counts()"
   ]
  },
  {
   "cell_type": "code",
   "execution_count": 45,
   "id": "5bce490c-348f-4fe4-a0f6-0250b3a9d156",
   "metadata": {},
   "outputs": [
    {
     "data": {
      "image/png": "[encoded data removed]",
      "text/plain": [
       "<Figure size 600x600 with 1 Axes>"
      ]
     },
     "metadata": {},
     "output_type": "display_data"
    }
   ],
   "source": [
    "fig, axs = plt.subplots(nrows = 1, ncols = 1, tight_layout=True, dpi = 300)\n",
    "\n",
    "data_train.query('category==\"Online Financial Fraud\"').groupby(['sub_category']).size().plot(ax = axs, kind='pie', y='reports', autopct='%1.0f%%', fontsize=2, figsize = (2,2))\n",
    "#data_train.query('category==\"Online and Social Media Related Crime\"').groupby(['sub_category']).size().plot(ax = axs, kind='pie', y='reports', autopct='%1.0f%%', fontsize=2, figsize = (2,2))\n",
    "#data_train.query('category==\"Cyber Attack/ Dependent Crimes\"').groupby(['sub_category']).size().plot(ax = axs, kind='pie', y='reports', autopct='%1.0f%%', fontsize=2, figsize = (2,2))\n",
    "\n",
    "plt.show()"
   ]
  },
  {
   "cell_type": "code",
   "execution_count": 10,
   "id": "5a2ee97d-d0fc-44d4-889b-fffffd0a02f5",
   "metadata": {},
   "outputs": [
    {
     "data": {
      "text/plain": [
       "sub_category\n",
       "UPI Related Frauds                                                      26856\n",
       "Other                                                                   10878\n",
       "DebitCredit Card FraudSim Swap Fraud                                    10805\n",
       "Internet Banking Related Fraud                                           8872\n",
       "Fraud CallVishing                                                        5803\n",
       "Cyber Bullying  Stalking  Sexting                                        4089\n",
       "EWallet Related Fraud                                                    4047\n",
       "FakeImpersonating Profile                                                2299\n",
       "Profile Hacking Identity Theft                                           2073\n",
       "Cheating by Impersonation                                                1988\n",
       "Unauthorised AccessData Breach                                           1114\n",
       "Online Job Fraud                                                          912\n",
       "DematDepository Fraud                                                     761\n",
       "Tampering with computer source documents                                  567\n",
       "Hacking/Defacement                                                        540\n",
       "Ransomware Attack                                                         534\n",
       "Malware Attack                                                            521\n",
       "SQL Injection                                                             508\n",
       "Denial of Service (DoS)/Distributed Denial of Service (DDOS) attacks      504\n",
       "Data Breach/Theft                                                         484\n",
       "Cryptocurrency Fraud                                                      480\n",
       "Online Gambling  Betting                                                  444\n",
       "Provocative Speech for unlawful acts                                      417\n",
       "Email Hacking                                                             349\n",
       "Business Email CompromiseEmail Takeover                                   290\n",
       "Online Trafficking                                                        183\n",
       "Cyber Terrorism                                                           161\n",
       "EMail Phishing                                                            157\n",
       "Online Matrimonial Fraud                                                  132\n",
       "Damage to computer computer systems etc                                   108\n",
       "Website DefacementHacking                                                  89\n",
       "Ransomware                                                                 56\n",
       "Impersonating Email                                                        44\n",
       "Intimidating Email                                                         29\n",
       "Against Interest of sovereignty or integrity of India                       1\n",
       "Name: count, dtype: int64"
      ]
     },
     "execution_count": 10,
     "metadata": {},
     "output_type": "execute_result"
    }
   ],
   "source": [
    "data_train['sub_category'].value_counts()"
   ]
  },
  {
   "cell_type": "code",
   "execution_count": 11,
   "id": "416c2baa-3908-46cd-bff0-e75f86a5cf54",
   "metadata": {},
   "outputs": [
    {
     "data": {
      "text/html": [
       "<div>\n",
       "<style scoped>\n",
       "    .dataframe tbody tr th:only-of-type {\n",
       "        vertical-align: middle;\n",
       "    }\n",
       "\n",
       "    .dataframe tbody tr th {\n",
       "        vertical-align: top;\n",
       "    }\n",
       "\n",
       "    .dataframe thead th {\n",
       "        text-align: right;\n",
       "    }\n",
       "</style>\n",
       "<table border=\"1\" class=\"dataframe\">\n",
       "  <thead>\n",
       "    <tr style=\"text-align: right;\">\n",
       "      <th></th>\n",
       "      <th></th>\n",
       "      <th>report_count</th>\n",
       "    </tr>\n",
       "    <tr>\n",
       "      <th>category</th>\n",
       "      <th>sub_category</th>\n",
       "      <th></th>\n",
       "    </tr>\n",
       "  </thead>\n",
       "  <tbody>\n",
       "    <tr>\n",
       "      <th>Any Other Cyber Crime</th>\n",
       "      <th>Other</th>\n",
       "      <td>10878</td>\n",
       "    </tr>\n",
       "    <tr>\n",
       "      <th>Child Pornography CPChild Sexual Abuse Material CSAM</th>\n",
       "      <th>NaN</th>\n",
       "      <td>379</td>\n",
       "    </tr>\n",
       "    <tr>\n",
       "      <th>Cryptocurrency Crime</th>\n",
       "      <th>Cryptocurrency Fraud</th>\n",
       "      <td>480</td>\n",
       "    </tr>\n",
       "    <tr>\n",
       "      <th rowspan=\"7\" valign=\"top\">Cyber Attack/ Dependent Crimes</th>\n",
       "      <th>Data Breach/Theft</th>\n",
       "      <td>484</td>\n",
       "    </tr>\n",
       "    <tr>\n",
       "      <th>Denial of Service (DoS)/Distributed Denial of Service (DDOS) attacks</th>\n",
       "      <td>504</td>\n",
       "    </tr>\n",
       "    <tr>\n",
       "      <th>Hacking/Defacement</th>\n",
       "      <td>540</td>\n",
       "    </tr>\n",
       "    <tr>\n",
       "      <th>Malware Attack</th>\n",
       "      <td>521</td>\n",
       "    </tr>\n",
       "    <tr>\n",
       "      <th>Ransomware Attack</th>\n",
       "      <td>534</td>\n",
       "    </tr>\n",
       "    <tr>\n",
       "      <th>SQL Injection</th>\n",
       "      <td>508</td>\n",
       "    </tr>\n",
       "    <tr>\n",
       "      <th>Tampering with computer source documents</th>\n",
       "      <td>517</td>\n",
       "    </tr>\n",
       "    <tr>\n",
       "      <th>Cyber Terrorism</th>\n",
       "      <th>Cyber Terrorism</th>\n",
       "      <td>161</td>\n",
       "    </tr>\n",
       "    <tr>\n",
       "      <th rowspan=\"5\" valign=\"top\">Hacking  Damage to computercomputer system etc</th>\n",
       "      <th>Damage to computer computer systems etc</th>\n",
       "      <td>108</td>\n",
       "    </tr>\n",
       "    <tr>\n",
       "      <th>Email Hacking</th>\n",
       "      <td>349</td>\n",
       "    </tr>\n",
       "    <tr>\n",
       "      <th>Tampering with computer source documents</th>\n",
       "      <td>50</td>\n",
       "    </tr>\n",
       "    <tr>\n",
       "      <th>Unauthorised AccessData Breach</th>\n",
       "      <td>1114</td>\n",
       "    </tr>\n",
       "    <tr>\n",
       "      <th>Website DefacementHacking</th>\n",
       "      <td>89</td>\n",
       "    </tr>\n",
       "    <tr>\n",
       "      <th>Online Cyber Trafficking</th>\n",
       "      <th>Online Trafficking</th>\n",
       "      <td>183</td>\n",
       "    </tr>\n",
       "    <tr>\n",
       "      <th rowspan=\"7\" valign=\"top\">Online Financial Fraud</th>\n",
       "      <th>Business Email CompromiseEmail Takeover</th>\n",
       "      <td>290</td>\n",
       "    </tr>\n",
       "    <tr>\n",
       "      <th>DebitCredit Card FraudSim Swap Fraud</th>\n",
       "      <td>10805</td>\n",
       "    </tr>\n",
       "    <tr>\n",
       "      <th>DematDepository Fraud</th>\n",
       "      <td>761</td>\n",
       "    </tr>\n",
       "    <tr>\n",
       "      <th>EWallet Related Fraud</th>\n",
       "      <td>4047</td>\n",
       "    </tr>\n",
       "    <tr>\n",
       "      <th>Fraud CallVishing</th>\n",
       "      <td>5803</td>\n",
       "    </tr>\n",
       "    <tr>\n",
       "      <th>Internet Banking Related Fraud</th>\n",
       "      <td>8872</td>\n",
       "    </tr>\n",
       "    <tr>\n",
       "      <th>UPI Related Frauds</th>\n",
       "      <td>26856</td>\n",
       "    </tr>\n",
       "    <tr>\n",
       "      <th>Online Gambling  Betting</th>\n",
       "      <th>Online Gambling  Betting</th>\n",
       "      <td>444</td>\n",
       "    </tr>\n",
       "    <tr>\n",
       "      <th rowspan=\"10\" valign=\"top\">Online and Social Media Related Crime</th>\n",
       "      <th>Cheating by Impersonation</th>\n",
       "      <td>1988</td>\n",
       "    </tr>\n",
       "    <tr>\n",
       "      <th>Cyber Bullying  Stalking  Sexting</th>\n",
       "      <td>4089</td>\n",
       "    </tr>\n",
       "    <tr>\n",
       "      <th>EMail Phishing</th>\n",
       "      <td>157</td>\n",
       "    </tr>\n",
       "    <tr>\n",
       "      <th>FakeImpersonating Profile</th>\n",
       "      <td>2299</td>\n",
       "    </tr>\n",
       "    <tr>\n",
       "      <th>Impersonating Email</th>\n",
       "      <td>44</td>\n",
       "    </tr>\n",
       "    <tr>\n",
       "      <th>Intimidating Email</th>\n",
       "      <td>29</td>\n",
       "    </tr>\n",
       "    <tr>\n",
       "      <th>Online Job Fraud</th>\n",
       "      <td>912</td>\n",
       "    </tr>\n",
       "    <tr>\n",
       "      <th>Online Matrimonial Fraud</th>\n",
       "      <td>132</td>\n",
       "    </tr>\n",
       "    <tr>\n",
       "      <th>Profile Hacking Identity Theft</th>\n",
       "      <td>2073</td>\n",
       "    </tr>\n",
       "    <tr>\n",
       "      <th>Provocative Speech for unlawful acts</th>\n",
       "      <td>417</td>\n",
       "    </tr>\n",
       "    <tr>\n",
       "      <th>Ransomware</th>\n",
       "      <th>Ransomware</th>\n",
       "      <td>56</td>\n",
       "    </tr>\n",
       "    <tr>\n",
       "      <th>RapeGang Rape RGRSexually Abusive Content</th>\n",
       "      <th>NaN</th>\n",
       "      <td>2822</td>\n",
       "    </tr>\n",
       "    <tr>\n",
       "      <th>Report Unlawful Content</th>\n",
       "      <th>Against Interest of sovereignty or integrity of India</th>\n",
       "      <td>1</td>\n",
       "    </tr>\n",
       "    <tr>\n",
       "      <th>Sexually Explicit Act</th>\n",
       "      <th>NaN</th>\n",
       "      <td>1552</td>\n",
       "    </tr>\n",
       "    <tr>\n",
       "      <th>Sexually Obscene material</th>\n",
       "      <th>NaN</th>\n",
       "      <td>1838</td>\n",
       "    </tr>\n",
       "  </tbody>\n",
       "</table>\n",
       "</div>"
      ],
      "text/plain": [
       "                                                                                                       report_count\n",
       "category                                           sub_category                                                    \n",
       "Any Other Cyber Crime                              Other                                                      10878\n",
       "Child Pornography CPChild Sexual Abuse Material... NaN                                                          379\n",
       "Cryptocurrency Crime                               Cryptocurrency Fraud                                         480\n",
       "Cyber Attack/ Dependent Crimes                     Data Breach/Theft                                            484\n",
       "                                                   Denial of Service (DoS)/Distributed Denial of S...           504\n",
       "                                                   Hacking/Defacement                                           540\n",
       "                                                   Malware Attack                                               521\n",
       "                                                   Ransomware Attack                                            534\n",
       "                                                   SQL Injection                                                508\n",
       "                                                   Tampering with computer source documents                     517\n",
       "Cyber Terrorism                                    Cyber Terrorism                                              161\n",
       "Hacking  Damage to computercomputer system etc     Damage to computer computer systems etc                      108\n",
       "                                                   Email Hacking                                                349\n",
       "                                                   Tampering with computer source documents                      50\n",
       "                                                   Unauthorised AccessData Breach                              1114\n",
       "                                                   Website DefacementHacking                                     89\n",
       "Online Cyber Trafficking                           Online Trafficking                                           183\n",
       "Online Financial Fraud                             Business Email CompromiseEmail Takeover                      290\n",
       "                                                   DebitCredit Card FraudSim Swap Fraud                       10805\n",
       "                                                   DematDepository Fraud                                        761\n",
       "                                                   EWallet Related Fraud                                       4047\n",
       "                                                   Fraud CallVishing                                           5803\n",
       "                                                   Internet Banking Related Fraud                              8872\n",
       "                                                   UPI Related Frauds                                         26856\n",
       "Online Gambling  Betting                           Online Gambling  Betting                                     444\n",
       "Online and Social Media Related Crime              Cheating by Impersonation                                   1988\n",
       "                                                   Cyber Bullying  Stalking  Sexting                           4089\n",
       "                                                   EMail Phishing                                               157\n",
       "                                                   FakeImpersonating Profile                                   2299\n",
       "                                                   Impersonating Email                                           44\n",
       "                                                   Intimidating Email                                            29\n",
       "                                                   Online Job Fraud                                             912\n",
       "                                                   Online Matrimonial Fraud                                     132\n",
       "                                                   Profile Hacking Identity Theft                              2073\n",
       "                                                   Provocative Speech for unlawful acts                         417\n",
       "Ransomware                                         Ransomware                                                    56\n",
       "RapeGang Rape RGRSexually Abusive Content          NaN                                                         2822\n",
       "Report Unlawful Content                            Against Interest of sovereignty or integrity of...             1\n",
       "Sexually Explicit Act                              NaN                                                         1552\n",
       "Sexually Obscene material                          NaN                                                         1838"
      ]
     },
     "execution_count": 11,
     "metadata": {},
     "output_type": "execute_result"
    }
   ],
   "source": [
    "data_train.groupby(by = [\"category\",\"sub_category\"], dropna=False).agg(report_count = (\"crimeaditionalinfo\", \"size\"))"
   ]
  },
  {
   "cell_type": "markdown",
   "id": "a7e71051-59a1-4fda-8ab7-d37ecad88a12",
   "metadata": {
    "jp-MarkdownHeadingCollapsed": true
   },
   "source": [
    "# Data Cleaning"
   ]
  },
  {
   "cell_type": "code",
   "execution_count": 7,
   "id": "f7c95bef-23d8-457c-aaae-634116f52ad1",
   "metadata": {},
   "outputs": [],
   "source": [
    "# Define function for punctuation removal\n",
    "\n",
    "def remove_punctuations(text):\n",
    "    \n",
    "    # create a translation table\n",
    "    no_punct_output = re.sub('[^a-zA-Z0-9\\s]+', '', text)\n",
    "    \n",
    "    return no_punct_output"
   ]
  },
  {
   "cell_type": "code",
   "execution_count": 8,
   "id": "ce287869-fe6b-4c84-88e9-f63b5b90247f",
   "metadata": {},
   "outputs": [],
   "source": [
    "# CLEANING\n",
    "\n",
    "def clean_data(df_input_data):\n",
    "\n",
    "    '''\n",
    "    Returns a dataframe with clean data.\n",
    "    Convert reports to lower case, remove whitespaces, remove punctuations, remove duplicates, give names to blank category / sub-category values.\n",
    "\n",
    "            Parameters:\n",
    "                    df_input: dataframe \n",
    "                        Raw input data\n",
    "\n",
    "            Returns:\n",
    "                    df_output: dataframe\n",
    "                        Dataframe with clean data\n",
    "    '''\n",
    "    \n",
    "    start = time.time()\n",
    "    \n",
    "    df_output_data = df_input_data\n",
    "    \n",
    "    df_output_data = df_output_data.rename(columns = {'crimeaditionalinfo' : 'reports'}) # Rename 'crimeaditionalinfo' column to 'reports'\n",
    "\n",
    "    # Remove whitespaces and punctuations from text\n",
    "    \n",
    "    df_output_data.reports = df_output_data.reports.astype(str).str.strip() # Removing leading & trailing whitespaces from reports text entry\n",
    "    df_output_data.reports = df_output_data.reports.str.lower() # Change text of reports to lowercase\n",
    "    df_output_data.reports = df_output_data.reports.apply(lambda x: remove_punctuations(str(x))) # Remove punctuations from report text\n",
    "\n",
    "    # Replace one / multiple whitespaces between words with single space\n",
    "    for i in range(len(df_output_data['reports'])):\n",
    "        df_output_data.loc[i,'reports'] = ' '.join(df_output_data.loc[i,'reports'].split())\n",
    "    \n",
    "    df_output_data = df_output_data.dropna(subset = [\"reports\"]) # Remove entries with NA report\n",
    "    df_output_data.reports = df_output_data.reports.astype(str).str.strip() # Removing leading & trailing whitespaces from reports text entry\n",
    "    df_output_data = df_output_data[df_output_data[\"reports\"] != ''] # Remove entries with blank report\n",
    "    df_output_data = df_output_data.drop_duplicates() # Removing duplicates\n",
    "    df_output_data = df_output_data.reset_index(drop=True)\n",
    "    \n",
    "    df_output_data[\"sub_category\"] = df_output_data[\"sub_category\"].fillna(df_output_data[\"category\"]) # If NA in sub_category, fill same value as that in category \n",
    "\n",
    "    end = time.time()\n",
    "    print(\"Execution time of cleaning is :\",(end-start)/60, \"minutes\")\n",
    "    \n",
    "    return df_output_data"
   ]
  },
  {
   "cell_type": "markdown",
   "id": "a2140fc9-eb91-405e-994e-3abf37180803",
   "metadata": {},
   "source": [
    "##### Export Clean Data (training set)"
   ]
  },
  {
   "cell_type": "code",
   "execution_count": 9,
   "id": "72b5c050-d98b-4787-a24f-c10061306c18",
   "metadata": {},
   "outputs": [
    {
     "name": "stdout",
     "output_type": "stream",
     "text": [
      "Execution time of cleaning is : 0.3204046328862508 minutes\n"
     ]
    }
   ],
   "source": [
    "df_clean_data = clean_data(data_train)"
   ]
  },
  {
   "cell_type": "code",
   "execution_count": 10,
   "id": "7e789e59-2fb6-43de-b279-9153a57e9ebe",
   "metadata": {},
   "outputs": [
    {
     "name": "stdout",
     "output_type": "stream",
     "text": [
      "<class 'pandas.core.frame.DataFrame'>\n",
      "RangeIndex: 79967 entries, 0 to 79966\n",
      "Data columns (total 3 columns):\n",
      " #   Column        Non-Null Count  Dtype \n",
      "---  ------        --------------  ----- \n",
      " 0   category      79967 non-null  object\n",
      " 1   sub_category  79967 non-null  object\n",
      " 2   reports       79967 non-null  object\n",
      "dtypes: object(3)\n",
      "memory usage: 1.8+ MB\n"
     ]
    }
   ],
   "source": [
    "df_clean_data.info()"
   ]
  },
  {
   "cell_type": "code",
   "execution_count": 11,
   "id": "5850edc2-ece5-4613-9291-9eb1020c5923",
   "metadata": {},
   "outputs": [
    {
     "data": {
      "text/html": [
       "<div>\n",
       "<style scoped>\n",
       "    .dataframe tbody tr th:only-of-type {\n",
       "        vertical-align: middle;\n",
       "    }\n",
       "\n",
       "    .dataframe tbody tr th {\n",
       "        vertical-align: top;\n",
       "    }\n",
       "\n",
       "    .dataframe thead th {\n",
       "        text-align: right;\n",
       "    }\n",
       "</style>\n",
       "<table border=\"1\" class=\"dataframe\">\n",
       "  <thead>\n",
       "    <tr style=\"text-align: right;\">\n",
       "      <th></th>\n",
       "      <th>category</th>\n",
       "      <th>sub_category</th>\n",
       "      <th>reports</th>\n",
       "    </tr>\n",
       "  </thead>\n",
       "  <tbody>\n",
       "    <tr>\n",
       "      <th>count</th>\n",
       "      <td>79967</td>\n",
       "      <td>79967</td>\n",
       "      <td>79967</td>\n",
       "    </tr>\n",
       "    <tr>\n",
       "      <th>unique</th>\n",
       "      <td>15</td>\n",
       "      <td>39</td>\n",
       "      <td>79428</td>\n",
       "    </tr>\n",
       "    <tr>\n",
       "      <th>top</th>\n",
       "      <td>Online Financial Fraud</td>\n",
       "      <td>UPI Related Frauds</td>\n",
       "      <td>id</td>\n",
       "    </tr>\n",
       "    <tr>\n",
       "      <th>freq</th>\n",
       "      <td>47115</td>\n",
       "      <td>19967</td>\n",
       "      <td>8</td>\n",
       "    </tr>\n",
       "  </tbody>\n",
       "</table>\n",
       "</div>"
      ],
      "text/plain": [
       "                      category        sub_category reports\n",
       "count                    79967               79967   79967\n",
       "unique                      15                  39   79428\n",
       "top     Online Financial Fraud  UPI Related Frauds      id\n",
       "freq                     47115               19967       8"
      ]
     },
     "execution_count": 11,
     "metadata": {},
     "output_type": "execute_result"
    }
   ],
   "source": [
    "df_clean_data.describe()"
   ]
  },
  {
   "cell_type": "code",
   "execution_count": 12,
   "id": "2848a175-aa4a-47c8-8436-52e3df96c4f2",
   "metadata": {},
   "outputs": [],
   "source": [
    "df_clean_data.to_csv(os.path.join(\"Output Data\",\"01_clean_train_data.csv\"), index=False)"
   ]
  },
  {
   "cell_type": "markdown",
   "id": "69cd19a0-1668-41a1-ae4c-7fd79f4fcbe6",
   "metadata": {},
   "source": [
    "##### Export Clean Data (testing set)"
   ]
  },
  {
   "cell_type": "code",
   "execution_count": 13,
   "id": "2590bfcf-08f3-4143-8d57-ab73fe6f251e",
   "metadata": {},
   "outputs": [
    {
     "name": "stdout",
     "output_type": "stream",
     "text": [
      "Execution time of cleaning is : 0.1057350754737854 minutes\n"
     ]
    }
   ],
   "source": [
    "df_clean_test = clean_data(data_test)"
   ]
  },
  {
   "cell_type": "code",
   "execution_count": 14,
   "id": "d08d7068-556c-4d2c-b1fd-404f8c27e22a",
   "metadata": {},
   "outputs": [],
   "source": [
    "df_clean_test.to_csv(os.path.join(\"Output Data\",\"01_clean_test_data.csv\"), index=False)"
   ]
  },
  {
   "cell_type": "markdown",
   "id": "fb37ef32-39d8-48b9-800f-20014a860cc4",
   "metadata": {
    "jp-MarkdownHeadingCollapsed": true
   },
   "source": [
    "# EDA (Before Data Processing)"
   ]
  },
  {
   "cell_type": "code",
   "execution_count": null,
   "id": "5bbf3d71-d9ce-4210-8b13-f47e5e699501",
   "metadata": {},
   "outputs": [],
   "source": [
    "\n",
    "#df_clean_data = pd.read_csv(filepath_or_buffer = os.path.join(\"Output Data\",\"01_clean_train_data.csv\"), sep = \",\", header = 0)\n",
    "#df_clean_test = pd.read_csv(filepath_or_buffer = os.path.join(\"Output Data\",\"01_clean_test_data.csv\"), sep = \",\", header = 0)"
   ]
  },
  {
   "cell_type": "markdown",
   "id": "e1117d7c-7ba6-4bc3-98f4-744de07ad130",
   "metadata": {},
   "source": [
    "##### Let's check if any report is tagged with multiple categories"
   ]
  },
  {
   "cell_type": "code",
   "execution_count": 15,
   "id": "5855e02e-b977-4aba-a6b5-61ec328e63be",
   "metadata": {},
   "outputs": [
    {
     "data": {
      "text/html": [
       "<div>\n",
       "<style scoped>\n",
       "    .dataframe tbody tr th:only-of-type {\n",
       "        vertical-align: middle;\n",
       "    }\n",
       "\n",
       "    .dataframe tbody tr th {\n",
       "        vertical-align: top;\n",
       "    }\n",
       "\n",
       "    .dataframe thead th {\n",
       "        text-align: right;\n",
       "    }\n",
       "</style>\n",
       "<table border=\"1\" class=\"dataframe\">\n",
       "  <thead>\n",
       "    <tr style=\"text-align: right;\">\n",
       "      <th></th>\n",
       "      <th>count_category</th>\n",
       "      <th>count_sub_category</th>\n",
       "    </tr>\n",
       "    <tr>\n",
       "      <th>reports</th>\n",
       "      <th></th>\n",
       "      <th></th>\n",
       "    </tr>\n",
       "  </thead>\n",
       "  <tbody>\n",
       "    <tr>\n",
       "      <th>id</th>\n",
       "      <td>5</td>\n",
       "      <td>8</td>\n",
       "    </tr>\n",
       "    <tr>\n",
       "      <th>nan</th>\n",
       "      <td>3</td>\n",
       "      <td>7</td>\n",
       "    </tr>\n",
       "    <tr>\n",
       "      <th>paytm</th>\n",
       "      <td>3</td>\n",
       "      <td>7</td>\n",
       "    </tr>\n",
       "    <tr>\n",
       "      <th>dear sir please stop the fraudulent transaction and refund the amount in source account regards</th>\n",
       "      <td>1</td>\n",
       "      <td>6</td>\n",
       "    </tr>\n",
       "    <tr>\n",
       "      <th>fraud</th>\n",
       "      <td>2</td>\n",
       "      <td>5</td>\n",
       "    </tr>\n",
       "    <tr>\n",
       "      <th>...</th>\n",
       "      <td>...</td>\n",
       "      <td>...</td>\n",
       "    </tr>\n",
       "    <tr>\n",
       "      <th>victim reported fraud amount rs</th>\n",
       "      <td>1</td>\n",
       "      <td>2</td>\n",
       "    </tr>\n",
       "    <tr>\n",
       "      <th>whatsapp whatsapp</th>\n",
       "      <td>2</td>\n",
       "      <td>2</td>\n",
       "    </tr>\n",
       "    <tr>\n",
       "      <th>you are requested to debit freeze all beneficiaries accounts till the end user and refund the blocked amount into victims source account</th>\n",
       "      <td>1</td>\n",
       "      <td>2</td>\n",
       "    </tr>\n",
       "    <tr>\n",
       "      <th>amount debited fraudulently</th>\n",
       "      <td>1</td>\n",
       "      <td>2</td>\n",
       "    </tr>\n",
       "    <tr>\n",
       "      <th>upi fraud rs</th>\n",
       "      <td>1</td>\n",
       "      <td>2</td>\n",
       "    </tr>\n",
       "  </tbody>\n",
       "</table>\n",
       "<p>388 rows × 2 columns</p>\n",
       "</div>"
      ],
      "text/plain": [
       "                                                    count_category  \\\n",
       "reports                                                              \n",
       "id                                                               5   \n",
       "nan                                                              3   \n",
       "paytm                                                            3   \n",
       "dear sir please stop the fraudulent transaction...               1   \n",
       "fraud                                                            2   \n",
       "...                                                            ...   \n",
       "victim reported fraud amount rs                                  1   \n",
       "whatsapp whatsapp                                                2   \n",
       "you are requested to debit freeze all beneficia...               1   \n",
       "amount debited fraudulently                                      1   \n",
       "upi fraud rs                                                     1   \n",
       "\n",
       "                                                    count_sub_category  \n",
       "reports                                                                 \n",
       "id                                                                   8  \n",
       "nan                                                                  7  \n",
       "paytm                                                                7  \n",
       "dear sir please stop the fraudulent transaction...                   6  \n",
       "fraud                                                                5  \n",
       "...                                                                ...  \n",
       "victim reported fraud amount rs                                      2  \n",
       "whatsapp whatsapp                                                    2  \n",
       "you are requested to debit freeze all beneficia...                   2  \n",
       "amount debited fraudulently                                          2  \n",
       "upi fraud rs                                                         2  \n",
       "\n",
       "[388 rows x 2 columns]"
      ]
     },
     "execution_count": 15,
     "metadata": {},
     "output_type": "execute_result"
    }
   ],
   "source": [
    "df_clean_data.groupby(by='reports').agg({'category': 'nunique', 'sub_category': 'nunique'}).add_prefix(\"count_\").query('count_sub_category>1 | count_category>1').sort_values(by = 'count_sub_category', ascending=False)"
   ]
  },
  {
   "cell_type": "markdown",
   "id": "3cd3e9ae-ea2e-4599-8383-0bdd8dc3876a",
   "metadata": {
    "jp-MarkdownHeadingCollapsed": true
   },
   "source": [
    "# Data Pre-processing"
   ]
  },
  {
   "cell_type": "code",
   "execution_count": null,
   "id": "f0dddac8-1a73-41db-8b9c-a6eec2f3c1c8",
   "metadata": {},
   "outputs": [],
   "source": [
    "\n",
    "#df_clean_data = pd.read_csv(filepath_or_buffer = os.path.join(\"Output Data\",\"01_clean_train_data.csv\"), sep = \",\", header = 0)\n",
    "#df_clean_test = pd.read_csv(filepath_or_buffer = os.path.join(\"Output Data\",\"01_clean_test_data.csv\"), sep = \",\", header = 0)"
   ]
  },
  {
   "cell_type": "code",
   "execution_count": 32,
   "id": "a29d387d-4ea0-45f0-83b7-0c06dc0a1eb8",
   "metadata": {},
   "outputs": [],
   "source": [
    "# Define set of  stop words & words with no value-add\n",
    "\n",
    "def stop_words_set():\n",
    "    \n",
    "    # Manual list of words with no value-add\n",
    "\n",
    "    zero_value_words = [\n",
    "                    'hi', 'hello' ,'dear', 'sir', 'please', 'plz', 'pls', 'help', 'take', 'action', 'think', 'want', 'request', 'thank', 'regard',\n",
    "                    'name', 'isnt','hadnt', 'thats',\n",
    "                    'h', 'hai', 'kar', 'ki', 'ke', 'ka', 'k', 'maine', 'se', 'mujhe', 'ko', 'mai', 'p', 'mera', 'tha', 'th', 'karta', 'krta', 'par',\n",
    "                    'ti', 'ame', 'ames', 'aming', 'x', 'sm', 'do','r', 's',\n",
    "                    \"whatre\", \"whos\", \"whore\", \"wheres\", \"wherere\", \"whens\", \"whenre\", \"hows\", \"howre\", \"im\", \"were\", \"youre\", \"theyre\",\n",
    "                    \"its\", \"hes\", \"shes\", \"thats\", \"theres\", \"therere\", \"ive\", \"weve\", \"youve\", \"theyve\", \"whove\", \"wouldve\", \"notve\",\n",
    "                    \"ill\", \"il\", \"well\", \"youll\", \"hell\", \"shell\", \"itll\", \"itl\", \"theyll\", \"theyl\", \"isnt\", \"wasnt\", \"arent\", \"werent\",\n",
    "                    \"cant\", \"couldnt\", \"dont\", \"didnt\", \"shouldnt\", \"wouldnt\", \"doesnt\", \"havent\", \"havnt\", \"hasnt\", \"hadnt\", \"wont\"\n",
    "                    ]\n",
    "\n",
    "    stop_words_set = set(stopwords.words('english')) | set(zero_value_words)\n",
    "\n",
    "    return stop_words_set\n"
   ]
  },
  {
   "cell_type": "code",
   "execution_count": 27,
   "id": "98cc83c6-f5ff-4748-89d9-d68475d30910",
   "metadata": {},
   "outputs": [],
   "source": [
    "# Define lemmatization\n",
    "\n",
    "def lemmatize_text(text):\n",
    "\n",
    "    w_tokenizer = nltk.tokenize.WhitespaceTokenizer()\n",
    "    lemmatizer = nltk.stem.WordNetLemmatizer()\n",
    "\n",
    "    \n",
    "    #lemmatized_list = return [lemmatizer.lemmatize(word) for word in w_tokenizer.tokenize(text)] # This will lemmatize only nouns (n) by default\n",
    "    lemmatized_list = [  lemmatizer.lemmatize(word, tag[0].lower())   if tag[0].lower() in ['a', 'n', 'v']   else lemmatizer.lemmatize(word)   for word, tag in pos_tag(w_tokenizer.tokenize(text))] # This will lemmatize adjectives (a), nouns (n), verbs\n",
    "    return [lemmatized_word for lemmatized_word in lemmatized_list if lemmatized_word not in stop] "
   ]
  },
  {
   "cell_type": "code",
   "execution_count": 28,
   "id": "173f2426-4745-48df-ab5b-60389f844e8e",
   "metadata": {},
   "outputs": [],
   "source": [
    "# Define spelling correction\n",
    "\n",
    "#def spelling_correction(text):\n",
    "    \n",
    "    #sp = SpellCorrectionModel(language='en')\n",
    "    #sp.load(os.path.join(\"Models\",\"spello\",\"en.pkl\"))\n",
    "\n",
    "#    return sp.spell_correct(text).get('spell_corrected_text')"
   ]
  },
  {
   "cell_type": "code",
   "execution_count": 29,
   "id": "796ec9ea-dce8-48f1-a063-f9075184c72c",
   "metadata": {},
   "outputs": [],
   "source": [
    "# Define functions for language detection\n",
    "\n",
    "def detect_language_probability(text):\n",
    "    try:\n",
    "        return detect_langs(text)\n",
    "    except:\n",
    "        return '[xx:1.0000]'\n"
   ]
  },
  {
   "cell_type": "code",
   "execution_count": 30,
   "id": "bb5e02bb-b44a-4c00-a148-0f9a3e9802cf",
   "metadata": {},
   "outputs": [],
   "source": [
    "# Pre-processing\n",
    "\n",
    "def pre_process_data(df_input_data):\n",
    "\n",
    "    '''\n",
    "    Returns a dataframe with pre-processed (stop word removal, lemmatization and language detection) data.\n",
    "\n",
    "            Parameters:\n",
    "                    df_input: dataframe \n",
    "                        Clean dataframe\n",
    "\n",
    "            Returns:\n",
    "                    df_output: dataframe\n",
    "                        Dataframe with pre-processed data\n",
    "    '''\n",
    "    \n",
    "    df_output_data = df_input_data\n",
    "    df_output_data['report_length'] = df_output_data['reports'].apply(len) # Length of report after removing redundant spacing & puctuations from text\n",
    "\n",
    "\n",
    "    # Create another column of reports after stop-words removal\n",
    "    start = time.time()\n",
    "    df_output_data['report_aft_swr'] =  df_output_data['reports'].apply(lambda x: ' '.join([word for word in x.split() if word not in stop]))\n",
    "    end = time.time()\n",
    "    print(\"Execution time of stop-words removal is :\",(end-start)/60, \"minutes\")\n",
    "\n",
    "    # Create another column of reports after stop word removal & lemmatization\n",
    "    start = time.time()\n",
    "    df_output_data['report_aft_swr_lem'] =  df_output_data['report_aft_swr'].apply(lambda x: ' '.join(report for report in lemmatize_text(x)))\n",
    "    end = time.time()\n",
    "    print(\"Execution time of lemmatization is :\",(end-start)/60, \"minutes\")\n",
    "    \n",
    "    # Create another column with spelling correction after stop word removal & lemmatization\n",
    "    #df_output_data['report_aft_swr_lem_spell'] = df_output_data['report_aft_swr_lem'].apply(spelling_correction) # Too slow & disturbs more words than it corrects\n",
    "\n",
    "    # Detect language of reports\n",
    "    start = time.time()\n",
    "    df_output_data['language_probability'] = df_output_data['reports'].apply(detect_language_probability) # Shows probability of different languages\n",
    "    df_output_data['major_language'] = df_output_data['language_probability'].astype(str).apply(lambda x: x[1:3])\n",
    "    df_output_data['major_probability'] = df_output_data['language_probability'].astype(str).apply(lambda x: float(x[4:10]))\n",
    "    end = time.time()\n",
    "    print(\"Execution time of language detection is :\",(end-start)/60, \"minutes\")\n",
    "    \n",
    "    return df_output_data"
   ]
  },
  {
   "cell_type": "code",
   "execution_count": 40,
   "id": "3a336d1b-503d-44f1-8bd8-5047a8e56907",
   "metadata": {},
   "outputs": [],
   "source": [
    "stop = stop_words_set()"
   ]
  },
  {
   "cell_type": "code",
   "execution_count": 31,
   "id": "c94555b8-8e88-4c7e-96bc-d5a53a7a9f61",
   "metadata": {},
   "outputs": [
    {
     "name": "stdout",
     "output_type": "stream",
     "text": [
      "Execution time of stop-words removal is : 0.022803759574890135 minutes\n",
      "Execution time of lemmatization is : 4.504683581988017 minutes\n",
      "Execution time of language detection is : 9.606585423151651 minutes\n"
     ]
    }
   ],
   "source": [
    "df_preprocessed_data = pre_process_data(df_clean_data)"
   ]
  },
  {
   "cell_type": "code",
   "execution_count": 35,
   "id": "54ccc9d4-1842-434f-8a7b-3fe7747298eb",
   "metadata": {},
   "outputs": [
    {
     "data": {
      "text/html": [
       "<div>\n",
       "<style scoped>\n",
       "    .dataframe tbody tr th:only-of-type {\n",
       "        vertical-align: middle;\n",
       "    }\n",
       "\n",
       "    .dataframe tbody tr th {\n",
       "        vertical-align: top;\n",
       "    }\n",
       "\n",
       "    .dataframe thead th {\n",
       "        text-align: right;\n",
       "    }\n",
       "</style>\n",
       "<table border=\"1\" class=\"dataframe\">\n",
       "  <thead>\n",
       "    <tr style=\"text-align: right;\">\n",
       "      <th></th>\n",
       "      <th>category</th>\n",
       "      <th>sub_category</th>\n",
       "      <th>reports</th>\n",
       "      <th>report_length</th>\n",
       "      <th>report_aft_swr</th>\n",
       "      <th>report_aft_swr_lem</th>\n",
       "      <th>language_probability</th>\n",
       "      <th>major_language</th>\n",
       "      <th>major_probability</th>\n",
       "    </tr>\n",
       "  </thead>\n",
       "  <tbody>\n",
       "    <tr>\n",
       "      <th>0</th>\n",
       "      <td>Online and Social Media Related Crime</td>\n",
       "      <td>Cyber Bullying  Stalking  Sexting</td>\n",
       "      <td>i had continue received random calls and abusi...</td>\n",
       "      <td>255</td>\n",
       "      <td>continue received random calls abusive message...</td>\n",
       "      <td>continue receive random call abusive message w...</td>\n",
       "      <td>[en:0.9999969764278936]</td>\n",
       "      <td>en</td>\n",
       "      <td>0.9999</td>\n",
       "    </tr>\n",
       "  </tbody>\n",
       "</table>\n",
       "</div>"
      ],
      "text/plain": [
       "                                category                       sub_category  \\\n",
       "0  Online and Social Media Related Crime  Cyber Bullying  Stalking  Sexting   \n",
       "\n",
       "                                             reports  report_length  \\\n",
       "0  i had continue received random calls and abusi...            255   \n",
       "\n",
       "                                      report_aft_swr  \\\n",
       "0  continue received random calls abusive message...   \n",
       "\n",
       "                                  report_aft_swr_lem     language_probability  \\\n",
       "0  continue receive random call abusive message w...  [en:0.9999969764278936]   \n",
       "\n",
       "  major_language  major_probability  \n",
       "0             en             0.9999  "
      ]
     },
     "execution_count": 35,
     "metadata": {},
     "output_type": "execute_result"
    }
   ],
   "source": [
    "df_preprocessed_data.head(1)"
   ]
  },
  {
   "cell_type": "markdown",
   "id": "c2a73a82-e412-4a79-84d6-5f2ba19c91c2",
   "metadata": {},
   "source": [
    "##### Export pre-processed data (training set)"
   ]
  },
  {
   "cell_type": "code",
   "execution_count": 36,
   "id": "c675dd87-9253-44f9-a264-4610cc8c7bfa",
   "metadata": {},
   "outputs": [],
   "source": [
    "df_preprocessed_data.to_csv(os.path.join(\"Output Data\",\"02_preprocessed_train_data.csv\"), index=False)"
   ]
  },
  {
   "cell_type": "markdown",
   "id": "2c063e8f-2529-458f-a76a-b846e870a9ab",
   "metadata": {},
   "source": [
    "##### Export pre-processed data (testing set)"
   ]
  },
  {
   "cell_type": "code",
   "execution_count": 42,
   "id": "4ece0ae7-79f0-4eba-b047-f92c4278b1c2",
   "metadata": {},
   "outputs": [
    {
     "name": "stdout",
     "output_type": "stream",
     "text": [
      "Execution time of stop-words removal is : 0.008988547325134277 minutes\n",
      "Execution time of lemmatization is : 1.3897468447685242 minutes\n",
      "Execution time of language detection is : 3.059080429871877 minutes\n"
     ]
    }
   ],
   "source": [
    "df_preprocessed_test = pre_process_data(df_clean_test)"
   ]
  },
  {
   "cell_type": "code",
   "execution_count": 43,
   "id": "0d80f37c-0059-4b88-8a2f-068477100f47",
   "metadata": {},
   "outputs": [],
   "source": [
    "df_preprocessed_test.to_csv(os.path.join(\"Output Data\",\"02_preprocessed_test_data.csv\"), index=False)"
   ]
  },
  {
   "cell_type": "markdown",
   "id": "e7f9deaf-609d-4d78-9100-8ff4a7788265",
   "metadata": {},
   "source": [
    "#### Prepare final training dataset (removing bad data for training)"
   ]
  },
  {
   "cell_type": "markdown",
   "id": "50580429-4b76-46b8-a63c-6c1ab88fe48d",
   "metadata": {},
   "source": [
    "##### Adding columns for report category count"
   ]
  },
  {
   "cell_type": "code",
   "execution_count": 104,
   "id": "4f34ab8a-1366-4e32-b209-a4f43c4d8529",
   "metadata": {},
   "outputs": [],
   "source": [
    "df_report_cat_count = df_preprocessed_data.groupby(by='report_aft_swr_lem').agg({'category': 'nunique', 'sub_category': 'nunique'}).add_prefix(\"count_\").sort_values(by = 'count_sub_category', ascending=False)\n",
    "df_preprocessed_final = pd.merge(df_preprocessed_data, df_report_cat_count, how='left', on='report_aft_swr_lem')\n"
   ]
  },
  {
   "cell_type": "code",
   "execution_count": 105,
   "id": "6e7ec072-4b0b-456f-92cd-bafd50655c32",
   "metadata": {},
   "outputs": [
    {
     "data": {
      "text/html": [
       "<div>\n",
       "<style scoped>\n",
       "    .dataframe tbody tr th:only-of-type {\n",
       "        vertical-align: middle;\n",
       "    }\n",
       "\n",
       "    .dataframe tbody tr th {\n",
       "        vertical-align: top;\n",
       "    }\n",
       "\n",
       "    .dataframe thead th {\n",
       "        text-align: right;\n",
       "    }\n",
       "</style>\n",
       "<table border=\"1\" class=\"dataframe\">\n",
       "  <thead>\n",
       "    <tr style=\"text-align: right;\">\n",
       "      <th></th>\n",
       "      <th>category</th>\n",
       "      <th>sub_category</th>\n",
       "      <th>reports</th>\n",
       "      <th>report_length</th>\n",
       "      <th>report_aft_swr</th>\n",
       "      <th>report_aft_swr_lem</th>\n",
       "      <th>language_probability</th>\n",
       "      <th>major_language</th>\n",
       "      <th>major_probability</th>\n",
       "      <th>count_category</th>\n",
       "      <th>count_sub_category</th>\n",
       "    </tr>\n",
       "  </thead>\n",
       "  <tbody>\n",
       "    <tr>\n",
       "      <th>0</th>\n",
       "      <td>Online and Social Media Related Crime</td>\n",
       "      <td>Cyber Bullying  Stalking  Sexting</td>\n",
       "      <td>i had continue received random calls and abusi...</td>\n",
       "      <td>255</td>\n",
       "      <td>continue received random calls abusive message...</td>\n",
       "      <td>continue receive random call abusive message w...</td>\n",
       "      <td>[en:0.9999969764278936]</td>\n",
       "      <td>en</td>\n",
       "      <td>0.9999</td>\n",
       "      <td>1.0</td>\n",
       "      <td>1.0</td>\n",
       "    </tr>\n",
       "  </tbody>\n",
       "</table>\n",
       "</div>"
      ],
      "text/plain": [
       "                                category                       sub_category  \\\n",
       "0  Online and Social Media Related Crime  Cyber Bullying  Stalking  Sexting   \n",
       "\n",
       "                                             reports  report_length  \\\n",
       "0  i had continue received random calls and abusi...            255   \n",
       "\n",
       "                                      report_aft_swr  \\\n",
       "0  continue received random calls abusive message...   \n",
       "\n",
       "                                  report_aft_swr_lem     language_probability  \\\n",
       "0  continue receive random call abusive message w...  [en:0.9999969764278936]   \n",
       "\n",
       "  major_language  major_probability  count_category  count_sub_category  \n",
       "0             en             0.9999             1.0                 1.0  "
      ]
     },
     "execution_count": 105,
     "metadata": {},
     "output_type": "execute_result"
    }
   ],
   "source": [
    "df_preprocessed_final.head(1)"
   ]
  },
  {
   "cell_type": "markdown",
   "id": "5e09847e-48bf-4d97-8512-21b813e05613",
   "metadata": {},
   "source": [
    "##### Removing bad & insufficient data from training set \n",
    "##### Bad data: blank reports, reports tagged with multiple categories/sub-categories, reports not in english\n",
    "##### Insufficient data: category == Report Unlawful Content (only 1 such report), report_length of less than 150 characters"
   ]
  },
  {
   "cell_type": "code",
   "execution_count": 111,
   "id": "b6513884-a96c-4916-94c1-2907874686dd",
   "metadata": {},
   "outputs": [],
   "source": [
    "df_preprocessed_final = df_preprocessed_final.query('report_aft_swr_lem != \"\" & report_aft_swr_lem == report_aft_swr_lem & count_sub_category == 1 & count_category == 1 & major_language == \"en\" & category != \"Report Unlawful Content\" & report_length >= 150').reset_index(drop=True)"
   ]
  },
  {
   "cell_type": "code",
   "execution_count": 166,
   "id": "9fce3609-a631-4979-bbfb-44d58bdc02ed",
   "metadata": {},
   "outputs": [],
   "source": [
    "df_preprocessed_final.drop(['count_category','count_sub_category'], axis=1, inplace=True)"
   ]
  },
  {
   "cell_type": "code",
   "execution_count": 168,
   "id": "3b2a0505-881c-44f6-8275-9ba1ebd5f527",
   "metadata": {},
   "outputs": [],
   "source": [
    "df_preprocessed_final.to_csv(os.path.join(\"Output Data\",\"03_preprocessed_train_data_final.csv\"), index=False)"
   ]
  },
  {
   "cell_type": "markdown",
   "id": "43111d7b-b809-4ae6-a65a-9cf98aca96df",
   "metadata": {},
   "source": [
    "#### Prepare final testing dataset (removing blank & NA reports)"
   ]
  },
  {
   "cell_type": "code",
   "execution_count": 161,
   "id": "c98e2280-59d8-4638-975d-bbd28f8a7833",
   "metadata": {},
   "outputs": [],
   "source": [
    "df_preprocessed_test_final = df_preprocessed_test.query('report_aft_swr_lem != \"\" & report_aft_swr_lem == report_aft_swr_lem').reset_index(drop=True)"
   ]
  },
  {
   "cell_type": "code",
   "execution_count": 162,
   "id": "bd394564-95b9-490c-a126-a251ace293e1",
   "metadata": {},
   "outputs": [],
   "source": [
    "df_preprocessed_test_final.to_csv(os.path.join(\"Output Data\",\"03_preprocessed_test_data_final.csv\"), index=False)"
   ]
  },
  {
   "cell_type": "markdown",
   "id": "6924d5c9-60db-457a-ad6e-e603658a3382",
   "metadata": {
    "jp-MarkdownHeadingCollapsed": true
   },
   "source": [
    "# EDA (Before Feature Extraction) "
   ]
  },
  {
   "cell_type": "code",
   "execution_count": null,
   "id": "db60a950-54c0-4877-b320-4ca80778dc5f",
   "metadata": {},
   "outputs": [],
   "source": [
    "\n",
    "#df_preprocessed_data = pd.read_csv(filepath_or_buffer = os.path.join(\"Output Data\",\"02_preprocessed_train_data.csv\"), sep = \",\", header = 0)\n",
    "#df_preprocessed_test = pd.read_csv(filepath_or_buffer = os.path.join(\"Output Data\",\"02_preprocessed_test_data.csv\"), sep = \",\", header = 0)"
   ]
  },
  {
   "cell_type": "markdown",
   "id": "926ccb97-881e-4881-b95a-d95c0ccf15d0",
   "metadata": {},
   "source": [
    "##### Add count of categories (that a report is tagged to) to report level preprocessed data"
   ]
  },
  {
   "cell_type": "code",
   "execution_count": 53,
   "id": "4145c607-42ea-435f-bf56-7319fbe4e039",
   "metadata": {},
   "outputs": [
    {
     "data": {
      "text/html": [
       "<div>\n",
       "<style scoped>\n",
       "    .dataframe tbody tr th:only-of-type {\n",
       "        vertical-align: middle;\n",
       "    }\n",
       "\n",
       "    .dataframe tbody tr th {\n",
       "        vertical-align: top;\n",
       "    }\n",
       "\n",
       "    .dataframe thead th {\n",
       "        text-align: right;\n",
       "    }\n",
       "</style>\n",
       "<table border=\"1\" class=\"dataframe\">\n",
       "  <thead>\n",
       "    <tr style=\"text-align: right;\">\n",
       "      <th></th>\n",
       "      <th>count_category</th>\n",
       "      <th>count_sub_category</th>\n",
       "    </tr>\n",
       "    <tr>\n",
       "      <th>report_aft_swr_lem</th>\n",
       "      <th></th>\n",
       "      <th></th>\n",
       "    </tr>\n",
       "  </thead>\n",
       "  <tbody>\n",
       "    <tr>\n",
       "      <th></th>\n",
       "      <td>6</td>\n",
       "      <td>13</td>\n",
       "    </tr>\n",
       "    <tr>\n",
       "      <th>id</th>\n",
       "      <td>5</td>\n",
       "      <td>8</td>\n",
       "    </tr>\n",
       "    <tr>\n",
       "      <th>paytm</th>\n",
       "      <td>3</td>\n",
       "      <td>8</td>\n",
       "    </tr>\n",
       "    <tr>\n",
       "      <th>nan</th>\n",
       "      <td>3</td>\n",
       "      <td>7</td>\n",
       "    </tr>\n",
       "    <tr>\n",
       "      <th>stop fraudulent transaction refund amount source account</th>\n",
       "      <td>1</td>\n",
       "      <td>6</td>\n",
       "    </tr>\n",
       "  </tbody>\n",
       "</table>\n",
       "</div>"
      ],
      "text/plain": [
       "                                                    count_category  \\\n",
       "report_aft_swr_lem                                                   \n",
       "                                                                 6   \n",
       "id                                                               5   \n",
       "paytm                                                            3   \n",
       "nan                                                              3   \n",
       "stop fraudulent transaction refund amount sourc...               1   \n",
       "\n",
       "                                                    count_sub_category  \n",
       "report_aft_swr_lem                                                      \n",
       "                                                                    13  \n",
       "id                                                                   8  \n",
       "paytm                                                                8  \n",
       "nan                                                                  7  \n",
       "stop fraudulent transaction refund amount sourc...                   6  "
      ]
     },
     "execution_count": 53,
     "metadata": {},
     "output_type": "execute_result"
    }
   ],
   "source": [
    "df_report_cat_count = df_preprocessed_data.groupby(by='report_aft_swr_lem').agg({'category': 'nunique', 'sub_category': 'nunique'}).add_prefix(\"count_\").sort_values(by = 'count_sub_category', ascending=False)\n",
    "df_report_cat_count.query('count_sub_category>1 | count_category>1').head()"
   ]
  },
  {
   "cell_type": "code",
   "execution_count": 52,
   "id": "9d065356-5858-45fd-8c7d-19ae88b24fd0",
   "metadata": {},
   "outputs": [
    {
     "data": {
      "text/html": [
       "<div>\n",
       "<style scoped>\n",
       "    .dataframe tbody tr th:only-of-type {\n",
       "        vertical-align: middle;\n",
       "    }\n",
       "\n",
       "    .dataframe tbody tr th {\n",
       "        vertical-align: top;\n",
       "    }\n",
       "\n",
       "    .dataframe thead th {\n",
       "        text-align: right;\n",
       "    }\n",
       "</style>\n",
       "<table border=\"1\" class=\"dataframe\">\n",
       "  <thead>\n",
       "    <tr style=\"text-align: right;\">\n",
       "      <th></th>\n",
       "      <th>category</th>\n",
       "      <th>sub_category</th>\n",
       "      <th>reports</th>\n",
       "      <th>report_length</th>\n",
       "      <th>report_aft_swr</th>\n",
       "      <th>report_aft_swr_lem</th>\n",
       "      <th>language_probability</th>\n",
       "      <th>major_language</th>\n",
       "      <th>major_probability</th>\n",
       "      <th>count_category</th>\n",
       "      <th>count_sub_category</th>\n",
       "    </tr>\n",
       "  </thead>\n",
       "  <tbody>\n",
       "    <tr>\n",
       "      <th>0</th>\n",
       "      <td>Online and Social Media Related Crime</td>\n",
       "      <td>Cyber Bullying  Stalking  Sexting</td>\n",
       "      <td>i had continue received random calls and abusi...</td>\n",
       "      <td>255</td>\n",
       "      <td>continue received random calls abusive message...</td>\n",
       "      <td>continue receive random call abusive message w...</td>\n",
       "      <td>[en:0.9999969764278936]</td>\n",
       "      <td>en</td>\n",
       "      <td>0.9999</td>\n",
       "      <td>NaN</td>\n",
       "      <td>NaN</td>\n",
       "    </tr>\n",
       "  </tbody>\n",
       "</table>\n",
       "</div>"
      ],
      "text/plain": [
       "                                category                       sub_category  \\\n",
       "0  Online and Social Media Related Crime  Cyber Bullying  Stalking  Sexting   \n",
       "\n",
       "                                             reports  report_length  \\\n",
       "0  i had continue received random calls and abusi...            255   \n",
       "\n",
       "                                      report_aft_swr  \\\n",
       "0  continue received random calls abusive message...   \n",
       "\n",
       "                                  report_aft_swr_lem     language_probability  \\\n",
       "0  continue receive random call abusive message w...  [en:0.9999969764278936]   \n",
       "\n",
       "  major_language  major_probability  count_category  count_sub_category  \n",
       "0             en             0.9999             NaN                 NaN  "
      ]
     },
     "execution_count": 52,
     "metadata": {},
     "output_type": "execute_result"
    }
   ],
   "source": [
    "df_explore = pd.merge(df_preprocessed_data, df_report_cat_count, how='left', on='report_aft_swr_lem')\n",
    "df_explore.head()"
   ]
  },
  {
   "cell_type": "markdown",
   "id": "f95e5ed6-4ebd-47fa-a5f2-3afa9134d14a",
   "metadata": {},
   "source": [
    "##### Distribution of reports by categories"
   ]
  },
  {
   "cell_type": "code",
   "execution_count": 83,
   "id": "60a68e10-03e6-4f2b-8e33-b6921ccc191a",
   "metadata": {},
   "outputs": [
    {
     "data": {
      "image/png": "[encoded data removed]",
      "text/plain": [
       "<Figure size 600x600 with 1 Axes>"
      ]
     },
     "metadata": {},
     "output_type": "display_data"
    }
   ],
   "source": [
    "fig, axs = plt.subplots(nrows = 1, ncols = 1, tight_layout=True, dpi = 300)\n",
    "\n",
    "df_explore.groupby(['category']).size().plot(ax = axs, kind='pie', y='reports', autopct='%1.0f%%', fontsize=2, figsize = (2,2))\n",
    "\n",
    "plt.show()"
   ]
  },
  {
   "cell_type": "markdown",
   "id": "14aff5bc-43ee-4997-a313-3735c5fd7721",
   "metadata": {},
   "source": [
    "##### Distribution of reports by sub-categories"
   ]
  },
  {
   "cell_type": "code",
   "execution_count": 84,
   "id": "d5beb7c9-1ebc-43ab-b26b-92d8e7d2b446",
   "metadata": {},
   "outputs": [
    {
     "data": {
      "image/png": "[encoded data removed]",
      "text/plain": [
       "<Figure size 600x600 with 1 Axes>"
      ]
     },
     "metadata": {},
     "output_type": "display_data"
    }
   ],
   "source": [
    "fig, axs = plt.subplots(nrows = 1, ncols = 1, tight_layout=True, dpi = 300)\n",
    "\n",
    "df_explore.query('category==\"Online Financial Fraud\"').groupby(['sub_category']).size().plot(ax = axs, kind='pie', y='reports', autopct='%1.0f%%', fontsize=2, figsize = (2,2))\n",
    "#df_explore.query('category==\"Online and Social Media Related Crime\"').groupby(['sub_category']).size().plot(ax = axs, kind='pie', y='reports', autopct='%1.0f%%', fontsize=2, figsize = (2,2))\n",
    "#df_explore.query('category==\"Cyber Attack/ Dependent Crimes\"').groupby(['sub_category']).size().plot(ax = axs, kind='pie', y='reports', autopct='%1.0f%%', fontsize=2, figsize = (2,2))\n",
    "\n",
    "plt.show()"
   ]
  },
  {
   "cell_type": "markdown",
   "id": "5faf2881-82cd-43f6-9601-878e366b65cd",
   "metadata": {},
   "source": [
    "##### Let's look at distribution of report lengths (after removing redundant spaces)"
   ]
  },
  {
   "cell_type": "code",
   "execution_count": 86,
   "id": "ace99ed9-d7d7-4c0f-b404-151a2e6d50b8",
   "metadata": {},
   "outputs": [
    {
     "data": {
      "image/png": "[encoded data removed]",
      "text/plain": [
       "<Figure size 640x480 with 1 Axes>"
      ]
     },
     "metadata": {},
     "output_type": "display_data"
    }
   ],
   "source": [
    "from matplotlib import ticker\n",
    "\n",
    "fig, ax = plt.subplots()\n",
    "ax.hist(df_explore['report_length'], bins = 150)\n",
    "\n",
    "ax.xaxis.set_major_locator(ticker.MultipleLocator(100))\n",
    "plt.xticks(fontsize=10, rotation=90)\n",
    "\n",
    "ax.grid(True)\n",
    "#ax.legend(loc='right')\n",
    "ax.set_title(\"Distribution of reports' length\")\n",
    "ax.set_xlabel('Report Length')\n",
    "ax.set_ylabel('Count of reports')\n",
    "\n",
    "plt.show()"
   ]
  },
  {
   "cell_type": "code",
   "execution_count": 87,
   "id": "14ca483f-5594-4da6-9635-74df44f23a59",
   "metadata": {},
   "outputs": [
    {
     "data": {
      "image/png": "[encoded data removed]",
      "text/plain": [
       "<Figure size 1920x1440 with 16 Axes>"
      ]
     },
     "metadata": {},
     "output_type": "display_data"
    }
   ],
   "source": [
    "fig, axs = plt.subplots(nrows = 4, ncols = 4, sharex = True, sharey = False, tight_layout = True, dpi = 300)\n",
    "\n",
    "categories = list(set(df_explore['category']))\n",
    "\n",
    "for pos, val in enumerate(categories):\n",
    "    axs[pos // 4][pos % 4].hist(df_explore[df_explore['category'] == val]['report_length'], bins = 150)\n",
    "    axs[pos // 4][pos % 4].set_title(val, fontdict = {'fontsize': 5})\n",
    "    axs[pos // 4][pos % 4].xaxis.set_major_locator(ticker.MultipleLocator(300))\n",
    "    axs[pos // 4][pos % 4].tick_params(axis='both', labelsize=5)\n",
    "\n",
    "\n",
    "plt.xticks(fontsize=5) # For last empty box\n",
    "plt.yticks(fontsize=5) # For last empty box\n",
    "\n",
    "plt.show()"
   ]
  },
  {
   "cell_type": "markdown",
   "id": "21614fad-5b76-4acb-9d67-f59fb626f976",
   "metadata": {},
   "source": [
    "##### Export Data for Exploration"
   ]
  },
  {
   "cell_type": "code",
   "execution_count": 54,
   "id": "6ad0966a-afd2-45e6-83c3-0f08146ef945",
   "metadata": {},
   "outputs": [],
   "source": [
    "df_explore.to_csv(os.path.join(\"Output Data\",\"99_explore_train_data.csv\"), index=False)"
   ]
  },
  {
   "cell_type": "code",
   "execution_count": null,
   "id": "4cce13b0-d416-442d-838b-84654bc6e497",
   "metadata": {},
   "outputs": [],
   "source": []
  },
  {
   "cell_type": "markdown",
   "id": "594c9efa-e1e9-4454-a15b-a420c953cb01",
   "metadata": {
    "jp-MarkdownHeadingCollapsed": true
   },
   "source": [
    "# Explore & Get Top N on key-words for each category & sub-category"
   ]
  },
  {
   "cell_type": "code",
   "execution_count": 126,
   "id": "282e7eee-63a0-4a25-bc63-d967f5739437",
   "metadata": {},
   "outputs": [],
   "source": [
    "\n",
    "#df_explore = pd.read_csv(filepath_or_buffer = os.path.join(\"Output Data\",\"99_explore_train_data.csv\"), sep = \",\", header = 0)\n",
    "#df_preprocessed_final = pd.read_csv(filepath_or_buffer = os.path.join(\"Output Data\",\"03_preprocessed_train_data_final.csv\"), sep = \",\", header = 0)"
   ]
  },
  {
   "cell_type": "markdown",
   "id": "6912859e-5043-41bb-b3e1-77c1104056c0",
   "metadata": {},
   "source": [
    "##### Let's look at commonly occuring words"
   ]
  },
  {
   "cell_type": "code",
   "execution_count": 119,
   "id": "7407fe3d-739d-4af1-ab29-d61f1b6b6c2a",
   "metadata": {},
   "outputs": [],
   "source": [
    "temp = df_explore['report_aft_swr_lem']"
   ]
  },
  {
   "cell_type": "code",
   "execution_count": 56,
   "id": "b87fe73e-97ef-4395-9dec-e43388f144fd",
   "metadata": {},
   "outputs": [
    {
     "data": {
      "image/png": "[encoded data removed]",
      "text/plain": [
       "<Figure size 640x480 with 1 Axes>"
      ]
     },
     "metadata": {},
     "output_type": "display_data"
    }
   ],
   "source": [
    "temp_text = ' '.join(map(str,temp))\n",
    "wordcloud = WordCloud().generate(temp_text)\n",
    "plt.imshow(wordcloud)\n",
    "plt.axis(\"off\")\n",
    "plt.show()"
   ]
  },
  {
   "cell_type": "code",
   "execution_count": 74,
   "id": "8ec7a79e-b776-4715-931f-f1e9e0c819f5",
   "metadata": {},
   "outputs": [],
   "source": [
    "# Get top n words (overall)\n",
    "\n",
    "#n_top_key_words = 75\n",
    "\n",
    "#temp_text_vec = temp_text.split(' ')\n",
    "#temp_text_vec = [x for (x,y) in pos_tag(temp_text_vec) if y[0].lower() in ['a', 'n', 'v']]\n",
    "#nltk.FreqDist(temp_text_vec).most_common(n_top_key_words)"
   ]
  },
  {
   "cell_type": "markdown",
   "id": "418da644-1bee-407c-a787-a303e49d2a6c",
   "metadata": {},
   "source": [
    "##### Create list of most common words for each category\n",
    "##### (report length>=150 and major_language==en & category != Report Unlawful Content)"
   ]
  },
  {
   "cell_type": "code",
   "execution_count": 129,
   "id": "b7c98d91-65ce-41ca-bc91-999977219f16",
   "metadata": {},
   "outputs": [],
   "source": [
    "\n",
    "def get_key_words_by_category(df_input, n_top_key_words = 75, report_length_thresh = 150):\n",
    "\n",
    "    '''\n",
    "    Returns a dataframe with top n words for each category.\n",
    "\n",
    "            Parameters:\n",
    "                    df_input: dataframe \n",
    "                        Clean & pre-processed dataframe\n",
    "                    n_top_key_words: int, default=75\n",
    "                        Count of most frequent words to be taken from each category\n",
    "                    report_length_thresh: int, default=150\n",
    "                        Threshold on length of reports to be considered to get frequent words from.\n",
    "                        PLEASE NOTE to not keep it too low because reports with low length might not have enough context\n",
    "\n",
    "            Returns:\n",
    "                    key_words_cat: dataframe\n",
    "                        Dataframe with top n words for each category\n",
    "    '''\n",
    "    \n",
    "    start = time.time()\n",
    "\n",
    "    categories = df_input['category'].sort_values().unique()\n",
    "    categories = list(categories)\n",
    "    key_words_cat = pd.DataFrame()\n",
    "    \n",
    "    for val in categories:\n",
    "        temp = df_input.query('category == @val & report_length >= @report_length_thresh & major_language == \"en\" & category != \"Report Unlawful Content\"')['report_aft_swr_lem']\n",
    "        temp_text = ' '.join(map(str,temp))\n",
    "        temp_text_vec = temp_text.split(' ')\n",
    "        temp_text_vec = [x for (x,y) in pos_tag(temp_text_vec) if y[0].lower() in ['a', 'n', 'v']]\n",
    "        temp_text_vec = nltk.FreqDist(temp_text_vec).most_common(n_top_key_words)\n",
    "        key_words_cat[val] = temp_text_vec + ([('x',0)]*(n_top_key_words - len(temp_text_vec) ))\n",
    "\n",
    "    end = time.time()\n",
    "    print(\"Execution time of getting top \",n_top_key_words, \" key words for each category is :\",(end-start)/60, \"minutes\")\n",
    "    \n",
    "    return key_words_cat"
   ]
  },
  {
   "cell_type": "code",
   "execution_count": 130,
   "id": "5327e264-7d39-46c0-af26-467b48952c95",
   "metadata": {},
   "outputs": [
    {
     "name": "stdout",
     "output_type": "stream",
     "text": [
      "Execution time of getting top  75  key words for each category is : 2.526381731033325 minutes\n"
     ]
    }
   ],
   "source": [
    "key_words_cat = get_key_words_by_category(df_preprocessed_final, n_top_key_words = 75)"
   ]
  },
  {
   "cell_type": "code",
   "execution_count": 131,
   "id": "9148a02c-1210-494e-b396-866854d4dd16",
   "metadata": {},
   "outputs": [
    {
     "data": {
      "text/html": [
       "<div>\n",
       "<style scoped>\n",
       "    .dataframe tbody tr th:only-of-type {\n",
       "        vertical-align: middle;\n",
       "    }\n",
       "\n",
       "    .dataframe tbody tr th {\n",
       "        vertical-align: top;\n",
       "    }\n",
       "\n",
       "    .dataframe thead th {\n",
       "        text-align: right;\n",
       "    }\n",
       "</style>\n",
       "<table border=\"1\" class=\"dataframe\">\n",
       "  <thead>\n",
       "    <tr style=\"text-align: right;\">\n",
       "      <th></th>\n",
       "      <th>Any Other Cyber Crime</th>\n",
       "      <th>Child Pornography CPChild Sexual Abuse Material CSAM</th>\n",
       "      <th>Cryptocurrency Crime</th>\n",
       "      <th>Cyber Attack/ Dependent Crimes</th>\n",
       "      <th>Cyber Terrorism</th>\n",
       "      <th>Hacking  Damage to computercomputer system etc</th>\n",
       "      <th>Online Cyber Trafficking</th>\n",
       "      <th>Online Financial Fraud</th>\n",
       "      <th>Online Gambling  Betting</th>\n",
       "      <th>Online and Social Media Related Crime</th>\n",
       "      <th>Ransomware</th>\n",
       "      <th>RapeGang Rape RGRSexually Abusive Content</th>\n",
       "      <th>Sexually Explicit Act</th>\n",
       "      <th>Sexually Obscene material</th>\n",
       "    </tr>\n",
       "  </thead>\n",
       "  <tbody>\n",
       "    <tr>\n",
       "      <th>0</th>\n",
       "      <td>(number, 6535)</td>\n",
       "      <td>(call, 135)</td>\n",
       "      <td>(money, 429)</td>\n",
       "      <td>(everything, 9024)</td>\n",
       "      <td>(call, 108)</td>\n",
       "      <td>(loan, 1338)</td>\n",
       "      <td>(number, 101)</td>\n",
       "      <td>(amount, 34616)</td>\n",
       "      <td>(money, 460)</td>\n",
       "      <td>(call, 7149)</td>\n",
       "      <td>(file, 57)</td>\n",
       "      <td>(call, 137)</td>\n",
       "      <td>(call, 1106)</td>\n",
       "      <td>(call, 1253)</td>\n",
       "    </tr>\n",
       "  </tbody>\n",
       "</table>\n",
       "</div>"
      ],
      "text/plain": [
       "  Any Other Cyber Crime Child Pornography CPChild Sexual Abuse Material CSAM  \\\n",
       "0        (number, 6535)                                        (call, 135)     \n",
       "\n",
       "  Cryptocurrency Crime Cyber Attack/ Dependent Crimes Cyber Terrorism  \\\n",
       "0         (money, 429)             (everything, 9024)     (call, 108)   \n",
       "\n",
       "  Hacking  Damage to computercomputer system etc Online Cyber Trafficking  \\\n",
       "0                                   (loan, 1338)            (number, 101)   \n",
       "\n",
       "  Online Financial Fraud Online Gambling  Betting  \\\n",
       "0        (amount, 34616)             (money, 460)   \n",
       "\n",
       "  Online and Social Media Related Crime  Ransomware  \\\n",
       "0                          (call, 7149)  (file, 57)   \n",
       "\n",
       "  RapeGang Rape RGRSexually Abusive Content Sexually Explicit Act  \\\n",
       "0                               (call, 137)          (call, 1106)   \n",
       "\n",
       "  Sexually Obscene material  \n",
       "0              (call, 1253)  "
      ]
     },
     "execution_count": 131,
     "metadata": {},
     "output_type": "execute_result"
    }
   ],
   "source": [
    "key_words_cat.head(1)"
   ]
  },
  {
   "cell_type": "markdown",
   "id": "6569cfa5-dc0f-4e41-882f-1f88c3c70c45",
   "metadata": {},
   "source": [
    "##### Export key words list - All categories"
   ]
  },
  {
   "cell_type": "code",
   "execution_count": 132,
   "id": "c4c4fad5-ef7f-4dc0-a3ba-f419380eb329",
   "metadata": {},
   "outputs": [],
   "source": [
    "key_words_cat.to_csv(os.path.join(\"Output Data\",\"04_key_words_train_data_by_category.csv\"), index=False)"
   ]
  },
  {
   "cell_type": "markdown",
   "id": "f99289c3-3d8c-4f6b-a7ae-c5a32523e8dd",
   "metadata": {},
   "source": [
    "##### Create list of most common words for each sub category\n",
    "##### (report length>=150 and major_language==en & category != Report Unlawful Content)"
   ]
  },
  {
   "cell_type": "code",
   "execution_count": 133,
   "id": "ccee341e-a417-417f-a377-2915d37bbf8b",
   "metadata": {},
   "outputs": [],
   "source": [
    "\n",
    "def get_key_words_by_sub_category(df_input, n_top_key_words = 75, report_length_thresh = 150):\n",
    "\n",
    "    '''\n",
    "    Returns a dataframe with top n words for each sub-category.\n",
    "\n",
    "            Parameters:\n",
    "                    df_input: dataframe \n",
    "                        Clean & pre-processed dataframe\n",
    "                    n_top_key_words: int, default=75\n",
    "                        Count of most frequent words to be taken from each sub-category\n",
    "                    report_length_thresh: int, default=150\n",
    "                        Threshold on length of reports to be considered to get frequent words from.\n",
    "                        PLEASE NOTE to not keep it too low because reports with low length might not have enough context\n",
    "\n",
    "            Returns:\n",
    "                    key_words_sub_cat: dataframe\n",
    "                        Dataframe with top n words for each sub-category\n",
    "    '''\n",
    "\n",
    "    \n",
    "    start = time.time()\n",
    "\n",
    "    sub_categories = df_input[['category', 'sub_category']].sort_values(by = ['category','sub_category'])\n",
    "    sub_categories = list(sub_categories['sub_category'].unique())\n",
    "    key_words_sub_cat = pd.DataFrame()\n",
    "    \n",
    "    for val in sub_categories:\n",
    "        temp = df_input.query('sub_category == @val & report_length >= @report_length_thresh & major_language == \"en\" & category != \"Report Unlawful Content\"')['report_aft_swr_lem']\n",
    "        temp_text = ' '.join(map(str,temp))\n",
    "        temp_text_vec = temp_text.split(' ')\n",
    "        temp_text_vec = [x for (x,y) in pos_tag(temp_text_vec) if y[0].lower() in ['a', 'n', 'v']]\n",
    "        temp_text_vec = nltk.FreqDist(temp_text_vec).most_common(n_top_key_words)\n",
    "        key_words_sub_cat[val] = temp_text_vec + ([('x',0)]*(n_top_key_words - len(temp_text_vec) ))\n",
    "    \n",
    "    end = time.time()\n",
    "    print(\"Execution time of getting top \",n_top_key_words, \" key words for each sub-category is :\",(end-start)/60, \"minutes\")\n",
    "\n",
    "    return key_words_sub_cat"
   ]
  },
  {
   "cell_type": "code",
   "execution_count": 134,
   "id": "162d44f6-b94c-43f0-a9a2-7f29b54130d8",
   "metadata": {},
   "outputs": [
    {
     "name": "stdout",
     "output_type": "stream",
     "text": [
      "Execution time of getting top  75  key words for each sub-category is : 2.5207411726315816 minutes\n"
     ]
    }
   ],
   "source": [
    "key_words_sub_cat = get_key_words_by_sub_category(df_preprocessed_final, n_top_key_words = 75, report_length_thresh = 150)"
   ]
  },
  {
   "cell_type": "code",
   "execution_count": 135,
   "id": "53844d4f-7db3-40f1-bacc-4dc020eaa517",
   "metadata": {},
   "outputs": [
    {
     "data": {
      "text/html": [
       "<div>\n",
       "<style scoped>\n",
       "    .dataframe tbody tr th:only-of-type {\n",
       "        vertical-align: middle;\n",
       "    }\n",
       "\n",
       "    .dataframe tbody tr th {\n",
       "        vertical-align: top;\n",
       "    }\n",
       "\n",
       "    .dataframe thead th {\n",
       "        text-align: right;\n",
       "    }\n",
       "</style>\n",
       "<table border=\"1\" class=\"dataframe\">\n",
       "  <thead>\n",
       "    <tr style=\"text-align: right;\">\n",
       "      <th></th>\n",
       "      <th>Other</th>\n",
       "      <th>Child Pornography CPChild Sexual Abuse Material CSAM</th>\n",
       "      <th>Cryptocurrency Fraud</th>\n",
       "      <th>Data Breach/Theft</th>\n",
       "      <th>Denial of Service (DoS)/Distributed Denial of Service (DDOS) attacks</th>\n",
       "      <th>Hacking/Defacement</th>\n",
       "      <th>Malware Attack</th>\n",
       "      <th>Ransomware Attack</th>\n",
       "      <th>SQL Injection</th>\n",
       "      <th>Tampering with computer source documents</th>\n",
       "      <th>...</th>\n",
       "      <th>Impersonating Email</th>\n",
       "      <th>Intimidating Email</th>\n",
       "      <th>Online Job Fraud</th>\n",
       "      <th>Online Matrimonial Fraud</th>\n",
       "      <th>Profile Hacking Identity Theft</th>\n",
       "      <th>Provocative Speech for unlawful acts</th>\n",
       "      <th>Ransomware</th>\n",
       "      <th>RapeGang Rape RGRSexually Abusive Content</th>\n",
       "      <th>Sexually Explicit Act</th>\n",
       "      <th>Sexually Obscene material</th>\n",
       "    </tr>\n",
       "  </thead>\n",
       "  <tbody>\n",
       "    <tr>\n",
       "      <th>0</th>\n",
       "      <td>(number, 6535)</td>\n",
       "      <td>(call, 135)</td>\n",
       "      <td>(money, 429)</td>\n",
       "      <td>(everything, 1227)</td>\n",
       "      <td>(everything, 1260)</td>\n",
       "      <td>(everything, 1355)</td>\n",
       "      <td>(everything, 1293)</td>\n",
       "      <td>(everything, 1339)</td>\n",
       "      <td>(everything, 1255)</td>\n",
       "      <td>(everything, 1295)</td>\n",
       "      <td>...</td>\n",
       "      <td>(email, 51)</td>\n",
       "      <td>(email, 34)</td>\n",
       "      <td>(pay, 810)</td>\n",
       "      <td>(number, 86)</td>\n",
       "      <td>(account, 2534)</td>\n",
       "      <td>(call, 158)</td>\n",
       "      <td>(file, 57)</td>\n",
       "      <td>(call, 137)</td>\n",
       "      <td>(call, 1106)</td>\n",
       "      <td>(call, 1253)</td>\n",
       "    </tr>\n",
       "  </tbody>\n",
       "</table>\n",
       "<p>1 rows × 38 columns</p>\n",
       "</div>"
      ],
      "text/plain": [
       "            Other Child Pornography CPChild Sexual Abuse Material CSAM  \\\n",
       "0  (number, 6535)                                        (call, 135)     \n",
       "\n",
       "  Cryptocurrency Fraud   Data Breach/Theft  \\\n",
       "0         (money, 429)  (everything, 1227)   \n",
       "\n",
       "  Denial of Service (DoS)/Distributed Denial of Service (DDOS) attacks  \\\n",
       "0                                 (everything, 1260)                     \n",
       "\n",
       "   Hacking/Defacement      Malware Attack   Ransomware Attack  \\\n",
       "0  (everything, 1355)  (everything, 1293)  (everything, 1339)   \n",
       "\n",
       "        SQL Injection Tampering with computer source documents  ...  \\\n",
       "0  (everything, 1255)                       (everything, 1295)  ...   \n",
       "\n",
       "  Impersonating Email Intimidating Email Online Job Fraud  \\\n",
       "0         (email, 51)        (email, 34)       (pay, 810)   \n",
       "\n",
       "  Online Matrimonial Fraud Profile Hacking Identity Theft  \\\n",
       "0             (number, 86)                (account, 2534)   \n",
       "\n",
       "  Provocative Speech for unlawful acts  Ransomware  \\\n",
       "0                          (call, 158)  (file, 57)   \n",
       "\n",
       "  RapeGang Rape RGRSexually Abusive Content Sexually Explicit Act  \\\n",
       "0                               (call, 137)          (call, 1106)   \n",
       "\n",
       "  Sexually Obscene material  \n",
       "0              (call, 1253)  \n",
       "\n",
       "[1 rows x 38 columns]"
      ]
     },
     "execution_count": 135,
     "metadata": {},
     "output_type": "execute_result"
    }
   ],
   "source": [
    "key_words_sub_cat.head(1)"
   ]
  },
  {
   "cell_type": "markdown",
   "id": "67573a18-0cdf-4aec-a179-5c21e0f5631b",
   "metadata": {},
   "source": [
    "##### Export key words list - All sub categories"
   ]
  },
  {
   "cell_type": "code",
   "execution_count": 136,
   "id": "0b2612f0-6563-4119-af3c-d465b9e5a369",
   "metadata": {},
   "outputs": [],
   "source": [
    "key_words_sub_cat.to_csv(os.path.join(\"Output Data\",\"04_key_words_train_data_by_sub_category.csv\"), index=False)"
   ]
  },
  {
   "cell_type": "markdown",
   "id": "eae409d1-84a7-401c-9e3c-7905d6bb48e7",
   "metadata": {
    "jp-MarkdownHeadingCollapsed": true
   },
   "source": [
    "# Prepare final list of key words (features)"
   ]
  },
  {
   "cell_type": "code",
   "execution_count": 140,
   "id": "447a3225-fb90-44aa-93f0-25f9dd354515",
   "metadata": {},
   "outputs": [],
   "source": [
    "\n",
    "#key_words = pd.read_csv(filepath_or_buffer = os.path.join(\"Output Data\",\"04_key_words_train_data_by_sub_category.csv\"), sep = \",\", header = 0)"
   ]
  },
  {
   "cell_type": "code",
   "execution_count": null,
   "id": "81b271c7-87f0-4c98-a9a6-353a84737125",
   "metadata": {},
   "outputs": [],
   "source": [
    "key_words = copy.deepcopy(key_words_sub_cat)"
   ]
  },
  {
   "cell_type": "markdown",
   "id": "8d4570b0-08d4-4802-b849-f77b27b1ce8c",
   "metadata": {},
   "source": [
    "##### Create short master list of key words\n",
    "##### (using top n words from each sub-category to give equal weightage to each sub-cat)"
   ]
  },
  {
   "cell_type": "code",
   "execution_count": 141,
   "id": "908ba877-0f5f-4ec3-b01b-ebce168cd45c",
   "metadata": {},
   "outputs": [
    {
     "data": {
      "text/html": [
       "<div>\n",
       "<style scoped>\n",
       "    .dataframe tbody tr th:only-of-type {\n",
       "        vertical-align: middle;\n",
       "    }\n",
       "\n",
       "    .dataframe tbody tr th {\n",
       "        vertical-align: top;\n",
       "    }\n",
       "\n",
       "    .dataframe thead th {\n",
       "        text-align: right;\n",
       "    }\n",
       "</style>\n",
       "<table border=\"1\" class=\"dataframe\">\n",
       "  <thead>\n",
       "    <tr style=\"text-align: right;\">\n",
       "      <th></th>\n",
       "      <th>Other</th>\n",
       "      <th>Child Pornography CPChild Sexual Abuse Material CSAM</th>\n",
       "      <th>Cryptocurrency Fraud</th>\n",
       "      <th>Data Breach/Theft</th>\n",
       "      <th>Denial of Service (DoS)/Distributed Denial of Service (DDOS) attacks</th>\n",
       "      <th>Hacking/Defacement</th>\n",
       "      <th>Malware Attack</th>\n",
       "      <th>Ransomware Attack</th>\n",
       "      <th>SQL Injection</th>\n",
       "      <th>Tampering with computer source documents</th>\n",
       "      <th>...</th>\n",
       "      <th>Impersonating Email</th>\n",
       "      <th>Intimidating Email</th>\n",
       "      <th>Online Job Fraud</th>\n",
       "      <th>Online Matrimonial Fraud</th>\n",
       "      <th>Profile Hacking Identity Theft</th>\n",
       "      <th>Provocative Speech for unlawful acts</th>\n",
       "      <th>Ransomware</th>\n",
       "      <th>RapeGang Rape RGRSexually Abusive Content</th>\n",
       "      <th>Sexually Explicit Act</th>\n",
       "      <th>Sexually Obscene material</th>\n",
       "    </tr>\n",
       "  </thead>\n",
       "  <tbody>\n",
       "    <tr>\n",
       "      <th>0</th>\n",
       "      <td>number</td>\n",
       "      <td>call</td>\n",
       "      <td>money</td>\n",
       "      <td>everything</td>\n",
       "      <td>everything</td>\n",
       "      <td>everything</td>\n",
       "      <td>everything</td>\n",
       "      <td>everything</td>\n",
       "      <td>everything</td>\n",
       "      <td>everything</td>\n",
       "      <td>...</td>\n",
       "      <td>email</td>\n",
       "      <td>email</td>\n",
       "      <td>pay</td>\n",
       "      <td>number</td>\n",
       "      <td>account</td>\n",
       "      <td>call</td>\n",
       "      <td>file</td>\n",
       "      <td>call</td>\n",
       "      <td>call</td>\n",
       "      <td>call</td>\n",
       "    </tr>\n",
       "  </tbody>\n",
       "</table>\n",
       "<p>1 rows × 38 columns</p>\n",
       "</div>"
      ],
      "text/plain": [
       "    Other Child Pornography CPChild Sexual Abuse Material CSAM  \\\n",
       "0  number                                               call     \n",
       "\n",
       "  Cryptocurrency Fraud Data Breach/Theft  \\\n",
       "0                money        everything   \n",
       "\n",
       "  Denial of Service (DoS)/Distributed Denial of Service (DDOS) attacks  \\\n",
       "0                                         everything                     \n",
       "\n",
       "  Hacking/Defacement Malware Attack Ransomware Attack SQL Injection  \\\n",
       "0         everything     everything        everything    everything   \n",
       "\n",
       "  Tampering with computer source documents  ... Impersonating Email  \\\n",
       "0                               everything  ...               email   \n",
       "\n",
       "  Intimidating Email Online Job Fraud Online Matrimonial Fraud  \\\n",
       "0              email              pay                   number   \n",
       "\n",
       "  Profile Hacking Identity Theft Provocative Speech for unlawful acts  \\\n",
       "0                        account                                 call   \n",
       "\n",
       "  Ransomware RapeGang Rape RGRSexually Abusive Content Sexually Explicit Act  \\\n",
       "0       file                                      call                  call   \n",
       "\n",
       "  Sexually Obscene material  \n",
       "0                      call  \n",
       "\n",
       "[1 rows x 38 columns]"
      ]
     },
     "execution_count": 141,
     "metadata": {},
     "output_type": "execute_result"
    }
   ],
   "source": [
    "# Get words (removing frequency) for each sub-category\n",
    "sub_categories = list(key_words.columns)\n",
    "n_top_key_words = 75\n",
    "for r in range(0,n_top_key_words):\n",
    "    for c in sub_categories:\n",
    "        key_words.loc[:,c] = key_words.loc[:,c].astype(str)\n",
    "        key_words.loc[r,c] = key_words[c][r].split(\"'\")[1].split(\"'\")[0]\n",
    "\n",
    "key_words.head(1)"
   ]
  },
  {
   "cell_type": "code",
   "execution_count": 142,
   "id": "385140fb-e428-4eb8-903d-82de91047ca2",
   "metadata": {},
   "outputs": [],
   "source": [
    "key_words.to_csv(os.path.join(\"Output Data\",\"05_only_key_words_train_data_by_sub_category.csv\"), index=False)"
   ]
  },
  {
   "cell_type": "code",
   "execution_count": 143,
   "id": "d7e73fd5-72af-4150-ac71-74d50682f3df",
   "metadata": {},
   "outputs": [],
   "source": [
    "key_word_list = []\n",
    "for r in range(0,n_top_key_words):\n",
    "    for c in sub_categories:\n",
    "        key_word_list.append(key_words.loc[r,c])\n",
    "\n",
    "key_word_list = list(set(key_word_list))\n"
   ]
  },
  {
   "cell_type": "code",
   "execution_count": 144,
   "id": "5ab0ac66-878a-40da-a40a-34a770c8238a",
   "metadata": {},
   "outputs": [
    {
     "data": {
      "text/plain": [
       "417"
      ]
     },
     "execution_count": 144,
     "metadata": {},
     "output_type": "execute_result"
    }
   ],
   "source": [
    "len(key_word_list)"
   ]
  },
  {
   "cell_type": "code",
   "execution_count": 145,
   "id": "8aad4814-3754-47b7-970f-77712ddfe02d",
   "metadata": {},
   "outputs": [
    {
     "data": {
      "text/plain": [
       "417"
      ]
     },
     "execution_count": 145,
     "metadata": {},
     "output_type": "execute_result"
    }
   ],
   "source": [
    "to_remove = ['x','']\n",
    "\n",
    "# Removing elements\n",
    "for item in to_remove:\n",
    "    if item in key_word_list:\n",
    "        key_word_list.remove(item)\n",
    "\n",
    "len(key_word_list)"
   ]
  },
  {
   "cell_type": "code",
   "execution_count": 146,
   "id": "a641acc2-7058-4332-9d70-72567577a006",
   "metadata": {},
   "outputs": [],
   "source": [
    "#key_word_list"
   ]
  },
  {
   "cell_type": "markdown",
   "id": "3d7e680b-7276-4690-8088-aaca1bfcd400",
   "metadata": {},
   "source": [
    "##### Save key-words list"
   ]
  },
  {
   "cell_type": "code",
   "execution_count": 147,
   "id": "c823373e-d6ee-48e7-b581-9369317c649d",
   "metadata": {},
   "outputs": [
    {
     "name": "stdout",
     "output_type": "stream",
     "text": [
      "Done writing key word list into a binary file\n"
     ]
    }
   ],
   "source": [
    "# store list in binary file so 'wb' mode\n",
    "\n",
    "with open('key_word_list_top_75_sub_cat', 'wb') as file:\n",
    "    pickle.dump(key_word_list, file)\n",
    "\n",
    "print('Done writing key word list into a binary file')"
   ]
  },
  {
   "cell_type": "markdown",
   "id": "64ad380f-dc40-4ce8-a4a4-e5de87cb9d4b",
   "metadata": {
    "jp-MarkdownHeadingCollapsed": true
   },
   "source": [
    "# Vectorization of reports"
   ]
  },
  {
   "cell_type": "code",
   "execution_count": 169,
   "id": "b930bd44-2e6d-42fc-8e8f-0fa173d1fbd3",
   "metadata": {},
   "outputs": [],
   "source": [
    "\n",
    "#df_preprocessed_final = pd.read_csv(filepath_or_buffer = os.path.join(\"Output Data\",\"03_preprocessed_train_data_final.csv\"), sep = \",\", header = 0)\n",
    "#df_preprocessed_test_final = pd.read_csv(filepath_or_buffer = os.path.join(\"Output Data\",\"03_preprocessed_test_data_final.csv\"), sep = \",\", header = 0)"
   ]
  },
  {
   "cell_type": "markdown",
   "id": "1fbc68ac-9f46-4a0d-b6cd-b2a5682121e0",
   "metadata": {},
   "source": [
    "##### Load list of manually identified key-words"
   ]
  },
  {
   "cell_type": "code",
   "execution_count": 41,
   "id": "09038e25-27bc-4f87-a36f-d4ccfcb648f0",
   "metadata": {},
   "outputs": [
    {
     "name": "stdout",
     "output_type": "stream",
     "text": [
      "Done reading key word list into a list variable (kw_list)\n"
     ]
    }
   ],
   "source": [
    "# Read key word list (binary file) to memory. So, 'rb' mode\n",
    "\n",
    "#with open('key_word_list_top_75_sub_cat', 'rb') as file:\n",
    "#    kw_list = pickle.load(file)\n",
    "#    file.close()\n",
    "\n",
    "#print('Done reading key word list into a list variable (kw_list)')"
   ]
  },
  {
   "cell_type": "markdown",
   "id": "87966372-b75c-474a-ae3c-e774efa57f0c",
   "metadata": {},
   "source": [
    "##### Vectorize using TF-IDF with manually identified key-words"
   ]
  },
  {
   "cell_type": "code",
   "execution_count": 172,
   "id": "8a9d36e0-8d24-40a9-af79-eafc32e54c53",
   "metadata": {},
   "outputs": [],
   "source": [
    "# Define function to vectorize reports\n",
    "\n",
    "def vectorize_reports_tf_idf(df_input):\n",
    "\n",
    "    '''\n",
    "    Returns a dataframe with vectorized dependent (X) variables.\n",
    "\n",
    "            Parameters:\n",
    "                    df_input: dataframe \n",
    "                        Clean & pre-processed dataframe to be vectorized\n",
    "\n",
    "            Returns:\n",
    "                    df_output: dataframe\n",
    "                        Dataframe with vectorized dependent (X) variables\n",
    "    '''\n",
    "    \n",
    "    start = time.time()\n",
    "\n",
    "    with open('key_word_list_top_75_sub_cat', 'rb') as fp:\n",
    "        kw_list = pickle.load(fp)\n",
    "    \n",
    "    print('Done reading key word list into a list variable (kw_list)')\n",
    "\n",
    "    \n",
    "    tf_idf = TfidfVectorizer(analyzer = 'word')\n",
    "    tf_idf.fit(kw_list) # keywords list is passes as 'kw_list'\n",
    "    X_tf_idf = tf_idf.transform(df_input['report_aft_swr_lem'])\n",
    "    \n",
    "    X_tf_idf = pd.DataFrame(X_tf_idf.toarray(), columns=tf_idf.get_feature_names_out())\n",
    "\n",
    "    # Add back reports to vectorized data\n",
    "    if df_input.shape[0] == X_tf_idf.shape[0]:\n",
    "        df_output = pd.concat([df_input, X_tf_idf], axis=1)\n",
    "    else:\n",
    "        print(\"ERROR!: Please make sure that # Rows are same in input dataframe (X) and vectorized dataframe (Y)\")\n",
    "\n",
    "    end = time.time()\n",
    "    print(\"Execution time of TF-IDF based report vectorization is :\",(end-start)/60, \"minutes\")\n",
    "\n",
    "    return df_output"
   ]
  },
  {
   "cell_type": "markdown",
   "id": "bbf9a0ac-a1b6-462c-a2c3-9f591dd3eb12",
   "metadata": {},
   "source": [
    "#### Prepare final training dataset (list of clean reports after cleaning, preprocessing, vectorization)"
   ]
  },
  {
   "cell_type": "markdown",
   "id": "4f5df274-5193-40ad-b04e-ae60fc82c715",
   "metadata": {},
   "source": [
    "##### Vectorize training data"
   ]
  },
  {
   "cell_type": "code",
   "execution_count": 173,
   "id": "fe7b9703-ccec-4d2c-831f-67b423948439",
   "metadata": {},
   "outputs": [
    {
     "name": "stdout",
     "output_type": "stream",
     "text": [
      "Done reading key word list into a list variable (kw_list)\n",
      "Execution time of TF-IDF based report vectorization is : 0.05183789332707723 minutes\n"
     ]
    }
   ],
   "source": [
    "df_vectorized_train = vectorize_reports_tf_idf(df_preprocessed_final)"
   ]
  },
  {
   "cell_type": "code",
   "execution_count": 174,
   "id": "e91ee5d6-7ae8-480c-8021-17c6f21601bc",
   "metadata": {},
   "outputs": [
    {
     "data": {
      "text/html": [
       "<div>\n",
       "<style scoped>\n",
       "    .dataframe tbody tr th:only-of-type {\n",
       "        vertical-align: middle;\n",
       "    }\n",
       "\n",
       "    .dataframe tbody tr th {\n",
       "        vertical-align: top;\n",
       "    }\n",
       "\n",
       "    .dataframe thead th {\n",
       "        text-align: right;\n",
       "    }\n",
       "</style>\n",
       "<table border=\"1\" class=\"dataframe\">\n",
       "  <thead>\n",
       "    <tr style=\"text-align: right;\">\n",
       "      <th></th>\n",
       "      <th>category</th>\n",
       "      <th>sub_category</th>\n",
       "      <th>reports</th>\n",
       "      <th>report_length</th>\n",
       "      <th>report_aft_swr</th>\n",
       "      <th>report_aft_swr_lem</th>\n",
       "      <th>language_probability</th>\n",
       "      <th>major_language</th>\n",
       "      <th>major_probability</th>\n",
       "      <th>aaya</th>\n",
       "      <th>...</th>\n",
       "      <th>whatsapp</th>\n",
       "      <th>wife</th>\n",
       "      <th>withdrawal</th>\n",
       "      <th>woman</th>\n",
       "      <th>word</th>\n",
       "      <th>work</th>\n",
       "      <th>year</th>\n",
       "      <th>yesterday</th>\n",
       "      <th>yono</th>\n",
       "      <th>youtube</th>\n",
       "    </tr>\n",
       "  </thead>\n",
       "  <tbody>\n",
       "    <tr>\n",
       "      <th>0</th>\n",
       "      <td>Online and Social Media Related Crime</td>\n",
       "      <td>Cyber Bullying  Stalking  Sexting</td>\n",
       "      <td>i had continue received random calls and abusi...</td>\n",
       "      <td>255</td>\n",
       "      <td>continue received random calls abusive message...</td>\n",
       "      <td>continue receive random call abusive message w...</td>\n",
       "      <td>[en:0.9999969764278936]</td>\n",
       "      <td>en</td>\n",
       "      <td>0.9999</td>\n",
       "      <td>0.0</td>\n",
       "      <td>...</td>\n",
       "      <td>0.235702</td>\n",
       "      <td>0.0</td>\n",
       "      <td>0.0</td>\n",
       "      <td>0.0</td>\n",
       "      <td>0.0</td>\n",
       "      <td>0.0</td>\n",
       "      <td>0.0</td>\n",
       "      <td>0.0</td>\n",
       "      <td>0.0</td>\n",
       "      <td>0.0</td>\n",
       "    </tr>\n",
       "  </tbody>\n",
       "</table>\n",
       "<p>1 rows × 426 columns</p>\n",
       "</div>"
      ],
      "text/plain": [
       "                                category                       sub_category  \\\n",
       "0  Online and Social Media Related Crime  Cyber Bullying  Stalking  Sexting   \n",
       "\n",
       "                                             reports  report_length  \\\n",
       "0  i had continue received random calls and abusi...            255   \n",
       "\n",
       "                                      report_aft_swr  \\\n",
       "0  continue received random calls abusive message...   \n",
       "\n",
       "                                  report_aft_swr_lem     language_probability  \\\n",
       "0  continue receive random call abusive message w...  [en:0.9999969764278936]   \n",
       "\n",
       "  major_language  major_probability  aaya  ...  whatsapp  wife  withdrawal  \\\n",
       "0             en             0.9999   0.0  ...  0.235702   0.0         0.0   \n",
       "\n",
       "   woman  word  work  year  yesterday  yono  youtube  \n",
       "0    0.0   0.0   0.0   0.0        0.0   0.0      0.0  \n",
       "\n",
       "[1 rows x 426 columns]"
      ]
     },
     "execution_count": 174,
     "metadata": {},
     "output_type": "execute_result"
    }
   ],
   "source": [
    "df_vectorized_train.head(1)"
   ]
  },
  {
   "cell_type": "markdown",
   "id": "5c990870-07db-4686-8485-6aeb02157d4e",
   "metadata": {},
   "source": [
    "##### Export vectorized training data"
   ]
  },
  {
   "cell_type": "code",
   "execution_count": 175,
   "id": "f110a367-e1a9-40d1-846f-9aa9ac902843",
   "metadata": {},
   "outputs": [],
   "source": [
    "df_vectorized_train.to_csv(os.path.join(\"Output Data\",\"06_vectorized_train_data.csv\"), index=False)"
   ]
  },
  {
   "cell_type": "markdown",
   "id": "0e87187f-ab49-4ff0-b672-5b6e7bb83693",
   "metadata": {},
   "source": [
    "##### Vectorize test data"
   ]
  },
  {
   "cell_type": "code",
   "execution_count": 176,
   "id": "9c72918f-d842-48da-a2c0-24fae0b3e418",
   "metadata": {},
   "outputs": [
    {
     "name": "stdout",
     "output_type": "stream",
     "text": [
      "Done reading key word list into a list variable (kw_list)\n",
      "Execution time of TF-IDF based report vectorization is : 0.02042145331700643 minutes\n"
     ]
    }
   ],
   "source": [
    "df_vectorized_test = vectorize_reports_tf_idf(df_preprocessed_test_final)"
   ]
  },
  {
   "cell_type": "code",
   "execution_count": 177,
   "id": "24db4c9e-3063-4226-9489-727c6412f91f",
   "metadata": {},
   "outputs": [
    {
     "data": {
      "text/html": [
       "<div>\n",
       "<style scoped>\n",
       "    .dataframe tbody tr th:only-of-type {\n",
       "        vertical-align: middle;\n",
       "    }\n",
       "\n",
       "    .dataframe tbody tr th {\n",
       "        vertical-align: top;\n",
       "    }\n",
       "\n",
       "    .dataframe thead th {\n",
       "        text-align: right;\n",
       "    }\n",
       "</style>\n",
       "<table border=\"1\" class=\"dataframe\">\n",
       "  <thead>\n",
       "    <tr style=\"text-align: right;\">\n",
       "      <th></th>\n",
       "      <th>category</th>\n",
       "      <th>sub_category</th>\n",
       "      <th>reports</th>\n",
       "      <th>report_length</th>\n",
       "      <th>report_aft_swr</th>\n",
       "      <th>report_aft_swr_lem</th>\n",
       "      <th>language_probability</th>\n",
       "      <th>major_language</th>\n",
       "      <th>major_probability</th>\n",
       "      <th>aaya</th>\n",
       "      <th>...</th>\n",
       "      <th>whatsapp</th>\n",
       "      <th>wife</th>\n",
       "      <th>withdrawal</th>\n",
       "      <th>woman</th>\n",
       "      <th>word</th>\n",
       "      <th>work</th>\n",
       "      <th>year</th>\n",
       "      <th>yesterday</th>\n",
       "      <th>yono</th>\n",
       "      <th>youtube</th>\n",
       "    </tr>\n",
       "  </thead>\n",
       "  <tbody>\n",
       "    <tr>\n",
       "      <th>0</th>\n",
       "      <td>RapeGang Rape RGRSexually Abusive Content</td>\n",
       "      <td>RapeGang Rape RGRSexually Abusive Content</td>\n",
       "      <td>sir namaskar mein ranjit kumar patrapaise nehi...</td>\n",
       "      <td>730</td>\n",
       "      <td>namaskar mein ranjit kumar patrapaise nehi tho...</td>\n",
       "      <td>namaskar mein ranjit kumar patrapaise nehi tho...</td>\n",
       "      <td>[en:0.8571380931243784, id:0.1428567210202246]</td>\n",
       "      <td>en</td>\n",
       "      <td>0.8571</td>\n",
       "      <td>0.0</td>\n",
       "      <td>...</td>\n",
       "      <td>0.0</td>\n",
       "      <td>0.0</td>\n",
       "      <td>0.0</td>\n",
       "      <td>0.0</td>\n",
       "      <td>0.0</td>\n",
       "      <td>0.0</td>\n",
       "      <td>0.0</td>\n",
       "      <td>0.0</td>\n",
       "      <td>0.0</td>\n",
       "      <td>0.0</td>\n",
       "    </tr>\n",
       "  </tbody>\n",
       "</table>\n",
       "<p>1 rows × 426 columns</p>\n",
       "</div>"
      ],
      "text/plain": [
       "                                    category  \\\n",
       "0  RapeGang Rape RGRSexually Abusive Content   \n",
       "\n",
       "                                sub_category  \\\n",
       "0  RapeGang Rape RGRSexually Abusive Content   \n",
       "\n",
       "                                             reports  report_length  \\\n",
       "0  sir namaskar mein ranjit kumar patrapaise nehi...            730   \n",
       "\n",
       "                                      report_aft_swr  \\\n",
       "0  namaskar mein ranjit kumar patrapaise nehi tho...   \n",
       "\n",
       "                                  report_aft_swr_lem  \\\n",
       "0  namaskar mein ranjit kumar patrapaise nehi tho...   \n",
       "\n",
       "                             language_probability major_language  \\\n",
       "0  [en:0.8571380931243784, id:0.1428567210202246]             en   \n",
       "\n",
       "   major_probability  aaya  ...  whatsapp  wife  withdrawal  woman  word  \\\n",
       "0             0.8571   0.0  ...       0.0   0.0         0.0    0.0   0.0   \n",
       "\n",
       "   work  year  yesterday  yono  youtube  \n",
       "0   0.0   0.0        0.0   0.0      0.0  \n",
       "\n",
       "[1 rows x 426 columns]"
      ]
     },
     "execution_count": 177,
     "metadata": {},
     "output_type": "execute_result"
    }
   ],
   "source": [
    "df_vectorized_test.head(1)"
   ]
  },
  {
   "cell_type": "markdown",
   "id": "2274547e-000f-436e-a6b3-c5fe68ae88f9",
   "metadata": {},
   "source": [
    "##### Export vectorized test data"
   ]
  },
  {
   "cell_type": "code",
   "execution_count": 178,
   "id": "f4f2f28b-0fad-45ca-ad55-c8f672881bcd",
   "metadata": {},
   "outputs": [],
   "source": [
    "df_vectorized_test.to_csv(os.path.join(\"Output Data\",\"06_vectorized_test_data.csv\"), index=False)"
   ]
  },
  {
   "cell_type": "code",
   "execution_count": null,
   "id": "b54874ef-c288-4e5f-b75d-11e74734afbd",
   "metadata": {},
   "outputs": [],
   "source": []
  },
  {
   "cell_type": "markdown",
   "id": "12be6ea1-5dd9-4134-a142-14f055619514",
   "metadata": {
    "jp-MarkdownHeadingCollapsed": true
   },
   "source": [
    "# Model Selection"
   ]
  },
  {
   "cell_type": "code",
   "execution_count": 15,
   "id": "ffddfbfb-c78e-45de-9bcf-7f732a830367",
   "metadata": {},
   "outputs": [],
   "source": [
    "#df_vectorized_train = pd.read_csv(filepath_or_buffer = os.path.join(\"Output Data\",\"06_vectorized_train_data.csv\"), sep = \",\", header = 0)\n",
    "#df_vectorized_test = pd.read_csv(filepath_or_buffer = os.path.join(\"Output Data\",\"06_vectorized_test_data.csv\"), sep = \",\", header = 0)"
   ]
  },
  {
   "cell_type": "markdown",
   "id": "9eb88033-7981-4c67-9294-4bc995099c89",
   "metadata": {},
   "source": [
    "##### Removing 'Crime Against Women & Children' category from test data because this is not present in training data "
   ]
  },
  {
   "cell_type": "code",
   "execution_count": 16,
   "id": "76a9c436-53c8-42e0-860d-b6af8170c4f4",
   "metadata": {},
   "outputs": [],
   "source": [
    "df_train = copy.deepcopy(df_vectorized_train)\n",
    "df_test = copy.deepcopy(df_vectorized_test)\n",
    "\n",
    "df_test = df_test.query('category != \"Crime Against Women & Children\"').reset_index(drop=True)"
   ]
  },
  {
   "cell_type": "markdown",
   "id": "ca3fa4ad-bc0c-4790-9fc5-769e2a1c9f58",
   "metadata": {},
   "source": [
    "##### Function to train models & test their performance"
   ]
  },
  {
   "cell_type": "code",
   "execution_count": 1,
   "id": "f2f00072-1047-4a09-961c-7315403abfea",
   "metadata": {},
   "outputs": [],
   "source": [
    "# Define function for training model and testing performance\n",
    "\n",
    "def run_model(training_data, testing_data, ml_model, ml_model_name, label='category', sampling_model = None, one_hot_label = 'no', save_ml_model = 'yes'):\n",
    "    \n",
    "    '''\n",
    "    Returns a dictionary with performance metrics (accuracy, f1-score, precision and recall) of model on training, validation and testing data.\n",
    "\n",
    "            Parameters:\n",
    "                    training_data: dataframe \n",
    "                        Vectorized training data\n",
    "                    testing_data: dataframe\n",
    "                        Vectorized test data\n",
    "                    ml_model: model\n",
    "                        Selected machine learning model\n",
    "                    ml_model_name: string\n",
    "                        Name with which the machine learning model should be addressed / saved\n",
    "                    label: {'category', 'sub_category'}, default='category'\n",
    "                        Dependent variable (y) name in training & testing data\n",
    "                    sampling_model: model, default=None\n",
    "                        Selected sampling model meant for balancing training dataset\n",
    "                    one_hot_label: {'no', 'yes'}, default='no'\n",
    "                        It determines whether dependent variable (y) should be one-hot encoded or not\n",
    "                    save_ml_model: {'no', 'yes'}, default='yes'\n",
    "                        It determines whether trained ml_model should be saved or not\n",
    "\n",
    "            Returns:\n",
    "                    performance_dict: dictionary\n",
    "                        Dictionary containing performance metrics of model\n",
    "    '''\n",
    "    \n",
    "    # Split total training data into training & validation sets \n",
    "    X = training_data.iloc[:,9:]\n",
    "    y = training_data.loc[:,[label]] # To train on category / sub_category change the column to category / sub_category\n",
    "\n",
    "    label_encoder = preprocessing.LabelEncoder()\n",
    "    label_encoder.fit(y)\n",
    "    y_encoded= label_encoder.transform(y)\n",
    "\n",
    "    # DON'T change stratify to category even if you train model at category level (stratification at sub_category level is better to cover all type of reports)\n",
    "    X_train, X_val, y_train, y_val = train_test_split(X, y_encoded, test_size=0.3, random_state=1, stratify=training_data.loc[:,['sub_category']])\n",
    "\n",
    "    # Create X, y variables for testing data\n",
    "    #testing_data = testing_data.query('category != \"Crime Against Women & Children\"').reset_index(drop=True)\n",
    "    X_test = testing_data.iloc[:,9:]\n",
    "    y_test = testing_data.loc[:,[label]] # To train on category / sub_category change the column to category / sub_category\n",
    "    #y_test_encoded= label_encoder.transform(y_test) # No need to label encode y_test\n",
    "\n",
    "    print('Data splitting & label encoding done')\n",
    "    \n",
    "    # Balancing training data\n",
    "    if sampling_model is None:\n",
    "        print('Sampling model not selected for data balancing')\n",
    "    else:\n",
    "        X_train, y_train = sampling_model.fit_resample(X_train, y_train)\n",
    "        print('Training data balancing done using selected sampling model')\n",
    "\n",
    "    # Convert labels (y) to one hot encoding if requested\n",
    "    if one_hot_label == 'no':\n",
    "        print('One hot encoding is not selected')\n",
    "    else:\n",
    "        n_classes = max(y_encoded)+1\n",
    "        y_train = to_categorical(y_train, n_classes)\n",
    "        # One hot encoding not needed for y_val & y_test_encoded because model fitting takes only training data which should be OH encoded\n",
    "\n",
    "    # Fit model\n",
    "    ml_model.fit(X_train, y_train)\n",
    "    print(ml_model_name,' model is now trained')\n",
    "\n",
    "    # Generate predictions\n",
    "    y_pred_train = ml_model.predict(X_train)\n",
    "    print('Prediction for training data is done')\n",
    "    \n",
    "    y_pred_val = ml_model.predict(X_val)\n",
    "    print('Prediction for validation data is done')\n",
    "    \n",
    "    y_pred_test = ml_model.predict(X_test)\n",
    "    print('Prediction for test data is done')\n",
    "\n",
    "    # Invert encoding transformations\n",
    "    \n",
    "    ## Inversting one hot encoding\n",
    "    if one_hot_label == 'no':\n",
    "        print('.')\n",
    "    else:\n",
    "        y_pred_train = np.argmax(y_pred_train, axis=1)\n",
    "        y_pred_val = np.argmax(y_pred_val, axis=1)\n",
    "        y_pred_test = np.argmax(y_pred_test, axis=1)\n",
    "\n",
    "    ## Inverting label encoding\n",
    "    y_pred_train = label_encoder.inverse_transform(y_pred_train)\n",
    "    y_pred_val = label_encoder.inverse_transform(y_pred_val)\n",
    "    y_pred_test = label_encoder.inverse_transform(y_pred_test)\n",
    "    y_train = label_encoder.inverse_transform(y_train)\n",
    "    y_val = label_encoder.inverse_transform(y_val)\n",
    "    #'y_test' is already available with label names. So, no need to inverse transform 'y_test_encoded'\n",
    "\n",
    "    print('Inverse encoding of labels is done')\n",
    "    \n",
    "    performance_dict = dict()\n",
    "\n",
    "    # Performance on validation data\n",
    "    performance_dict['accuracy_train'] = accuracy_score(y_train, y_pred_train)\n",
    "    performance_dict['f1_train'] = f1_score(y_train, y_pred_train, average='weighted')\n",
    "    performance_dict['precision_train'] = precision_score(y_train, y_pred_train, average='weighted')\n",
    "    performance_dict['recall_train'] = recall_score(y_train, y_pred_train, average='weighted')\n",
    "\n",
    "    print(\"Accuracy (Training data): \", accuracy_score(y_train, y_pred_train)) \n",
    "    print(\"F1-score (Training data): \", f1_score(y_train, y_pred_train, average='weighted')) \n",
    "    print(\"Precision (Training data): \", precision_score(y_train, y_pred_train, average='weighted')) \n",
    "    print(\"Recall (Training data): \", recall_score(y_train, y_pred_train, average='weighted'))\n",
    "    \n",
    "    # Performance on validation data\n",
    "    performance_dict['accuracy_val'] = accuracy_score(y_val, y_pred_val)\n",
    "    performance_dict['f1_val'] = f1_score(y_val, y_pred_val, average='weighted')\n",
    "    performance_dict['precision_val'] = precision_score(y_val, y_pred_val, average='weighted')\n",
    "    performance_dict['recall_val'] = recall_score(y_val, y_pred_val, average='weighted')\n",
    "\n",
    "    print(\"Accuracy (Validation data): \", accuracy_score(y_val, y_pred_val)) \n",
    "    print(\"F1-score (Validation data): \", f1_score(y_val, y_pred_val, average='weighted')) \n",
    "    print(\"Precision (Validation data): \", precision_score(y_val, y_pred_val, average='weighted')) \n",
    "    print(\"Recall (Validation data): \", recall_score(y_val, y_pred_val, average='weighted')) \n",
    "    \n",
    "    # Performance on test data\n",
    "    performance_dict['accuracy_test'] = accuracy_score(y_test, y_pred_test)\n",
    "    performance_dict['f1_test'] = f1_score(y_test, y_pred_test, average='weighted')\n",
    "    performance_dict['precision_test'] = precision_score(y_test, y_pred_test, average='weighted')\n",
    "    performance_dict['recall_test'] = recall_score(y_test, y_pred_test, average='weighted')\n",
    "\n",
    "    print(\"Accuracy (Testing data): \", accuracy_score(y_test, y_pred_test)) \n",
    "    print(\"F1-score (Testing data): \", f1_score(y_test, y_pred_test, average='weighted')) \n",
    "    print(\"Precision (Testing data): \", precision_score(y_test, y_pred_test, average='weighted')) \n",
    "    print(\"Recall (Testing data): \", recall_score(y_test, y_pred_test, average='weighted')) \n",
    "\n",
    "    \n",
    "    # Printing classification report\n",
    "    print(\"Classification Report based on training data:\\n\", classification_report(y_train,y_pred_train))\n",
    "    print(\"Classification Report based on validation data:\\n\", classification_report(y_val,y_pred_val))\n",
    "    print(\"Classification Report based on testing data:\\n \", classification_report(y_test,y_pred_test))\n",
    "\n",
    "    # Save model\n",
    "    if save_ml_model == 'yes':\n",
    "        model_pkl_file = ml_model_name + '.pkl'\n",
    "        \n",
    "        if sampling_model is None:\n",
    "            with open(os.path.join(\"Models\", label, model_pkl_file), 'wb') as file:\n",
    "                pickle.dump(ml_model, file)\n",
    "                print(\"Model saved!\")\n",
    "        else:\n",
    "            with open(os.path.join(\"Models\", label, \"with_balanced_data\", model_pkl_file), 'wb') as file:\n",
    "                pickle.dump(ml_model, file)\n",
    "                print(\"Model saved!\")\n",
    "    else:\n",
    "        print(\"Model not saved\")\n",
    "    \n",
    "    return performance_dict"
   ]
  },
  {
   "cell_type": "markdown",
   "id": "ce391bbe-f32e-49af-8abe-cd037ff2457e",
   "metadata": {},
   "source": [
    "##### Create list of ML Models to test"
   ]
  },
  {
   "cell_type": "code",
   "execution_count": 9,
   "id": "e6f5cdc7-3288-451e-a509-5c8e6f43121f",
   "metadata": {},
   "outputs": [],
   "source": [
    "# Create dictionary of ML models\n",
    "def get_ml_models(for_balanced_data = 'no'):\n",
    "\n",
    "    '''\n",
    "    Returns a dictionary with machine learning models.\n",
    "\n",
    "            Parameters:\n",
    "                    for_balanced_data: {'no', 'yes'}, default='no'\n",
    "                        It determines whether ml models should be chosen from set of models meant for imbalanced data (no) or balanced data (yes).\n",
    "                        PLEASE NOTE to Mark it as 'yes' if sampling model is being used to balance imbalanced data before it enters ml model\n",
    "\n",
    "            Returns:\n",
    "                    models: dictionary\n",
    "                        Dictionary with machine learning models\n",
    "    '''\n",
    "    \n",
    "    models = dict()\n",
    "    \n",
    "    if for_balanced_data == 'no':\n",
    "        # Use below models if data is imbalanced\n",
    "        models['1_svm_balanced_weights'] = LinearSVC(class_weight='balanced', random_state=1)\n",
    "        models['2_xgb_no_weight_change'] = XGBClassifier(random_state=1)\n",
    "        models['3_rf_balanced_weights'] = RandomForestClassifier(class_weight='balanced', random_state=1)\n",
    "    else:\n",
    "        # Use below models if data is balanced\n",
    "        models['4_svm_wo_balanced_weights_bal_data'] = LinearSVC(random_state=1)\n",
    "        models['5_xgb_no_weight_change_bal_data'] = XGBClassifier(random_state=1)\n",
    "        models['6_rf_wo_balanced_weights_bal_data'] = RandomForestClassifier(random_state=1)\n",
    "        \n",
    "    return models"
   ]
  },
  {
   "cell_type": "markdown",
   "id": "7b642961-f753-4e6e-9fdb-710c0d61ae85",
   "metadata": {},
   "source": [
    "##### Select sampling model for balancing dataset"
   ]
  },
  {
   "cell_type": "code",
   "execution_count": 6,
   "id": "e051d885-c3a2-4161-b66d-8e4495c43ff7",
   "metadata": {},
   "outputs": [],
   "source": [
    "selected_sampling_model = RandomOverSampler()"
   ]
  },
  {
   "cell_type": "markdown",
   "id": "814cab75-128d-4111-bc3e-49f34a9a1e6e",
   "metadata": {},
   "source": [
    "##### Select ml models"
   ]
  },
  {
   "cell_type": "code",
   "execution_count": 10,
   "id": "15beb68d-b178-451b-8915-acef63ce4f94",
   "metadata": {},
   "outputs": [],
   "source": [
    "# Select for_balanced_data = 'yes' IF sampling model is being used to balance the training dataset\n",
    "ml_models = get_ml_models(for_balanced_data = 'no')"
   ]
  },
  {
   "cell_type": "markdown",
   "id": "83258f76-b646-4b82-973f-34ea2879048e",
   "metadata": {},
   "source": [
    "##### Run Models"
   ]
  },
  {
   "cell_type": "code",
   "execution_count": 20,
   "id": "77557637-53f1-4932-8f07-57ac8ec86eb0",
   "metadata": {},
   "outputs": [
    {
     "name": "stdout",
     "output_type": "stream",
     "text": [
      "Running  1_svm_balanced_weights  model.\n",
      "Data splitting & label encoding done\n",
      "Sampling model not selected for data balancing\n",
      "One hot encoding is not selected\n",
      "1_svm_balanced_weights  model is now trained\n",
      "Prediction for training data is done\n",
      "Prediction for validation data is done\n",
      "Prediction for test data is done\n",
      ".\n",
      "Inverse encoding of labels is done\n",
      "Accuracy (Training data):  0.6121428723381624\n",
      "F1-score (Training data):  0.6496129111597077\n",
      "Precision (Training data):  0.7245588797881556\n",
      "Recall (Training data):  0.6121428723381624\n",
      "Accuracy (Validation data):  0.59292167179589\n",
      "F1-score (Validation data):  0.6345597000704247\n",
      "Precision (Validation data):  0.7088342795051855\n",
      "Recall (Validation data):  0.59292167179589\n",
      "Accuracy (Testing data):  0.5892060007317965\n",
      "F1-score (Testing data):  0.6326729269336383\n",
      "Precision (Testing data):  0.7091371094948863\n",
      "Recall (Testing data):  0.5892060007317965\n",
      "Classification Report based on training data:\n",
      "                                                       precision    recall  f1-score   support\n",
      "\n",
      "                               Any Other Cyber Crime       0.44      0.22      0.30      6437\n",
      "Child Pornography CPChild Sexual Abuse Material CSAM       0.16      0.67      0.26       209\n",
      "                                Cryptocurrency Crime       0.24      0.92      0.38       305\n",
      "                      Cyber Attack/ Dependent Crimes       1.00      1.00      1.00      2523\n",
      "                                     Cyber Terrorism       0.04      0.80      0.08       102\n",
      "      Hacking  Damage to computercomputer system etc       0.24      0.67      0.36       979\n",
      "                            Online Cyber Trafficking       0.03      0.45      0.05       109\n",
      "                              Online Financial Fraud       0.88      0.75      0.81     26747\n",
      "                            Online Gambling  Betting       0.07      0.50      0.12       272\n",
      "               Online and Social Media Related Crime       0.62      0.40      0.49      7151\n",
      "                                          Ransomware       0.21      1.00      0.35        38\n",
      "           RapeGang Rape RGRSexually Abusive Content       0.10      0.79      0.17       146\n",
      "                               Sexually Explicit Act       0.17      0.14      0.16       914\n",
      "                           Sexually Obscene material       0.21      0.24      0.22      1075\n",
      "\n",
      "                                            accuracy                           0.61     47007\n",
      "                                           macro avg       0.32      0.61      0.34     47007\n",
      "                                        weighted avg       0.72      0.61      0.65     47007\n",
      "\n",
      "Classification Report based on validation data:\n",
      "                                                       precision    recall  f1-score   support\n",
      "\n",
      "                               Any Other Cyber Crime       0.41      0.20      0.27      2759\n",
      "Child Pornography CPChild Sexual Abuse Material CSAM       0.09      0.40      0.15        90\n",
      "                                Cryptocurrency Crime       0.22      0.83      0.35       130\n",
      "                      Cyber Attack/ Dependent Crimes       1.00      1.00      1.00      1085\n",
      "                                     Cyber Terrorism       0.01      0.23      0.02        43\n",
      "      Hacking  Damage to computercomputer system etc       0.22      0.64      0.33       415\n",
      "                            Online Cyber Trafficking       0.00      0.00      0.00        47\n",
      "                              Online Financial Fraud       0.87      0.74      0.80     11465\n",
      "                            Online Gambling  Betting       0.04      0.33      0.07       116\n",
      "               Online and Social Media Related Crime       0.61      0.38      0.47      3065\n",
      "                                          Ransomware       0.08      0.38      0.13        16\n",
      "           RapeGang Rape RGRSexually Abusive Content       0.05      0.38      0.09        63\n",
      "                               Sexually Explicit Act       0.13      0.11      0.12       392\n",
      "                           Sexually Obscene material       0.16      0.17      0.16       460\n",
      "\n",
      "                                            accuracy                           0.59     20146\n",
      "                                           macro avg       0.28      0.41      0.28     20146\n",
      "                                        weighted avg       0.71      0.59      0.63     20146\n",
      "\n",
      "Classification Report based on testing data:\n",
      "                                                        precision    recall  f1-score   support\n",
      "\n",
      "                               Any Other Cyber Crime       0.38      0.18      0.24      3609\n",
      "Child Pornography CPChild Sexual Abuse Material CSAM       0.10      0.47      0.16       114\n",
      "                                Cryptocurrency Crime       0.20      0.80      0.32       162\n",
      "                      Cyber Attack/ Dependent Crimes       1.00      1.00      1.00      1261\n",
      "                                     Cyber Terrorism       0.00      0.08      0.01        51\n",
      "      Hacking  Damage to computercomputer system etc       0.22      0.61      0.32       580\n",
      "                            Online Cyber Trafficking       0.00      0.05      0.01        61\n",
      "                              Online Financial Fraud       0.87      0.74      0.80     16051\n",
      "                            Online Gambling  Betting       0.02      0.23      0.04       133\n",
      "               Online and Social Media Related Crime       0.59      0.36      0.45      4045\n",
      "                                          Ransomware       0.04      0.22      0.07        18\n",
      "           RapeGang Rape RGRSexually Abusive Content       0.05      0.43      0.09        86\n",
      "                               Sexually Explicit Act       0.12      0.10      0.11       518\n",
      "                           Sexually Obscene material       0.14      0.19      0.16       641\n",
      "\n",
      "                                            accuracy                           0.59     27330\n",
      "                                           macro avg       0.27      0.39      0.27     27330\n",
      "                                        weighted avg       0.71      0.59      0.63     27330\n",
      "\n",
      "Model saved!\n",
      "1_svm_balanced_weights  : Training & testing completed in :  0.2698909044265747  minutes.\n",
      "\n",
      "Running  2_xgb_no_weight_change  model.\n",
      "Data splitting & label encoding done\n",
      "Sampling model not selected for data balancing\n",
      "One hot encoding is not selected\n",
      "2_xgb_no_weight_change  model is now trained\n",
      "Prediction for training data is done\n",
      "Prediction for validation data is done\n",
      "Prediction for test data is done\n",
      ".\n",
      "Inverse encoding of labels is done\n",
      "Accuracy (Training data):  0.8216648584253409\n",
      "F1-score (Training data):  0.805113411331101\n",
      "Precision (Training data):  0.8242674227903023\n",
      "Recall (Training data):  0.8216648584253409\n",
      "Accuracy (Validation data):  0.718157450610543\n",
      "F1-score (Validation data):  0.6784544723518996\n",
      "Precision (Validation data):  0.6699002483719487\n",
      "Recall (Validation data):  0.718157450610543\n",
      "Accuracy (Testing data):  0.7217709476765459\n",
      "F1-score (Testing data):  0.6822566025050162\n",
      "Precision (Testing data):  0.6718559484246907\n",
      "Recall (Testing data):  0.7217709476765459\n",
      "Classification Report based on training data:\n",
      "                                                       precision    recall  f1-score   support\n",
      "\n",
      "                               Any Other Cyber Crime       0.79      0.42      0.55      6437\n",
      "Child Pornography CPChild Sexual Abuse Material CSAM       0.94      0.74      0.83       209\n",
      "                                Cryptocurrency Crime       0.98      0.86      0.92       305\n",
      "                      Cyber Attack/ Dependent Crimes       1.00      1.00      1.00      2523\n",
      "                                     Cyber Terrorism       1.00      0.74      0.85       102\n",
      "      Hacking  Damage to computercomputer system etc       0.88      0.68      0.76       979\n",
      "                            Online Cyber Trafficking       1.00      0.28      0.43       109\n",
      "                              Online Financial Fraud       0.82      0.97      0.89     26747\n",
      "                            Online Gambling  Betting       1.00      0.40      0.58       272\n",
      "               Online and Social Media Related Crime       0.73      0.72      0.72      7151\n",
      "                                          Ransomware       1.00      0.97      0.99        38\n",
      "           RapeGang Rape RGRSexually Abusive Content       0.98      0.75      0.85       146\n",
      "                               Sexually Explicit Act       0.97      0.32      0.48       914\n",
      "                           Sexually Obscene material       0.95      0.45      0.61      1075\n",
      "\n",
      "                                            accuracy                           0.82     47007\n",
      "                                           macro avg       0.93      0.66      0.75     47007\n",
      "                                        weighted avg       0.82      0.82      0.81     47007\n",
      "\n",
      "Classification Report based on validation data:\n",
      "                                                       precision    recall  f1-score   support\n",
      "\n",
      "                               Any Other Cyber Crime       0.43      0.21      0.28      2759\n",
      "Child Pornography CPChild Sexual Abuse Material CSAM       0.55      0.20      0.29        90\n",
      "                                Cryptocurrency Crime       0.63      0.38      0.48       130\n",
      "                      Cyber Attack/ Dependent Crimes       1.00      1.00      1.00      1085\n",
      "                                     Cyber Terrorism       1.00      0.02      0.05        43\n",
      "      Hacking  Damage to computercomputer system etc       0.43      0.25      0.31       415\n",
      "                            Online Cyber Trafficking       0.00      0.00      0.00        47\n",
      "                              Online Financial Fraud       0.77      0.94      0.85     11465\n",
      "                            Online Gambling  Betting       0.25      0.01      0.02       116\n",
      "               Online and Social Media Related Crime       0.57      0.60      0.58      3065\n",
      "                                          Ransomware       0.00      0.00      0.00        16\n",
      "           RapeGang Rape RGRSexually Abusive Content       0.38      0.05      0.08        63\n",
      "                               Sexually Explicit Act       0.25      0.04      0.06       392\n",
      "                           Sexually Obscene material       0.28      0.08      0.13       460\n",
      "\n",
      "                                            accuracy                           0.72     20146\n",
      "                                           macro avg       0.47      0.27      0.30     20146\n",
      "                                        weighted avg       0.67      0.72      0.68     20146\n",
      "\n",
      "Classification Report based on testing data:\n",
      "                                                        precision    recall  f1-score   support\n",
      "\n",
      "                               Any Other Cyber Crime       0.43      0.21      0.28      3609\n",
      "Child Pornography CPChild Sexual Abuse Material CSAM       0.60      0.25      0.35       114\n",
      "                                Cryptocurrency Crime       0.59      0.40      0.48       162\n",
      "                      Cyber Attack/ Dependent Crimes       1.00      1.00      1.00      1261\n",
      "                                     Cyber Terrorism       0.00      0.00      0.00        51\n",
      "      Hacking  Damage to computercomputer system etc       0.39      0.24      0.30       580\n",
      "                            Online Cyber Trafficking       0.00      0.00      0.00        61\n",
      "                              Online Financial Fraud       0.77      0.94      0.85     16051\n",
      "                            Online Gambling  Betting       0.00      0.00      0.00       133\n",
      "               Online and Social Media Related Crime       0.57      0.57      0.57      4045\n",
      "                                          Ransomware       0.62      0.28      0.38        18\n",
      "           RapeGang Rape RGRSexually Abusive Content       0.45      0.15      0.23        86\n",
      "                               Sexually Explicit Act       0.23      0.03      0.05       518\n",
      "                           Sexually Obscene material       0.41      0.09      0.15       641\n",
      "\n",
      "                                            accuracy                           0.72     27330\n",
      "                                           macro avg       0.43      0.30      0.33     27330\n",
      "                                        weighted avg       0.67      0.72      0.68     27330\n",
      "\n",
      "Model saved!\n",
      "2_xgb_no_weight_change  : Training & testing completed in :  0.904103672504425  minutes.\n",
      "\n",
      "Running  3_rf_balanced_weights  model.\n",
      "Data splitting & label encoding done\n",
      "Sampling model not selected for data balancing\n",
      "One hot encoding is not selected\n",
      "3_rf_balanced_weights  model is now trained\n",
      "Prediction for training data is done\n",
      "Prediction for validation data is done\n",
      "Prediction for test data is done\n",
      ".\n",
      "Inverse encoding of labels is done\n",
      "Accuracy (Training data):  0.9995107111706767\n",
      "F1-score (Training data):  0.9995113734773312\n",
      "Precision (Training data):  0.9995136938584336\n",
      "Recall (Training data):  0.9995107111706767\n",
      "Accuracy (Validation data):  0.7160230318673683\n",
      "F1-score (Validation data):  0.6504187429536626\n",
      "Precision (Validation data):  0.6826312159755406\n",
      "Recall (Validation data):  0.7160230318673683\n",
      "Accuracy (Testing data):  0.717746066593487\n",
      "F1-score (Testing data):  0.6600493353997858\n",
      "Precision (Testing data):  0.6826256265259171\n",
      "Recall (Testing data):  0.717746066593487\n",
      "Classification Report based on training data:\n",
      "                                                       precision    recall  f1-score   support\n",
      "\n",
      "                               Any Other Cyber Crime       1.00      1.00      1.00      6437\n",
      "Child Pornography CPChild Sexual Abuse Material CSAM       0.98      1.00      0.99       209\n",
      "                                Cryptocurrency Crime       1.00      1.00      1.00       305\n",
      "                      Cyber Attack/ Dependent Crimes       1.00      1.00      1.00      2523\n",
      "                                     Cyber Terrorism       1.00      1.00      1.00       102\n",
      "      Hacking  Damage to computercomputer system etc       1.00      1.00      1.00       979\n",
      "                            Online Cyber Trafficking       1.00      1.00      1.00       109\n",
      "                              Online Financial Fraud       1.00      1.00      1.00     26747\n",
      "                            Online Gambling  Betting       1.00      1.00      1.00       272\n",
      "               Online and Social Media Related Crime       1.00      1.00      1.00      7151\n",
      "                                          Ransomware       1.00      1.00      1.00        38\n",
      "           RapeGang Rape RGRSexually Abusive Content       1.00      0.99      1.00       146\n",
      "                               Sexually Explicit Act       1.00      1.00      1.00       914\n",
      "                           Sexually Obscene material       1.00      1.00      1.00      1075\n",
      "\n",
      "                                            accuracy                           1.00     47007\n",
      "                                           macro avg       1.00      1.00      1.00     47007\n",
      "                                        weighted avg       1.00      1.00      1.00     47007\n",
      "\n",
      "Classification Report based on validation data:\n",
      "                                                       precision    recall  f1-score   support\n",
      "\n",
      "                               Any Other Cyber Crime       0.51      0.10      0.17      2759\n",
      "Child Pornography CPChild Sexual Abuse Material CSAM       0.52      0.19      0.28        90\n",
      "                                Cryptocurrency Crime       0.71      0.17      0.27       130\n",
      "                      Cyber Attack/ Dependent Crimes       1.00      1.00      1.00      1085\n",
      "                                     Cyber Terrorism       1.00      0.02      0.05        43\n",
      "      Hacking  Damage to computercomputer system etc       0.50      0.16      0.24       415\n",
      "                            Online Cyber Trafficking       0.00      0.00      0.00        47\n",
      "                              Online Financial Fraud       0.73      0.97      0.84     11465\n",
      "                            Online Gambling  Betting       0.00      0.00      0.00       116\n",
      "               Online and Social Media Related Crime       0.58      0.58      0.58      3065\n",
      "                                          Ransomware       1.00      0.12      0.22        16\n",
      "           RapeGang Rape RGRSexually Abusive Content       0.60      0.05      0.09        63\n",
      "                               Sexually Explicit Act       1.00      0.01      0.01       392\n",
      "                           Sexually Obscene material       0.54      0.02      0.03       460\n",
      "\n",
      "                                            accuracy                           0.72     20146\n",
      "                                           macro avg       0.62      0.24      0.27     20146\n",
      "                                        weighted avg       0.68      0.72      0.65     20146\n",
      "\n",
      "Classification Report based on testing data:\n",
      "                                                        precision    recall  f1-score   support\n",
      "\n",
      "                               Any Other Cyber Crime       0.51      0.11      0.18      3609\n",
      "Child Pornography CPChild Sexual Abuse Material CSAM       0.68      0.28      0.40       114\n",
      "                                Cryptocurrency Crime       0.69      0.22      0.34       162\n",
      "                      Cyber Attack/ Dependent Crimes       1.00      1.00      1.00      1261\n",
      "                                     Cyber Terrorism       0.00      0.00      0.00        51\n",
      "      Hacking  Damage to computercomputer system etc       0.43      0.17      0.24       580\n",
      "                            Online Cyber Trafficking       0.00      0.00      0.00        61\n",
      "                              Online Financial Fraud       0.74      0.96      0.84     16051\n",
      "                            Online Gambling  Betting       0.00      0.00      0.00       133\n",
      "               Online and Social Media Related Crime       0.56      0.56      0.56      4045\n",
      "                                          Ransomware       0.57      0.22      0.32        18\n",
      "           RapeGang Rape RGRSexually Abusive Content       0.72      0.15      0.25        86\n",
      "                               Sexually Explicit Act       0.77      0.05      0.09       518\n",
      "                           Sexually Obscene material       0.71      0.08      0.14       641\n",
      "\n",
      "                                            accuracy                           0.72     27330\n",
      "                                           macro avg       0.53      0.27      0.31     27330\n",
      "                                        weighted avg       0.68      0.72      0.66     27330\n",
      "\n",
      "Model saved!\n",
      "3_rf_balanced_weights  : Training & testing completed in :  1.1052253325780232  minutes.\n",
      "\n"
     ]
    }
   ],
   "source": [
    "# AT CATEGORY LEVEL\n",
    "\n",
    "performance_summary_dict = dict()\n",
    "\n",
    "for selected_ml_model_name, selected_ml_model in ml_models.items():\n",
    "    print(\"Running \", selected_ml_model_name, \" model.\")\n",
    "    start = time.time()\n",
    "    \n",
    "    # Set sampling_model = selected_sampling_model if sampling model is being used\n",
    "    # Set sampling_model = None if sampling model not being used\n",
    "    performance_summary_dict[selected_ml_model_name] = run_model(training_data = df_train, testing_data = df_test,\n",
    "                                                        ml_model = selected_ml_model, ml_model_name = selected_ml_model_name,\n",
    "                                                        label='category', sampling_model = None, one_hot_label = 'no', save_ml_model = 'yes')\n",
    "    \n",
    "    end = time.time()\n",
    "    print(selected_ml_model_name,\" : Training & testing completed in : \", (end-start)/60, \" minutes.\\n\")\n"
   ]
  },
  {
   "cell_type": "code",
   "execution_count": null,
   "id": "ef822459-4c7e-48e7-a5e2-704a5c3a49f3",
   "metadata": {},
   "outputs": [],
   "source": []
  },
  {
   "cell_type": "code",
   "execution_count": 21,
   "id": "f1acfc8c-8d0f-4406-8331-28992677e15a",
   "metadata": {},
   "outputs": [
    {
     "name": "stdout",
     "output_type": "stream",
     "text": [
      "Running  1_svm_balanced_weights  model.\n",
      "Data splitting & label encoding done\n",
      "Sampling model not selected for data balancing\n",
      "One hot encoding is not selected\n",
      "1_svm_balanced_weights  model is now trained\n",
      "Prediction for training data is done\n",
      "Prediction for validation data is done\n",
      "Prediction for test data is done\n",
      ".\n",
      "Inverse encoding of labels is done\n",
      "Accuracy (Training data):  0.40111047290829027\n",
      "F1-score (Training data):  0.41006093463576376\n",
      "Precision (Training data):  0.5112288524076736\n",
      "Recall (Training data):  0.40111047290829027\n",
      "Accuracy (Validation data):  0.36776531321354117\n",
      "F1-score (Validation data):  0.3838957430752776\n",
      "Precision (Validation data):  0.4743312969634513\n",
      "Recall (Validation data):  0.36776531321354117\n",
      "Accuracy (Testing data):  0.3680936699597512\n",
      "F1-score (Testing data):  0.3894782731481329\n",
      "Precision (Testing data):  0.48244612188865127\n",
      "Recall (Testing data):  0.3680936699597512\n",
      "Classification Report based on training data:\n",
      "                                                                       precision    recall  f1-score   support\n",
      "\n",
      "                             Business Email CompromiseEmail Takeover       0.08      0.66      0.15       175\n",
      "                                           Cheating by Impersonation       0.19      0.08      0.12      1157\n",
      "                Child Pornography CPChild Sexual Abuse Material CSAM       0.19      0.68      0.30       209\n",
      "                                                Cryptocurrency Fraud       0.27      0.89      0.41       305\n",
      "                                   Cyber Bullying  Stalking  Sexting       0.50      0.48      0.49      2411\n",
      "                                                     Cyber Terrorism       0.05      0.71      0.10       102\n",
      "                             Damage to computer computer systems etc       0.07      0.85      0.12        55\n",
      "                                                   Data Breach/Theft       0.19      0.25      0.22       339\n",
      "                                DebitCredit Card FraudSim Swap Fraud       0.66      0.73      0.69      5184\n",
      "                                               DematDepository Fraud       0.10      0.32      0.15       437\n",
      "Denial of Service (DoS)/Distributed Denial of Service (DDOS) attacks       0.18      0.15      0.16       353\n",
      "                                                      EMail Phishing       0.09      0.64      0.15       100\n",
      "                                               EWallet Related Fraud       0.47      0.42      0.44      2141\n",
      "                                                       Email Hacking       0.31      0.76      0.44       217\n",
      "                                           FakeImpersonating Profile       0.38      0.45      0.41      1380\n",
      "                                                   Fraud CallVishing       0.38      0.10      0.16      3557\n",
      "                                                  Hacking/Defacement       0.24      0.22      0.23       378\n",
      "                                                 Impersonating Email       0.20      0.96      0.33        28\n",
      "                                      Internet Banking Related Fraud       0.62      0.51      0.56      4063\n",
      "                                                  Intimidating Email       0.19      1.00      0.32        20\n",
      "                                                      Malware Attack       0.20      0.21      0.20       365\n",
      "                                            Online Gambling  Betting       0.07      0.32      0.12       272\n",
      "                                                    Online Job Fraud       0.20      0.66      0.31       526\n",
      "                                            Online Matrimonial Fraud       0.08      0.91      0.15        67\n",
      "                                                  Online Trafficking       0.04      0.30      0.07       109\n",
      "                                                               Other       0.54      0.09      0.15      6437\n",
      "                                      Profile Hacking Identity Theft       0.44      0.43      0.44      1220\n",
      "                                Provocative Speech for unlawful acts       0.12      0.50      0.19       242\n",
      "                                                          Ransomware       0.15      0.95      0.27        38\n",
      "                                                   Ransomware Attack       0.21      0.26      0.23       374\n",
      "                           RapeGang Rape RGRSexually Abusive Content       0.10      0.69      0.18       146\n",
      "                                                       SQL Injection       0.21      0.22      0.21       356\n",
      "                                               Sexually Explicit Act       0.19      0.03      0.06       914\n",
      "                                           Sexually Obscene material       0.27      0.13      0.18      1075\n",
      "                            Tampering with computer source documents       0.21      0.12      0.16       394\n",
      "                                                  UPI Related Frauds       0.74      0.52      0.61     11190\n",
      "                                      Unauthorised AccessData Breach       0.18      0.51      0.27       617\n",
      "                                           Website DefacementHacking       0.11      0.91      0.19        54\n",
      "\n",
      "                                                            accuracy                           0.40     47007\n",
      "                                                           macro avg       0.25      0.49      0.26     47007\n",
      "                                                        weighted avg       0.51      0.40      0.41     47007\n",
      "\n",
      "Classification Report based on validation data:\n",
      "                                                                       precision    recall  f1-score   support\n",
      "\n",
      "                             Business Email CompromiseEmail Takeover       0.03      0.23      0.05        75\n",
      "                                           Cheating by Impersonation       0.11      0.05      0.07       496\n",
      "                Child Pornography CPChild Sexual Abuse Material CSAM       0.11      0.40      0.17        90\n",
      "                                                Cryptocurrency Fraud       0.26      0.85      0.39       130\n",
      "                                   Cyber Bullying  Stalking  Sexting       0.47      0.45      0.46      1033\n",
      "                                                     Cyber Terrorism       0.01      0.14      0.02        43\n",
      "                             Damage to computer computer systems etc       0.01      0.17      0.02        24\n",
      "                                                   Data Breach/Theft       0.15      0.19      0.17       145\n",
      "                                DebitCredit Card FraudSim Swap Fraud       0.66      0.71      0.68      2222\n",
      "                                               DematDepository Fraud       0.08      0.25      0.12       187\n",
      "Denial of Service (DoS)/Distributed Denial of Service (DDOS) attacks       0.10      0.08      0.09       151\n",
      "                                                      EMail Phishing       0.02      0.19      0.04        43\n",
      "                                               EWallet Related Fraud       0.44      0.39      0.41       918\n",
      "                                                       Email Hacking       0.25      0.59      0.35        93\n",
      "                                           FakeImpersonating Profile       0.35      0.42      0.38       592\n",
      "                                                   Fraud CallVishing       0.32      0.08      0.13      1525\n",
      "                                                  Hacking/Defacement       0.15      0.14      0.14       162\n",
      "                                                 Impersonating Email       0.01      0.08      0.02        12\n",
      "                                      Internet Banking Related Fraud       0.61      0.49      0.54      1742\n",
      "                                                  Intimidating Email       0.02      0.11      0.04         9\n",
      "                                                      Malware Attack       0.12      0.14      0.13       156\n",
      "                                            Online Gambling  Betting       0.03      0.12      0.04       116\n",
      "                                                    Online Job Fraud       0.19      0.62      0.29       225\n",
      "                                            Online Matrimonial Fraud       0.03      0.43      0.06        28\n",
      "                                                  Online Trafficking       0.00      0.02      0.00        47\n",
      "                                                               Other       0.46      0.07      0.12      2759\n",
      "                                      Profile Hacking Identity Theft       0.42      0.43      0.42       523\n",
      "                                Provocative Speech for unlawful acts       0.08      0.35      0.13       104\n",
      "                                                          Ransomware       0.05      0.38      0.09        16\n",
      "                                                   Ransomware Attack       0.13      0.17      0.15       160\n",
      "                           RapeGang Rape RGRSexually Abusive Content       0.06      0.40      0.10        63\n",
      "                                                       SQL Injection       0.15      0.14      0.15       152\n",
      "                                               Sexually Explicit Act       0.12      0.02      0.04       392\n",
      "                                           Sexually Obscene material       0.17      0.07      0.10       460\n",
      "                            Tampering with computer source documents       0.15      0.08      0.10       169\n",
      "                                                  UPI Related Frauds       0.72      0.53      0.61      4796\n",
      "                                      Unauthorised AccessData Breach       0.14      0.39      0.21       265\n",
      "                                           Website DefacementHacking       0.02      0.17      0.04        23\n",
      "\n",
      "                                                            accuracy                           0.37     20146\n",
      "                                                           macro avg       0.19      0.28      0.19     20146\n",
      "                                                        weighted avg       0.47      0.37      0.38     20146\n",
      "\n",
      "Classification Report based on testing data:\n",
      "                                                                        precision    recall  f1-score   support\n",
      "\n",
      "                             Business Email CompromiseEmail Takeover       0.04      0.34      0.07        89\n",
      "                                           Cheating by Impersonation       0.17      0.07      0.10       705\n",
      "                Child Pornography CPChild Sexual Abuse Material CSAM       0.11      0.46      0.18       114\n",
      "                                                Cryptocurrency Fraud       0.22      0.77      0.34       162\n",
      "                                   Cyber Bullying  Stalking  Sexting       0.47      0.43      0.45      1329\n",
      "                                                     Cyber Terrorism       0.01      0.08      0.01        51\n",
      "                             Damage to computer computer systems etc       0.01      0.11      0.02        36\n",
      "                                                   Data Breach/Theft       0.13      0.17      0.14       171\n",
      "                                DebitCredit Card FraudSim Swap Fraud       0.64      0.68      0.66      3091\n",
      "                                               DematDepository Fraud       0.05      0.17      0.08       218\n",
      "Denial of Service (DoS)/Distributed Denial of Service (DDOS) attacks       0.16      0.13      0.15       187\n",
      "                                                      EMail Phishing       0.02      0.15      0.03        54\n",
      "                                               EWallet Related Fraud       0.43      0.42      0.42      1299\n",
      "                                                       Email Hacking       0.18      0.38      0.24       130\n",
      "                                           FakeImpersonating Profile       0.33      0.40      0.36       745\n",
      "                                                   Fraud CallVishing       0.31      0.08      0.13      1792\n",
      "                                                  Hacking/Defacement       0.15      0.13      0.14       200\n",
      "                                                 Impersonating Email       0.01      0.08      0.02        13\n",
      "                                      Internet Banking Related Fraud       0.63      0.47      0.54      2589\n",
      "                                                  Intimidating Email       0.00      0.00      0.00        11\n",
      "                                                      Malware Attack       0.11      0.13      0.12       170\n",
      "                                            Online Gambling  Betting       0.03      0.18      0.05       133\n",
      "                                                    Online Job Fraud       0.17      0.58      0.26       290\n",
      "                                            Online Matrimonial Fraud       0.03      0.32      0.05        37\n",
      "                                                  Online Trafficking       0.01      0.05      0.01        61\n",
      "                                                               Other       0.45      0.07      0.12      3609\n",
      "                                      Profile Hacking Identity Theft       0.39      0.34      0.36       736\n",
      "                                Provocative Speech for unlawful acts       0.06      0.29      0.10       125\n",
      "                                                          Ransomware       0.05      0.39      0.09        18\n",
      "                                                   Ransomware Attack       0.12      0.17      0.14       186\n",
      "                           RapeGang Rape RGRSexually Abusive Content       0.06      0.44      0.11        86\n",
      "                                                       SQL Injection       0.13      0.14      0.13       167\n",
      "                                               Sexually Explicit Act       0.14      0.03      0.05       518\n",
      "                                           Sexually Obscene material       0.14      0.10      0.12       641\n",
      "                            Tampering with computer source documents       0.07      0.03      0.04       194\n",
      "                                                  UPI Related Frauds       0.72      0.52      0.61      6973\n",
      "                                      Unauthorised AccessData Breach       0.15      0.44      0.22       361\n",
      "                                           Website DefacementHacking       0.02      0.13      0.03        39\n",
      "\n",
      "                                                            accuracy                           0.37     27330\n",
      "                                                           macro avg       0.18      0.26      0.18     27330\n",
      "                                                        weighted avg       0.48      0.37      0.39     27330\n",
      "\n",
      "Model saved!\n",
      "1_svm_balanced_weights  : Training & testing completed in :  0.43684523105621337  minutes.\n",
      "\n",
      "Running  2_xgb_no_weight_change  model.\n",
      "Data splitting & label encoding done\n",
      "Sampling model not selected for data balancing\n",
      "One hot encoding is not selected\n",
      "2_xgb_no_weight_change  model is now trained\n",
      "Prediction for training data is done\n",
      "Prediction for validation data is done\n",
      "Prediction for test data is done\n",
      ".\n",
      "Inverse encoding of labels is done\n",
      "Accuracy (Training data):  0.6999595804880124\n",
      "F1-score (Training data):  0.6946685627210142\n",
      "Precision (Training data):  0.7165531544262939\n",
      "Recall (Training data):  0.6999595804880124\n",
      "Accuracy (Validation data):  0.4651047354313511\n",
      "F1-score (Validation data):  0.4411871811262961\n",
      "Precision (Validation data):  0.44639724337381537\n",
      "Recall (Validation data):  0.4651047354313511\n",
      "Accuracy (Testing data):  0.4741309915843396\n",
      "F1-score (Testing data):  0.4533591477692297\n",
      "Precision (Testing data):  0.456167853609311\n",
      "Recall (Testing data):  0.4741309915843396\n",
      "Classification Report based on training data:\n",
      "                                                                       precision    recall  f1-score   support\n",
      "\n",
      "                             Business Email CompromiseEmail Takeover       1.00      0.79      0.89       175\n",
      "                                           Cheating by Impersonation       0.89      0.30      0.45      1157\n",
      "                Child Pornography CPChild Sexual Abuse Material CSAM       0.94      0.80      0.87       209\n",
      "                                                Cryptocurrency Fraud       0.97      0.89      0.93       305\n",
      "                                   Cyber Bullying  Stalking  Sexting       0.68      0.82      0.74      2411\n",
      "                                                     Cyber Terrorism       1.00      0.77      0.87       102\n",
      "                             Damage to computer computer systems etc       1.00      0.98      0.99        55\n",
      "                                                   Data Breach/Theft       0.46      0.43      0.45       339\n",
      "                                DebitCredit Card FraudSim Swap Fraud       0.78      0.82      0.80      5184\n",
      "                                               DematDepository Fraud       0.96      0.52      0.67       437\n",
      "Denial of Service (DoS)/Distributed Denial of Service (DDOS) attacks       0.47      0.46      0.47       353\n",
      "                                                      EMail Phishing       1.00      0.87      0.93       100\n",
      "                                               EWallet Related Fraud       0.80      0.51      0.62      2141\n",
      "                                                       Email Hacking       0.97      0.93      0.95       217\n",
      "                                           FakeImpersonating Profile       0.76      0.63      0.69      1380\n",
      "                                                   Fraud CallVishing       0.65      0.52      0.58      3557\n",
      "                                                  Hacking/Defacement       0.49      0.51      0.50       378\n",
      "                                                 Impersonating Email       1.00      1.00      1.00        28\n",
      "                                      Internet Banking Related Fraud       0.80      0.68      0.74      4063\n",
      "                                                  Intimidating Email       1.00      1.00      1.00        20\n",
      "                                                      Malware Attack       0.43      0.47      0.45       365\n",
      "                                            Online Gambling  Betting       0.98      0.48      0.65       272\n",
      "                                                    Online Job Fraud       0.86      0.76      0.81       526\n",
      "                                            Online Matrimonial Fraud       1.00      0.91      0.95        67\n",
      "                                                  Online Trafficking       1.00      0.44      0.61       109\n",
      "                                                               Other       0.59      0.64      0.61      6437\n",
      "                                      Profile Hacking Identity Theft       0.80      0.74      0.77      1220\n",
      "                                Provocative Speech for unlawful acts       0.95      0.69      0.80       242\n",
      "                                                          Ransomware       1.00      1.00      1.00        38\n",
      "                                                   Ransomware Attack       0.45      0.56      0.50       374\n",
      "                           RapeGang Rape RGRSexually Abusive Content       0.98      0.83      0.90       146\n",
      "                                                       SQL Injection       0.45      0.44      0.44       356\n",
      "                                               Sexually Explicit Act       0.90      0.46      0.61       914\n",
      "                                           Sexually Obscene material       0.84      0.62      0.71      1075\n",
      "                            Tampering with computer source documents       0.55      0.40      0.46       394\n",
      "                                                  UPI Related Frauds       0.67      0.87      0.75     11190\n",
      "                                      Unauthorised AccessData Breach       0.85      0.76      0.80       617\n",
      "                                           Website DefacementHacking       1.00      0.98      0.99        54\n",
      "\n",
      "                                                            accuracy                           0.70     47007\n",
      "                                                           macro avg       0.81      0.69      0.74     47007\n",
      "                                                        weighted avg       0.72      0.70      0.69     47007\n",
      "\n",
      "Classification Report based on validation data:\n",
      "                                                                       precision    recall  f1-score   support\n",
      "\n",
      "                             Business Email CompromiseEmail Takeover       0.18      0.03      0.05        75\n",
      "                                           Cheating by Impersonation       0.19      0.04      0.06       496\n",
      "                Child Pornography CPChild Sexual Abuse Material CSAM       0.53      0.23      0.32        90\n",
      "                                                Cryptocurrency Fraud       0.65      0.48      0.56       130\n",
      "                                   Cyber Bullying  Stalking  Sexting       0.44      0.54      0.49      1033\n",
      "                                                     Cyber Terrorism       1.00      0.02      0.05        43\n",
      "                             Damage to computer computer systems etc       0.50      0.04      0.08        24\n",
      "                                                   Data Breach/Theft       0.18      0.15      0.16       145\n",
      "                                DebitCredit Card FraudSim Swap Fraud       0.67      0.69      0.68      2222\n",
      "                                               DematDepository Fraud       0.25      0.03      0.06       187\n",
      "Denial of Service (DoS)/Distributed Denial of Service (DDOS) attacks       0.14      0.15      0.15       151\n",
      "                                                      EMail Phishing       0.44      0.09      0.15        43\n",
      "                                               EWallet Related Fraud       0.57      0.31      0.40       918\n",
      "                                                       Email Hacking       0.42      0.26      0.32        93\n",
      "                                           FakeImpersonating Profile       0.44      0.36      0.40       592\n",
      "                                                   Fraud CallVishing       0.30      0.24      0.26      1525\n",
      "                                                  Hacking/Defacement       0.13      0.15      0.14       162\n",
      "                                                 Impersonating Email       0.00      0.00      0.00        12\n",
      "                                      Internet Banking Related Fraud       0.62      0.51      0.56      1742\n",
      "                                                  Intimidating Email       0.00      0.00      0.00         9\n",
      "                                                      Malware Attack       0.10      0.11      0.10       156\n",
      "                                            Online Gambling  Betting       0.20      0.01      0.02       116\n",
      "                                                    Online Job Fraud       0.31      0.23      0.26       225\n",
      "                                            Online Matrimonial Fraud       0.67      0.07      0.13        28\n",
      "                                                  Online Trafficking       0.00      0.00      0.00        47\n",
      "                                                               Other       0.32      0.40      0.36      2759\n",
      "                                      Profile Hacking Identity Theft       0.47      0.44      0.45       523\n",
      "                                Provocative Speech for unlawful acts       0.34      0.11      0.16       104\n",
      "                                                          Ransomware       1.00      0.12      0.22        16\n",
      "                                                   Ransomware Attack       0.15      0.22      0.18       160\n",
      "                           RapeGang Rape RGRSexually Abusive Content       0.31      0.08      0.13        63\n",
      "                                                       SQL Injection       0.14      0.12      0.13       152\n",
      "                                               Sexually Explicit Act       0.14      0.05      0.07       392\n",
      "                                           Sexually Obscene material       0.23      0.16      0.19       460\n",
      "                            Tampering with computer source documents       0.08      0.04      0.06       169\n",
      "                                                  UPI Related Frauds       0.55      0.77      0.64      4796\n",
      "                                      Unauthorised AccessData Breach       0.28      0.18      0.22       265\n",
      "                                           Website DefacementHacking       0.20      0.04      0.07        23\n",
      "\n",
      "                                                            accuracy                           0.47     20146\n",
      "                                                           macro avg       0.35      0.20      0.22     20146\n",
      "                                                        weighted avg       0.45      0.47      0.44     20146\n",
      "\n",
      "Classification Report based on testing data:\n",
      "                                                                        precision    recall  f1-score   support\n",
      "\n",
      "                             Business Email CompromiseEmail Takeover       0.10      0.03      0.05        89\n",
      "                                           Cheating by Impersonation       0.20      0.03      0.05       705\n",
      "                Child Pornography CPChild Sexual Abuse Material CSAM       0.60      0.27      0.37       114\n",
      "                                                Cryptocurrency Fraud       0.56      0.44      0.49       162\n",
      "                                   Cyber Bullying  Stalking  Sexting       0.43      0.53      0.48      1329\n",
      "                                                     Cyber Terrorism       0.00      0.00      0.00        51\n",
      "                             Damage to computer computer systems etc       0.33      0.03      0.05        36\n",
      "                                                   Data Breach/Theft       0.19      0.20      0.19       171\n",
      "                                DebitCredit Card FraudSim Swap Fraud       0.66      0.67      0.67      3091\n",
      "                                               DematDepository Fraud       0.06      0.01      0.02       218\n",
      "Denial of Service (DoS)/Distributed Denial of Service (DDOS) attacks       0.13      0.13      0.13       187\n",
      "                                                      EMail Phishing       0.14      0.02      0.03        54\n",
      "                                               EWallet Related Fraud       0.56      0.36      0.44      1299\n",
      "                                                       Email Hacking       0.35      0.20      0.25       130\n",
      "                                           FakeImpersonating Profile       0.42      0.33      0.37       745\n",
      "                                                   Fraud CallVishing       0.28      0.23      0.25      1792\n",
      "                                                  Hacking/Defacement       0.15      0.14      0.14       200\n",
      "                                                 Impersonating Email       0.33      0.08      0.12        13\n",
      "                                      Internet Banking Related Fraud       0.64      0.50      0.56      2589\n",
      "                                                  Intimidating Email       0.00      0.00      0.00        11\n",
      "                                                      Malware Attack       0.14      0.15      0.15       170\n",
      "                                            Online Gambling  Betting       0.25      0.03      0.05       133\n",
      "                                                    Online Job Fraud       0.31      0.25      0.28       290\n",
      "                                            Online Matrimonial Fraud       0.00      0.00      0.00        37\n",
      "                                                  Online Trafficking       0.00      0.00      0.00        61\n",
      "                                                               Other       0.31      0.42      0.35      3609\n",
      "                                      Profile Hacking Identity Theft       0.48      0.38      0.43       736\n",
      "                                Provocative Speech for unlawful acts       0.31      0.07      0.12       125\n",
      "                                                          Ransomware       0.62      0.28      0.38        18\n",
      "                                                   Ransomware Attack       0.16      0.20      0.18       186\n",
      "                           RapeGang Rape RGRSexually Abusive Content       0.40      0.16      0.23        86\n",
      "                                                       SQL Injection       0.15      0.15      0.15       167\n",
      "                                               Sexually Explicit Act       0.22      0.08      0.11       518\n",
      "                                           Sexually Obscene material       0.28      0.16      0.21       641\n",
      "                            Tampering with computer source documents       0.22      0.12      0.15       194\n",
      "                                                  UPI Related Frauds       0.57      0.76      0.65      6973\n",
      "                                      Unauthorised AccessData Breach       0.27      0.23      0.25       361\n",
      "                                           Website DefacementHacking       0.00      0.00      0.00        39\n",
      "\n",
      "                                                            accuracy                           0.47     27330\n",
      "                                                           macro avg       0.28      0.20      0.22     27330\n",
      "                                                        weighted avg       0.46      0.47      0.45     27330\n",
      "\n",
      "Model saved!\n",
      "2_xgb_no_weight_change  : Training & testing completed in :  2.2470523953437804  minutes.\n",
      "\n",
      "Running  3_rf_balanced_weights  model.\n",
      "Data splitting & label encoding done\n",
      "Sampling model not selected for data balancing\n",
      "One hot encoding is not selected\n",
      "3_rf_balanced_weights  model is now trained\n",
      "Prediction for training data is done\n",
      "Prediction for validation data is done\n",
      "Prediction for test data is done\n",
      ".\n",
      "Inverse encoding of labels is done\n",
      "Accuracy (Training data):  0.9699406471376604\n",
      "F1-score (Training data):  0.9699636486270231\n",
      "Precision (Training data):  0.9701631052335973\n",
      "Recall (Training data):  0.9699406471376604\n",
      "Accuracy (Validation data):  0.47130944108011513\n",
      "F1-score (Validation data):  0.4305762981234559\n",
      "Precision (Validation data):  0.44959824829929035\n",
      "Recall (Validation data):  0.47130944108011513\n",
      "Accuracy (Testing data):  0.47991218441273326\n",
      "F1-score (Testing data):  0.44817494059661633\n",
      "Precision (Testing data):  0.465723401598201\n",
      "Recall (Testing data):  0.47991218441273326\n",
      "Classification Report based on training data:\n",
      "                                                                       precision    recall  f1-score   support\n",
      "\n",
      "                             Business Email CompromiseEmail Takeover       1.00      1.00      1.00       175\n",
      "                                           Cheating by Impersonation       0.98      1.00      0.99      1157\n",
      "                Child Pornography CPChild Sexual Abuse Material CSAM       0.98      1.00      0.99       209\n",
      "                                                Cryptocurrency Fraud       1.00      1.00      1.00       305\n",
      "                                   Cyber Bullying  Stalking  Sexting       1.00      1.00      1.00      2411\n",
      "                                                     Cyber Terrorism       1.00      1.00      1.00       102\n",
      "                             Damage to computer computer systems etc       1.00      1.00      1.00        55\n",
      "                                                   Data Breach/Theft       0.42      0.53      0.47       339\n",
      "                                DebitCredit Card FraudSim Swap Fraud       1.00      1.00      1.00      5184\n",
      "                                               DematDepository Fraud       1.00      1.00      1.00       437\n",
      "Denial of Service (DoS)/Distributed Denial of Service (DDOS) attacks       0.47      0.48      0.47       353\n",
      "                                                      EMail Phishing       1.00      1.00      1.00       100\n",
      "                                               EWallet Related Fraud       1.00      1.00      1.00      2141\n",
      "                                                       Email Hacking       1.00      1.00      1.00       217\n",
      "                                           FakeImpersonating Profile       1.00      1.00      1.00      1380\n",
      "                                                   Fraud CallVishing       1.00      1.00      1.00      3557\n",
      "                                                  Hacking/Defacement       0.50      0.45      0.48       378\n",
      "                                                 Impersonating Email       1.00      1.00      1.00        28\n",
      "                                      Internet Banking Related Fraud       1.00      1.00      1.00      4063\n",
      "                                                  Intimidating Email       1.00      1.00      1.00        20\n",
      "                                                      Malware Attack       0.46      0.44      0.45       365\n",
      "                                            Online Gambling  Betting       1.00      1.00      1.00       272\n",
      "                                                    Online Job Fraud       1.00      1.00      1.00       526\n",
      "                                            Online Matrimonial Fraud       1.00      1.00      1.00        67\n",
      "                                                  Online Trafficking       1.00      1.00      1.00       109\n",
      "                                                               Other       1.00      1.00      1.00      6437\n",
      "                                      Profile Hacking Identity Theft       1.00      1.00      1.00      1220\n",
      "                                Provocative Speech for unlawful acts       1.00      1.00      1.00       242\n",
      "                                                          Ransomware       1.00      1.00      1.00        38\n",
      "                                                   Ransomware Attack       0.46      0.50      0.48       374\n",
      "                           RapeGang Rape RGRSexually Abusive Content       1.00      0.99      1.00       146\n",
      "                                                       SQL Injection       0.46      0.45      0.46       356\n",
      "                                               Sexually Explicit Act       1.00      1.00      1.00       914\n",
      "                                           Sexually Obscene material       1.00      1.00      1.00      1075\n",
      "                            Tampering with computer source documents       0.55      0.48      0.51       394\n",
      "                                                  UPI Related Frauds       1.00      1.00      1.00     11190\n",
      "                                      Unauthorised AccessData Breach       1.00      1.00      1.00       617\n",
      "                                           Website DefacementHacking       1.00      1.00      1.00        54\n",
      "\n",
      "                                                            accuracy                           0.97     47007\n",
      "                                                           macro avg       0.90      0.90      0.90     47007\n",
      "                                                        weighted avg       0.97      0.97      0.97     47007\n",
      "\n",
      "Classification Report based on validation data:\n",
      "                                                                       precision    recall  f1-score   support\n",
      "\n",
      "                             Business Email CompromiseEmail Takeover       0.00      0.00      0.00        75\n",
      "                                           Cheating by Impersonation       0.20      0.01      0.01       496\n",
      "                Child Pornography CPChild Sexual Abuse Material CSAM       0.47      0.22      0.30        90\n",
      "                                                Cryptocurrency Fraud       0.61      0.42      0.49       130\n",
      "                                   Cyber Bullying  Stalking  Sexting       0.43      0.61      0.51      1033\n",
      "                                                     Cyber Terrorism       1.00      0.02      0.05        43\n",
      "                             Damage to computer computer systems etc       0.00      0.00      0.00        24\n",
      "                                                   Data Breach/Theft       0.19      0.21      0.20       145\n",
      "                                DebitCredit Card FraudSim Swap Fraud       0.67      0.71      0.69      2222\n",
      "                                               DematDepository Fraud       0.50      0.01      0.02       187\n",
      "Denial of Service (DoS)/Distributed Denial of Service (DDOS) attacks       0.14      0.16      0.15       151\n",
      "                                                      EMail Phishing       0.00      0.00      0.00        43\n",
      "                                               EWallet Related Fraud       0.69      0.26      0.38       918\n",
      "                                                       Email Hacking       0.51      0.24      0.32        93\n",
      "                                           FakeImpersonating Profile       0.47      0.41      0.44       592\n",
      "                                                   Fraud CallVishing       0.33      0.16      0.22      1525\n",
      "                                                  Hacking/Defacement       0.13      0.12      0.13       162\n",
      "                                                 Impersonating Email       0.00      0.00      0.00        12\n",
      "                                      Internet Banking Related Fraud       0.68      0.51      0.58      1742\n",
      "                                                  Intimidating Email       0.00      0.00      0.00         9\n",
      "                                                      Malware Attack       0.12      0.10      0.11       156\n",
      "                                            Online Gambling  Betting       0.00      0.00      0.00       116\n",
      "                                                    Online Job Fraud       0.29      0.19      0.23       225\n",
      "                                            Online Matrimonial Fraud       0.00      0.00      0.00        28\n",
      "                                                  Online Trafficking       0.00      0.00      0.00        47\n",
      "                                                               Other       0.33      0.37      0.35      2759\n",
      "                                      Profile Hacking Identity Theft       0.44      0.50      0.47       523\n",
      "                                Provocative Speech for unlawful acts       0.52      0.13      0.21       104\n",
      "                                                          Ransomware       0.75      0.19      0.30        16\n",
      "                                                   Ransomware Attack       0.15      0.17      0.16       160\n",
      "                           RapeGang Rape RGRSexually Abusive Content       0.71      0.08      0.14        63\n",
      "                                                       SQL Injection       0.16      0.15      0.15       152\n",
      "                                               Sexually Explicit Act       0.12      0.01      0.01       392\n",
      "                                           Sexually Obscene material       0.27      0.06      0.10       460\n",
      "                            Tampering with computer source documents       0.14      0.11      0.12       169\n",
      "                                                  UPI Related Frauds       0.50      0.84      0.62      4796\n",
      "                                      Unauthorised AccessData Breach       0.35      0.12      0.18       265\n",
      "                                           Website DefacementHacking       0.00      0.00      0.00        23\n",
      "\n",
      "                                                            accuracy                           0.47     20146\n",
      "                                                           macro avg       0.31      0.19      0.20     20146\n",
      "                                                        weighted avg       0.45      0.47      0.43     20146\n",
      "\n",
      "Classification Report based on testing data:\n",
      "                                                                        precision    recall  f1-score   support\n",
      "\n",
      "                             Business Email CompromiseEmail Takeover       0.33      0.01      0.02        89\n",
      "                                           Cheating by Impersonation       0.05      0.02      0.03       705\n",
      "                Child Pornography CPChild Sexual Abuse Material CSAM       0.60      0.30      0.40       114\n",
      "                                                Cryptocurrency Fraud       0.58      0.40      0.47       162\n",
      "                                   Cyber Bullying  Stalking  Sexting       0.45      0.59      0.51      1329\n",
      "                                                     Cyber Terrorism       0.00      0.00      0.00        51\n",
      "                             Damage to computer computer systems etc       0.00      0.00      0.00        36\n",
      "                                                   Data Breach/Theft       0.18      0.22      0.20       171\n",
      "                                DebitCredit Card FraudSim Swap Fraud       0.67      0.70      0.68      3091\n",
      "                                               DematDepository Fraud       0.33      0.01      0.02       218\n",
      "Denial of Service (DoS)/Distributed Denial of Service (DDOS) attacks       0.14      0.14      0.14       187\n",
      "                                                      EMail Phishing       0.00      0.00      0.00        54\n",
      "                                               EWallet Related Fraud       0.67      0.32      0.43      1299\n",
      "                                                       Email Hacking       0.48      0.25      0.32       130\n",
      "                                           FakeImpersonating Profile       0.46      0.41      0.43       745\n",
      "                                                   Fraud CallVishing       0.28      0.16      0.20      1792\n",
      "                                                  Hacking/Defacement       0.15      0.14      0.15       200\n",
      "                                                 Impersonating Email       0.00      0.00      0.00        13\n",
      "                                      Internet Banking Related Fraud       0.69      0.49      0.57      2589\n",
      "                                                  Intimidating Email       0.00      0.00      0.00        11\n",
      "                                                      Malware Attack       0.16      0.15      0.16       170\n",
      "                                            Online Gambling  Betting       0.00      0.00      0.00       133\n",
      "                                                    Online Job Fraud       0.28      0.20      0.23       290\n",
      "                                            Online Matrimonial Fraud       0.67      0.05      0.10        37\n",
      "                                                  Online Trafficking       0.00      0.00      0.00        61\n",
      "                                                               Other       0.32      0.37      0.34      3609\n",
      "                                      Profile Hacking Identity Theft       0.46      0.45      0.45       736\n",
      "                                Provocative Speech for unlawful acts       0.29      0.08      0.13       125\n",
      "                                                          Ransomware       0.60      0.33      0.43        18\n",
      "                                                   Ransomware Attack       0.16      0.17      0.16       186\n",
      "                           RapeGang Rape RGRSexually Abusive Content       0.52      0.17      0.26        86\n",
      "                                                       SQL Injection       0.15      0.16      0.15       167\n",
      "                                               Sexually Explicit Act       0.53      0.06      0.10       518\n",
      "                                           Sexually Obscene material       0.51      0.14      0.21       641\n",
      "                            Tampering with computer source documents       0.17      0.12      0.14       194\n",
      "                                                  UPI Related Frauds       0.52      0.81      0.63      6973\n",
      "                                      Unauthorised AccessData Breach       0.31      0.13      0.19       361\n",
      "                                           Website DefacementHacking       0.00      0.00      0.00        39\n",
      "\n",
      "                                                            accuracy                           0.48     27330\n",
      "                                                           macro avg       0.31      0.20      0.22     27330\n",
      "                                                        weighted avg       0.47      0.48      0.45     27330\n",
      "\n",
      "Model saved!\n",
      "3_rf_balanced_weights  : Training & testing completed in :  1.5382157246271768  minutes.\n",
      "\n"
     ]
    }
   ],
   "source": [
    "# AT SUB-CATEGORY LEVEL\n",
    "\n",
    "performance_summary_dict_sub = dict()\n",
    "\n",
    "for selected_ml_model_name, selected_ml_model in ml_models.items():\n",
    "    print(\"Running \", selected_ml_model_name, \" model.\")\n",
    "    start = time.time()\n",
    "    \n",
    "    # Set sampling_model = selected_sampling_model if sampling model is being used\n",
    "    # Set sampling_model = None if sampling model not being used\n",
    "    performance_summary_dict_sub[selected_ml_model_name] = run_model(training_data = df_train, testing_data = df_test,\n",
    "                                                        ml_model = selected_ml_model, ml_model_name = selected_ml_model_name,\n",
    "                                                        label='sub_category', sampling_model = None, one_hot_label = 'no', save_ml_model = 'yes')\n",
    "    \n",
    "    end = time.time()\n",
    "    print(selected_ml_model_name,\" : Training & testing completed in : \", (end-start)/60, \" minutes.\\n\")\n"
   ]
  },
  {
   "cell_type": "code",
   "execution_count": null,
   "id": "986c98aa-8af2-40fa-b54e-3489fab6abf6",
   "metadata": {},
   "outputs": [],
   "source": []
  },
  {
   "cell_type": "markdown",
   "id": "6b85db1e-43d5-4124-addb-04c3787e0627",
   "metadata": {
    "jp-MarkdownHeadingCollapsed": true
   },
   "source": [
    "# Explore Models"
   ]
  },
  {
   "cell_type": "code",
   "execution_count": 35,
   "id": "c8410589-b446-4c29-b4a2-cea4450d07d8",
   "metadata": {},
   "outputs": [],
   "source": [
    "\n",
    "#df_vectorized_train = pd.read_csv(filepath_or_buffer = os.path.join(\"Output Data\",\"06_vectorized_train_data.csv\"), sep = \",\", header = 0)\n",
    "#df_vectorized_test = pd.read_csv(filepath_or_buffer = os.path.join(\"Output Data\",\"06_vectorized_test_data.csv\"), sep = \",\", header = 0)"
   ]
  },
  {
   "cell_type": "markdown",
   "id": "a9d202fa-3260-46c3-8728-8e48c4f15c0c",
   "metadata": {},
   "source": [
    "##### Select y_label (category vs sub_category)"
   ]
  },
  {
   "cell_type": "code",
   "execution_count": 36,
   "id": "d6a59ab1-503a-429b-9743-7dd6628db4e9",
   "metadata": {},
   "outputs": [],
   "source": [
    "# Select model level (label = category OR sub_category)\n",
    "label = 'category'"
   ]
  },
  {
   "cell_type": "markdown",
   "id": "c249e758-4ab4-4e49-b39c-337f7667709b",
   "metadata": {},
   "source": [
    "##### Split full training dataset into 2 parts: Training set and Validation set"
   ]
  },
  {
   "cell_type": "code",
   "execution_count": 37,
   "id": "a5fca85f-7bea-4307-b399-5cfd1f6f071d",
   "metadata": {},
   "outputs": [],
   "source": [
    "# Training model to classify on CATEGORIES (not SUB_CATEGORIES)\n",
    "\n",
    "X = df_vectorized_train.iloc[:,9:]\n",
    "y = df_vectorized_train.loc[:,[label]]\n",
    "\n",
    "label_encoder = preprocessing.LabelEncoder()\n",
    "label_encoder.fit(y)\n",
    "\n",
    "y_encoded= label_encoder.transform(y)\n",
    "\n",
    "# DON'T change stratify to category even if you train model at category level (stratification at sub_category level is better to cover all type of reports)\n",
    "X_train, X_val, y_train, y_val = train_test_split(X, y_encoded, test_size=0.3, random_state=1, stratify=df_vectorized_train.loc[:,['sub_category']])"
   ]
  },
  {
   "cell_type": "markdown",
   "id": "30e5a5a1-9a17-4d7b-aa3f-9b0d11f4c906",
   "metadata": {},
   "source": [
    "##### Select sampling model to balance the training data"
   ]
  },
  {
   "cell_type": "code",
   "execution_count": 38,
   "id": "01a459ce-2072-4788-98b4-47960f51b559",
   "metadata": {},
   "outputs": [],
   "source": [
    "## Balancing training data\n",
    "\n",
    "#sampling_model = RandomOverSampler()\n",
    "#X_train, y_train = sampling_model.fit_resample(X_train, y_train)"
   ]
  },
  {
   "cell_type": "code",
   "execution_count": 39,
   "id": "86b8dcfb-e7a9-4423-9535-9b1e91bc333a",
   "metadata": {},
   "outputs": [
    {
     "data": {
      "text/plain": [
       "Counter({np.int64(7): 26747,\n",
       "         np.int64(9): 7151,\n",
       "         np.int64(0): 6437,\n",
       "         np.int64(3): 2523,\n",
       "         np.int64(13): 1075,\n",
       "         np.int64(5): 979,\n",
       "         np.int64(12): 914,\n",
       "         np.int64(2): 305,\n",
       "         np.int64(8): 272,\n",
       "         np.int64(1): 209,\n",
       "         np.int64(11): 146,\n",
       "         np.int64(6): 109,\n",
       "         np.int64(4): 102,\n",
       "         np.int64(10): 38})"
      ]
     },
     "execution_count": 39,
     "metadata": {},
     "output_type": "execute_result"
    }
   ],
   "source": [
    "# Record count for each label (category or sub-category)\n",
    "Counter(y_train)"
   ]
  },
  {
   "cell_type": "markdown",
   "id": "669046e8-8b71-43d8-bf62-92df3f4758ee",
   "metadata": {},
   "source": [
    "##### Encode target variable in test dataset"
   ]
  },
  {
   "cell_type": "code",
   "execution_count": 40,
   "id": "90dfb22b-60bb-49c9-88b1-71a026cfbe42",
   "metadata": {},
   "outputs": [],
   "source": [
    "## Preparing test data to check model performance\n",
    "\n",
    "df_vectorized_test_final = df_vectorized_test.query('category != \"Crime Against Women & Children\" & category != \"Report Unlawful Content\"').reset_index(drop=True)\n",
    "X_test = df_vectorized_test_final.iloc[:,9:]\n",
    "y_test = df_vectorized_test_final.loc[:,[label]] # To train on category / sub_category change the column to category / sub_category\n",
    "\n",
    "y_test_encoded= label_encoder.transform(y_test)"
   ]
  },
  {
   "cell_type": "markdown",
   "id": "469d1afa-bb16-42ff-8409-b799465f141a",
   "metadata": {},
   "source": [
    "##### One hot encoding of target variable"
   ]
  },
  {
   "cell_type": "code",
   "execution_count": 41,
   "id": "a8914b58-f883-4aab-a165-115d478cb944",
   "metadata": {},
   "outputs": [],
   "source": [
    "n_classes = max(y_encoded)+1\n",
    "\n",
    "Y_train_one_hot = to_categorical(y_train, n_classes)\n",
    "Y_val_one_hot = to_categorical(y_val, n_classes)\n",
    "\n",
    "Y_test_one_hot = to_categorical(y_test_encoded, n_classes)"
   ]
  },
  {
   "cell_type": "code",
   "execution_count": 42,
   "id": "68322ec4-d537-4142-947d-68e66d5bf0fa",
   "metadata": {},
   "outputs": [
    {
     "name": "stdout",
     "output_type": "stream",
     "text": [
      "Number of independent variables (X):  417\n",
      "Number of labels in dependent variable (Y):  14\n"
     ]
    }
   ],
   "source": [
    "print(\"Number of independent variables (X): \", X.shape[1])\n",
    "print(\"Number of labels in dependent variable (Y): \", Y_train_one_hot.shape[1])"
   ]
  },
  {
   "cell_type": "markdown",
   "id": "95cf309b-1b42-45e7-b869-5102c0862c95",
   "metadata": {},
   "source": [
    "##### Train model"
   ]
  },
  {
   "cell_type": "code",
   "execution_count": 31,
   "id": "c465b8eb-52e7-4e57-a1a5-f7a38c10026f",
   "metadata": {},
   "outputs": [],
   "source": [
    "# Try multiple models\n",
    "\n",
    "# (1) Linear Support Vector Machine (with balancing of weights)\n",
    "#model = LinearSVC(class_weight='balanced', random_state=1) #notice the “balanced” option to handle imbalanced dataset\n",
    "#model.fit(X_train, y_train) #fit the model with training data\n",
    "\n",
    "# (2) XG Boost\n",
    "model = XGBClassifier(random_state=1)\n",
    "model.fit(X_train, y_train) #fit the model with training data\n",
    "\n",
    "# (3) Random Forest (with balancing of weights)\n",
    "#model = RandomForestClassifier(class_weight='balanced', random_state=1)\n",
    "#model.fit(X_train, y_train) #fit the model with training data\n",
    "\n",
    "# (4) Linear Support Vector Machine (with no balancing of weights)\n",
    "#model = LinearSVC(random_state=1)\n",
    "#model.fit(X_train, y_train) #fit the model with training data\n",
    "\n",
    "# (5) Random Forest (with no balancing of weights)\n",
    "#model = RandomForestClassifier(random_state=1) # Same weightage to each category\n",
    "#model.fit(X_train, y_train) #fit the model with training data\n",
    "\n",
    "# (6) Neural network\n",
    "#layer_input = Input(shape = (X.shape[1],))\n",
    "#layer_1 = Dense(100, activation=\"relu\")(layer_input)\n",
    "#layer_output= Dense(Y_train_one_hot.shape[1], activation=\"softmax\")(layer_1)\n",
    "#model = Model(inputs=layer_input, outputs=layer_output)\n",
    "\n",
    "#model.summary()\n",
    "#model.compile(loss='categorical_crossentropy', metrics=['categorical_accuracy'], optimizer='adam') # categorical_accuracy is used for multi-class classification\n",
    "#model.fit(X_train, Y_train_one_hot, batch_size=100, epochs=10, validation_data=(X_val, Y_val_one_hot))\n",
    "\n",
    "# (7) Try using BERT\n",
    "# Code for BERT is at the end\n",
    "# Couldn't try BERT as laptop it requires more computation power than my laptop's (got Out of Memory error)"
   ]
  },
  {
   "cell_type": "markdown",
   "id": "337dd69f-188e-4984-82d0-d7be6fea1d4d",
   "metadata": {},
   "source": [
    "##### Load saved model (in case already saved)"
   ]
  },
  {
   "cell_type": "code",
   "execution_count": 43,
   "id": "2ba22ec0-cb48-40fe-9742-2f2d4d0bd288",
   "metadata": {},
   "outputs": [
    {
     "name": "stdout",
     "output_type": "stream",
     "text": [
      "Saved model loaded in memory\n"
     ]
    }
   ],
   "source": [
    "## Read key word list (binary file) to memory. So, 'rb' mode\n",
    "\n",
    "#model_file_name = \"2_xgb_no_weight_change.pkl\"\n",
    "\n",
    "#with open(os.path.join(\"Models\",label, model_file_name), 'rb') as file:\n",
    "#    model = pickle.load(file)\n",
    "#    file.close()\n",
    "\n",
    "#print('Saved model loaded in memory')"
   ]
  },
  {
   "cell_type": "markdown",
   "id": "1ac16727-cd7e-4e66-8ea0-4aebc9457d28",
   "metadata": {},
   "source": [
    "#### Performance on Training Set"
   ]
  },
  {
   "cell_type": "markdown",
   "id": "f3ca7564-6875-4d0f-b350-34a574d900c6",
   "metadata": {},
   "source": [
    "##### Generate predictions for training dataset"
   ]
  },
  {
   "cell_type": "code",
   "execution_count": 44,
   "id": "ef3d9f0a-3eb9-4b01-b29b-7ee3e42e9bc1",
   "metadata": {},
   "outputs": [],
   "source": [
    "y_pred_train = model.predict(X_train)\n",
    "\n",
    "## For neural network prediction\n",
    "#y_pred_train = np.argmax(y_pred_train, axis=1)"
   ]
  },
  {
   "cell_type": "code",
   "execution_count": 45,
   "id": "bae69d1d-eb8b-4d5b-bb21-50060671fb97",
   "metadata": {},
   "outputs": [
    {
     "name": "stdout",
     "output_type": "stream",
     "text": [
      "Accuracy (training):  0.8216648584253409\n",
      "F1-score (training):  0.805113411331101\n",
      "Precision (training):  0.8242674227903023\n",
      "Recall (training):  0.8216648584253409\n"
     ]
    }
   ],
   "source": [
    "print(\"Accuracy (training): \", accuracy_score(y_train, y_pred_train))\n",
    "print(\"F1-score (training): \", f1_score(y_train, y_pred_train, average='weighted')) \n",
    "print(\"Precision (training): \", precision_score(y_train, y_pred_train, average='weighted')) \n",
    "print(\"Recall (training): \", recall_score(y_train, y_pred_train, average='weighted'))"
   ]
  },
  {
   "cell_type": "code",
   "execution_count": 46,
   "id": "86cf8ffe-3f2f-4890-8a87-96e8a6b7a0e0",
   "metadata": {},
   "outputs": [
    {
     "name": "stdout",
     "output_type": "stream",
     "text": [
      "Classification Report based on training data:\n",
      "                                                       precision    recall  f1-score   support\n",
      "\n",
      "                               Any Other Cyber Crime       0.79      0.42      0.55      6437\n",
      "Child Pornography CPChild Sexual Abuse Material CSAM       0.94      0.74      0.83       209\n",
      "                                Cryptocurrency Crime       0.98      0.86      0.92       305\n",
      "                      Cyber Attack/ Dependent Crimes       1.00      1.00      1.00      2523\n",
      "                                     Cyber Terrorism       1.00      0.74      0.85       102\n",
      "      Hacking  Damage to computercomputer system etc       0.88      0.68      0.76       979\n",
      "                            Online Cyber Trafficking       1.00      0.28      0.43       109\n",
      "                              Online Financial Fraud       0.82      0.97      0.89     26747\n",
      "                            Online Gambling  Betting       1.00      0.40      0.58       272\n",
      "               Online and Social Media Related Crime       0.73      0.72      0.72      7151\n",
      "                                          Ransomware       1.00      0.97      0.99        38\n",
      "           RapeGang Rape RGRSexually Abusive Content       0.98      0.75      0.85       146\n",
      "                               Sexually Explicit Act       0.97      0.32      0.48       914\n",
      "                           Sexually Obscene material       0.95      0.45      0.61      1075\n",
      "\n",
      "                                            accuracy                           0.82     47007\n",
      "                                           macro avg       0.93      0.66      0.75     47007\n",
      "                                        weighted avg       0.82      0.82      0.81     47007\n",
      "\n"
     ]
    }
   ],
   "source": [
    "print(\"Classification Report based on training data:\\n\", classification_report(label_encoder.inverse_transform(y_train),label_encoder.inverse_transform(y_pred_train)))"
   ]
  },
  {
   "cell_type": "markdown",
   "id": "ca2c58ac-a8e8-4b04-8ac2-18b5dc6c3caa",
   "metadata": {},
   "source": [
    "#### Performance on Validation Set"
   ]
  },
  {
   "cell_type": "markdown",
   "id": "c79c4ee5-80ec-44bc-8d00-4b6d717f4640",
   "metadata": {},
   "source": [
    "##### Generate predictions for validation dataset"
   ]
  },
  {
   "cell_type": "code",
   "execution_count": 47,
   "id": "55e48edc-a0f0-4646-bd9f-6a367efcfe76",
   "metadata": {},
   "outputs": [],
   "source": [
    "y_pred = model.predict(X_val)\n",
    "\n",
    "## For neural network prediction\n",
    "#y_pred = np.argmax(y_pred, axis=1)"
   ]
  },
  {
   "cell_type": "markdown",
   "id": "c0e86b07-99ee-4911-9791-3e7e342cb1a0",
   "metadata": {},
   "source": [
    "##### Cross Validation Score"
   ]
  },
  {
   "cell_type": "code",
   "execution_count": 48,
   "id": "d0ba3ebe-9e09-4708-a82a-95a796313f83",
   "metadata": {},
   "outputs": [],
   "source": [
    "#print(cross_val_score(model, X_train, y_train, cv=5))"
   ]
  },
  {
   "cell_type": "markdown",
   "id": "b1734b05-8f78-4918-8788-1e1d28ca9afc",
   "metadata": {},
   "source": [
    "##### Performance on validation dataset"
   ]
  },
  {
   "cell_type": "code",
   "execution_count": 49,
   "id": "db5481f8-9282-4075-bf8e-ae3e034ed19d",
   "metadata": {},
   "outputs": [
    {
     "name": "stdout",
     "output_type": "stream",
     "text": [
      "Accuracy (validation):  0.718157450610543\n",
      "F1-score (validation):  0.6784544723518996\n",
      "Precision (validation):  0.6699002483719487\n",
      "Recall (validation):  0.718157450610543\n"
     ]
    }
   ],
   "source": [
    "print(\"Accuracy (validation): \", accuracy_score(y_val, y_pred))\n",
    "print(\"F1-score (validation): \", f1_score(y_val, y_pred, average='weighted')) \n",
    "print(\"Precision (validation): \", precision_score(y_val, y_pred, average='weighted')) \n",
    "print(\"Recall (validation): \", recall_score(y_val, y_pred, average='weighted'))"
   ]
  },
  {
   "cell_type": "markdown",
   "id": "2b38e771-a342-4a64-961d-2c20fc6dd5c0",
   "metadata": {},
   "source": [
    "##### Classification Report on validation dataset"
   ]
  },
  {
   "cell_type": "code",
   "execution_count": 50,
   "id": "ce8e8593-e406-4da6-9b86-38b9b54aad1e",
   "metadata": {},
   "outputs": [
    {
     "name": "stdout",
     "output_type": "stream",
     "text": [
      "Classification Report based on validation data:\n",
      "                                                       precision    recall  f1-score   support\n",
      "\n",
      "                               Any Other Cyber Crime       0.43      0.21      0.28      2759\n",
      "Child Pornography CPChild Sexual Abuse Material CSAM       0.55      0.20      0.29        90\n",
      "                                Cryptocurrency Crime       0.63      0.38      0.48       130\n",
      "                      Cyber Attack/ Dependent Crimes       1.00      1.00      1.00      1085\n",
      "                                     Cyber Terrorism       1.00      0.02      0.05        43\n",
      "      Hacking  Damage to computercomputer system etc       0.43      0.25      0.31       415\n",
      "                            Online Cyber Trafficking       0.00      0.00      0.00        47\n",
      "                              Online Financial Fraud       0.77      0.94      0.85     11465\n",
      "                            Online Gambling  Betting       0.25      0.01      0.02       116\n",
      "               Online and Social Media Related Crime       0.57      0.60      0.58      3065\n",
      "                                          Ransomware       0.00      0.00      0.00        16\n",
      "           RapeGang Rape RGRSexually Abusive Content       0.38      0.05      0.08        63\n",
      "                               Sexually Explicit Act       0.25      0.04      0.06       392\n",
      "                           Sexually Obscene material       0.28      0.08      0.13       460\n",
      "\n",
      "                                            accuracy                           0.72     20146\n",
      "                                           macro avg       0.47      0.27      0.30     20146\n",
      "                                        weighted avg       0.67      0.72      0.68     20146\n",
      "\n"
     ]
    }
   ],
   "source": [
    "print(\"Classification Report based on validation data:\\n\", classification_report(label_encoder.inverse_transform(y_val),label_encoder.inverse_transform(y_pred)))"
   ]
  },
  {
   "cell_type": "markdown",
   "id": "97c74014-13fe-449f-b474-4858ac62909f",
   "metadata": {},
   "source": [
    "##### Save Model"
   ]
  },
  {
   "cell_type": "code",
   "execution_count": 24,
   "id": "4e460a3b-a10d-4736-af8f-7f0d6318c3f4",
   "metadata": {},
   "outputs": [
    {
     "name": "stdout",
     "output_type": "stream",
     "text": [
      "Model saved!\n"
     ]
    }
   ],
   "source": [
    "model_pkl_file = \"2_xgb_no_weight_change.pkl\"  \n",
    "\n",
    "with open(os.path.join(\"Models\",label,model_pkl_file), 'wb') as file:\n",
    "    pickle.dump(model, file)\n",
    "\n",
    "print(\"Model saved!\")"
   ]
  },
  {
   "cell_type": "markdown",
   "id": "52a25162-192d-4884-b093-2e5fc8132205",
   "metadata": {},
   "source": [
    "#### Performance on Testing set"
   ]
  },
  {
   "cell_type": "markdown",
   "id": "2e3397d4-1690-4fab-8c06-780fe7150c2e",
   "metadata": {},
   "source": [
    "##### Genrate predictions for test dataset"
   ]
  },
  {
   "cell_type": "code",
   "execution_count": 51,
   "id": "30bf4dc0-ac9e-4954-ae89-7ca343280269",
   "metadata": {},
   "outputs": [],
   "source": [
    "y_pred_test = model.predict(X_test)\n",
    "\n",
    "## For neural network prediction\n",
    "#y_pred_test = np.argmax(y_pred_test, axis=1)"
   ]
  },
  {
   "cell_type": "markdown",
   "id": "79c2defc-fa45-46e4-81db-d4da536fb90c",
   "metadata": {},
   "source": [
    "##### Performance on test data"
   ]
  },
  {
   "cell_type": "code",
   "execution_count": 52,
   "id": "0fdb22ba-c928-4722-8537-87849fc366fd",
   "metadata": {},
   "outputs": [
    {
     "name": "stdout",
     "output_type": "stream",
     "text": [
      "Accuracy (test):  0.7217709476765459\n",
      "F1-score (test):  0.6822566025050162\n",
      "Precision (test):  0.6718559484246907\n",
      "Recall (test):  0.7217709476765459\n"
     ]
    }
   ],
   "source": [
    "print(\"Accuracy (test): \", accuracy_score(y_test_encoded,y_pred_test))\n",
    "print(\"F1-score (test): \", f1_score(y_test_encoded,y_pred_test, average='weighted')) \n",
    "print(\"Precision (test): \", precision_score(y_test_encoded,y_pred_test, average='weighted'))\n",
    "print(\"Recall (test): \", recall_score(y_test_encoded,y_pred_test, average='weighted'))"
   ]
  },
  {
   "cell_type": "markdown",
   "id": "bb95c62c-619d-4898-b788-b83cc70b5ac5",
   "metadata": {},
   "source": [
    "##### Classification Report on test dataset"
   ]
  },
  {
   "cell_type": "code",
   "execution_count": 53,
   "id": "db6f7f37-5a84-43e3-9390-5dc98c6cccce",
   "metadata": {},
   "outputs": [
    {
     "name": "stdout",
     "output_type": "stream",
     "text": [
      "Classification Report based on test data:\n",
      "                                                       precision    recall  f1-score   support\n",
      "\n",
      "                               Any Other Cyber Crime       0.43      0.21      0.28      3609\n",
      "Child Pornography CPChild Sexual Abuse Material CSAM       0.60      0.25      0.35       114\n",
      "                                Cryptocurrency Crime       0.59      0.40      0.48       162\n",
      "                      Cyber Attack/ Dependent Crimes       1.00      1.00      1.00      1261\n",
      "                                     Cyber Terrorism       0.00      0.00      0.00        51\n",
      "      Hacking  Damage to computercomputer system etc       0.39      0.24      0.30       580\n",
      "                            Online Cyber Trafficking       0.00      0.00      0.00        61\n",
      "                              Online Financial Fraud       0.77      0.94      0.85     16051\n",
      "                            Online Gambling  Betting       0.00      0.00      0.00       133\n",
      "               Online and Social Media Related Crime       0.57      0.57      0.57      4045\n",
      "                                          Ransomware       0.62      0.28      0.38        18\n",
      "           RapeGang Rape RGRSexually Abusive Content       0.45      0.15      0.23        86\n",
      "                               Sexually Explicit Act       0.23      0.03      0.05       518\n",
      "                           Sexually Obscene material       0.41      0.09      0.15       641\n",
      "\n",
      "                                            accuracy                           0.72     27330\n",
      "                                           macro avg       0.43      0.30      0.33     27330\n",
      "                                        weighted avg       0.67      0.72      0.68     27330\n",
      "\n"
     ]
    }
   ],
   "source": [
    "print(\"Classification Report based on test data:\\n\", classification_report(y_test,label_encoder.inverse_transform(y_pred_test)))"
   ]
  },
  {
   "cell_type": "code",
   "execution_count": 54,
   "id": "0ae8d64f-03d3-4bfc-a2a6-79017fc2f97d",
   "metadata": {},
   "outputs": [],
   "source": [
    "test_predicted_labels = label_encoder.inverse_transform(y_pred_test)"
   ]
  },
  {
   "cell_type": "code",
   "execution_count": 55,
   "id": "a86b5b6c-1393-4737-920f-6d1ae0008009",
   "metadata": {},
   "outputs": [],
   "source": [
    "test_predicted_labels = pd.DataFrame(test_predicted_labels, columns =['predicted_label'])"
   ]
  },
  {
   "cell_type": "code",
   "execution_count": 58,
   "id": "c44194e5-c4e9-4b6c-98ff-5445481fa1dd",
   "metadata": {},
   "outputs": [],
   "source": [
    "df_for_analysis = pd.concat([df_vectorized_test_final, test_predicted_labels], axis=1)"
   ]
  },
  {
   "cell_type": "code",
   "execution_count": 59,
   "id": "ed89bf66-bf62-4e95-9307-4b2c0871668f",
   "metadata": {},
   "outputs": [],
   "source": [
    "# For category level predictions\n",
    "df_for_analysis.to_csv(os.path.join(\"Output Data\",\"98_test_data_xgb_predicted_cat_labels.csv\"), index=False)\n",
    "\n",
    "## For sub_category level predictions\n",
    "#df_for_analysis.to_csv(os.path.join(\"Output Data\",\"98_test_data_xgb_predicted_subcat_labels.csv\"), index=False)"
   ]
  },
  {
   "cell_type": "markdown",
   "id": "0cb46832-dadc-49d1-bba5-4c16e6b920fe",
   "metadata": {},
   "source": [
    "#### Explore features (for XG Boost Model)"
   ]
  },
  {
   "cell_type": "markdown",
   "id": "e24caa67-d37a-456b-b851-cc65840b1d36",
   "metadata": {},
   "source": [
    "##### Saving Feature Importance (It will work for Random Forest & XGBoost)"
   ]
  },
  {
   "cell_type": "code",
   "execution_count": 60,
   "id": "73dd218e-a7b4-4754-8d2d-95d20117d627",
   "metadata": {},
   "outputs": [],
   "source": [
    "feat_imp = pd.DataFrame({'feature': X_train.columns, 'importance': model.feature_importances_})\n",
    "feat_imp = feat_imp.sort_values('importance', ascending=False)"
   ]
  },
  {
   "cell_type": "code",
   "execution_count": 61,
   "id": "73e31cb9-7cd4-4a13-989d-13168394a0eb",
   "metadata": {},
   "outputs": [],
   "source": [
    "# For category\n",
    "feat_imp.to_csv(os.path.join(\"Output Data\",\"97_feature_importance_xgb_cat.csv\"), index=False)\n",
    "\n",
    "## For sub-category\n",
    "#feat_imp.to_csv(os.path.join(\"Output Data\",\"97_feature_importance_xgb_sub_cat.csv\"), index=False)"
   ]
  },
  {
   "cell_type": "markdown",
   "id": "06e85442-5c92-41c5-a5c1-4bb22d6b28ea",
   "metadata": {},
   "source": [
    "##### Visualize feature importance (It will work for XGBoost only)"
   ]
  },
  {
   "cell_type": "code",
   "execution_count": 62,
   "id": "96329086-eb20-4ade-b59f-fca1591fa8f3",
   "metadata": {},
   "outputs": [
    {
     "data": {
      "image/png": "[encoded data removed]",
      "text/plain": [
       "<Figure size 1000x600 with 1 Axes>"
      ]
     },
     "metadata": {},
     "output_type": "display_data"
    }
   ],
   "source": [
    "# Set the number of top features to plot\n",
    "\n",
    "top_n = 30\n",
    "\n",
    "# Plot feature importance with feature names\n",
    "\n",
    "fig, ax = plt.subplots(figsize=(10, 6))\n",
    "plot_importance(model, ax=ax, importance_type='gain',max_num_features=top_n, show_values=False)\n",
    "\n",
    "plt.xlabel('Gain')\n",
    "plt.title(f'Top {top_n} Most Important Features')\n",
    "plt.show()"
   ]
  },
  {
   "cell_type": "code",
   "execution_count": null,
   "id": "11fed84b-3e24-4437-b875-9bda9578c476",
   "metadata": {},
   "outputs": [],
   "source": []
  },
  {
   "cell_type": "markdown",
   "id": "39464881-9e4a-4abd-ba4d-4703f2130e0e",
   "metadata": {
    "jp-MarkdownHeadingCollapsed": true
   },
   "source": [
    "# Trying BERT (Ignore this: Went out of memory)"
   ]
  },
  {
   "cell_type": "code",
   "execution_count": 2,
   "id": "3f4d7a8d-a64d-448b-9a20-46a2958752c2",
   "metadata": {},
   "outputs": [],
   "source": [
    "\n",
    "#df_preprocessed_final = pd.read_csv(filepath_or_buffer = os.path.join(\"Output Data\",\"03_preprocessed_train_data_final.csv\"), sep = \",\", header = 0)\n",
    "#df_preprocessed_test_final = pd.read_csv(filepath_or_buffer = os.path.join(\"Output Data\",\"03_preprocessed_test_data_final.csv\"), sep = \",\", header = 0)"
   ]
  },
  {
   "cell_type": "code",
   "execution_count": 8,
   "id": "0084becd-b2d3-4bce-97f7-7334b229fd38",
   "metadata": {},
   "outputs": [],
   "source": [
    "\n",
    "#df_preprocessed_bert = copy.deepcopy(df_preprocessed_final)\n",
    "#df_preprocessed_bert = df_preprocessed_bert[['report_aft_swr_lem','category','sub_category']].drop_duplicates().reset_index(drop=True)"
   ]
  },
  {
   "cell_type": "markdown",
   "id": "41507515-9bc6-4d93-8940-683ab2d1c35a",
   "metadata": {},
   "source": [
    "##### Select target label (category or sub_category)"
   ]
  },
  {
   "cell_type": "code",
   "execution_count": 5,
   "id": "664d59ff-d56e-4971-80f7-9275578a59e8",
   "metadata": {},
   "outputs": [],
   "source": [
    "#label_col = 'category'"
   ]
  },
  {
   "cell_type": "code",
   "execution_count": 6,
   "id": "f8ba5b7c-9e6c-4ad8-85f5-e688dee9b377",
   "metadata": {},
   "outputs": [],
   "source": [
    "#label_encoded_col = label+'_encoded'"
   ]
  },
  {
   "cell_type": "markdown",
   "id": "01568efa-9933-42da-9ab4-4b7c26de1d8f",
   "metadata": {},
   "source": [
    "##### Create training and validation set split"
   ]
  },
  {
   "cell_type": "code",
   "execution_count": 3,
   "id": "7df0ef93-ef52-454a-bea5-264716b1791d",
   "metadata": {},
   "outputs": [
    {
     "name": "stderr",
     "output_type": "stream",
     "text": [
      "C:\\Users\\AbhinavSaxenaAdaptfy\\anaconda3\\envs\\my_ds_laboratory\\Lib\\site-packages\\sklearn\\preprocessing\\_label.py:114: DataConversionWarning: A column-vector y was passed when a 1d array was expected. Please change the shape of y to (n_samples, ), for example using ravel().\n",
      "  y = column_or_1d(y, warn=True)\n"
     ]
    }
   ],
   "source": [
    "#label_encoder_b = preprocessing.LabelEncoder()\n",
    "\n",
    "#df_preprocessed_bert[label_encoded_col] = label_encoder_b.fit_transform(df_preprocessed_bert.loc[:,[label_col]]) \n",
    "\n",
    "## DON'T change stratify to category even if you train model at category level (stratification at sub_category level is better to cover all type of reports)\n",
    "#train_b, val_b = train_test_split(df_preprocessed_bert, test_size=0.3, random_state=1, stratify=df_preprocessed_bert.loc[:,['sub_category']])\n"
   ]
  },
  {
   "cell_type": "code",
   "execution_count": 4,
   "id": "28013ad4-6616-411c-9450-a99b8a460c6e",
   "metadata": {},
   "outputs": [],
   "source": [
    "#train_b = train_b.reset_index(drop=True)\n",
    "#val_b = val_b.reset_index(drop=True)"
   ]
  },
  {
   "cell_type": "markdown",
   "id": "db25c6a6-5b49-4897-8fa9-7a026334a3b4",
   "metadata": {},
   "source": [
    "##### Load BERT tokenizer and pre-trained model"
   ]
  },
  {
   "cell_type": "code",
   "execution_count": 5,
   "id": "ab41450b-65f7-43f8-8415-3fde3196f25c",
   "metadata": {},
   "outputs": [
    {
     "name": "stdout",
     "output_type": "stream",
     "text": [
      "WARNING:tensorflow:From C:\\Users\\AbhinavSaxenaAdaptfy\\anaconda3\\envs\\my_ds_laboratory\\Lib\\site-packages\\tf_keras\\src\\losses.py:2976: The name tf.losses.sparse_softmax_cross_entropy is deprecated. Please use tf.compat.v1.losses.sparse_softmax_cross_entropy instead.\n",
      "\n",
      "WARNING:tensorflow:From C:\\Users\\AbhinavSaxenaAdaptfy\\anaconda3\\envs\\my_ds_laboratory\\Lib\\site-packages\\tf_keras\\src\\backend.py:873: The name tf.get_default_graph is deprecated. Please use tf.compat.v1.get_default_graph instead.\n",
      "\n"
     ]
    },
    {
     "name": "stderr",
     "output_type": "stream",
     "text": [
      "Some weights of the PyTorch model were not used when initializing the TF 2.0 model TFBertModel: ['cls.predictions.transform.LayerNorm.weight', 'cls.predictions.bias', 'cls.predictions.transform.LayerNorm.bias', 'cls.seq_relationship.bias', 'cls.predictions.transform.dense.bias', 'cls.seq_relationship.weight', 'cls.predictions.transform.dense.weight']\n",
      "- This IS expected if you are initializing TFBertModel from a PyTorch model trained on another task or with another architecture (e.g. initializing a TFBertForSequenceClassification model from a BertForPreTraining model).\n",
      "- This IS NOT expected if you are initializing TFBertModel from a PyTorch model that you expect to be exactly identical (e.g. initializing a TFBertForSequenceClassification model from a BertForSequenceClassification model).\n",
      "All the weights of TFBertModel were initialized from the PyTorch model.\n",
      "If your task is similar to the task the model of the checkpoint was trained on, you can already use TFBertModel for predictions without further training.\n"
     ]
    }
   ],
   "source": [
    "#model_name = 'bert-base-uncased'\n",
    "#tokenizer = AutoTokenizer.from_pretrained(model_name)\n",
    "#bert = TFAutoModel.from_pretrained(model_name)"
   ]
  },
  {
   "cell_type": "markdown",
   "id": "89abecb0-39a2-41ac-a9a1-5845d3016d51",
   "metadata": {},
   "source": [
    "##### Tokenize training and validation sets (It will give inputs ids & attention masks)"
   ]
  },
  {
   "cell_type": "code",
   "execution_count": 6,
   "id": "76ba5401-7a61-4fd0-a4c6-76189a0aace9",
   "metadata": {},
   "outputs": [],
   "source": [
    "#token_size = 50 # Think of what potential length should be enough to capture the text (everything after that will be truncated)"
   ]
  },
  {
   "cell_type": "code",
   "execution_count": 7,
   "id": "7e79aabe-02f8-4064-8386-832e8c1c037c",
   "metadata": {},
   "outputs": [
    {
     "name": "stdout",
     "output_type": "stream",
     "text": [
      "Getting input_ids and attention_mask from training & validation data took:  0.1636750896771749  minutes\n"
     ]
    }
   ],
   "source": [
    "#start = time.time()\n",
    "\n",
    "#X_train_b = tokenizer(\n",
    "#    text=train_b['report_aft_swr_lem'].tolist(),\n",
    "#    add_special_tokens=True,\n",
    "#    max_length=token_size,\n",
    "#    truncation=True,\n",
    "#    padding=True, \n",
    "#    return_tensors='tf',\n",
    "#    return_token_type_ids = False,\n",
    "#    return_attention_mask = True,\n",
    "#    verbose = True)\n",
    "#X_val_b = tokenizer(\n",
    "#    text=val_b['report_aft_swr_lem'].tolist(),\n",
    "#    add_special_tokens=True,\n",
    "#    max_length=token_size,\n",
    "#    truncation=True,\n",
    "#    padding=True, \n",
    "#    return_tensors='tf',\n",
    "#    return_token_type_ids = False,\n",
    "#    return_attention_mask = True,\n",
    "#    verbose = True)\n",
    "\n",
    "#end = time.time()\n",
    "\n",
    "#print(\"Getting input_ids and attention_mask from training & validation data took: \", (end-start)/60, \" minutes\")"
   ]
  },
  {
   "cell_type": "code",
   "execution_count": 8,
   "id": "12831cf0-2ffc-4bdd-97f8-a534658baaa7",
   "metadata": {},
   "outputs": [],
   "source": [
    "#X_train_input_ids = X_train_b['input_ids']\n",
    "#X_train_attention_mask = X_train_b['attention_mask']"
   ]
  },
  {
   "cell_type": "markdown",
   "id": "15925b34-1dd5-4b89-8379-3b644c0591c6",
   "metadata": {},
   "source": [
    "##### Convert label column (category or sub_category) to one hot encoding"
   ]
  },
  {
   "cell_type": "code",
   "execution_count": 9,
   "id": "4ede50be-9a58-4821-8196-39579c039702",
   "metadata": {},
   "outputs": [],
   "source": [
    "#n_classes_b = max(train_b[label_encoded_col].values)+1\n",
    "\n",
    "#train_label_one_hot = to_categorical(train_b[label_encoded_col], n_classes_b)\n",
    "#val_label_one_hot = to_categorical(val_b[label_encoded_col], n_classes_b)"
   ]
  },
  {
   "cell_type": "markdown",
   "id": "42ddc152-8594-4092-9504-5238c271748f",
   "metadata": {},
   "source": [
    "##### Use pre-trained BERT and train additional layers for classification"
   ]
  },
  {
   "cell_type": "code",
   "execution_count": 10,
   "id": "2733a192-4f2c-49c9-b32e-b85112536564",
   "metadata": {},
   "outputs": [
    {
     "name": "stdout",
     "output_type": "stream",
     "text": [
      "Model: \"tf_bert_model\"\n",
      "_________________________________________________________________\n",
      " Layer (type)                Output Shape              Param #   \n",
      "=================================================================\n",
      " bert (TFBertMainLayer)      multiple                  109482240 \n",
      "                                                                 \n",
      "=================================================================\n",
      "Total params: 109482240 (417.64 MB)\n",
      "Trainable params: 109482240 (417.64 MB)\n",
      "Non-trainable params: 0 (0.00 Byte)\n",
      "_________________________________________________________________\n"
     ]
    }
   ],
   "source": [
    "#bert.summary()"
   ]
  },
  {
   "cell_type": "code",
   "execution_count": null,
   "id": "6be8fe30-1847-4317-b352-32efe8243cdb",
   "metadata": {},
   "outputs": [],
   "source": [
    "## Building BERT Model\n",
    "\n",
    "#start = time.time()\n",
    "\n",
    "#embeddings = bert(X_train_input_ids,attention_mask = X_train_attention_mask)[0] # This requires high computational power (It may give 'Out of Memory Error')\n",
    "#out = GlobalMaxPool1D()(embeddings)\n",
    "#out = Dense(128, activation='relu')(out)\n",
    "#out = Dropout(0.1)(out)\n",
    "#out = Dense(32,activation = 'relu')(out)\n",
    "#y_layer = Dense(n_classes_b,activation = 'softmax')(out)\n",
    "#model = Model(inputs=[input_ids, input_mask], outputs=y_layer)\n",
    "#model.layers[2].trainable = True\n",
    "\n",
    "#end = time.time()\n",
    "\n",
    "#print(\"Building BERT model took: \", (end-start)/60, \" minutes\")"
   ]
  },
  {
   "cell_type": "code",
   "execution_count": null,
   "id": "5be1956d-861a-4a0c-90cf-e386a454130b",
   "metadata": {},
   "outputs": [],
   "source": [
    "## Compile the model\n",
    "## this learning rate is for bert model , taken from huggingface website\n",
    "\n",
    "#model.compile(optimizer = optimizer = Adam(learning_rate=5e-05, epsilon=1e-08, decay=0.01, clipnorm=1.0), loss = CategoricalCrossentropy(from_logits = True), metrics = CategoricalAccuracy('balanced_accuracy'))"
   ]
  },
  {
   "cell_type": "code",
   "execution_count": null,
   "id": "0a3eb3c0-505d-493e-a5be-26f5f642295f",
   "metadata": {},
   "outputs": [],
   "source": [
    "#train_history = model.fit(\n",
    "#    x ={'input_ids':X_train_input_ids,'attention_mask':X_train_attention_mask}, y = train_label_one_hot,\n",
    "#    validation_data = (\n",
    "#    {'input_ids':X_val_input_ids,'attention_mask':X_val_attention_mask}, val_label_one_hot\n",
    "#    ), epochs=1, batch_size=36\n",
    "#    )"
   ]
  },
  {
   "cell_type": "markdown",
   "id": "6a1f4ae2-9853-4e4f-b22f-902a6b7d89c4",
   "metadata": {},
   "source": [
    "##### Generate Predictions for validation dataset"
   ]
  },
  {
   "cell_type": "code",
   "execution_count": null,
   "id": "e60d1a92-0010-4ef3-936d-cd10855d5fe4",
   "metadata": {},
   "outputs": [],
   "source": [
    "#y_pred_b = model.predict({'input_ids':X_val_input_ids,'attention_mask':X_val_attention_mask})"
   ]
  },
  {
   "cell_type": "code",
   "execution_count": null,
   "id": "d9358990-d339-4ac3-9663-b1472b21d9b8",
   "metadata": {},
   "outputs": [],
   "source": [
    "#print(classification_report(val_b[label_encoded_col],np.argmax(y_pred_b, axis=1)))"
   ]
  },
  {
   "cell_type": "markdown",
   "id": "ce291866-47b2-4460-9107-6d03196a1de4",
   "metadata": {},
   "source": [
    "##### Prepare test data set for evaluation"
   ]
  },
  {
   "cell_type": "code",
   "execution_count": null,
   "id": "273a8614-fe1b-49c5-b875-d0ae676447b8",
   "metadata": {},
   "outputs": [],
   "source": [
    "## Generating test_b\n",
    "\n",
    "#test_b = copy.deepcopy(df_preprocessed_test_final)\n",
    "#test_b = test_b.query('category != \"Crime Against Women & Children\" & category != \"Report Unlawful Content\" & major_language==\"en\"')[['report_aft_swr_lem','category','sub_category']].reset_index(drop=True)\n",
    "\n",
    "#test_b[label_encoded_col] = label_encoder_b.transform(test_b.loc[:,[label_col]])"
   ]
  },
  {
   "cell_type": "code",
   "execution_count": null,
   "id": "ea8e5a23-d462-4c39-892c-be45ad87a978",
   "metadata": {},
   "outputs": [],
   "source": [
    "## Generating X_test_input_ids and X_test_attention_mask\n",
    "\n",
    "#X_test_b = tokenizer(\n",
    "#    text=test_b['report_aft_swr_lem'].tolist(),\n",
    "#    add_special_tokens=True,\n",
    "#    max_length=token_size,\n",
    "#    truncation=True,\n",
    "#    padding=True, \n",
    "#    return_tensors='tf',\n",
    "#    return_token_type_ids = False,\n",
    "#    return_attention_mask = True,\n",
    "#    verbose = True)\n",
    "\n",
    "#X_test_input_ids = X_test_b['input_ids']\n",
    "#X_test_attention_mask = X_test_b['attention_mask']\n",
    "\n",
    "#test_label_one_hot = to_categorical(test_b[label_encoded_col], n_classes_b)"
   ]
  },
  {
   "cell_type": "markdown",
   "id": "9201e2e4-8798-4e05-bbb8-7f67f69936b6",
   "metadata": {},
   "source": [
    "##### Generate Predictions for validation dataset"
   ]
  },
  {
   "cell_type": "code",
   "execution_count": null,
   "id": "4039f7b0-69d0-4ef2-9c31-1606d83e7677",
   "metadata": {},
   "outputs": [],
   "source": [
    "#y_pred_test_b = model.predict({'input_ids':X_test_input_ids,'attention_mask':X_test_attention_mask})"
   ]
  },
  {
   "cell_type": "code",
   "execution_count": null,
   "id": "e0ae3953-d94b-4532-a3c5-80a9a989fdb5",
   "metadata": {},
   "outputs": [],
   "source": [
    "#print(classification_report(test_b[label_encoded_col],np.argmax(y_pred_test_b, axis=1)))"
   ]
  },
  {
   "cell_type": "code",
   "execution_count": null,
   "id": "de968e6a-063e-4228-a3b9-694a44d063d7",
   "metadata": {},
   "outputs": [],
   "source": []
  },
  {
   "cell_type": "code",
   "execution_count": 17,
   "id": "cb2272b5-facf-4832-a8af-0c6a61799c9d",
   "metadata": {},
   "outputs": [
    {
     "data": {
      "text/plain": [
       "<tf.Tensor: shape=(55139, 512), dtype=int32, numpy=\n",
       "array([[  101, 20587,  6727, ...,     0,     0,     0],\n",
       "       [  101,  9768,  2909, ...,     0,     0,     0],\n",
       "       [  101,  2026,  2767, ...,     0,     0,     0],\n",
       "       ...,\n",
       "       [  101,  9861,  2083, ...,     0,     0,     0],\n",
       "       [  101,  3784,  9861, ...,     0,     0,     0],\n",
       "       [  101,  1045,  2031, ...,     0,     0,     0]], dtype=int32)>"
      ]
     },
     "execution_count": 17,
     "metadata": {},
     "output_type": "execute_result"
    }
   ],
   "source": [
    "#X_train_input_ids"
   ]
  },
  {
   "cell_type": "code",
   "execution_count": null,
   "id": "cf9e8c92-caf1-4560-a56d-9c2281264111",
   "metadata": {},
   "outputs": [],
   "source": []
  },
  {
   "cell_type": "code",
   "execution_count": null,
   "id": "d2654bdc-5de0-476d-81f1-917e2504d5ec",
   "metadata": {},
   "outputs": [],
   "source": []
  },
  {
   "cell_type": "markdown",
   "id": "e8699004-3623-474d-b528-fb544ebef9f3",
   "metadata": {},
   "source": [
    "# Steps"
   ]
  },
  {
   "cell_type": "code",
   "execution_count": 44,
   "id": "7fe27143-7609-42ad-9648-d4f7051707a9",
   "metadata": {},
   "outputs": [],
   "source": [
    "# TRIED (in stage 1):\n",
    "\n",
    "#(0) Understand & explore data - Done\n",
    "#(1) Try other models (XGB, RF, NN) on TF-IDF vectors - Done\n",
    "#(2) Try BERT classification - Done (Out of memory)\n",
    "#(3) Try all models after balancing dataset - Done\n",
    "#(4) Check importance of features/words\n",
    "#(5) Improve key-word list / Handle over-fitting - Partially done (considered top 75 key words from each sub-category to prepare feature list)\n",
    "#(6) Test entire notebook - Done (Running Successfully)\n",
    "\n",
    "# XG Boost Model is working best so far"
   ]
  },
  {
   "cell_type": "code",
   "execution_count": null,
   "id": "4a65b82f-ea1a-40f4-a67f-a892e22cd2ec",
   "metadata": {},
   "outputs": [],
   "source": [
    "# NEXT (for stage 2):\n",
    "\n",
    "#(1) Agree with hackathon team on category / sub-category definitions & mapping\n",
    "#(2) Explore available attachments\n",
    "#(3) Adjust features / keywords based on agreed definitions & info. extracted from attachments\n",
    "#(4) Fine-tune XG Boost to improve model performance\n",
    "#(5) Create separate training & inference pipelines\n",
    "#(6) Test model on real time reports\n",
    "#(5) Prepare deployment plan"
   ]
  },
  {
   "cell_type": "code",
   "execution_count": null,
   "id": "2cb9cb22-3035-4987-ad77-8941b8196e1a",
   "metadata": {},
   "outputs": [],
   "source": []
  },
  {
   "cell_type": "code",
   "execution_count": null,
   "id": "f836d065-a0dc-48a0-af8b-45f73b5f41a1",
   "metadata": {},
   "outputs": [],
   "source": []
  }
 ],
 "metadata": {
  "kernelspec": {
   "display_name": "Python 3 (ipykernel)",
   "language": "python",
   "name": "python3"
  },
  "language_info": {
   "codemirror_mode": {
    "name": "ipython",
    "version": 3
   },
   "file_extension": ".py",
   "mimetype": "text/x-python",
   "name": "python",
   "nbconvert_exporter": "python",
   "pygments_lexer": "ipython3",
   "version": "3.11.10"
  }
 },
 "nbformat": 4,
 "nbformat_minor": 5
}
