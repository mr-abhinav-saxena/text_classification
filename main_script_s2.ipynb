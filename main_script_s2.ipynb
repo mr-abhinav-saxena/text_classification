{
 "cells": [
  {
   "cell_type": "markdown",
   "id": "bbb1ff00-c14c-4208-963f-01f3ed127172",
   "metadata": {
    "jp-MarkdownHeadingCollapsed": true
   },
   "source": [
    "# Setup"
   ]
  },
  {
   "cell_type": "markdown",
   "id": "60d942d1-427a-4abf-a6dd-c399ff0ecdc0",
   "metadata": {},
   "source": [
    "### Run this cell only one time (For installation of required packages)"
   ]
  },
  {
   "cell_type": "code",
   "execution_count": 1,
   "id": "c572cd2d-1241-429b-8812-9cde1379eccd",
   "metadata": {},
   "outputs": [],
   "source": [
    "pip install -r required_packages.txt"
   ]
  },
  {
   "cell_type": "markdown",
   "id": "b718a9e7-7296-4d80-970a-e135828f275a",
   "metadata": {},
   "source": [
    "### Run this cell only one time (Requires human intevention for one time download of NLTK data)"
   ]
  },
  {
   "cell_type": "code",
   "execution_count": 2,
   "id": "cfd61153-d45d-4fca-8f9c-d7a871c0572f",
   "metadata": {},
   "outputs": [],
   "source": [
    "# Run this is only one time as it will download nltk data and will not require downloading again\n",
    "\n",
    "import nltk\n",
    "nltk.download()  # This will open a pop-up window for installation of NLTK data in few seconds (follow the steps in the installation window)"
   ]
  },
  {
   "cell_type": "code",
   "execution_count": 1,
   "id": "32bff629-bc2c-4ed8-9549-f66f8e3f0142",
   "metadata": {},
   "outputs": [],
   "source": [
    "# Gereral\n",
    "import os\n",
    "\n",
    "import numpy as np\n",
    "import pandas as pd\n",
    "import datetime as dt\n",
    "import time\n",
    "import copy\n",
    "import pickle\n",
    "import warnings\n",
    "warnings.simplefilter(\"ignore\")\n",
    "\n",
    "# Exploration\n",
    "import matplotlib.pyplot as plt\n",
    "import seaborn as sns\n",
    "import wordcloud\n",
    "from wordcloud import WordCloud\n",
    "\n",
    "# NLP\n",
    "import re\n",
    "import nltk\n",
    "\n",
    "from nltk.corpus import stopwords\n",
    "from nltk.tag import pos_tag\n",
    "from spello.model import SpellCorrectionModel\n",
    "from langdetect import detect, detect_langs\n",
    "\n",
    "# ML\n",
    "from sklearn.pipeline import Pipeline\n",
    "from sklearn import preprocessing\n",
    "from sklearn.feature_extraction.text import TfidfVectorizer, CountVectorizer, TfidfTransformer\n",
    "from sklearn.model_selection import train_test_split\n",
    "from sklearn.svm import LinearSVC\n",
    "from sklearn.ensemble import RandomForestClassifier\n",
    "from xgboost import XGBClassifier, plot_importance\n",
    "from sklearn.metrics import classification_report, accuracy_score, f1_score, precision_score, recall_score\n",
    "from sklearn.model_selection import cross_val_score\n",
    "\n",
    "from collections import Counter\n",
    "\n",
    "from imblearn.over_sampling import RandomOverSampler, SMOTE, KMeansSMOTE , ADASYN,SVMSMOTE,KMeansSMOTE,BorderlineSMOTE\n",
    "from imblearn.combine import SMOTEENN, SMOTETomek\n",
    "from imblearn.metrics import classification_report_imbalanced\n",
    "\n",
    "\n",
    "from transformers import AutoTokenizer, TFAutoModel\n",
    "\n",
    "import tensorflow as tf\n",
    "from tensorflow.keras.utils import to_categorical\n",
    "from tensorflow.keras import Model\n",
    "from tensorflow.keras.models import Sequential\n",
    "from tensorflow.keras.layers import Dense, Dropout, GlobalMaxPool1D, Input #, InputLayer\n",
    "\n",
    "from tensorflow.keras.optimizers import Adam\n",
    "from tensorflow.keras.callbacks import EarlyStopping\n",
    "from tensorflow.keras.initializers import TruncatedNormal\n",
    "from tensorflow.keras.losses import CategoricalCrossentropy\n",
    "from tensorflow.keras.metrics import CategoricalAccuracy\n",
    "\n",
    "# For pre-trained word2vec & cosine similarity calculation\n",
    "from gensim.models import KeyedVectors\n",
    "from numpy.linalg import norm\n",
    "\n"
   ]
  },
  {
   "cell_type": "markdown",
   "id": "cdadc528-d083-42e2-8910-25b426560e9b",
   "metadata": {
    "jp-MarkdownHeadingCollapsed": true
   },
   "source": [
    "# Load Data"
   ]
  },
  {
   "cell_type": "code",
   "execution_count": 2,
   "id": "568e455d-e5d8-4ae5-8f66-8d6a145c3aec",
   "metadata": {},
   "outputs": [
    {
     "data": {
      "text/plain": [
       "'C:\\\\Users\\\\AbhinavSaxenaAdaptfy\\\\Downloads\\\\Testing\\\\Codebase'"
      ]
     },
     "execution_count": 2,
     "metadata": {},
     "output_type": "execute_result"
    }
   ],
   "source": [
    "os.getcwd()"
   ]
  },
  {
   "cell_type": "code",
   "execution_count": 3,
   "id": "a02757ed-43f0-4551-a391-5efa334397cf",
   "metadata": {},
   "outputs": [],
   "source": [
    "train_path = os.path.join(\"Input Data\",\"train.csv\")\n",
    "test_path = os.path.join(\"Input Data\",\"test.csv\")"
   ]
  },
  {
   "cell_type": "code",
   "execution_count": 4,
   "id": "f0fb87b8-12e7-4184-bdba-e0d3ab9a22af",
   "metadata": {},
   "outputs": [],
   "source": [
    "# Load data\n",
    "def load_data():\n",
    "    data_train = pd.read_csv(filepath_or_buffer = train_path, sep = \",\", header = 0)\n",
    "    data_test = pd.read_csv(filepath_or_buffer = test_path, sep = \",\", header = 0)\n",
    "    return data_train, data_test"
   ]
  },
  {
   "cell_type": "code",
   "execution_count": 5,
   "id": "c51c14a0-71c6-48e6-a4aa-f4fd233adbca",
   "metadata": {},
   "outputs": [],
   "source": [
    "data_train, data_test = load_data()"
   ]
  },
  {
   "cell_type": "markdown",
   "id": "1709d593-469d-4b71-bd04-74e3ba69a8f9",
   "metadata": {
    "jp-MarkdownHeadingCollapsed": true
   },
   "source": [
    "# EDA (Before Data Cleaning)"
   ]
  },
  {
   "cell_type": "markdown",
   "id": "3dc79c24-c90a-4093-948c-9b470c1cfc70",
   "metadata": {},
   "source": [
    "##### Let's look at the structure of the data"
   ]
  },
  {
   "cell_type": "code",
   "execution_count": 6,
   "id": "c0b3a7b3-6b6a-4f14-a107-4254f3dfc246",
   "metadata": {},
   "outputs": [
    {
     "data": {
      "text/html": [
       "<div>\n",
       "<style scoped>\n",
       "    .dataframe tbody tr th:only-of-type {\n",
       "        vertical-align: middle;\n",
       "    }\n",
       "\n",
       "    .dataframe tbody tr th {\n",
       "        vertical-align: top;\n",
       "    }\n",
       "\n",
       "    .dataframe thead th {\n",
       "        text-align: right;\n",
       "    }\n",
       "</style>\n",
       "<table border=\"1\" class=\"dataframe\">\n",
       "  <thead>\n",
       "    <tr style=\"text-align: right;\">\n",
       "      <th></th>\n",
       "      <th>category</th>\n",
       "      <th>sub_category</th>\n",
       "      <th>crimeaditionalinfo</th>\n",
       "    </tr>\n",
       "  </thead>\n",
       "  <tbody>\n",
       "    <tr>\n",
       "      <th>0</th>\n",
       "      <td>Online and Social Media Related Crime</td>\n",
       "      <td>Cyber Bullying  Stalking  Sexting</td>\n",
       "      <td>I had continue received random calls and abusi...</td>\n",
       "    </tr>\n",
       "    <tr>\n",
       "      <th>1</th>\n",
       "      <td>Online Financial Fraud</td>\n",
       "      <td>Fraud CallVishing</td>\n",
       "      <td>The above fraudster is continuously messaging ...</td>\n",
       "    </tr>\n",
       "    <tr>\n",
       "      <th>2</th>\n",
       "      <td>Online Gambling  Betting</td>\n",
       "      <td>Online Gambling  Betting</td>\n",
       "      <td>He is acting like a police and demanding for m...</td>\n",
       "    </tr>\n",
       "    <tr>\n",
       "      <th>3</th>\n",
       "      <td>Online and Social Media Related Crime</td>\n",
       "      <td>Online Job Fraud</td>\n",
       "      <td>In apna Job I have applied for job interview f...</td>\n",
       "    </tr>\n",
       "    <tr>\n",
       "      <th>4</th>\n",
       "      <td>Online Financial Fraud</td>\n",
       "      <td>Fraud CallVishing</td>\n",
       "      <td>I received a call from lady stating that she w...</td>\n",
       "    </tr>\n",
       "  </tbody>\n",
       "</table>\n",
       "</div>"
      ],
      "text/plain": [
       "                                category                       sub_category  \\\n",
       "0  Online and Social Media Related Crime  Cyber Bullying  Stalking  Sexting   \n",
       "1                 Online Financial Fraud                  Fraud CallVishing   \n",
       "2               Online Gambling  Betting           Online Gambling  Betting   \n",
       "3  Online and Social Media Related Crime                   Online Job Fraud   \n",
       "4                 Online Financial Fraud                  Fraud CallVishing   \n",
       "\n",
       "                                  crimeaditionalinfo  \n",
       "0  I had continue received random calls and abusi...  \n",
       "1  The above fraudster is continuously messaging ...  \n",
       "2  He is acting like a police and demanding for m...  \n",
       "3  In apna Job I have applied for job interview f...  \n",
       "4  I received a call from lady stating that she w...  "
      ]
     },
     "execution_count": 6,
     "metadata": {},
     "output_type": "execute_result"
    }
   ],
   "source": [
    "#pd.set_option('display.max_columns', 81)\n",
    "data_train.head()"
   ]
  },
  {
   "cell_type": "code",
   "execution_count": 7,
   "id": "2224e15b-b130-4c45-94d5-9e2964b86447",
   "metadata": {},
   "outputs": [
    {
     "name": "stdout",
     "output_type": "stream",
     "text": [
      "<class 'pandas.core.frame.DataFrame'>\n",
      "RangeIndex: 93686 entries, 0 to 93685\n",
      "Data columns (total 3 columns):\n",
      " #   Column              Non-Null Count  Dtype \n",
      "---  ------              --------------  ----- \n",
      " 0   category            93686 non-null  object\n",
      " 1   sub_category        87095 non-null  object\n",
      " 2   crimeaditionalinfo  93665 non-null  object\n",
      "dtypes: object(3)\n",
      "memory usage: 2.1+ MB\n"
     ]
    }
   ],
   "source": [
    "data_train.info()"
   ]
  },
  {
   "cell_type": "code",
   "execution_count": 8,
   "id": "c6b2722e-e564-46e0-bee6-e98eaedc6166",
   "metadata": {},
   "outputs": [
    {
     "data": {
      "text/html": [
       "<div>\n",
       "<style scoped>\n",
       "    .dataframe tbody tr th:only-of-type {\n",
       "        vertical-align: middle;\n",
       "    }\n",
       "\n",
       "    .dataframe tbody tr th {\n",
       "        vertical-align: top;\n",
       "    }\n",
       "\n",
       "    .dataframe thead th {\n",
       "        text-align: right;\n",
       "    }\n",
       "</style>\n",
       "<table border=\"1\" class=\"dataframe\">\n",
       "  <thead>\n",
       "    <tr style=\"text-align: right;\">\n",
       "      <th></th>\n",
       "      <th>category</th>\n",
       "      <th>sub_category</th>\n",
       "      <th>crimeaditionalinfo</th>\n",
       "    </tr>\n",
       "  </thead>\n",
       "  <tbody>\n",
       "    <tr>\n",
       "      <th>count</th>\n",
       "      <td>93686</td>\n",
       "      <td>87095</td>\n",
       "      <td>93665</td>\n",
       "    </tr>\n",
       "    <tr>\n",
       "      <th>unique</th>\n",
       "      <td>15</td>\n",
       "      <td>35</td>\n",
       "      <td>85013</td>\n",
       "    </tr>\n",
       "    <tr>\n",
       "      <th>top</th>\n",
       "      <td>Online Financial Fraud</td>\n",
       "      <td>UPI Related Frauds</td>\n",
       "      <td>Respected Sir\\r\\n\\r\\nA very serious matter I w...</td>\n",
       "    </tr>\n",
       "    <tr>\n",
       "      <th>freq</th>\n",
       "      <td>57434</td>\n",
       "      <td>26856</td>\n",
       "      <td>2342</td>\n",
       "    </tr>\n",
       "  </tbody>\n",
       "</table>\n",
       "</div>"
      ],
      "text/plain": [
       "                      category        sub_category  \\\n",
       "count                    93686               87095   \n",
       "unique                      15                  35   \n",
       "top     Online Financial Fraud  UPI Related Frauds   \n",
       "freq                     57434               26856   \n",
       "\n",
       "                                       crimeaditionalinfo  \n",
       "count                                               93665  \n",
       "unique                                              85013  \n",
       "top     Respected Sir\\r\\n\\r\\nA very serious matter I w...  \n",
       "freq                                                 2342  "
      ]
     },
     "execution_count": 8,
     "metadata": {},
     "output_type": "execute_result"
    }
   ],
   "source": [
    "data_train.describe()"
   ]
  },
  {
   "cell_type": "markdown",
   "id": "891b962f-6b9d-40d4-9e3b-1055246a4e8e",
   "metadata": {},
   "source": [
    "##### Let's look at the distribution of the crime reports"
   ]
  },
  {
   "cell_type": "code",
   "execution_count": 9,
   "id": "a394076c-cf4f-47c9-b639-ee582392ebec",
   "metadata": {},
   "outputs": [
    {
     "data": {
      "image/png": "[encoded data removed]",
      "text/plain": [
       "<Figure size 600x600 with 1 Axes>"
      ]
     },
     "metadata": {},
     "output_type": "display_data"
    }
   ],
   "source": [
    "fig, axs = plt.subplots(nrows = 1, ncols = 1, tight_layout=True, dpi = 300)\n",
    "\n",
    "data_train.groupby(['category']).size().plot(ax = axs, kind='pie', y='reports', autopct='%1.0f%%', fontsize=2, figsize = (2,2))\n",
    "\n",
    "plt.show()"
   ]
  },
  {
   "cell_type": "code",
   "execution_count": 10,
   "id": "984aa0eb-8a8f-484a-a18d-518fd549162d",
   "metadata": {},
   "outputs": [
    {
     "data": {
      "text/plain": [
       "category\n",
       "Online Financial Fraud                                  57434\n",
       "Online and Social Media Related Crime                   12140\n",
       "Any Other Cyber Crime                                   10878\n",
       "Cyber Attack/ Dependent Crimes                           3608\n",
       "RapeGang Rape RGRSexually Abusive Content                2822\n",
       "Sexually Obscene material                                1838\n",
       "Hacking  Damage to computercomputer system etc           1710\n",
       "Sexually Explicit Act                                    1552\n",
       "Cryptocurrency Crime                                      480\n",
       "Online Gambling  Betting                                  444\n",
       "Child Pornography CPChild Sexual Abuse Material CSAM      379\n",
       "Online Cyber Trafficking                                  183\n",
       "Cyber Terrorism                                           161\n",
       "Ransomware                                                 56\n",
       "Report Unlawful Content                                     1\n",
       "Name: count, dtype: int64"
      ]
     },
     "execution_count": 10,
     "metadata": {},
     "output_type": "execute_result"
    }
   ],
   "source": [
    "data_train['category'].value_counts()"
   ]
  },
  {
   "cell_type": "code",
   "execution_count": 11,
   "id": "5bce490c-348f-4fe4-a0f6-0250b3a9d156",
   "metadata": {},
   "outputs": [
    {
     "data": {
      "image/png": "[encoded data removed]",
      "text/plain": [
       "<Figure size 600x600 with 1 Axes>"
      ]
     },
     "metadata": {},
     "output_type": "display_data"
    }
   ],
   "source": [
    "fig, axs = plt.subplots(nrows = 1, ncols = 1, tight_layout=True, dpi = 300)\n",
    "\n",
    "data_train.query('category==\"Online Financial Fraud\"').groupby(['sub_category']).size().plot(ax = axs, kind='pie', y='reports', autopct='%1.0f%%', fontsize=2, figsize = (2,2))\n",
    "#data_train.query('category==\"Online and Social Media Related Crime\"').groupby(['sub_category']).size().plot(ax = axs, kind='pie', y='reports', autopct='%1.0f%%', fontsize=2, figsize = (2,2))\n",
    "#data_train.query('category==\"Cyber Attack/ Dependent Crimes\"').groupby(['sub_category']).size().plot(ax = axs, kind='pie', y='reports', autopct='%1.0f%%', fontsize=2, figsize = (2,2))\n",
    "\n",
    "plt.show()"
   ]
  },
  {
   "cell_type": "code",
   "execution_count": 12,
   "id": "5a2ee97d-d0fc-44d4-889b-fffffd0a02f5",
   "metadata": {},
   "outputs": [
    {
     "data": {
      "text/plain": [
       "sub_category\n",
       "UPI Related Frauds                                                      26856\n",
       "Other                                                                   10878\n",
       "DebitCredit Card FraudSim Swap Fraud                                    10805\n",
       "Internet Banking Related Fraud                                           8872\n",
       "Fraud CallVishing                                                        5803\n",
       "Cyber Bullying  Stalking  Sexting                                        4089\n",
       "EWallet Related Fraud                                                    4047\n",
       "FakeImpersonating Profile                                                2299\n",
       "Profile Hacking Identity Theft                                           2073\n",
       "Cheating by Impersonation                                                1988\n",
       "Unauthorised AccessData Breach                                           1114\n",
       "Online Job Fraud                                                          912\n",
       "DematDepository Fraud                                                     761\n",
       "Tampering with computer source documents                                  567\n",
       "Hacking/Defacement                                                        540\n",
       "Ransomware Attack                                                         534\n",
       "Malware Attack                                                            521\n",
       "SQL Injection                                                             508\n",
       "Denial of Service (DoS)/Distributed Denial of Service (DDOS) attacks      504\n",
       "Data Breach/Theft                                                         484\n",
       "Cryptocurrency Fraud                                                      480\n",
       "Online Gambling  Betting                                                  444\n",
       "Provocative Speech for unlawful acts                                      417\n",
       "Email Hacking                                                             349\n",
       "Business Email CompromiseEmail Takeover                                   290\n",
       "Online Trafficking                                                        183\n",
       "Cyber Terrorism                                                           161\n",
       "EMail Phishing                                                            157\n",
       "Online Matrimonial Fraud                                                  132\n",
       "Damage to computer computer systems etc                                   108\n",
       "Website DefacementHacking                                                  89\n",
       "Ransomware                                                                 56\n",
       "Impersonating Email                                                        44\n",
       "Intimidating Email                                                         29\n",
       "Against Interest of sovereignty or integrity of India                       1\n",
       "Name: count, dtype: int64"
      ]
     },
     "execution_count": 12,
     "metadata": {},
     "output_type": "execute_result"
    }
   ],
   "source": [
    "data_train['sub_category'].value_counts()"
   ]
  },
  {
   "cell_type": "code",
   "execution_count": 13,
   "id": "416c2baa-3908-46cd-bff0-e75f86a5cf54",
   "metadata": {},
   "outputs": [
    {
     "data": {
      "text/html": [
       "<div>\n",
       "<style scoped>\n",
       "    .dataframe tbody tr th:only-of-type {\n",
       "        vertical-align: middle;\n",
       "    }\n",
       "\n",
       "    .dataframe tbody tr th {\n",
       "        vertical-align: top;\n",
       "    }\n",
       "\n",
       "    .dataframe thead th {\n",
       "        text-align: right;\n",
       "    }\n",
       "</style>\n",
       "<table border=\"1\" class=\"dataframe\">\n",
       "  <thead>\n",
       "    <tr style=\"text-align: right;\">\n",
       "      <th></th>\n",
       "      <th></th>\n",
       "      <th>report_count</th>\n",
       "    </tr>\n",
       "    <tr>\n",
       "      <th>category</th>\n",
       "      <th>sub_category</th>\n",
       "      <th></th>\n",
       "    </tr>\n",
       "  </thead>\n",
       "  <tbody>\n",
       "    <tr>\n",
       "      <th>Any Other Cyber Crime</th>\n",
       "      <th>Other</th>\n",
       "      <td>10878</td>\n",
       "    </tr>\n",
       "    <tr>\n",
       "      <th>Child Pornography CPChild Sexual Abuse Material CSAM</th>\n",
       "      <th>NaN</th>\n",
       "      <td>379</td>\n",
       "    </tr>\n",
       "    <tr>\n",
       "      <th>Cryptocurrency Crime</th>\n",
       "      <th>Cryptocurrency Fraud</th>\n",
       "      <td>480</td>\n",
       "    </tr>\n",
       "    <tr>\n",
       "      <th rowspan=\"7\" valign=\"top\">Cyber Attack/ Dependent Crimes</th>\n",
       "      <th>Data Breach/Theft</th>\n",
       "      <td>484</td>\n",
       "    </tr>\n",
       "    <tr>\n",
       "      <th>Denial of Service (DoS)/Distributed Denial of Service (DDOS) attacks</th>\n",
       "      <td>504</td>\n",
       "    </tr>\n",
       "    <tr>\n",
       "      <th>Hacking/Defacement</th>\n",
       "      <td>540</td>\n",
       "    </tr>\n",
       "    <tr>\n",
       "      <th>Malware Attack</th>\n",
       "      <td>521</td>\n",
       "    </tr>\n",
       "    <tr>\n",
       "      <th>Ransomware Attack</th>\n",
       "      <td>534</td>\n",
       "    </tr>\n",
       "    <tr>\n",
       "      <th>SQL Injection</th>\n",
       "      <td>508</td>\n",
       "    </tr>\n",
       "    <tr>\n",
       "      <th>Tampering with computer source documents</th>\n",
       "      <td>517</td>\n",
       "    </tr>\n",
       "    <tr>\n",
       "      <th>Cyber Terrorism</th>\n",
       "      <th>Cyber Terrorism</th>\n",
       "      <td>161</td>\n",
       "    </tr>\n",
       "    <tr>\n",
       "      <th rowspan=\"5\" valign=\"top\">Hacking  Damage to computercomputer system etc</th>\n",
       "      <th>Damage to computer computer systems etc</th>\n",
       "      <td>108</td>\n",
       "    </tr>\n",
       "    <tr>\n",
       "      <th>Email Hacking</th>\n",
       "      <td>349</td>\n",
       "    </tr>\n",
       "    <tr>\n",
       "      <th>Tampering with computer source documents</th>\n",
       "      <td>50</td>\n",
       "    </tr>\n",
       "    <tr>\n",
       "      <th>Unauthorised AccessData Breach</th>\n",
       "      <td>1114</td>\n",
       "    </tr>\n",
       "    <tr>\n",
       "      <th>Website DefacementHacking</th>\n",
       "      <td>89</td>\n",
       "    </tr>\n",
       "    <tr>\n",
       "      <th>Online Cyber Trafficking</th>\n",
       "      <th>Online Trafficking</th>\n",
       "      <td>183</td>\n",
       "    </tr>\n",
       "    <tr>\n",
       "      <th rowspan=\"7\" valign=\"top\">Online Financial Fraud</th>\n",
       "      <th>Business Email CompromiseEmail Takeover</th>\n",
       "      <td>290</td>\n",
       "    </tr>\n",
       "    <tr>\n",
       "      <th>DebitCredit Card FraudSim Swap Fraud</th>\n",
       "      <td>10805</td>\n",
       "    </tr>\n",
       "    <tr>\n",
       "      <th>DematDepository Fraud</th>\n",
       "      <td>761</td>\n",
       "    </tr>\n",
       "    <tr>\n",
       "      <th>EWallet Related Fraud</th>\n",
       "      <td>4047</td>\n",
       "    </tr>\n",
       "    <tr>\n",
       "      <th>Fraud CallVishing</th>\n",
       "      <td>5803</td>\n",
       "    </tr>\n",
       "    <tr>\n",
       "      <th>Internet Banking Related Fraud</th>\n",
       "      <td>8872</td>\n",
       "    </tr>\n",
       "    <tr>\n",
       "      <th>UPI Related Frauds</th>\n",
       "      <td>26856</td>\n",
       "    </tr>\n",
       "    <tr>\n",
       "      <th>Online Gambling  Betting</th>\n",
       "      <th>Online Gambling  Betting</th>\n",
       "      <td>444</td>\n",
       "    </tr>\n",
       "    <tr>\n",
       "      <th rowspan=\"10\" valign=\"top\">Online and Social Media Related Crime</th>\n",
       "      <th>Cheating by Impersonation</th>\n",
       "      <td>1988</td>\n",
       "    </tr>\n",
       "    <tr>\n",
       "      <th>Cyber Bullying  Stalking  Sexting</th>\n",
       "      <td>4089</td>\n",
       "    </tr>\n",
       "    <tr>\n",
       "      <th>EMail Phishing</th>\n",
       "      <td>157</td>\n",
       "    </tr>\n",
       "    <tr>\n",
       "      <th>FakeImpersonating Profile</th>\n",
       "      <td>2299</td>\n",
       "    </tr>\n",
       "    <tr>\n",
       "      <th>Impersonating Email</th>\n",
       "      <td>44</td>\n",
       "    </tr>\n",
       "    <tr>\n",
       "      <th>Intimidating Email</th>\n",
       "      <td>29</td>\n",
       "    </tr>\n",
       "    <tr>\n",
       "      <th>Online Job Fraud</th>\n",
       "      <td>912</td>\n",
       "    </tr>\n",
       "    <tr>\n",
       "      <th>Online Matrimonial Fraud</th>\n",
       "      <td>132</td>\n",
       "    </tr>\n",
       "    <tr>\n",
       "      <th>Profile Hacking Identity Theft</th>\n",
       "      <td>2073</td>\n",
       "    </tr>\n",
       "    <tr>\n",
       "      <th>Provocative Speech for unlawful acts</th>\n",
       "      <td>417</td>\n",
       "    </tr>\n",
       "    <tr>\n",
       "      <th>Ransomware</th>\n",
       "      <th>Ransomware</th>\n",
       "      <td>56</td>\n",
       "    </tr>\n",
       "    <tr>\n",
       "      <th>RapeGang Rape RGRSexually Abusive Content</th>\n",
       "      <th>NaN</th>\n",
       "      <td>2822</td>\n",
       "    </tr>\n",
       "    <tr>\n",
       "      <th>Report Unlawful Content</th>\n",
       "      <th>Against Interest of sovereignty or integrity of India</th>\n",
       "      <td>1</td>\n",
       "    </tr>\n",
       "    <tr>\n",
       "      <th>Sexually Explicit Act</th>\n",
       "      <th>NaN</th>\n",
       "      <td>1552</td>\n",
       "    </tr>\n",
       "    <tr>\n",
       "      <th>Sexually Obscene material</th>\n",
       "      <th>NaN</th>\n",
       "      <td>1838</td>\n",
       "    </tr>\n",
       "  </tbody>\n",
       "</table>\n",
       "</div>"
      ],
      "text/plain": [
       "                                                                                                       report_count\n",
       "category                                           sub_category                                                    \n",
       "Any Other Cyber Crime                              Other                                                      10878\n",
       "Child Pornography CPChild Sexual Abuse Material... NaN                                                          379\n",
       "Cryptocurrency Crime                               Cryptocurrency Fraud                                         480\n",
       "Cyber Attack/ Dependent Crimes                     Data Breach/Theft                                            484\n",
       "                                                   Denial of Service (DoS)/Distributed Denial of S...           504\n",
       "                                                   Hacking/Defacement                                           540\n",
       "                                                   Malware Attack                                               521\n",
       "                                                   Ransomware Attack                                            534\n",
       "                                                   SQL Injection                                                508\n",
       "                                                   Tampering with computer source documents                     517\n",
       "Cyber Terrorism                                    Cyber Terrorism                                              161\n",
       "Hacking  Damage to computercomputer system etc     Damage to computer computer systems etc                      108\n",
       "                                                   Email Hacking                                                349\n",
       "                                                   Tampering with computer source documents                      50\n",
       "                                                   Unauthorised AccessData Breach                              1114\n",
       "                                                   Website DefacementHacking                                     89\n",
       "Online Cyber Trafficking                           Online Trafficking                                           183\n",
       "Online Financial Fraud                             Business Email CompromiseEmail Takeover                      290\n",
       "                                                   DebitCredit Card FraudSim Swap Fraud                       10805\n",
       "                                                   DematDepository Fraud                                        761\n",
       "                                                   EWallet Related Fraud                                       4047\n",
       "                                                   Fraud CallVishing                                           5803\n",
       "                                                   Internet Banking Related Fraud                              8872\n",
       "                                                   UPI Related Frauds                                         26856\n",
       "Online Gambling  Betting                           Online Gambling  Betting                                     444\n",
       "Online and Social Media Related Crime              Cheating by Impersonation                                   1988\n",
       "                                                   Cyber Bullying  Stalking  Sexting                           4089\n",
       "                                                   EMail Phishing                                               157\n",
       "                                                   FakeImpersonating Profile                                   2299\n",
       "                                                   Impersonating Email                                           44\n",
       "                                                   Intimidating Email                                            29\n",
       "                                                   Online Job Fraud                                             912\n",
       "                                                   Online Matrimonial Fraud                                     132\n",
       "                                                   Profile Hacking Identity Theft                              2073\n",
       "                                                   Provocative Speech for unlawful acts                         417\n",
       "Ransomware                                         Ransomware                                                    56\n",
       "RapeGang Rape RGRSexually Abusive Content          NaN                                                         2822\n",
       "Report Unlawful Content                            Against Interest of sovereignty or integrity of...             1\n",
       "Sexually Explicit Act                              NaN                                                         1552\n",
       "Sexually Obscene material                          NaN                                                         1838"
      ]
     },
     "execution_count": 13,
     "metadata": {},
     "output_type": "execute_result"
    }
   ],
   "source": [
    "data_train.groupby(by = [\"category\",\"sub_category\"], dropna=False).agg(report_count = (\"crimeaditionalinfo\", \"size\"))"
   ]
  },
  {
   "cell_type": "markdown",
   "id": "a7e71051-59a1-4fda-8ab7-d37ecad88a12",
   "metadata": {
    "jp-MarkdownHeadingCollapsed": true
   },
   "source": [
    "# Data Cleaning"
   ]
  },
  {
   "cell_type": "code",
   "execution_count": 2,
   "id": "f7c95bef-23d8-457c-aaae-634116f52ad1",
   "metadata": {},
   "outputs": [],
   "source": [
    "# Define function for punctuation removal\n",
    "\n",
    "def remove_punctuations(text):\n",
    "\n",
    "    # Replace ' with '' without space so that eg: don't gets replaced as dont \n",
    "    no_punct_output = text.replace(\"'\", \"\")\n",
    "\n",
    "    # create a translation table (replacing all punctuations with space so that eg: <I am good.Thank you> becomes <I am good Thank you>)\n",
    "    no_punct_output = re.sub('[^a-zA-Z0-9\\s]+', ' ', text)\n",
    "    \n",
    "    return no_punct_output"
   ]
  },
  {
   "cell_type": "code",
   "execution_count": 8,
   "id": "ce287869-fe6b-4c84-88e9-f63b5b90247f",
   "metadata": {},
   "outputs": [],
   "source": [
    "# CLEANING\n",
    "\n",
    "def clean_data(df_input_data):\n",
    "\n",
    "    '''\n",
    "    Returns a dataframe with clean data.\n",
    "    Convert reports to lower case, remove whitespaces, remove punctuations, remove duplicates, give names to blank category / sub-category values.\n",
    "\n",
    "            Parameters:\n",
    "                    df_input: dataframe \n",
    "                        Raw input data\n",
    "\n",
    "            Returns:\n",
    "                    df_output: dataframe\n",
    "                        Dataframe with clean data\n",
    "    '''\n",
    "    \n",
    "    start = time.time()\n",
    "    \n",
    "    df_output_data = df_input_data\n",
    "    \n",
    "    df_output_data = df_output_data.rename(columns = {'crimeaditionalinfo' : 'reports'}) # Rename 'crimeaditionalinfo' column to 'reports'\n",
    "\n",
    "    # Remove whitespaces and punctuations from text\n",
    "    \n",
    "    df_output_data.reports = df_output_data.reports.astype(str).str.strip() # Removing leading & trailing whitespaces from reports text entry\n",
    "    df_output_data.reports = df_output_data.reports.str.lower() # Change text of reports to lowercase\n",
    "    df_output_data.reports = df_output_data.reports.apply(lambda x: remove_punctuations(str(x))) # Remove punctuations from report text\n",
    "\n",
    "    # Replace one / multiple whitespaces between words with single space\n",
    "    for i in range(len(df_output_data['reports'])):\n",
    "        df_output_data.loc[i,'reports'] = ' '.join(df_output_data.loc[i,'reports'].split())\n",
    "    \n",
    "    df_output_data = df_output_data.dropna(subset = [\"reports\"]) # Remove entries with NA report\n",
    "    df_output_data.reports = df_output_data.reports.astype(str).str.strip() # Removing leading & trailing whitespaces from reports text entry\n",
    "    df_output_data = df_output_data[df_output_data[\"reports\"] != ''] # Remove entries with blank report\n",
    "    df_output_data = df_output_data.drop_duplicates() # Removing duplicates\n",
    "    df_output_data = df_output_data.reset_index(drop=True)\n",
    "    \n",
    "    df_output_data[\"sub_category\"] = df_output_data[\"sub_category\"].fillna(df_output_data[\"category\"]) # If NA in sub_category, fill same value as that in category \n",
    "\n",
    "    end = time.time()\n",
    "    print(\"Execution time of cleaning is :\",(end-start)/60, \"minutes\")\n",
    "    \n",
    "    return df_output_data"
   ]
  },
  {
   "cell_type": "markdown",
   "id": "a2140fc9-eb91-405e-994e-3abf37180803",
   "metadata": {},
   "source": [
    "##### Export Clean Data (training set)"
   ]
  },
  {
   "cell_type": "code",
   "execution_count": 16,
   "id": "72b5c050-d98b-4787-a24f-c10061306c18",
   "metadata": {},
   "outputs": [
    {
     "name": "stdout",
     "output_type": "stream",
     "text": [
      "Execution time of cleaning is : 0.5661888082822164 minutes\n"
     ]
    }
   ],
   "source": [
    "df_clean_data = clean_data(data_train)"
   ]
  },
  {
   "cell_type": "code",
   "execution_count": 17,
   "id": "7e789e59-2fb6-43de-b279-9153a57e9ebe",
   "metadata": {},
   "outputs": [
    {
     "name": "stdout",
     "output_type": "stream",
     "text": [
      "<class 'pandas.core.frame.DataFrame'>\n",
      "RangeIndex: 79967 entries, 0 to 79966\n",
      "Data columns (total 3 columns):\n",
      " #   Column        Non-Null Count  Dtype \n",
      "---  ------        --------------  ----- \n",
      " 0   category      79967 non-null  object\n",
      " 1   sub_category  79967 non-null  object\n",
      " 2   reports       79967 non-null  object\n",
      "dtypes: object(3)\n",
      "memory usage: 1.8+ MB\n"
     ]
    }
   ],
   "source": [
    "df_clean_data.info()"
   ]
  },
  {
   "cell_type": "code",
   "execution_count": 18,
   "id": "5850edc2-ece5-4613-9291-9eb1020c5923",
   "metadata": {},
   "outputs": [
    {
     "data": {
      "text/html": [
       "<div>\n",
       "<style scoped>\n",
       "    .dataframe tbody tr th:only-of-type {\n",
       "        vertical-align: middle;\n",
       "    }\n",
       "\n",
       "    .dataframe tbody tr th {\n",
       "        vertical-align: top;\n",
       "    }\n",
       "\n",
       "    .dataframe thead th {\n",
       "        text-align: right;\n",
       "    }\n",
       "</style>\n",
       "<table border=\"1\" class=\"dataframe\">\n",
       "  <thead>\n",
       "    <tr style=\"text-align: right;\">\n",
       "      <th></th>\n",
       "      <th>category</th>\n",
       "      <th>sub_category</th>\n",
       "      <th>reports</th>\n",
       "    </tr>\n",
       "  </thead>\n",
       "  <tbody>\n",
       "    <tr>\n",
       "      <th>count</th>\n",
       "      <td>79967</td>\n",
       "      <td>79967</td>\n",
       "      <td>79967</td>\n",
       "    </tr>\n",
       "    <tr>\n",
       "      <th>unique</th>\n",
       "      <td>15</td>\n",
       "      <td>39</td>\n",
       "      <td>79428</td>\n",
       "    </tr>\n",
       "    <tr>\n",
       "      <th>top</th>\n",
       "      <td>Online Financial Fraud</td>\n",
       "      <td>UPI Related Frauds</td>\n",
       "      <td>id</td>\n",
       "    </tr>\n",
       "    <tr>\n",
       "      <th>freq</th>\n",
       "      <td>47115</td>\n",
       "      <td>19967</td>\n",
       "      <td>8</td>\n",
       "    </tr>\n",
       "  </tbody>\n",
       "</table>\n",
       "</div>"
      ],
      "text/plain": [
       "                      category        sub_category reports\n",
       "count                    79967               79967   79967\n",
       "unique                      15                  39   79428\n",
       "top     Online Financial Fraud  UPI Related Frauds      id\n",
       "freq                     47115               19967       8"
      ]
     },
     "execution_count": 18,
     "metadata": {},
     "output_type": "execute_result"
    }
   ],
   "source": [
    "df_clean_data.describe()"
   ]
  },
  {
   "cell_type": "code",
   "execution_count": 19,
   "id": "2848a175-aa4a-47c8-8436-52e3df96c4f2",
   "metadata": {},
   "outputs": [],
   "source": [
    "df_clean_data.to_csv(os.path.join(\"Output Data\",\"01_clean_train_data.csv\"), index=False)"
   ]
  },
  {
   "cell_type": "markdown",
   "id": "69cd19a0-1668-41a1-ae4c-7fd79f4fcbe6",
   "metadata": {},
   "source": [
    "##### Export Clean Data (testing set)"
   ]
  },
  {
   "cell_type": "code",
   "execution_count": 20,
   "id": "2590bfcf-08f3-4143-8d57-ab73fe6f251e",
   "metadata": {},
   "outputs": [
    {
     "name": "stdout",
     "output_type": "stream",
     "text": [
      "Execution time of cleaning is : 0.12956202824910482 minutes\n"
     ]
    }
   ],
   "source": [
    "df_clean_test = clean_data(data_test)"
   ]
  },
  {
   "cell_type": "code",
   "execution_count": 21,
   "id": "d08d7068-556c-4d2c-b1fd-404f8c27e22a",
   "metadata": {},
   "outputs": [],
   "source": [
    "df_clean_test.to_csv(os.path.join(\"Output Data\",\"01_clean_test_data.csv\"), index=False)"
   ]
  },
  {
   "cell_type": "markdown",
   "id": "fb37ef32-39d8-48b9-800f-20014a860cc4",
   "metadata": {
    "jp-MarkdownHeadingCollapsed": true
   },
   "source": [
    "# EDA (Before Data Processing)"
   ]
  },
  {
   "cell_type": "code",
   "execution_count": 22,
   "id": "5bbf3d71-d9ce-4210-8b13-f47e5e699501",
   "metadata": {},
   "outputs": [],
   "source": [
    "\n",
    "#df_clean_data = pd.read_csv(filepath_or_buffer = os.path.join(\"Output Data\",\"01_clean_train_data.csv\"), sep = \",\", header = 0)\n",
    "#df_clean_test = pd.read_csv(filepath_or_buffer = os.path.join(\"Output Data\",\"01_clean_test_data.csv\"), sep = \",\", header = 0)"
   ]
  },
  {
   "cell_type": "markdown",
   "id": "e1117d7c-7ba6-4bc3-98f4-744de07ad130",
   "metadata": {},
   "source": [
    "##### Let's check if any report is tagged with multiple categories"
   ]
  },
  {
   "cell_type": "code",
   "execution_count": 23,
   "id": "5855e02e-b977-4aba-a6b5-61ec328e63be",
   "metadata": {},
   "outputs": [
    {
     "data": {
      "text/html": [
       "<div>\n",
       "<style scoped>\n",
       "    .dataframe tbody tr th:only-of-type {\n",
       "        vertical-align: middle;\n",
       "    }\n",
       "\n",
       "    .dataframe tbody tr th {\n",
       "        vertical-align: top;\n",
       "    }\n",
       "\n",
       "    .dataframe thead th {\n",
       "        text-align: right;\n",
       "    }\n",
       "</style>\n",
       "<table border=\"1\" class=\"dataframe\">\n",
       "  <thead>\n",
       "    <tr style=\"text-align: right;\">\n",
       "      <th></th>\n",
       "      <th>count_category</th>\n",
       "      <th>count_sub_category</th>\n",
       "    </tr>\n",
       "    <tr>\n",
       "      <th>reports</th>\n",
       "      <th></th>\n",
       "      <th></th>\n",
       "    </tr>\n",
       "  </thead>\n",
       "  <tbody>\n",
       "    <tr>\n",
       "      <th>id</th>\n",
       "      <td>5</td>\n",
       "      <td>8</td>\n",
       "    </tr>\n",
       "    <tr>\n",
       "      <th>nan</th>\n",
       "      <td>3</td>\n",
       "      <td>7</td>\n",
       "    </tr>\n",
       "    <tr>\n",
       "      <th>paytm</th>\n",
       "      <td>3</td>\n",
       "      <td>7</td>\n",
       "    </tr>\n",
       "    <tr>\n",
       "      <th>dear sir please stop the fraudulent transaction and refund the amount in source account regards</th>\n",
       "      <td>1</td>\n",
       "      <td>6</td>\n",
       "    </tr>\n",
       "    <tr>\n",
       "      <th>fraud</th>\n",
       "      <td>2</td>\n",
       "      <td>5</td>\n",
       "    </tr>\n",
       "    <tr>\n",
       "      <th>...</th>\n",
       "      <td>...</td>\n",
       "      <td>...</td>\n",
       "    </tr>\n",
       "    <tr>\n",
       "      <th>victim reported fraud amount rs</th>\n",
       "      <td>1</td>\n",
       "      <td>2</td>\n",
       "    </tr>\n",
       "    <tr>\n",
       "      <th>whatsapp whatsapp</th>\n",
       "      <td>2</td>\n",
       "      <td>2</td>\n",
       "    </tr>\n",
       "    <tr>\n",
       "      <th>you are requested to debit freeze all beneficiaries accounts till the end user and refund the blocked amount into victims source account</th>\n",
       "      <td>1</td>\n",
       "      <td>2</td>\n",
       "    </tr>\n",
       "    <tr>\n",
       "      <th>amount debited fraudulently</th>\n",
       "      <td>1</td>\n",
       "      <td>2</td>\n",
       "    </tr>\n",
       "    <tr>\n",
       "      <th>upi fraud rs</th>\n",
       "      <td>1</td>\n",
       "      <td>2</td>\n",
       "    </tr>\n",
       "  </tbody>\n",
       "</table>\n",
       "<p>388 rows × 2 columns</p>\n",
       "</div>"
      ],
      "text/plain": [
       "                                                    count_category  \\\n",
       "reports                                                              \n",
       "id                                                               5   \n",
       "nan                                                              3   \n",
       "paytm                                                            3   \n",
       "dear sir please stop the fraudulent transaction...               1   \n",
       "fraud                                                            2   \n",
       "...                                                            ...   \n",
       "victim reported fraud amount rs                                  1   \n",
       "whatsapp whatsapp                                                2   \n",
       "you are requested to debit freeze all beneficia...               1   \n",
       "amount debited fraudulently                                      1   \n",
       "upi fraud rs                                                     1   \n",
       "\n",
       "                                                    count_sub_category  \n",
       "reports                                                                 \n",
       "id                                                                   8  \n",
       "nan                                                                  7  \n",
       "paytm                                                                7  \n",
       "dear sir please stop the fraudulent transaction...                   6  \n",
       "fraud                                                                5  \n",
       "...                                                                ...  \n",
       "victim reported fraud amount rs                                      2  \n",
       "whatsapp whatsapp                                                    2  \n",
       "you are requested to debit freeze all beneficia...                   2  \n",
       "amount debited fraudulently                                          2  \n",
       "upi fraud rs                                                         2  \n",
       "\n",
       "[388 rows x 2 columns]"
      ]
     },
     "execution_count": 23,
     "metadata": {},
     "output_type": "execute_result"
    }
   ],
   "source": [
    "df_clean_data.groupby(by='reports').agg({'category': 'nunique', 'sub_category': 'nunique'}).add_prefix(\"count_\").query('count_sub_category>1 | count_category>1').sort_values(by = 'count_sub_category', ascending=False)"
   ]
  },
  {
   "cell_type": "markdown",
   "id": "3cd3e9ae-ea2e-4599-8383-0bdd8dc3876a",
   "metadata": {
    "jp-MarkdownHeadingCollapsed": true
   },
   "source": [
    "# Data Pre-processing"
   ]
  },
  {
   "cell_type": "code",
   "execution_count": 24,
   "id": "f0dddac8-1a73-41db-8b9c-a6eec2f3c1c8",
   "metadata": {},
   "outputs": [],
   "source": [
    "\n",
    "#df_clean_data = pd.read_csv(filepath_or_buffer = os.path.join(\"Output Data\",\"01_clean_train_data.csv\"), sep = \",\", header = 0)\n",
    "#df_clean_test = pd.read_csv(filepath_or_buffer = os.path.join(\"Output Data\",\"01_clean_test_data.csv\"), sep = \",\", header = 0)"
   ]
  },
  {
   "cell_type": "code",
   "execution_count": 3,
   "id": "a29d387d-4ea0-45f0-83b7-0c06dc0a1eb8",
   "metadata": {},
   "outputs": [],
   "source": [
    "# Define set of  stop words & words with no value-add\n",
    "\n",
    "def stop_words_set():\n",
    "    \n",
    "    # Manual list of words with no value-add\n",
    "\n",
    "    zero_value_words = [\n",
    "                    'hi', 'hello' ,'dear', 'sir', 'please', 'plz', 'pls', 'help', 'take', 'action', 'think', 'want', 'request', 'thank', 'regard',\n",
    "                    'name', 'isnt','hadnt', 'thats',\n",
    "                    'h', 'hai', 'kar', 'ki', 'ke', 'ka', 'k', 'maine', 'se', 'mujhe', 'ko', 'mai', 'p', 'mera', 'tha', 'th', 'karta', 'krta', 'par',\n",
    "                    'ti', 'ame', 'ames', 'aming', 'x', 'sm', 'do','r', 's',\n",
    "                    \"whatre\", \"whos\", \"whore\", \"wheres\", \"wherere\", \"whens\", \"whenre\", \"hows\", \"howre\", \"im\", \"were\", \"youre\", \"theyre\",\n",
    "                    \"its\", \"hes\", \"shes\", \"thats\", \"theres\", \"therere\", \"ive\", \"weve\", \"youve\", \"theyve\", \"whove\", \"wouldve\", \"notve\",\n",
    "                    \"ill\", \"il\", \"well\", \"youll\", \"hell\", \"shell\", \"itll\", \"itl\", \"theyll\", \"theyl\", \"isnt\", \"wasnt\", \"arent\", \"werent\",\n",
    "                    \"cant\", \"couldnt\", \"dont\", \"didnt\", \"shouldnt\", \"wouldnt\", \"doesnt\", \"havent\", \"havnt\", \"hasnt\", \"hadnt\", \"wont\"\n",
    "                    ]\n",
    "\n",
    "    stop_words_set = set(stopwords.words('english')) | set(zero_value_words)\n",
    "\n",
    "    return stop_words_set\n"
   ]
  },
  {
   "cell_type": "code",
   "execution_count": 4,
   "id": "98cc83c6-f5ff-4748-89d9-d68475d30910",
   "metadata": {},
   "outputs": [],
   "source": [
    "# Define lemmatization\n",
    "\n",
    "def lemmatize_text(text):\n",
    "\n",
    "    w_tokenizer = nltk.tokenize.WhitespaceTokenizer()\n",
    "    lemmatizer = nltk.stem.WordNetLemmatizer()\n",
    "\n",
    "    stop = stop_words_set()\n",
    "    \n",
    "    #lemmatized_list = return [lemmatizer.lemmatize(word) for word in w_tokenizer.tokenize(text)] # This will lemmatize only nouns (n) by default\n",
    "    lemmatized_list = [  lemmatizer.lemmatize(word, tag[0].lower())   if tag[0].lower() in ['a', 'n', 'v']   else lemmatizer.lemmatize(word)   for word, tag in pos_tag(w_tokenizer.tokenize(text))] # This will lemmatize adjectives (a), nouns (n), verbs\n",
    "    return [lemmatized_word for lemmatized_word in lemmatized_list if lemmatized_word not in stop] "
   ]
  },
  {
   "cell_type": "code",
   "execution_count": 27,
   "id": "173f2426-4745-48df-ab5b-60389f844e8e",
   "metadata": {},
   "outputs": [],
   "source": [
    "# Define spelling correction\n",
    "\n",
    "#def spelling_correction(text):\n",
    "    \n",
    "    #sp = SpellCorrectionModel(language='en')\n",
    "    #sp.load(os.path.join(\"Models\",\"spello\",\"en.pkl\"))\n",
    "\n",
    "#    return sp.spell_correct(text).get('spell_corrected_text')"
   ]
  },
  {
   "cell_type": "code",
   "execution_count": 28,
   "id": "796ec9ea-dce8-48f1-a063-f9075184c72c",
   "metadata": {},
   "outputs": [],
   "source": [
    "# Define functions for language detection\n",
    "\n",
    "def detect_language_probability(text):\n",
    "    try:\n",
    "        return detect_langs(text)\n",
    "    except:\n",
    "        return '[xx:1.0000]'\n"
   ]
  },
  {
   "cell_type": "code",
   "execution_count": 29,
   "id": "bb5e02bb-b44a-4c00-a148-0f9a3e9802cf",
   "metadata": {},
   "outputs": [],
   "source": [
    "# Pre-processing\n",
    "\n",
    "def pre_process_data(df_input_data):\n",
    "\n",
    "    '''\n",
    "    Returns a dataframe with pre-processed (stop word removal, lemmatization and language detection) data.\n",
    "\n",
    "            Parameters:\n",
    "                    df_input: dataframe \n",
    "                        Clean dataframe\n",
    "\n",
    "            Returns:\n",
    "                    df_output: dataframe\n",
    "                        Dataframe with pre-processed data\n",
    "    '''\n",
    "    \n",
    "    df_output_data = df_input_data\n",
    "    df_output_data['report_length'] = df_output_data['reports'].apply(len) # Length of report after removing redundant spacing & puctuations from text\n",
    "\n",
    "    stop = stop_words_set()\n",
    "\n",
    "    # Create another column of reports after stop-words removal\n",
    "    start = time.time()\n",
    "    df_output_data['report_aft_swr'] =  df_output_data['reports'].apply(lambda x: ' '.join([word for word in x.split() if word not in stop]))\n",
    "    end = time.time()\n",
    "    print(\"Execution time of stop-words removal is :\",(end-start)/60, \"minutes\")\n",
    "\n",
    "    # Create another column of reports after stop word removal & lemmatization\n",
    "    start = time.time()\n",
    "    df_output_data['report_aft_swr_lem'] =  df_output_data['report_aft_swr'].apply(lambda x: ' '.join(report for report in lemmatize_text(x)))\n",
    "    end = time.time()\n",
    "    print(\"Execution time of lemmatization is :\",(end-start)/60, \"minutes\")\n",
    "    \n",
    "    # Create another column with spelling correction after stop word removal & lemmatization\n",
    "    #df_output_data['report_aft_swr_lem_spell'] = df_output_data['report_aft_swr_lem'].apply(spelling_correction) # Too slow & disturbs more words than it corrects\n",
    "\n",
    "    # Detect language of reports\n",
    "    start = time.time()\n",
    "    df_output_data['language_probability'] = df_output_data['reports'].apply(detect_language_probability) # Shows probability of different languages\n",
    "    df_output_data['major_language'] = df_output_data['language_probability'].astype(str).apply(lambda x: x[1:3])\n",
    "    df_output_data['major_probability'] = df_output_data['language_probability'].astype(str).apply(lambda x: float(x[4:10]))\n",
    "    end = time.time()\n",
    "    print(\"Execution time of language detection is :\",(end-start)/60, \"minutes\")\n",
    "    \n",
    "    return df_output_data"
   ]
  },
  {
   "cell_type": "code",
   "execution_count": 31,
   "id": "c94555b8-8e88-4c7e-96bc-d5a53a7a9f61",
   "metadata": {},
   "outputs": [
    {
     "name": "stdout",
     "output_type": "stream",
     "text": [
      "Execution time of stop-words removal is : 0.022960774103800454 minutes\n",
      "Execution time of lemmatization is : 3.213844648996989 minutes\n",
      "Execution time of language detection is : 6.369397966066996 minutes\n"
     ]
    }
   ],
   "source": [
    "df_preprocessed_data = pre_process_data(df_clean_data)"
   ]
  },
  {
   "cell_type": "code",
   "execution_count": 32,
   "id": "54ccc9d4-1842-434f-8a7b-3fe7747298eb",
   "metadata": {},
   "outputs": [
    {
     "data": {
      "text/html": [
       "<div>\n",
       "<style scoped>\n",
       "    .dataframe tbody tr th:only-of-type {\n",
       "        vertical-align: middle;\n",
       "    }\n",
       "\n",
       "    .dataframe tbody tr th {\n",
       "        vertical-align: top;\n",
       "    }\n",
       "\n",
       "    .dataframe thead th {\n",
       "        text-align: right;\n",
       "    }\n",
       "</style>\n",
       "<table border=\"1\" class=\"dataframe\">\n",
       "  <thead>\n",
       "    <tr style=\"text-align: right;\">\n",
       "      <th></th>\n",
       "      <th>category</th>\n",
       "      <th>sub_category</th>\n",
       "      <th>reports</th>\n",
       "      <th>report_length</th>\n",
       "      <th>report_aft_swr</th>\n",
       "      <th>report_aft_swr_lem</th>\n",
       "      <th>language_probability</th>\n",
       "      <th>major_language</th>\n",
       "      <th>major_probability</th>\n",
       "    </tr>\n",
       "  </thead>\n",
       "  <tbody>\n",
       "    <tr>\n",
       "      <th>0</th>\n",
       "      <td>Online and Social Media Related Crime</td>\n",
       "      <td>Cyber Bullying  Stalking  Sexting</td>\n",
       "      <td>i had continue received random calls and abusi...</td>\n",
       "      <td>255</td>\n",
       "      <td>continue received random calls abusive message...</td>\n",
       "      <td>continue receive random call abusive message w...</td>\n",
       "      <td>[en:0.9999953231921757]</td>\n",
       "      <td>en</td>\n",
       "      <td>0.9999</td>\n",
       "    </tr>\n",
       "  </tbody>\n",
       "</table>\n",
       "</div>"
      ],
      "text/plain": [
       "                                category                       sub_category  \\\n",
       "0  Online and Social Media Related Crime  Cyber Bullying  Stalking  Sexting   \n",
       "\n",
       "                                             reports  report_length  \\\n",
       "0  i had continue received random calls and abusi...            255   \n",
       "\n",
       "                                      report_aft_swr  \\\n",
       "0  continue received random calls abusive message...   \n",
       "\n",
       "                                  report_aft_swr_lem     language_probability  \\\n",
       "0  continue receive random call abusive message w...  [en:0.9999953231921757]   \n",
       "\n",
       "  major_language  major_probability  \n",
       "0             en             0.9999  "
      ]
     },
     "execution_count": 32,
     "metadata": {},
     "output_type": "execute_result"
    }
   ],
   "source": [
    "df_preprocessed_data.head(1)"
   ]
  },
  {
   "cell_type": "markdown",
   "id": "c2a73a82-e412-4a79-84d6-5f2ba19c91c2",
   "metadata": {},
   "source": [
    "##### Export pre-processed data (training set)"
   ]
  },
  {
   "cell_type": "code",
   "execution_count": 33,
   "id": "c675dd87-9253-44f9-a264-4610cc8c7bfa",
   "metadata": {},
   "outputs": [],
   "source": [
    "df_preprocessed_data.to_csv(os.path.join(\"Output Data\",\"02_preprocessed_train_data.csv\"), index=False)"
   ]
  },
  {
   "cell_type": "markdown",
   "id": "2c063e8f-2529-458f-a76a-b846e870a9ab",
   "metadata": {},
   "source": [
    "##### Export pre-processed data (testing set)"
   ]
  },
  {
   "cell_type": "code",
   "execution_count": 34,
   "id": "4ece0ae7-79f0-4eba-b047-f92c4278b1c2",
   "metadata": {},
   "outputs": [
    {
     "name": "stdout",
     "output_type": "stream",
     "text": [
      "Execution time of stop-words removal is : 0.007646532853444418 minutes\n",
      "Execution time of lemmatization is : 1.121544643243154 minutes\n",
      "Execution time of language detection is : 6.092766547203064 minutes\n"
     ]
    }
   ],
   "source": [
    "df_preprocessed_test = pre_process_data(df_clean_test)"
   ]
  },
  {
   "cell_type": "code",
   "execution_count": 35,
   "id": "0d80f37c-0059-4b88-8a2f-068477100f47",
   "metadata": {},
   "outputs": [],
   "source": [
    "df_preprocessed_test.to_csv(os.path.join(\"Output Data\",\"02_preprocessed_test_data.csv\"), index=False)"
   ]
  },
  {
   "cell_type": "markdown",
   "id": "e7f9deaf-609d-4d78-9100-8ff4a7788265",
   "metadata": {},
   "source": [
    "#### Prepare final training dataset (removing bad data for training)"
   ]
  },
  {
   "cell_type": "markdown",
   "id": "50580429-4b76-46b8-a63c-6c1ab88fe48d",
   "metadata": {},
   "source": [
    "##### Adding columns for report category count"
   ]
  },
  {
   "cell_type": "code",
   "execution_count": 140,
   "id": "4f34ab8a-1366-4e32-b209-a4f43c4d8529",
   "metadata": {},
   "outputs": [],
   "source": [
    "df_report_cat_count = df_preprocessed_data.groupby(by='report_aft_swr_lem').agg({'category': 'nunique', 'sub_category': 'nunique'}).add_prefix(\"count_\").sort_values(by = 'count_sub_category', ascending=False)\n",
    "df_preprocessed_final = pd.merge(df_preprocessed_data, df_report_cat_count, how='left', on='report_aft_swr_lem')\n"
   ]
  },
  {
   "cell_type": "code",
   "execution_count": 141,
   "id": "6e7ec072-4b0b-456f-92cd-bafd50655c32",
   "metadata": {},
   "outputs": [
    {
     "data": {
      "text/html": [
       "<div>\n",
       "<style scoped>\n",
       "    .dataframe tbody tr th:only-of-type {\n",
       "        vertical-align: middle;\n",
       "    }\n",
       "\n",
       "    .dataframe tbody tr th {\n",
       "        vertical-align: top;\n",
       "    }\n",
       "\n",
       "    .dataframe thead th {\n",
       "        text-align: right;\n",
       "    }\n",
       "</style>\n",
       "<table border=\"1\" class=\"dataframe\">\n",
       "  <thead>\n",
       "    <tr style=\"text-align: right;\">\n",
       "      <th></th>\n",
       "      <th>category</th>\n",
       "      <th>sub_category</th>\n",
       "      <th>reports</th>\n",
       "      <th>report_length</th>\n",
       "      <th>report_aft_swr</th>\n",
       "      <th>report_aft_swr_lem</th>\n",
       "      <th>language_probability</th>\n",
       "      <th>major_language</th>\n",
       "      <th>major_probability</th>\n",
       "      <th>count_category</th>\n",
       "      <th>count_sub_category</th>\n",
       "    </tr>\n",
       "  </thead>\n",
       "  <tbody>\n",
       "    <tr>\n",
       "      <th>0</th>\n",
       "      <td>Online and Social Media Related Crime</td>\n",
       "      <td>Cyber Bullying  Stalking  Sexting</td>\n",
       "      <td>i had continue received random calls and abusi...</td>\n",
       "      <td>255</td>\n",
       "      <td>continue received random calls abusive message...</td>\n",
       "      <td>continue receive random call abusive message w...</td>\n",
       "      <td>[en:0.9999953231921757]</td>\n",
       "      <td>en</td>\n",
       "      <td>0.9999</td>\n",
       "      <td>1.0</td>\n",
       "      <td>1.0</td>\n",
       "    </tr>\n",
       "  </tbody>\n",
       "</table>\n",
       "</div>"
      ],
      "text/plain": [
       "                                category                       sub_category  \\\n",
       "0  Online and Social Media Related Crime  Cyber Bullying  Stalking  Sexting   \n",
       "\n",
       "                                             reports  report_length  \\\n",
       "0  i had continue received random calls and abusi...            255   \n",
       "\n",
       "                                      report_aft_swr  \\\n",
       "0  continue received random calls abusive message...   \n",
       "\n",
       "                                  report_aft_swr_lem     language_probability  \\\n",
       "0  continue receive random call abusive message w...  [en:0.9999953231921757]   \n",
       "\n",
       "  major_language  major_probability  count_category  count_sub_category  \n",
       "0             en             0.9999             1.0                 1.0  "
      ]
     },
     "execution_count": 141,
     "metadata": {},
     "output_type": "execute_result"
    }
   ],
   "source": [
    "df_preprocessed_final.head(1)"
   ]
  },
  {
   "cell_type": "markdown",
   "id": "5e09847e-48bf-4d97-8512-21b813e05613",
   "metadata": {},
   "source": [
    "##### Removing bad & insufficient data from training set \n",
    "##### Bad data: blank reports, reports tagged with multiple categories/sub-categories, reports not in english\n",
    "##### Insufficient data: category == Report Unlawful Content (only 1 such report), report_length of less than 150 characters"
   ]
  },
  {
   "cell_type": "code",
   "execution_count": 142,
   "id": "b6513884-a96c-4916-94c1-2907874686dd",
   "metadata": {},
   "outputs": [],
   "source": [
    "df_preprocessed_final = df_preprocessed_final.query('report_aft_swr_lem != \"\" & report_aft_swr_lem == report_aft_swr_lem & count_sub_category == 1 & count_category == 1 & major_language == \"en\" & category != \"Report Unlawful Content\" & report_length >= 150').reset_index(drop=True)"
   ]
  },
  {
   "cell_type": "code",
   "execution_count": 143,
   "id": "9fce3609-a631-4979-bbfb-44d58bdc02ed",
   "metadata": {},
   "outputs": [],
   "source": [
    "df_preprocessed_final.drop(['count_category','count_sub_category'], axis=1, inplace=True)"
   ]
  },
  {
   "cell_type": "code",
   "execution_count": 144,
   "id": "3b2a0505-881c-44f6-8275-9ba1ebd5f527",
   "metadata": {},
   "outputs": [],
   "source": [
    "df_preprocessed_final.to_csv(os.path.join(\"Output Data\",\"03_preprocessed_train_data_final.csv\"), index=False)"
   ]
  },
  {
   "cell_type": "markdown",
   "id": "43111d7b-b809-4ae6-a65a-9cf98aca96df",
   "metadata": {},
   "source": [
    "#### Prepare final testing dataset (removing blank & NA reports)"
   ]
  },
  {
   "cell_type": "code",
   "execution_count": 145,
   "id": "c98e2280-59d8-4638-975d-bbd28f8a7833",
   "metadata": {},
   "outputs": [],
   "source": [
    "df_preprocessed_test_final = df_preprocessed_test.query('report_aft_swr_lem != \"\" & report_aft_swr_lem == report_aft_swr_lem').reset_index(drop=True)"
   ]
  },
  {
   "cell_type": "code",
   "execution_count": 147,
   "id": "bd394564-95b9-490c-a126-a251ace293e1",
   "metadata": {},
   "outputs": [],
   "source": [
    "df_preprocessed_test_final.to_csv(os.path.join(\"Output Data\",\"03_preprocessed_test_data_final.csv\"), index=False)"
   ]
  },
  {
   "cell_type": "markdown",
   "id": "6924d5c9-60db-457a-ad6e-e603658a3382",
   "metadata": {
    "jp-MarkdownHeadingCollapsed": true
   },
   "source": [
    "# EDA (Before Feature Extraction) "
   ]
  },
  {
   "cell_type": "code",
   "execution_count": 43,
   "id": "db60a950-54c0-4877-b320-4ca80778dc5f",
   "metadata": {},
   "outputs": [],
   "source": [
    "\n",
    "#df_preprocessed_data = pd.read_csv(filepath_or_buffer = os.path.join(\"Output Data\",\"02_preprocessed_train_data.csv\"), sep = \",\", header = 0)\n",
    "#df_preprocessed_test = pd.read_csv(filepath_or_buffer = os.path.join(\"Output Data\",\"02_preprocessed_test_data.csv\"), sep = \",\", header = 0)"
   ]
  },
  {
   "cell_type": "markdown",
   "id": "926ccb97-881e-4881-b95a-d95c0ccf15d0",
   "metadata": {},
   "source": [
    "##### Add count of categories (that a report is tagged to) to report level preprocessed data"
   ]
  },
  {
   "cell_type": "code",
   "execution_count": 44,
   "id": "4145c607-42ea-435f-bf56-7319fbe4e039",
   "metadata": {},
   "outputs": [
    {
     "data": {
      "text/html": [
       "<div>\n",
       "<style scoped>\n",
       "    .dataframe tbody tr th:only-of-type {\n",
       "        vertical-align: middle;\n",
       "    }\n",
       "\n",
       "    .dataframe tbody tr th {\n",
       "        vertical-align: top;\n",
       "    }\n",
       "\n",
       "    .dataframe thead th {\n",
       "        text-align: right;\n",
       "    }\n",
       "</style>\n",
       "<table border=\"1\" class=\"dataframe\">\n",
       "  <thead>\n",
       "    <tr style=\"text-align: right;\">\n",
       "      <th></th>\n",
       "      <th>count_category</th>\n",
       "      <th>count_sub_category</th>\n",
       "    </tr>\n",
       "    <tr>\n",
       "      <th>report_aft_swr_lem</th>\n",
       "      <th></th>\n",
       "      <th></th>\n",
       "    </tr>\n",
       "  </thead>\n",
       "  <tbody>\n",
       "    <tr>\n",
       "      <th></th>\n",
       "      <td>6</td>\n",
       "      <td>13</td>\n",
       "    </tr>\n",
       "    <tr>\n",
       "      <th>id</th>\n",
       "      <td>5</td>\n",
       "      <td>8</td>\n",
       "    </tr>\n",
       "    <tr>\n",
       "      <th>paytm</th>\n",
       "      <td>3</td>\n",
       "      <td>8</td>\n",
       "    </tr>\n",
       "    <tr>\n",
       "      <th>nan</th>\n",
       "      <td>3</td>\n",
       "      <td>7</td>\n",
       "    </tr>\n",
       "    <tr>\n",
       "      <th>stop fraudulent transaction refund amount source account</th>\n",
       "      <td>1</td>\n",
       "      <td>6</td>\n",
       "    </tr>\n",
       "  </tbody>\n",
       "</table>\n",
       "</div>"
      ],
      "text/plain": [
       "                                                    count_category  \\\n",
       "report_aft_swr_lem                                                   \n",
       "                                                                 6   \n",
       "id                                                               5   \n",
       "paytm                                                            3   \n",
       "nan                                                              3   \n",
       "stop fraudulent transaction refund amount sourc...               1   \n",
       "\n",
       "                                                    count_sub_category  \n",
       "report_aft_swr_lem                                                      \n",
       "                                                                    13  \n",
       "id                                                                   8  \n",
       "paytm                                                                8  \n",
       "nan                                                                  7  \n",
       "stop fraudulent transaction refund amount sourc...                   6  "
      ]
     },
     "execution_count": 44,
     "metadata": {},
     "output_type": "execute_result"
    }
   ],
   "source": [
    "df_report_cat_count = df_preprocessed_data.groupby(by='report_aft_swr_lem').agg({'category': 'nunique', 'sub_category': 'nunique'}).add_prefix(\"count_\").sort_values(by = 'count_sub_category', ascending=False)\n",
    "df_report_cat_count.query('count_sub_category>1 | count_category>1').head()"
   ]
  },
  {
   "cell_type": "code",
   "execution_count": 45,
   "id": "9d065356-5858-45fd-8c7d-19ae88b24fd0",
   "metadata": {},
   "outputs": [
    {
     "data": {
      "text/html": [
       "<div>\n",
       "<style scoped>\n",
       "    .dataframe tbody tr th:only-of-type {\n",
       "        vertical-align: middle;\n",
       "    }\n",
       "\n",
       "    .dataframe tbody tr th {\n",
       "        vertical-align: top;\n",
       "    }\n",
       "\n",
       "    .dataframe thead th {\n",
       "        text-align: right;\n",
       "    }\n",
       "</style>\n",
       "<table border=\"1\" class=\"dataframe\">\n",
       "  <thead>\n",
       "    <tr style=\"text-align: right;\">\n",
       "      <th></th>\n",
       "      <th>category</th>\n",
       "      <th>sub_category</th>\n",
       "      <th>reports</th>\n",
       "      <th>report_length</th>\n",
       "      <th>report_aft_swr</th>\n",
       "      <th>report_aft_swr_lem</th>\n",
       "      <th>language_probability</th>\n",
       "      <th>major_language</th>\n",
       "      <th>major_probability</th>\n",
       "      <th>count_category</th>\n",
       "      <th>count_sub_category</th>\n",
       "    </tr>\n",
       "  </thead>\n",
       "  <tbody>\n",
       "    <tr>\n",
       "      <th>0</th>\n",
       "      <td>Online and Social Media Related Crime</td>\n",
       "      <td>Cyber Bullying  Stalking  Sexting</td>\n",
       "      <td>i had continue received random calls and abusi...</td>\n",
       "      <td>255</td>\n",
       "      <td>continue received random calls abusive message...</td>\n",
       "      <td>continue receive random call abusive message w...</td>\n",
       "      <td>[en:0.9999953231921757]</td>\n",
       "      <td>en</td>\n",
       "      <td>0.9999</td>\n",
       "      <td>1</td>\n",
       "      <td>1</td>\n",
       "    </tr>\n",
       "    <tr>\n",
       "      <th>1</th>\n",
       "      <td>Online Financial Fraud</td>\n",
       "      <td>Fraud CallVishing</td>\n",
       "      <td>the above fraudster is continuously messaging ...</td>\n",
       "      <td>240</td>\n",
       "      <td>fraudster continuously messaging asking pay mo...</td>\n",
       "      <td>fraudster continuously message ask pay money s...</td>\n",
       "      <td>[en:0.9999967556319314]</td>\n",
       "      <td>en</td>\n",
       "      <td>0.9999</td>\n",
       "      <td>1</td>\n",
       "      <td>1</td>\n",
       "    </tr>\n",
       "    <tr>\n",
       "      <th>2</th>\n",
       "      <td>Online Gambling  Betting</td>\n",
       "      <td>Online Gambling  Betting</td>\n",
       "      <td>he is acting like a police and demanding for m...</td>\n",
       "      <td>227</td>\n",
       "      <td>acting like police demanding money adding sect...</td>\n",
       "      <td>act like police demand money add section text ...</td>\n",
       "      <td>[en:0.9999972525242569]</td>\n",
       "      <td>en</td>\n",
       "      <td>0.9999</td>\n",
       "      <td>1</td>\n",
       "      <td>1</td>\n",
       "    </tr>\n",
       "    <tr>\n",
       "      <th>3</th>\n",
       "      <td>Online and Social Media Related Crime</td>\n",
       "      <td>Online Job Fraud</td>\n",
       "      <td>in apna job i have applied for job interview f...</td>\n",
       "      <td>538</td>\n",
       "      <td>apna job applied job interview telecalling res...</td>\n",
       "      <td>apna job apply job interview telecalling resou...</td>\n",
       "      <td>[en:0.9999972800681081]</td>\n",
       "      <td>en</td>\n",
       "      <td>0.9999</td>\n",
       "      <td>1</td>\n",
       "      <td>1</td>\n",
       "    </tr>\n",
       "    <tr>\n",
       "      <th>4</th>\n",
       "      <td>Online Financial Fraud</td>\n",
       "      <td>Fraud CallVishing</td>\n",
       "      <td>i received a call from lady stating that she w...</td>\n",
       "      <td>192</td>\n",
       "      <td>received call lady stating send new phone vivo...</td>\n",
       "      <td>receive call lady state send new phone vivo re...</td>\n",
       "      <td>[en:0.9999973152543171]</td>\n",
       "      <td>en</td>\n",
       "      <td>0.9999</td>\n",
       "      <td>1</td>\n",
       "      <td>1</td>\n",
       "    </tr>\n",
       "  </tbody>\n",
       "</table>\n",
       "</div>"
      ],
      "text/plain": [
       "                                category                       sub_category  \\\n",
       "0  Online and Social Media Related Crime  Cyber Bullying  Stalking  Sexting   \n",
       "1                 Online Financial Fraud                  Fraud CallVishing   \n",
       "2               Online Gambling  Betting           Online Gambling  Betting   \n",
       "3  Online and Social Media Related Crime                   Online Job Fraud   \n",
       "4                 Online Financial Fraud                  Fraud CallVishing   \n",
       "\n",
       "                                             reports  report_length  \\\n",
       "0  i had continue received random calls and abusi...            255   \n",
       "1  the above fraudster is continuously messaging ...            240   \n",
       "2  he is acting like a police and demanding for m...            227   \n",
       "3  in apna job i have applied for job interview f...            538   \n",
       "4  i received a call from lady stating that she w...            192   \n",
       "\n",
       "                                      report_aft_swr  \\\n",
       "0  continue received random calls abusive message...   \n",
       "1  fraudster continuously messaging asking pay mo...   \n",
       "2  acting like police demanding money adding sect...   \n",
       "3  apna job applied job interview telecalling res...   \n",
       "4  received call lady stating send new phone vivo...   \n",
       "\n",
       "                                  report_aft_swr_lem     language_probability  \\\n",
       "0  continue receive random call abusive message w...  [en:0.9999953231921757]   \n",
       "1  fraudster continuously message ask pay money s...  [en:0.9999967556319314]   \n",
       "2  act like police demand money add section text ...  [en:0.9999972525242569]   \n",
       "3  apna job apply job interview telecalling resou...  [en:0.9999972800681081]   \n",
       "4  receive call lady state send new phone vivo re...  [en:0.9999973152543171]   \n",
       "\n",
       "  major_language  major_probability  count_category  count_sub_category  \n",
       "0             en             0.9999               1                   1  \n",
       "1             en             0.9999               1                   1  \n",
       "2             en             0.9999               1                   1  \n",
       "3             en             0.9999               1                   1  \n",
       "4             en             0.9999               1                   1  "
      ]
     },
     "execution_count": 45,
     "metadata": {},
     "output_type": "execute_result"
    }
   ],
   "source": [
    "df_explore = pd.merge(df_preprocessed_data, df_report_cat_count, how='left', on='report_aft_swr_lem')\n",
    "df_explore.head()"
   ]
  },
  {
   "cell_type": "markdown",
   "id": "f95e5ed6-4ebd-47fa-a5f2-3afa9134d14a",
   "metadata": {},
   "source": [
    "##### Distribution of reports by categories"
   ]
  },
  {
   "cell_type": "code",
   "execution_count": 46,
   "id": "60a68e10-03e6-4f2b-8e33-b6921ccc191a",
   "metadata": {},
   "outputs": [
    {
     "data": {
      "image/png": "[encoded data removed]",
      "text/plain": [
       "<Figure size 600x600 with 1 Axes>"
      ]
     },
     "metadata": {},
     "output_type": "display_data"
    }
   ],
   "source": [
    "fig, axs = plt.subplots(nrows = 1, ncols = 1, tight_layout=True, dpi = 300)\n",
    "\n",
    "df_explore.groupby(['category']).size().plot(ax = axs, kind='pie', y='reports', autopct='%1.0f%%', fontsize=2, figsize = (2,2))\n",
    "\n",
    "plt.show()"
   ]
  },
  {
   "cell_type": "markdown",
   "id": "14aff5bc-43ee-4997-a313-3735c5fd7721",
   "metadata": {},
   "source": [
    "##### Distribution of reports by sub-categories"
   ]
  },
  {
   "cell_type": "code",
   "execution_count": 47,
   "id": "d5beb7c9-1ebc-43ab-b26b-92d8e7d2b446",
   "metadata": {},
   "outputs": [
    {
     "data": {
      "image/png": "[encoded data removed]",
      "text/plain": [
       "<Figure size 600x600 with 1 Axes>"
      ]
     },
     "metadata": {},
     "output_type": "display_data"
    }
   ],
   "source": [
    "fig, axs = plt.subplots(nrows = 1, ncols = 1, tight_layout=True, dpi = 300)\n",
    "\n",
    "df_explore.query('category==\"Online Financial Fraud\"').groupby(['sub_category']).size().plot(ax = axs, kind='pie', y='reports', autopct='%1.0f%%', fontsize=2, figsize = (2,2))\n",
    "#df_explore.query('category==\"Online and Social Media Related Crime\"').groupby(['sub_category']).size().plot(ax = axs, kind='pie', y='reports', autopct='%1.0f%%', fontsize=2, figsize = (2,2))\n",
    "#df_explore.query('category==\"Cyber Attack/ Dependent Crimes\"').groupby(['sub_category']).size().plot(ax = axs, kind='pie', y='reports', autopct='%1.0f%%', fontsize=2, figsize = (2,2))\n",
    "\n",
    "plt.show()"
   ]
  },
  {
   "cell_type": "markdown",
   "id": "5faf2881-82cd-43f6-9601-878e366b65cd",
   "metadata": {},
   "source": [
    "##### Let's look at distribution of report lengths (after removing redundant spaces)"
   ]
  },
  {
   "cell_type": "code",
   "execution_count": 48,
   "id": "ace99ed9-d7d7-4c0f-b404-151a2e6d50b8",
   "metadata": {},
   "outputs": [
    {
     "data": {
      "image/png": "[encoded data removed]",
      "text/plain": [
       "<Figure size 640x480 with 1 Axes>"
      ]
     },
     "metadata": {},
     "output_type": "display_data"
    }
   ],
   "source": [
    "from matplotlib import ticker\n",
    "\n",
    "fig, ax = plt.subplots()\n",
    "ax.hist(df_explore['report_length'], bins = 150)\n",
    "\n",
    "ax.xaxis.set_major_locator(ticker.MultipleLocator(100))\n",
    "plt.xticks(fontsize=10, rotation=90)\n",
    "\n",
    "ax.grid(True)\n",
    "#ax.legend(loc='right')\n",
    "ax.set_title(\"Distribution of reports' length\")\n",
    "ax.set_xlabel('Report Length')\n",
    "ax.set_ylabel('Count of reports')\n",
    "\n",
    "plt.show()"
   ]
  },
  {
   "cell_type": "code",
   "execution_count": 49,
   "id": "14ca483f-5594-4da6-9635-74df44f23a59",
   "metadata": {},
   "outputs": [
    {
     "data": {
      "image/png": "[encoded data removed]",
      "text/plain": [
       "<Figure size 1920x1440 with 16 Axes>"
      ]
     },
     "metadata": {},
     "output_type": "display_data"
    }
   ],
   "source": [
    "fig, axs = plt.subplots(nrows = 4, ncols = 4, sharex = True, sharey = False, tight_layout = True, dpi = 300)\n",
    "\n",
    "categories = list(set(df_explore['category']))\n",
    "\n",
    "for pos, val in enumerate(categories):\n",
    "    axs[pos // 4][pos % 4].hist(df_explore[df_explore['category'] == val]['report_length'], bins = 150)\n",
    "    axs[pos // 4][pos % 4].set_title(val, fontdict = {'fontsize': 5})\n",
    "    axs[pos // 4][pos % 4].xaxis.set_major_locator(ticker.MultipleLocator(300))\n",
    "    axs[pos // 4][pos % 4].tick_params(axis='both', labelsize=5)\n",
    "\n",
    "\n",
    "plt.xticks(fontsize=5) # For last empty box\n",
    "plt.yticks(fontsize=5) # For last empty box\n",
    "\n",
    "plt.show()"
   ]
  },
  {
   "cell_type": "markdown",
   "id": "21614fad-5b76-4acb-9d67-f59fb626f976",
   "metadata": {},
   "source": [
    "##### Export Data for Exploration"
   ]
  },
  {
   "cell_type": "code",
   "execution_count": 50,
   "id": "6ad0966a-afd2-45e6-83c3-0f08146ef945",
   "metadata": {},
   "outputs": [],
   "source": [
    "df_explore.to_csv(os.path.join(\"Output Data\",\"99_explore_train_data.csv\"), index=False)"
   ]
  },
  {
   "cell_type": "code",
   "execution_count": null,
   "id": "4cce13b0-d416-442d-838b-84654bc6e497",
   "metadata": {},
   "outputs": [],
   "source": []
  },
  {
   "cell_type": "markdown",
   "id": "594c9efa-e1e9-4454-a15b-a420c953cb01",
   "metadata": {
    "jp-MarkdownHeadingCollapsed": true
   },
   "source": [
    "# Explore & Get Top N on key-words for each category & sub-category"
   ]
  },
  {
   "cell_type": "code",
   "execution_count": 51,
   "id": "282e7eee-63a0-4a25-bc63-d967f5739437",
   "metadata": {},
   "outputs": [],
   "source": [
    "\n",
    "#df_explore = pd.read_csv(filepath_or_buffer = os.path.join(\"Output Data\",\"99_explore_train_data.csv\"), sep = \",\", header = 0)\n",
    "#df_preprocessed_final = pd.read_csv(filepath_or_buffer = os.path.join(\"Output Data\",\"03_preprocessed_train_data_final.csv\"), sep = \",\", header = 0)"
   ]
  },
  {
   "cell_type": "markdown",
   "id": "6912859e-5043-41bb-b3e1-77c1104056c0",
   "metadata": {},
   "source": [
    "##### Let's look at commonly occuring words"
   ]
  },
  {
   "cell_type": "code",
   "execution_count": 52,
   "id": "7407fe3d-739d-4af1-ab29-d61f1b6b6c2a",
   "metadata": {},
   "outputs": [],
   "source": [
    "temp = df_explore['report_aft_swr_lem']"
   ]
  },
  {
   "cell_type": "code",
   "execution_count": 53,
   "id": "b87fe73e-97ef-4395-9dec-e43388f144fd",
   "metadata": {},
   "outputs": [
    {
     "data": {
      "image/png": "[encoded data removed]",
      "text/plain": [
       "<Figure size 640x480 with 1 Axes>"
      ]
     },
     "metadata": {},
     "output_type": "display_data"
    }
   ],
   "source": [
    "temp_text = ' '.join(map(str,temp))\n",
    "wordcloud = WordCloud().generate(temp_text)\n",
    "plt.imshow(wordcloud)\n",
    "plt.axis(\"off\")\n",
    "plt.show()"
   ]
  },
  {
   "cell_type": "code",
   "execution_count": 54,
   "id": "8ec7a79e-b776-4715-931f-f1e9e0c819f5",
   "metadata": {},
   "outputs": [],
   "source": [
    "# Get top n words (overall)\n",
    "\n",
    "#n_top_key_words = 75\n",
    "\n",
    "#temp_text_vec = temp_text.split(' ')\n",
    "#temp_text_vec = [x for (x,y) in pos_tag(temp_text_vec) if y[0].lower() in ['a', 'n', 'v']]\n",
    "#nltk.FreqDist(temp_text_vec).most_common(n_top_key_words)"
   ]
  },
  {
   "cell_type": "markdown",
   "id": "418da644-1bee-407c-a787-a303e49d2a6c",
   "metadata": {},
   "source": [
    "##### Create list of most common words for each category\n",
    "##### (report length>=150 and major_language==en & category != Report Unlawful Content)"
   ]
  },
  {
   "cell_type": "code",
   "execution_count": 55,
   "id": "b7c98d91-65ce-41ca-bc91-999977219f16",
   "metadata": {},
   "outputs": [],
   "source": [
    "\n",
    "def get_key_words_by_category(df_input, n_top_key_words = 75, report_length_thresh = 150):\n",
    "\n",
    "    '''\n",
    "    Returns a dataframe with top n words for each category.\n",
    "\n",
    "            Parameters:\n",
    "                    df_input: dataframe \n",
    "                        Clean & pre-processed dataframe\n",
    "                    n_top_key_words: int, default=75\n",
    "                        Count of most frequent words to be taken from each category\n",
    "                    report_length_thresh: int, default=150\n",
    "                        Threshold on length of reports to be considered to get frequent words from.\n",
    "                        PLEASE NOTE to not keep it too low because reports with low length might not have enough context\n",
    "\n",
    "            Returns:\n",
    "                    key_words_cat: dataframe\n",
    "                        Dataframe with top n words for each category\n",
    "    '''\n",
    "    \n",
    "    start = time.time()\n",
    "\n",
    "    categories = df_input['category'].sort_values().unique()\n",
    "    categories = list(categories)\n",
    "    key_words_cat = pd.DataFrame()\n",
    "    \n",
    "    for val in categories:\n",
    "        temp = df_input.query('category == @val & report_length >= @report_length_thresh & major_language == \"en\" & category != \"Report Unlawful Content\"')['report_aft_swr_lem']\n",
    "        temp_text = ' '.join(map(str,temp))\n",
    "        temp_text_vec = temp_text.split(' ')\n",
    "        temp_text_vec = [x for (x,y) in pos_tag(temp_text_vec) if y[0].lower() in ['a', 'n', 'v']]\n",
    "        temp_text_vec = nltk.FreqDist(temp_text_vec).most_common(n_top_key_words)\n",
    "        key_words_cat[val] = temp_text_vec + ([('x',0)]*(n_top_key_words - len(temp_text_vec) ))\n",
    "\n",
    "    end = time.time()\n",
    "    print(\"Execution time of getting top \",n_top_key_words, \" key words for each category is :\",(end-start)/60, \"minutes\")\n",
    "    \n",
    "    return key_words_cat"
   ]
  },
  {
   "cell_type": "code",
   "execution_count": 56,
   "id": "5327e264-7d39-46c0-af26-467b48952c95",
   "metadata": {},
   "outputs": [
    {
     "name": "stdout",
     "output_type": "stream",
     "text": [
      "Execution time of getting top  75  key words for each category is : 2.4785170356432595 minutes\n"
     ]
    }
   ],
   "source": [
    "key_words_cat = get_key_words_by_category(df_preprocessed_final, n_top_key_words = 75)"
   ]
  },
  {
   "cell_type": "code",
   "execution_count": 57,
   "id": "9148a02c-1210-494e-b396-866854d4dd16",
   "metadata": {},
   "outputs": [
    {
     "data": {
      "text/html": [
       "<div>\n",
       "<style scoped>\n",
       "    .dataframe tbody tr th:only-of-type {\n",
       "        vertical-align: middle;\n",
       "    }\n",
       "\n",
       "    .dataframe tbody tr th {\n",
       "        vertical-align: top;\n",
       "    }\n",
       "\n",
       "    .dataframe thead th {\n",
       "        text-align: right;\n",
       "    }\n",
       "</style>\n",
       "<table border=\"1\" class=\"dataframe\">\n",
       "  <thead>\n",
       "    <tr style=\"text-align: right;\">\n",
       "      <th></th>\n",
       "      <th>Any Other Cyber Crime</th>\n",
       "      <th>Child Pornography CPChild Sexual Abuse Material CSAM</th>\n",
       "      <th>Cryptocurrency Crime</th>\n",
       "      <th>Cyber Attack/ Dependent Crimes</th>\n",
       "      <th>Cyber Terrorism</th>\n",
       "      <th>Hacking  Damage to computercomputer system etc</th>\n",
       "      <th>Online Cyber Trafficking</th>\n",
       "      <th>Online Financial Fraud</th>\n",
       "      <th>Online Gambling  Betting</th>\n",
       "      <th>Online and Social Media Related Crime</th>\n",
       "      <th>Ransomware</th>\n",
       "      <th>RapeGang Rape RGRSexually Abusive Content</th>\n",
       "      <th>Sexually Explicit Act</th>\n",
       "      <th>Sexually Obscene material</th>\n",
       "    </tr>\n",
       "  </thead>\n",
       "  <tbody>\n",
       "    <tr>\n",
       "      <th>0</th>\n",
       "      <td>(number, 6565)</td>\n",
       "      <td>(call, 143)</td>\n",
       "      <td>(money, 432)</td>\n",
       "      <td>(everything, 9024)</td>\n",
       "      <td>(call, 110)</td>\n",
       "      <td>(loan, 1328)</td>\n",
       "      <td>(number, 101)</td>\n",
       "      <td>(amount, 34718)</td>\n",
       "      <td>(money, 460)</td>\n",
       "      <td>(call, 7163)</td>\n",
       "      <td>(file, 57)</td>\n",
       "      <td>(call, 136)</td>\n",
       "      <td>(call, 1101)</td>\n",
       "      <td>(call, 1252)</td>\n",
       "    </tr>\n",
       "  </tbody>\n",
       "</table>\n",
       "</div>"
      ],
      "text/plain": [
       "  Any Other Cyber Crime Child Pornography CPChild Sexual Abuse Material CSAM  \\\n",
       "0        (number, 6565)                                        (call, 143)     \n",
       "\n",
       "  Cryptocurrency Crime Cyber Attack/ Dependent Crimes Cyber Terrorism  \\\n",
       "0         (money, 432)             (everything, 9024)     (call, 110)   \n",
       "\n",
       "  Hacking  Damage to computercomputer system etc Online Cyber Trafficking  \\\n",
       "0                                   (loan, 1328)            (number, 101)   \n",
       "\n",
       "  Online Financial Fraud Online Gambling  Betting  \\\n",
       "0        (amount, 34718)             (money, 460)   \n",
       "\n",
       "  Online and Social Media Related Crime  Ransomware  \\\n",
       "0                          (call, 7163)  (file, 57)   \n",
       "\n",
       "  RapeGang Rape RGRSexually Abusive Content Sexually Explicit Act  \\\n",
       "0                               (call, 136)          (call, 1101)   \n",
       "\n",
       "  Sexually Obscene material  \n",
       "0              (call, 1252)  "
      ]
     },
     "execution_count": 57,
     "metadata": {},
     "output_type": "execute_result"
    }
   ],
   "source": [
    "key_words_cat.head(1)"
   ]
  },
  {
   "cell_type": "markdown",
   "id": "6569cfa5-dc0f-4e41-882f-1f88c3c70c45",
   "metadata": {},
   "source": [
    "##### Export key words list - All categories"
   ]
  },
  {
   "cell_type": "code",
   "execution_count": 58,
   "id": "c4c4fad5-ef7f-4dc0-a3ba-f419380eb329",
   "metadata": {},
   "outputs": [],
   "source": [
    "key_words_cat.to_csv(os.path.join(\"Output Data\",\"04_key_words_train_data_by_category.csv\"), index=False)"
   ]
  },
  {
   "cell_type": "markdown",
   "id": "f99289c3-3d8c-4f6b-a7ae-c5a32523e8dd",
   "metadata": {},
   "source": [
    "##### Create list of most common words for each sub category\n",
    "##### (report length>=150 and major_language==en & category != Report Unlawful Content)"
   ]
  },
  {
   "cell_type": "code",
   "execution_count": 59,
   "id": "ccee341e-a417-417f-a377-2915d37bbf8b",
   "metadata": {},
   "outputs": [],
   "source": [
    "\n",
    "def get_key_words_by_sub_category(df_input, n_top_key_words = 75, report_length_thresh = 150):\n",
    "\n",
    "    '''\n",
    "    Returns a dataframe with top n words for each sub-category.\n",
    "\n",
    "            Parameters:\n",
    "                    df_input: dataframe \n",
    "                        Clean & pre-processed dataframe\n",
    "                    n_top_key_words: int, default=75\n",
    "                        Count of most frequent words to be taken from each sub-category\n",
    "                    report_length_thresh: int, default=150\n",
    "                        Threshold on length of reports to be considered to get frequent words from.\n",
    "                        PLEASE NOTE to not keep it too low because reports with low length might not have enough context\n",
    "\n",
    "            Returns:\n",
    "                    key_words_sub_cat: dataframe\n",
    "                        Dataframe with top n words for each sub-category\n",
    "    '''\n",
    "\n",
    "    \n",
    "    start = time.time()\n",
    "\n",
    "    sub_categories = df_input[['category', 'sub_category']].sort_values(by = ['category','sub_category'])\n",
    "    sub_categories = list(sub_categories['sub_category'].unique())\n",
    "    key_words_sub_cat = pd.DataFrame()\n",
    "    \n",
    "    for val in sub_categories:\n",
    "        temp = df_input.query('sub_category == @val & report_length >= @report_length_thresh & major_language == \"en\" & category != \"Report Unlawful Content\"')['report_aft_swr_lem']\n",
    "        temp_text = ' '.join(map(str,temp))\n",
    "        temp_text_vec = temp_text.split(' ')\n",
    "        temp_text_vec = [x for (x,y) in pos_tag(temp_text_vec) if y[0].lower() in ['a', 'n', 'v']]\n",
    "        temp_text_vec = nltk.FreqDist(temp_text_vec).most_common(n_top_key_words)\n",
    "        key_words_sub_cat[val] = temp_text_vec + ([('x',0)]*(n_top_key_words - len(temp_text_vec) ))\n",
    "    \n",
    "    end = time.time()\n",
    "    print(\"Execution time of getting top \",n_top_key_words, \" key words for each sub-category is :\",(end-start)/60, \"minutes\")\n",
    "\n",
    "    return key_words_sub_cat"
   ]
  },
  {
   "cell_type": "code",
   "execution_count": 60,
   "id": "162d44f6-b94c-43f0-a9a2-7f29b54130d8",
   "metadata": {},
   "outputs": [
    {
     "name": "stdout",
     "output_type": "stream",
     "text": [
      "Execution time of getting top  75  key words for each sub-category is : 2.3882280429204306 minutes\n"
     ]
    }
   ],
   "source": [
    "key_words_sub_cat = get_key_words_by_sub_category(df_preprocessed_final, n_top_key_words = 75, report_length_thresh = 150)"
   ]
  },
  {
   "cell_type": "code",
   "execution_count": 61,
   "id": "53844d4f-7db3-40f1-bacc-4dc020eaa517",
   "metadata": {},
   "outputs": [
    {
     "data": {
      "text/html": [
       "<div>\n",
       "<style scoped>\n",
       "    .dataframe tbody tr th:only-of-type {\n",
       "        vertical-align: middle;\n",
       "    }\n",
       "\n",
       "    .dataframe tbody tr th {\n",
       "        vertical-align: top;\n",
       "    }\n",
       "\n",
       "    .dataframe thead th {\n",
       "        text-align: right;\n",
       "    }\n",
       "</style>\n",
       "<table border=\"1\" class=\"dataframe\">\n",
       "  <thead>\n",
       "    <tr style=\"text-align: right;\">\n",
       "      <th></th>\n",
       "      <th>Other</th>\n",
       "      <th>Child Pornography CPChild Sexual Abuse Material CSAM</th>\n",
       "      <th>Cryptocurrency Fraud</th>\n",
       "      <th>Data Breach/Theft</th>\n",
       "      <th>Denial of Service (DoS)/Distributed Denial of Service (DDOS) attacks</th>\n",
       "      <th>Hacking/Defacement</th>\n",
       "      <th>Malware Attack</th>\n",
       "      <th>Ransomware Attack</th>\n",
       "      <th>SQL Injection</th>\n",
       "      <th>Tampering with computer source documents</th>\n",
       "      <th>...</th>\n",
       "      <th>Impersonating Email</th>\n",
       "      <th>Intimidating Email</th>\n",
       "      <th>Online Job Fraud</th>\n",
       "      <th>Online Matrimonial Fraud</th>\n",
       "      <th>Profile Hacking Identity Theft</th>\n",
       "      <th>Provocative Speech for unlawful acts</th>\n",
       "      <th>Ransomware</th>\n",
       "      <th>RapeGang Rape RGRSexually Abusive Content</th>\n",
       "      <th>Sexually Explicit Act</th>\n",
       "      <th>Sexually Obscene material</th>\n",
       "    </tr>\n",
       "  </thead>\n",
       "  <tbody>\n",
       "    <tr>\n",
       "      <th>0</th>\n",
       "      <td>(number, 6565)</td>\n",
       "      <td>(call, 143)</td>\n",
       "      <td>(money, 432)</td>\n",
       "      <td>(everything, 1227)</td>\n",
       "      <td>(everything, 1260)</td>\n",
       "      <td>(everything, 1355)</td>\n",
       "      <td>(everything, 1293)</td>\n",
       "      <td>(everything, 1339)</td>\n",
       "      <td>(everything, 1255)</td>\n",
       "      <td>(everything, 1295)</td>\n",
       "      <td>...</td>\n",
       "      <td>(email, 51)</td>\n",
       "      <td>(email, 34)</td>\n",
       "      <td>(pay, 809)</td>\n",
       "      <td>(call, 86)</td>\n",
       "      <td>(account, 2539)</td>\n",
       "      <td>(call, 156)</td>\n",
       "      <td>(file, 57)</td>\n",
       "      <td>(call, 136)</td>\n",
       "      <td>(call, 1101)</td>\n",
       "      <td>(call, 1252)</td>\n",
       "    </tr>\n",
       "  </tbody>\n",
       "</table>\n",
       "<p>1 rows × 38 columns</p>\n",
       "</div>"
      ],
      "text/plain": [
       "            Other Child Pornography CPChild Sexual Abuse Material CSAM  \\\n",
       "0  (number, 6565)                                        (call, 143)     \n",
       "\n",
       "  Cryptocurrency Fraud   Data Breach/Theft  \\\n",
       "0         (money, 432)  (everything, 1227)   \n",
       "\n",
       "  Denial of Service (DoS)/Distributed Denial of Service (DDOS) attacks  \\\n",
       "0                                 (everything, 1260)                     \n",
       "\n",
       "   Hacking/Defacement      Malware Attack   Ransomware Attack  \\\n",
       "0  (everything, 1355)  (everything, 1293)  (everything, 1339)   \n",
       "\n",
       "        SQL Injection Tampering with computer source documents  ...  \\\n",
       "0  (everything, 1255)                       (everything, 1295)  ...   \n",
       "\n",
       "  Impersonating Email Intimidating Email Online Job Fraud  \\\n",
       "0         (email, 51)        (email, 34)       (pay, 809)   \n",
       "\n",
       "  Online Matrimonial Fraud Profile Hacking Identity Theft  \\\n",
       "0               (call, 86)                (account, 2539)   \n",
       "\n",
       "  Provocative Speech for unlawful acts  Ransomware  \\\n",
       "0                          (call, 156)  (file, 57)   \n",
       "\n",
       "  RapeGang Rape RGRSexually Abusive Content Sexually Explicit Act  \\\n",
       "0                               (call, 136)          (call, 1101)   \n",
       "\n",
       "  Sexually Obscene material  \n",
       "0              (call, 1252)  \n",
       "\n",
       "[1 rows x 38 columns]"
      ]
     },
     "execution_count": 61,
     "metadata": {},
     "output_type": "execute_result"
    }
   ],
   "source": [
    "key_words_sub_cat.head(1)"
   ]
  },
  {
   "cell_type": "markdown",
   "id": "67573a18-0cdf-4aec-a179-5c21e0f5631b",
   "metadata": {},
   "source": [
    "##### Export key words list - All sub categories"
   ]
  },
  {
   "cell_type": "code",
   "execution_count": 62,
   "id": "0b2612f0-6563-4119-af3c-d465b9e5a369",
   "metadata": {},
   "outputs": [],
   "source": [
    "key_words_sub_cat.to_csv(os.path.join(\"Output Data\",\"04_key_words_train_data_by_sub_category.csv\"), index=False)"
   ]
  },
  {
   "cell_type": "markdown",
   "id": "eae409d1-84a7-401c-9e3c-7905d6bb48e7",
   "metadata": {
    "jp-MarkdownHeadingCollapsed": true
   },
   "source": [
    "# Prepare final list of key words (features)"
   ]
  },
  {
   "cell_type": "code",
   "execution_count": 63,
   "id": "447a3225-fb90-44aa-93f0-25f9dd354515",
   "metadata": {},
   "outputs": [],
   "source": [
    "\n",
    "#key_words = pd.read_csv(filepath_or_buffer = os.path.join(\"Output Data\",\"04_key_words_train_data_by_sub_category.csv\"), sep = \",\", header = 0)"
   ]
  },
  {
   "cell_type": "code",
   "execution_count": 64,
   "id": "81b271c7-87f0-4c98-a9a6-353a84737125",
   "metadata": {},
   "outputs": [],
   "source": [
    "key_words = copy.deepcopy(key_words_sub_cat)"
   ]
  },
  {
   "cell_type": "markdown",
   "id": "8d4570b0-08d4-4802-b849-f77b27b1ce8c",
   "metadata": {},
   "source": [
    "##### Create short master list of key words\n",
    "##### (using top n words from each sub-category to give equal weightage to each sub-cat)"
   ]
  },
  {
   "cell_type": "code",
   "execution_count": 65,
   "id": "908ba877-0f5f-4ec3-b01b-ebce168cd45c",
   "metadata": {},
   "outputs": [
    {
     "data": {
      "text/html": [
       "<div>\n",
       "<style scoped>\n",
       "    .dataframe tbody tr th:only-of-type {\n",
       "        vertical-align: middle;\n",
       "    }\n",
       "\n",
       "    .dataframe tbody tr th {\n",
       "        vertical-align: top;\n",
       "    }\n",
       "\n",
       "    .dataframe thead th {\n",
       "        text-align: right;\n",
       "    }\n",
       "</style>\n",
       "<table border=\"1\" class=\"dataframe\">\n",
       "  <thead>\n",
       "    <tr style=\"text-align: right;\">\n",
       "      <th></th>\n",
       "      <th>Other</th>\n",
       "      <th>Child Pornography CPChild Sexual Abuse Material CSAM</th>\n",
       "      <th>Cryptocurrency Fraud</th>\n",
       "      <th>Data Breach/Theft</th>\n",
       "      <th>Denial of Service (DoS)/Distributed Denial of Service (DDOS) attacks</th>\n",
       "      <th>Hacking/Defacement</th>\n",
       "      <th>Malware Attack</th>\n",
       "      <th>Ransomware Attack</th>\n",
       "      <th>SQL Injection</th>\n",
       "      <th>Tampering with computer source documents</th>\n",
       "      <th>...</th>\n",
       "      <th>Impersonating Email</th>\n",
       "      <th>Intimidating Email</th>\n",
       "      <th>Online Job Fraud</th>\n",
       "      <th>Online Matrimonial Fraud</th>\n",
       "      <th>Profile Hacking Identity Theft</th>\n",
       "      <th>Provocative Speech for unlawful acts</th>\n",
       "      <th>Ransomware</th>\n",
       "      <th>RapeGang Rape RGRSexually Abusive Content</th>\n",
       "      <th>Sexually Explicit Act</th>\n",
       "      <th>Sexually Obscene material</th>\n",
       "    </tr>\n",
       "  </thead>\n",
       "  <tbody>\n",
       "    <tr>\n",
       "      <th>0</th>\n",
       "      <td>number</td>\n",
       "      <td>call</td>\n",
       "      <td>money</td>\n",
       "      <td>everything</td>\n",
       "      <td>everything</td>\n",
       "      <td>everything</td>\n",
       "      <td>everything</td>\n",
       "      <td>everything</td>\n",
       "      <td>everything</td>\n",
       "      <td>everything</td>\n",
       "      <td>...</td>\n",
       "      <td>email</td>\n",
       "      <td>email</td>\n",
       "      <td>pay</td>\n",
       "      <td>call</td>\n",
       "      <td>account</td>\n",
       "      <td>call</td>\n",
       "      <td>file</td>\n",
       "      <td>call</td>\n",
       "      <td>call</td>\n",
       "      <td>call</td>\n",
       "    </tr>\n",
       "  </tbody>\n",
       "</table>\n",
       "<p>1 rows × 38 columns</p>\n",
       "</div>"
      ],
      "text/plain": [
       "    Other Child Pornography CPChild Sexual Abuse Material CSAM  \\\n",
       "0  number                                               call     \n",
       "\n",
       "  Cryptocurrency Fraud Data Breach/Theft  \\\n",
       "0                money        everything   \n",
       "\n",
       "  Denial of Service (DoS)/Distributed Denial of Service (DDOS) attacks  \\\n",
       "0                                         everything                     \n",
       "\n",
       "  Hacking/Defacement Malware Attack Ransomware Attack SQL Injection  \\\n",
       "0         everything     everything        everything    everything   \n",
       "\n",
       "  Tampering with computer source documents  ... Impersonating Email  \\\n",
       "0                               everything  ...               email   \n",
       "\n",
       "  Intimidating Email Online Job Fraud Online Matrimonial Fraud  \\\n",
       "0              email              pay                     call   \n",
       "\n",
       "  Profile Hacking Identity Theft Provocative Speech for unlawful acts  \\\n",
       "0                        account                                 call   \n",
       "\n",
       "  Ransomware RapeGang Rape RGRSexually Abusive Content Sexually Explicit Act  \\\n",
       "0       file                                      call                  call   \n",
       "\n",
       "  Sexually Obscene material  \n",
       "0                      call  \n",
       "\n",
       "[1 rows x 38 columns]"
      ]
     },
     "execution_count": 65,
     "metadata": {},
     "output_type": "execute_result"
    }
   ],
   "source": [
    "# Get words (removing frequency) for each sub-category\n",
    "sub_categories = list(key_words.columns)\n",
    "n_top_key_words = 75\n",
    "for r in range(0,n_top_key_words):\n",
    "    for c in sub_categories:\n",
    "        key_words.loc[:,c] = key_words.loc[:,c].astype(str)\n",
    "        key_words.loc[r,c] = key_words[c][r].split(\"'\")[1].split(\"'\")[0]\n",
    "\n",
    "key_words.head(1)"
   ]
  },
  {
   "cell_type": "code",
   "execution_count": 66,
   "id": "385140fb-e428-4eb8-903d-82de91047ca2",
   "metadata": {},
   "outputs": [],
   "source": [
    "key_words.to_csv(os.path.join(\"Output Data\",\"05_only_key_words_train_data_by_sub_category.csv\"), index=False)"
   ]
  },
  {
   "cell_type": "code",
   "execution_count": 67,
   "id": "d7e73fd5-72af-4150-ac71-74d50682f3df",
   "metadata": {},
   "outputs": [],
   "source": [
    "key_word_list = []\n",
    "for r in range(0,n_top_key_words):\n",
    "    for c in sub_categories:\n",
    "        key_word_list.append(key_words.loc[r,c])\n",
    "\n",
    "key_word_list = list(set(key_word_list))\n"
   ]
  },
  {
   "cell_type": "code",
   "execution_count": 68,
   "id": "5ab0ac66-878a-40da-a40a-34a770c8238a",
   "metadata": {},
   "outputs": [
    {
     "data": {
      "text/plain": [
       "414"
      ]
     },
     "execution_count": 68,
     "metadata": {},
     "output_type": "execute_result"
    }
   ],
   "source": [
    "len(key_word_list)"
   ]
  },
  {
   "cell_type": "code",
   "execution_count": 69,
   "id": "8aad4814-3754-47b7-970f-77712ddfe02d",
   "metadata": {},
   "outputs": [
    {
     "data": {
      "text/plain": [
       "414"
      ]
     },
     "execution_count": 69,
     "metadata": {},
     "output_type": "execute_result"
    }
   ],
   "source": [
    "to_remove = ['x','']\n",
    "\n",
    "# Removing elements\n",
    "for item in to_remove:\n",
    "    if item in key_word_list:\n",
    "        key_word_list.remove(item)\n",
    "\n",
    "len(key_word_list)"
   ]
  },
  {
   "cell_type": "code",
   "execution_count": 70,
   "id": "a641acc2-7058-4332-9d70-72567577a006",
   "metadata": {},
   "outputs": [],
   "source": [
    "#key_word_list"
   ]
  },
  {
   "cell_type": "markdown",
   "id": "3d7e680b-7276-4690-8088-aaca1bfcd400",
   "metadata": {},
   "source": [
    "##### Save key-words list"
   ]
  },
  {
   "cell_type": "code",
   "execution_count": 71,
   "id": "c823373e-d6ee-48e7-b581-9369317c649d",
   "metadata": {},
   "outputs": [
    {
     "name": "stdout",
     "output_type": "stream",
     "text": [
      "Done writing key word list into a binary file\n"
     ]
    }
   ],
   "source": [
    "# store list in binary file so 'wb' mode\n",
    "\n",
    "with open(os.path.join('Output Data', 'key_word_list_top_75_sub_cat'), 'wb') as file:\n",
    "    pickle.dump(key_word_list, file)\n",
    "    file.close()\n",
    "\n",
    "print('Done writing key word list into a binary file')"
   ]
  },
  {
   "cell_type": "markdown",
   "id": "64ad380f-dc40-4ce8-a4a4-e5de87cb9d4b",
   "metadata": {
    "jp-MarkdownHeadingCollapsed": true
   },
   "source": [
    "# Vectorization of reports"
   ]
  },
  {
   "cell_type": "code",
   "execution_count": 184,
   "id": "b930bd44-2e6d-42fc-8e8f-0fa173d1fbd3",
   "metadata": {},
   "outputs": [],
   "source": [
    "\n",
    "#df_preprocessed_final = pd.read_csv(filepath_or_buffer = os.path.join(\"Output Data\",\"03_preprocessed_train_data_final.csv\"), sep = \",\", header = 0)\n",
    "#df_preprocessed_test_final = pd.read_csv(filepath_or_buffer = os.path.join(\"Output Data\",\"03_preprocessed_test_data_final.csv\"), sep = \",\", header = 0)"
   ]
  },
  {
   "cell_type": "markdown",
   "id": "1fbc68ac-9f46-4a0d-b6cd-b2a5682121e0",
   "metadata": {},
   "source": [
    "##### Load list of manually identified key-words"
   ]
  },
  {
   "cell_type": "code",
   "execution_count": 73,
   "id": "09038e25-27bc-4f87-a36f-d4ccfcb648f0",
   "metadata": {},
   "outputs": [],
   "source": [
    "## Read binary file to memory. So, 'rb' mode\n",
    "\n",
    "#with open(os.path.join('Output Data', 'key_word_list_top_75_sub_cat'), 'rb') as file:\n",
    "#    kw_list = pickle.load(file)\n",
    "#    file.close()\n",
    "\n",
    "#print('Done reading key word list into a list variable (kw_list)')"
   ]
  },
  {
   "cell_type": "markdown",
   "id": "87966372-b75c-474a-ae3c-e774efa57f0c",
   "metadata": {},
   "source": [
    "##### Vectorize using TF-IDF with manually identified key-words"
   ]
  },
  {
   "cell_type": "code",
   "execution_count": 185,
   "id": "8a9d36e0-8d24-40a9-af79-eafc32e54c53",
   "metadata": {},
   "outputs": [],
   "source": [
    "# Define function to vectorize reports\n",
    "\n",
    "def vectorize_reports_tf_idf(df_input, use_trained_idf = 'yes', vectorizer_file_name = \"1_tf_idf_transformer.pkl\"):\n",
    "\n",
    "    '''\n",
    "    Returns a dataframe with vectorized dependent (X) variables.\n",
    "\n",
    "            Parameters:\n",
    "                    df_input: dataframe \n",
    "                        Clean & pre-processed dataframe to be vectorized\n",
    "                    use_trained_idf: {'yes', 'no'}, default = 'yes'\n",
    "                        Flag to decide if already trained IDF transformer should be used (yes) or should it train a new one (no) \n",
    "                    vectorizer_file_name: string, default = \"1_tf_idf_transformer.pkl\" \n",
    "                        File name of IDF transformer to be loaded if using trained/saved version. If not already available, train a new one & save\n",
    "                        it with this name\n",
    "\n",
    "            Returns:\n",
    "                    df_output: dataframe\n",
    "                        Dataframe with vectorized dependent (X) variables\n",
    "    '''\n",
    "    \n",
    "    start = time.time()\n",
    "\n",
    "    with open(os.path.join('Output Data', 'key_word_list_top_75_sub_cat'), 'rb') as file:\n",
    "        kw_list = pickle.load(file)\n",
    "        file.close()\n",
    "    \n",
    "    print('Done reading key word list into a list variable (kw_list)')\n",
    "\n",
    "    # Initialize count vectorizer to count term frequency (count) restricting vocabulary to only kw_list\n",
    "    count_vectorizer = CountVectorizer(vocabulary = kw_list)\n",
    "\n",
    "    # Get term frequency / word count of keywords in reports\n",
    "    word_count_vector = count_vectorizer.fit_transform(df_input['report_aft_swr_lem'])\n",
    "\n",
    "    # Get idf of keywords\n",
    "    if use_trained_idf == 'yes':\n",
    "        # Load already trained idf values\n",
    "        with open(os.path.join(\"Vectorizers\",vectorizer_file_name), 'rb') as file:\n",
    "            tfidf_transformer = pickle.load(file)\n",
    "            file.close()\n",
    "        print(vectorizer_file_name, \": TF-IDF transformer loaded!\")\n",
    "    else:\n",
    "        # Train idf of keywords\n",
    "        tfidf_transformer = TfidfTransformer(smooth_idf=True,use_idf=True)\n",
    "        tfidf_transformer.fit(word_count_vector)\n",
    "        # Save trained idf transformer to preserve learnt idf values\n",
    "        with open(os.path.join(\"Vectorizers\",vectorizer_file_name), 'wb') as file:\n",
    "            pickle.dump(tfidf_transformer, file)\n",
    "            file.close()\n",
    "        print(vectorizer_file_name, \": TF-IDF transformer saved!\")\n",
    "\n",
    "    # Get tf-idf values for each word in reports \n",
    "    X_tf_idf = tfidf_transformer.transform(word_count_vector)\n",
    "\n",
    "    X_tf_idf = pd.DataFrame(X_tf_idf.toarray(), columns=count_vectorizer.get_feature_names_out())\n",
    "    X_tf_idf.sort_index(axis=1, inplace=True) # Sorting columns in ascending order of names (key words)\n",
    "\n",
    "    print(\"Shape of input dataframe: \", df_input.shape, \"Shape of vectorized dataframe (before concat with input): \", X_tf_idf.shape)\n",
    "    # Add back reports to vectorized data\n",
    "    if df_input.shape[0] == X_tf_idf.shape[0]:\n",
    "        df_output = pd.concat([df_input, X_tf_idf], axis=1)\n",
    "    else:\n",
    "        print(\"ERROR!: Please make sure that # Rows are same in input dataframe and vectorized dataframe\")\n",
    "\n",
    "    end = time.time()\n",
    "    print(\"Execution time of TF-IDF based report vectorization is :\",(end-start)/60, \"minutes\")\n",
    "\n",
    "    return df_output"
   ]
  },
  {
   "cell_type": "markdown",
   "id": "bbf9a0ac-a1b6-462c-a2c3-9f591dd3eb12",
   "metadata": {},
   "source": [
    "#### Prepare final training dataset (list of clean reports after cleaning, preprocessing, vectorization)"
   ]
  },
  {
   "cell_type": "markdown",
   "id": "4f5df274-5193-40ad-b04e-ae60fc82c715",
   "metadata": {},
   "source": [
    "##### Vectorize training data"
   ]
  },
  {
   "cell_type": "code",
   "execution_count": 186,
   "id": "fe7b9703-ccec-4d2c-831f-67b423948439",
   "metadata": {},
   "outputs": [
    {
     "name": "stdout",
     "output_type": "stream",
     "text": [
      "Done reading key word list into a list variable (kw_list)\n",
      "1_tf_idf_transformer.pkl : TF-IDF transformer saved!\n",
      "Shape of input dataframe:  (67174, 9) Shape of vectorized dataframe (before concat with input):  (67174, 414)\n",
      "Execution time of TF-IDF based report vectorization is : 0.05513914028803508 minutes\n"
     ]
    }
   ],
   "source": [
    "df_vectorized_train = vectorize_reports_tf_idf(df_preprocessed_final, use_trained_idf = 'no', vectorizer_file_name = \"1_tf_idf_transformer.pkl\")"
   ]
  },
  {
   "cell_type": "code",
   "execution_count": 187,
   "id": "e91ee5d6-7ae8-480c-8021-17c6f21601bc",
   "metadata": {},
   "outputs": [
    {
     "data": {
      "text/html": [
       "<div>\n",
       "<style scoped>\n",
       "    .dataframe tbody tr th:only-of-type {\n",
       "        vertical-align: middle;\n",
       "    }\n",
       "\n",
       "    .dataframe tbody tr th {\n",
       "        vertical-align: top;\n",
       "    }\n",
       "\n",
       "    .dataframe thead th {\n",
       "        text-align: right;\n",
       "    }\n",
       "</style>\n",
       "<table border=\"1\" class=\"dataframe\">\n",
       "  <thead>\n",
       "    <tr style=\"text-align: right;\">\n",
       "      <th></th>\n",
       "      <th>category</th>\n",
       "      <th>sub_category</th>\n",
       "      <th>reports</th>\n",
       "      <th>report_length</th>\n",
       "      <th>report_aft_swr</th>\n",
       "      <th>report_aft_swr_lem</th>\n",
       "      <th>language_probability</th>\n",
       "      <th>major_language</th>\n",
       "      <th>major_probability</th>\n",
       "      <th>aaya</th>\n",
       "      <th>...</th>\n",
       "      <th>whatsapp</th>\n",
       "      <th>wife</th>\n",
       "      <th>withdrawal</th>\n",
       "      <th>woman</th>\n",
       "      <th>word</th>\n",
       "      <th>work</th>\n",
       "      <th>year</th>\n",
       "      <th>yesterday</th>\n",
       "      <th>yono</th>\n",
       "      <th>youtube</th>\n",
       "    </tr>\n",
       "  </thead>\n",
       "  <tbody>\n",
       "    <tr>\n",
       "      <th>0</th>\n",
       "      <td>Online and Social Media Related Crime</td>\n",
       "      <td>Cyber Bullying  Stalking  Sexting</td>\n",
       "      <td>i had continue received random calls and abusi...</td>\n",
       "      <td>255</td>\n",
       "      <td>continue received random calls abusive message...</td>\n",
       "      <td>continue receive random call abusive message w...</td>\n",
       "      <td>[en:0.9999953231921757]</td>\n",
       "      <td>en</td>\n",
       "      <td>0.9999</td>\n",
       "      <td>0.0</td>\n",
       "      <td>...</td>\n",
       "      <td>0.243693</td>\n",
       "      <td>0.0</td>\n",
       "      <td>0.0</td>\n",
       "      <td>0.0</td>\n",
       "      <td>0.0</td>\n",
       "      <td>0.0</td>\n",
       "      <td>0.0</td>\n",
       "      <td>0.0</td>\n",
       "      <td>0.0</td>\n",
       "      <td>0.0</td>\n",
       "    </tr>\n",
       "  </tbody>\n",
       "</table>\n",
       "<p>1 rows × 423 columns</p>\n",
       "</div>"
      ],
      "text/plain": [
       "                                category                       sub_category  \\\n",
       "0  Online and Social Media Related Crime  Cyber Bullying  Stalking  Sexting   \n",
       "\n",
       "                                             reports  report_length  \\\n",
       "0  i had continue received random calls and abusi...            255   \n",
       "\n",
       "                                      report_aft_swr  \\\n",
       "0  continue received random calls abusive message...   \n",
       "\n",
       "                                  report_aft_swr_lem     language_probability  \\\n",
       "0  continue receive random call abusive message w...  [en:0.9999953231921757]   \n",
       "\n",
       "  major_language  major_probability  aaya  ...  whatsapp  wife  withdrawal  \\\n",
       "0             en             0.9999   0.0  ...  0.243693   0.0         0.0   \n",
       "\n",
       "   woman  word  work  year  yesterday  yono  youtube  \n",
       "0    0.0   0.0   0.0   0.0        0.0   0.0      0.0  \n",
       "\n",
       "[1 rows x 423 columns]"
      ]
     },
     "execution_count": 187,
     "metadata": {},
     "output_type": "execute_result"
    }
   ],
   "source": [
    "df_vectorized_train.head(1)"
   ]
  },
  {
   "cell_type": "markdown",
   "id": "5c990870-07db-4686-8485-6aeb02157d4e",
   "metadata": {},
   "source": [
    "##### Export vectorized training data"
   ]
  },
  {
   "cell_type": "code",
   "execution_count": 188,
   "id": "f110a367-e1a9-40d1-846f-9aa9ac902843",
   "metadata": {},
   "outputs": [],
   "source": [
    "df_vectorized_train.to_csv(os.path.join(\"Output Data\",\"06_vectorized_train_data.csv\"), index=False)"
   ]
  },
  {
   "cell_type": "markdown",
   "id": "0e87187f-ab49-4ff0-b672-5b6e7bb83693",
   "metadata": {},
   "source": [
    "##### Vectorize test data (NOTE: Use trained IDFs)"
   ]
  },
  {
   "cell_type": "code",
   "execution_count": 189,
   "id": "9c72918f-d842-48da-a2c0-24fae0b3e418",
   "metadata": {},
   "outputs": [
    {
     "name": "stdout",
     "output_type": "stream",
     "text": [
      "Done reading key word list into a list variable (kw_list)\n",
      "1_tf_idf_transformer.pkl : TF-IDF transformer loaded!\n",
      "Shape of input dataframe:  (27334, 9) Shape of vectorized dataframe (before concat with input):  (27334, 414)\n",
      "Execution time of TF-IDF based report vectorization is : 0.01948008139928182 minutes\n"
     ]
    }
   ],
   "source": [
    "df_vectorized_test = vectorize_reports_tf_idf(df_preprocessed_test_final, use_trained_idf = 'yes', vectorizer_file_name = \"1_tf_idf_transformer.pkl\")"
   ]
  },
  {
   "cell_type": "code",
   "execution_count": 190,
   "id": "24db4c9e-3063-4226-9489-727c6412f91f",
   "metadata": {},
   "outputs": [
    {
     "data": {
      "text/html": [
       "<div>\n",
       "<style scoped>\n",
       "    .dataframe tbody tr th:only-of-type {\n",
       "        vertical-align: middle;\n",
       "    }\n",
       "\n",
       "    .dataframe tbody tr th {\n",
       "        vertical-align: top;\n",
       "    }\n",
       "\n",
       "    .dataframe thead th {\n",
       "        text-align: right;\n",
       "    }\n",
       "</style>\n",
       "<table border=\"1\" class=\"dataframe\">\n",
       "  <thead>\n",
       "    <tr style=\"text-align: right;\">\n",
       "      <th></th>\n",
       "      <th>category</th>\n",
       "      <th>sub_category</th>\n",
       "      <th>reports</th>\n",
       "      <th>report_length</th>\n",
       "      <th>report_aft_swr</th>\n",
       "      <th>report_aft_swr_lem</th>\n",
       "      <th>language_probability</th>\n",
       "      <th>major_language</th>\n",
       "      <th>major_probability</th>\n",
       "      <th>aaya</th>\n",
       "      <th>...</th>\n",
       "      <th>whatsapp</th>\n",
       "      <th>wife</th>\n",
       "      <th>withdrawal</th>\n",
       "      <th>woman</th>\n",
       "      <th>word</th>\n",
       "      <th>work</th>\n",
       "      <th>year</th>\n",
       "      <th>yesterday</th>\n",
       "      <th>yono</th>\n",
       "      <th>youtube</th>\n",
       "    </tr>\n",
       "  </thead>\n",
       "  <tbody>\n",
       "    <tr>\n",
       "      <th>0</th>\n",
       "      <td>RapeGang Rape RGRSexually Abusive Content</td>\n",
       "      <td>RapeGang Rape RGRSexually Abusive Content</td>\n",
       "      <td>sir namaskar mein ranjit kumar patrapaise nehi...</td>\n",
       "      <td>730</td>\n",
       "      <td>namaskar mein ranjit kumar patrapaise nehi tho...</td>\n",
       "      <td>namaskar mein ranjit kumar patrapaise nehi tho...</td>\n",
       "      <td>[en:0.8571401891708754, so:0.14285615375411745]</td>\n",
       "      <td>en</td>\n",
       "      <td>0.8571</td>\n",
       "      <td>0.0</td>\n",
       "      <td>...</td>\n",
       "      <td>0.0</td>\n",
       "      <td>0.0</td>\n",
       "      <td>0.0</td>\n",
       "      <td>0.0</td>\n",
       "      <td>0.0</td>\n",
       "      <td>0.0</td>\n",
       "      <td>0.0</td>\n",
       "      <td>0.0</td>\n",
       "      <td>0.0</td>\n",
       "      <td>0.0</td>\n",
       "    </tr>\n",
       "  </tbody>\n",
       "</table>\n",
       "<p>1 rows × 423 columns</p>\n",
       "</div>"
      ],
      "text/plain": [
       "                                    category  \\\n",
       "0  RapeGang Rape RGRSexually Abusive Content   \n",
       "\n",
       "                                sub_category  \\\n",
       "0  RapeGang Rape RGRSexually Abusive Content   \n",
       "\n",
       "                                             reports  report_length  \\\n",
       "0  sir namaskar mein ranjit kumar patrapaise nehi...            730   \n",
       "\n",
       "                                      report_aft_swr  \\\n",
       "0  namaskar mein ranjit kumar patrapaise nehi tho...   \n",
       "\n",
       "                                  report_aft_swr_lem  \\\n",
       "0  namaskar mein ranjit kumar patrapaise nehi tho...   \n",
       "\n",
       "                              language_probability major_language  \\\n",
       "0  [en:0.8571401891708754, so:0.14285615375411745]             en   \n",
       "\n",
       "   major_probability  aaya  ...  whatsapp  wife  withdrawal  woman  word  \\\n",
       "0             0.8571   0.0  ...       0.0   0.0         0.0    0.0   0.0   \n",
       "\n",
       "   work  year  yesterday  yono  youtube  \n",
       "0   0.0   0.0        0.0   0.0      0.0  \n",
       "\n",
       "[1 rows x 423 columns]"
      ]
     },
     "execution_count": 190,
     "metadata": {},
     "output_type": "execute_result"
    }
   ],
   "source": [
    "df_vectorized_test.head(1)"
   ]
  },
  {
   "cell_type": "markdown",
   "id": "2274547e-000f-436e-a6b3-c5fe68ae88f9",
   "metadata": {},
   "source": [
    "##### Export vectorized test data"
   ]
  },
  {
   "cell_type": "code",
   "execution_count": 191,
   "id": "f4f2f28b-0fad-45ca-ad55-c8f672881bcd",
   "metadata": {},
   "outputs": [],
   "source": [
    "df_vectorized_test.to_csv(os.path.join(\"Output Data\",\"06_vectorized_test_data.csv\"), index=False)"
   ]
  },
  {
   "cell_type": "code",
   "execution_count": null,
   "id": "b54874ef-c288-4e5f-b75d-11e74734afbd",
   "metadata": {},
   "outputs": [],
   "source": []
  },
  {
   "cell_type": "markdown",
   "id": "12be6ea1-5dd9-4134-a142-14f055619514",
   "metadata": {
    "jp-MarkdownHeadingCollapsed": true
   },
   "source": [
    "# Model Selection"
   ]
  },
  {
   "cell_type": "code",
   "execution_count": 2,
   "id": "ffddfbfb-c78e-45de-9bcf-7f732a830367",
   "metadata": {},
   "outputs": [],
   "source": [
    "#df_vectorized_train = pd.read_csv(filepath_or_buffer = os.path.join(\"Output Data\",\"06_vectorized_train_data.csv\"), sep = \",\", header = 0)\n",
    "#df_vectorized_test = pd.read_csv(filepath_or_buffer = os.path.join(\"Output Data\",\"06_vectorized_test_data.csv\"), sep = \",\", header = 0)"
   ]
  },
  {
   "cell_type": "markdown",
   "id": "9eb88033-7981-4c67-9294-4bc995099c89",
   "metadata": {},
   "source": [
    "##### Removing 'Crime Against Women & Children' category from test data because this is not present in training data "
   ]
  },
  {
   "cell_type": "code",
   "execution_count": 3,
   "id": "76a9c436-53c8-42e0-860d-b6af8170c4f4",
   "metadata": {},
   "outputs": [],
   "source": [
    "df_train = copy.deepcopy(df_vectorized_train)\n",
    "df_test = copy.deepcopy(df_vectorized_test)\n",
    "\n",
    "df_test = df_test.query('category != \"Crime Against Women & Children\"').reset_index(drop=True)"
   ]
  },
  {
   "cell_type": "markdown",
   "id": "ca3fa4ad-bc0c-4790-9fc5-769e2a1c9f58",
   "metadata": {},
   "source": [
    "##### Function to train models & test their performance"
   ]
  },
  {
   "cell_type": "code",
   "execution_count": 4,
   "id": "f2f00072-1047-4a09-961c-7315403abfea",
   "metadata": {},
   "outputs": [],
   "source": [
    "# Define function for training model and testing performance\n",
    "\n",
    "def run_model(training_data, testing_data, ml_model, ml_model_name, label='category', sampling_model = None, one_hot_label = 'no', save_ml_model = 'yes'):\n",
    "    \n",
    "    '''\n",
    "    Returns a dictionary with performance metrics (accuracy, f1-score, precision and recall) of model on training, validation and testing data.\n",
    "\n",
    "            Parameters:\n",
    "                    training_data: dataframe \n",
    "                        Vectorized training data\n",
    "                    testing_data: dataframe\n",
    "                        Vectorized test data\n",
    "                    ml_model: model\n",
    "                        Selected machine learning model\n",
    "                    ml_model_name: string\n",
    "                        Name with which the machine learning model should be addressed / saved\n",
    "                    label: {'category', 'sub_category'}, default='category'\n",
    "                        Dependent variable (y) name in training & testing data\n",
    "                    sampling_model: model, default=None\n",
    "                        Selected sampling model meant for balancing training dataset\n",
    "                    one_hot_label: {'no', 'yes'}, default='no'\n",
    "                        It determines whether dependent variable (y) should be one-hot encoded or not\n",
    "                    save_ml_model: {'no', 'yes'}, default='yes'\n",
    "                        It determines whether trained ml_model should be saved or not\n",
    "\n",
    "            Returns:\n",
    "                    performance_dict: dictionary\n",
    "                        Dictionary containing performance metrics of model\n",
    "    '''\n",
    "    \n",
    "    # Split total training data into training & validation sets \n",
    "    X = training_data.iloc[:,9:]\n",
    "    y = training_data.loc[:,[label]] # To train on category / sub_category change the column to category / sub_category\n",
    "\n",
    "    label_encoder = preprocessing.LabelEncoder()\n",
    "    label_encoder.fit(y)\n",
    "    y_encoded= label_encoder.transform(y)\n",
    "\n",
    "    # DON'T change stratify to category even if you train model at category level (stratification at sub_category level is better to cover all type of reports)\n",
    "    X_train, X_val, y_train, y_val = train_test_split(X, y_encoded, test_size=0.3, random_state=1, stratify=training_data.loc[:,['sub_category']])\n",
    "\n",
    "    # Create X, y variables for testing data\n",
    "    #testing_data = testing_data.query('category != \"Crime Against Women & Children\"').reset_index(drop=True)\n",
    "    X_test = testing_data.iloc[:,9:]\n",
    "    y_test = testing_data.loc[:,[label]] # To train on category / sub_category change the column to category / sub_category\n",
    "    #y_test_encoded= label_encoder.transform(y_test) # No need to label encode y_test\n",
    "\n",
    "    print('Data splitting & label encoding done')\n",
    "    \n",
    "    # Balancing training data\n",
    "    if sampling_model is None:\n",
    "        print('Sampling model not selected for data balancing')\n",
    "    else:\n",
    "        X_train, y_train = sampling_model.fit_resample(X_train, y_train)\n",
    "        print('Training data balancing done using selected sampling model')\n",
    "\n",
    "    # Convert labels (y) to one hot encoding if requested\n",
    "    if one_hot_label == 'no':\n",
    "        print('One hot encoding is not selected')\n",
    "    else:\n",
    "        n_classes = max(y_encoded)+1\n",
    "        y_train = to_categorical(y_train, n_classes)\n",
    "        # One hot encoding not needed for y_val & y_test_encoded because model fitting takes only training data which should be OH encoded\n",
    "\n",
    "    # Fit model\n",
    "    ml_model.fit(X_train, y_train)\n",
    "    print(ml_model_name,' model is now trained')\n",
    "\n",
    "    # Generate predictions\n",
    "    y_pred_train = ml_model.predict(X_train)\n",
    "    print('Prediction for training data is done')\n",
    "    \n",
    "    y_pred_val = ml_model.predict(X_val)\n",
    "    print('Prediction for validation data is done')\n",
    "    \n",
    "    y_pred_test = ml_model.predict(X_test)\n",
    "    print('Prediction for test data is done')\n",
    "\n",
    "    # Invert encoding transformations\n",
    "    \n",
    "    ## Inverting one hot encoding\n",
    "    if one_hot_label == 'no':\n",
    "        print('.')\n",
    "    else:\n",
    "        y_pred_train = np.argmax(y_pred_train, axis=1)\n",
    "        y_pred_val = np.argmax(y_pred_val, axis=1)\n",
    "        y_pred_test = np.argmax(y_pred_test, axis=1)\n",
    "\n",
    "    ## Inverting label encoding\n",
    "    y_pred_train = label_encoder.inverse_transform(y_pred_train)\n",
    "    y_pred_val = label_encoder.inverse_transform(y_pred_val)\n",
    "    y_pred_test = label_encoder.inverse_transform(y_pred_test)\n",
    "    y_train = label_encoder.inverse_transform(y_train)\n",
    "    y_val = label_encoder.inverse_transform(y_val)\n",
    "    #'y_test' is already available with label names. So, no need to inverse transform 'y_test_encoded'\n",
    "\n",
    "    print('Inverse encoding of labels is done')\n",
    "    \n",
    "    performance_dict = dict()\n",
    "\n",
    "    # Performance on training data\n",
    "    performance_dict['accuracy_train'] = accuracy_score(y_train, y_pred_train)\n",
    "    performance_dict['f1_train'] = f1_score(y_train, y_pred_train, average='weighted')\n",
    "    performance_dict['precision_train'] = precision_score(y_train, y_pred_train, average='weighted')\n",
    "    performance_dict['recall_train'] = recall_score(y_train, y_pred_train, average='weighted')\n",
    "\n",
    "    print(\"Accuracy (Training data): \", accuracy_score(y_train, y_pred_train)) \n",
    "    print(\"F1-score (Training data): \", f1_score(y_train, y_pred_train, average='weighted')) \n",
    "    print(\"Precision (Training data): \", precision_score(y_train, y_pred_train, average='weighted')) \n",
    "    print(\"Recall (Training data): \", recall_score(y_train, y_pred_train, average='weighted'))\n",
    "    \n",
    "    # Performance on validation data\n",
    "    performance_dict['accuracy_val'] = accuracy_score(y_val, y_pred_val)\n",
    "    performance_dict['f1_val'] = f1_score(y_val, y_pred_val, average='weighted')\n",
    "    performance_dict['precision_val'] = precision_score(y_val, y_pred_val, average='weighted')\n",
    "    performance_dict['recall_val'] = recall_score(y_val, y_pred_val, average='weighted')\n",
    "\n",
    "    print(\"Accuracy (Validation data): \", accuracy_score(y_val, y_pred_val)) \n",
    "    print(\"F1-score (Validation data): \", f1_score(y_val, y_pred_val, average='weighted')) \n",
    "    print(\"Precision (Validation data): \", precision_score(y_val, y_pred_val, average='weighted')) \n",
    "    print(\"Recall (Validation data): \", recall_score(y_val, y_pred_val, average='weighted')) \n",
    "    \n",
    "    # Performance on test data\n",
    "    performance_dict['accuracy_test'] = accuracy_score(y_test, y_pred_test)\n",
    "    performance_dict['f1_test'] = f1_score(y_test, y_pred_test, average='weighted')\n",
    "    performance_dict['precision_test'] = precision_score(y_test, y_pred_test, average='weighted')\n",
    "    performance_dict['recall_test'] = recall_score(y_test, y_pred_test, average='weighted')\n",
    "\n",
    "    print(\"Accuracy (Testing data): \", accuracy_score(y_test, y_pred_test)) \n",
    "    print(\"F1-score (Testing data): \", f1_score(y_test, y_pred_test, average='weighted')) \n",
    "    print(\"Precision (Testing data): \", precision_score(y_test, y_pred_test, average='weighted')) \n",
    "    print(\"Recall (Testing data): \", recall_score(y_test, y_pred_test, average='weighted')) \n",
    "\n",
    "    \n",
    "    # Printing classification report\n",
    "    print(\"Classification Report based on training data:\\n\", classification_report(y_train,y_pred_train))\n",
    "    print(\"Classification Report based on validation data:\\n\", classification_report(y_val,y_pred_val))\n",
    "    print(\"Classification Report based on testing data:\\n \", classification_report(y_test,y_pred_test))\n",
    "\n",
    "    # Save model\n",
    "    if save_ml_model == 'yes':\n",
    "        model_pkl_file = ml_model_name + '.pkl'\n",
    "        \n",
    "        if sampling_model is None:\n",
    "            with open(os.path.join(\"Models\", label, model_pkl_file), 'wb') as file:\n",
    "                pickle.dump(ml_model, file)\n",
    "                file.close()\n",
    "                print(\"Model saved!\")\n",
    "        else:\n",
    "            with open(os.path.join(\"Models\", label, \"with_balanced_data\", model_pkl_file), 'wb') as file:\n",
    "                pickle.dump(ml_model, file)\n",
    "                file.close()\n",
    "                print(\"Model saved!\")\n",
    "    else:\n",
    "        print(\"Model not saved\")\n",
    "    \n",
    "    return performance_dict"
   ]
  },
  {
   "cell_type": "markdown",
   "id": "ce391bbe-f32e-49af-8abe-cd037ff2457e",
   "metadata": {},
   "source": [
    "##### Create list of ML Models to test"
   ]
  },
  {
   "cell_type": "code",
   "execution_count": 5,
   "id": "e6f5cdc7-3288-451e-a509-5c8e6f43121f",
   "metadata": {},
   "outputs": [],
   "source": [
    "# Create dictionary of ML models\n",
    "def get_ml_models(for_balanced_data = 'no'):\n",
    "\n",
    "    '''\n",
    "    Returns a dictionary with machine learning models.\n",
    "\n",
    "            Parameters:\n",
    "                    for_balanced_data: {'no', 'yes'}, default='no'\n",
    "                        It determines whether ml models should be chosen from set of models meant for imbalanced data (no) or balanced data (yes).\n",
    "                        PLEASE NOTE to Mark it as 'yes' if sampling model is being used to balance imbalanced data before it enters ml model\n",
    "\n",
    "            Returns:\n",
    "                    models: dictionary\n",
    "                        Dictionary with machine learning models\n",
    "    '''\n",
    "    \n",
    "    models = dict()\n",
    "    \n",
    "    if for_balanced_data == 'no':\n",
    "        # Use below models if data is imbalanced\n",
    "        models['1_svm_balanced_weights'] = LinearSVC(class_weight='balanced', random_state=1)\n",
    "        models['2_xgb_no_weight_change'] = XGBClassifier(random_state=1)\n",
    "        models['3_rf_balanced_weights'] = RandomForestClassifier(class_weight='balanced', random_state=1)\n",
    "    else:\n",
    "        # Use below models if data is balanced\n",
    "        models['4_svm_wo_balanced_weights_bal_data'] = LinearSVC(random_state=1)\n",
    "        models['5_xgb_no_weight_change_bal_data'] = XGBClassifier(random_state=1)\n",
    "        models['6_rf_wo_balanced_weights_bal_data'] = RandomForestClassifier(random_state=1)\n",
    "        \n",
    "    return models"
   ]
  },
  {
   "cell_type": "markdown",
   "id": "7b642961-f753-4e6e-9fdb-710c0d61ae85",
   "metadata": {},
   "source": [
    "##### Select sampling model for balancing dataset"
   ]
  },
  {
   "cell_type": "code",
   "execution_count": 6,
   "id": "e051d885-c3a2-4161-b66d-8e4495c43ff7",
   "metadata": {},
   "outputs": [],
   "source": [
    "selected_sampling_model = RandomOverSampler()"
   ]
  },
  {
   "cell_type": "markdown",
   "id": "814cab75-128d-4111-bc3e-49f34a9a1e6e",
   "metadata": {},
   "source": [
    "##### Select ml models"
   ]
  },
  {
   "cell_type": "code",
   "execution_count": 7,
   "id": "15beb68d-b178-451b-8915-acef63ce4f94",
   "metadata": {},
   "outputs": [],
   "source": [
    "# Select for_balanced_data = 'yes' IF sampling model is being used to balance the training dataset\n",
    "ml_models = get_ml_models(for_balanced_data = 'no')"
   ]
  },
  {
   "cell_type": "markdown",
   "id": "83258f76-b646-4b82-973f-34ea2879048e",
   "metadata": {},
   "source": [
    "##### Run Models"
   ]
  },
  {
   "cell_type": "code",
   "execution_count": 8,
   "id": "77557637-53f1-4932-8f07-57ac8ec86eb0",
   "metadata": {},
   "outputs": [
    {
     "name": "stdout",
     "output_type": "stream",
     "text": [
      "Running  1_svm_balanced_weights  model.\n",
      "Data splitting & label encoding done\n",
      "Sampling model not selected for data balancing\n",
      "One hot encoding is not selected\n",
      "1_svm_balanced_weights  model is now trained\n",
      "Prediction for training data is done\n",
      "Prediction for validation data is done\n",
      "Prediction for test data is done\n",
      ".\n",
      "Inverse encoding of labels is done\n",
      "Accuracy (Training data):  0.6072605856957529\n",
      "F1-score (Training data):  0.6476235737645155\n",
      "Precision (Training data):  0.7267928380635685\n",
      "Recall (Training data):  0.6072605856957529\n",
      "Accuracy (Validation data):  0.5851734233116658\n",
      "F1-score (Validation data):  0.6300457028354812\n",
      "Precision (Validation data):  0.7070150983293687\n",
      "Recall (Validation data):  0.5851734233116658\n",
      "Accuracy (Testing data):  0.5834979875594585\n",
      "F1-score (Testing data):  0.6310181688710259\n",
      "Precision (Testing data):  0.7124886334683442\n",
      "Recall (Testing data):  0.5834979875594585\n",
      "Classification Report based on training data:\n",
      "                                                       precision    recall  f1-score   support\n",
      "\n",
      "                               Any Other Cyber Crime       0.43      0.22      0.29      6455\n",
      "Child Pornography CPChild Sexual Abuse Material CSAM       0.14      0.70      0.23       210\n",
      "                                Cryptocurrency Crime       0.25      0.94      0.40       306\n",
      "                      Cyber Attack/ Dependent Crimes       1.00      1.00      1.00      2525\n",
      "                                     Cyber Terrorism       0.05      0.82      0.09       103\n",
      "      Hacking  Damage to computercomputer system etc       0.24      0.69      0.36       970\n",
      "                            Online Cyber Trafficking       0.03      0.48      0.06       111\n",
      "                              Online Financial Fraud       0.88      0.74      0.80     26754\n",
      "                            Online Gambling  Betting       0.06      0.49      0.10       270\n",
      "               Online and Social Media Related Crime       0.62      0.40      0.49      7149\n",
      "                                          Ransomware       0.32      0.97      0.49        38\n",
      "           RapeGang Rape RGRSexually Abusive Content       0.11      0.79      0.19       147\n",
      "                               Sexually Explicit Act       0.17      0.17      0.17       911\n",
      "                           Sexually Obscene material       0.22      0.25      0.23      1072\n",
      "\n",
      "                                            accuracy                           0.61     47021\n",
      "                                           macro avg       0.32      0.62      0.35     47021\n",
      "                                        weighted avg       0.73      0.61      0.65     47021\n",
      "\n",
      "Classification Report based on validation data:\n",
      "                                                       precision    recall  f1-score   support\n",
      "\n",
      "                               Any Other Cyber Crime       0.40      0.20      0.27      2766\n",
      "Child Pornography CPChild Sexual Abuse Material CSAM       0.10      0.50      0.16        90\n",
      "                                Cryptocurrency Crime       0.20      0.78      0.32       131\n",
      "                      Cyber Attack/ Dependent Crimes       1.00      1.00      1.00      1083\n",
      "                                     Cyber Terrorism       0.01      0.11      0.01        44\n",
      "      Hacking  Damage to computercomputer system etc       0.22      0.60      0.32       414\n",
      "                            Online Cyber Trafficking       0.01      0.09      0.01        47\n",
      "                              Online Financial Fraud       0.87      0.73      0.80     11468\n",
      "                            Online Gambling  Betting       0.03      0.30      0.06       116\n",
      "               Online and Social Media Related Crime       0.59      0.38      0.46      3065\n",
      "                                          Ransomware       0.10      0.38      0.16        16\n",
      "           RapeGang Rape RGRSexually Abusive Content       0.05      0.37      0.09        63\n",
      "                               Sexually Explicit Act       0.12      0.13      0.13       391\n",
      "                           Sexually Obscene material       0.13      0.15      0.14       459\n",
      "\n",
      "                                            accuracy                           0.59     20153\n",
      "                                           macro avg       0.27      0.41      0.28     20153\n",
      "                                        weighted avg       0.71      0.59      0.63     20153\n",
      "\n",
      "Classification Report based on testing data:\n",
      "                                                        precision    recall  f1-score   support\n",
      "\n",
      "                               Any Other Cyber Crime       0.37      0.18      0.24      3609\n",
      "Child Pornography CPChild Sexual Abuse Material CSAM       0.07      0.47      0.12       114\n",
      "                                Cryptocurrency Crime       0.20      0.79      0.32       162\n",
      "                      Cyber Attack/ Dependent Crimes       1.00      1.00      1.00      1261\n",
      "                                     Cyber Terrorism       0.00      0.08      0.01        51\n",
      "      Hacking  Damage to computercomputer system etc       0.22      0.61      0.32       580\n",
      "                            Online Cyber Trafficking       0.00      0.05      0.01        61\n",
      "                              Online Financial Fraud       0.88      0.74      0.80     16051\n",
      "                            Online Gambling  Betting       0.02      0.23      0.04       133\n",
      "               Online and Social Media Related Crime       0.58      0.36      0.44      4045\n",
      "                                          Ransomware       0.06      0.28      0.10        18\n",
      "           RapeGang Rape RGRSexually Abusive Content       0.05      0.40      0.09        86\n",
      "                               Sexually Explicit Act       0.11      0.10      0.11       518\n",
      "                           Sexually Obscene material       0.17      0.18      0.18       641\n",
      "\n",
      "                                            accuracy                           0.58     27330\n",
      "                                           macro avg       0.27      0.39      0.27     27330\n",
      "                                        weighted avg       0.71      0.58      0.63     27330\n",
      "\n",
      "Model saved!\n",
      "1_svm_balanced_weights  : Training & testing completed in :  0.2523669242858887  minutes.\n",
      "\n",
      "Running  2_xgb_no_weight_change  model.\n",
      "Data splitting & label encoding done\n",
      "Sampling model not selected for data balancing\n",
      "One hot encoding is not selected\n",
      "2_xgb_no_weight_change  model is now trained\n",
      "Prediction for training data is done\n",
      "Prediction for validation data is done\n",
      "Prediction for test data is done\n",
      ".\n",
      "Inverse encoding of labels is done\n",
      "Accuracy (Training data):  0.8223134344229174\n",
      "F1-score (Training data):  0.8062682668067213\n",
      "Precision (Training data):  0.8235199912492301\n",
      "Recall (Training data):  0.8223134344229174\n",
      "Accuracy (Validation data):  0.7166674936733985\n",
      "F1-score (Validation data):  0.6781563530770084\n",
      "Precision (Validation data):  0.6686233626557739\n",
      "Recall (Validation data):  0.7166674936733985\n",
      "Accuracy (Testing data):  0.7216245883644347\n",
      "F1-score (Testing data):  0.6822372786078915\n",
      "Precision (Testing data):  0.6737282061031707\n",
      "Recall (Testing data):  0.7216245883644347\n",
      "Classification Report based on training data:\n",
      "                                                       precision    recall  f1-score   support\n",
      "\n",
      "                               Any Other Cyber Crime       0.77      0.42      0.54      6455\n",
      "Child Pornography CPChild Sexual Abuse Material CSAM       0.95      0.75      0.84       210\n",
      "                                Cryptocurrency Crime       0.98      0.87      0.92       306\n",
      "                      Cyber Attack/ Dependent Crimes       1.00      1.00      1.00      2525\n",
      "                                     Cyber Terrorism       1.00      0.60      0.75       103\n",
      "      Hacking  Damage to computercomputer system etc       0.88      0.71      0.79       970\n",
      "                            Online Cyber Trafficking       1.00      0.36      0.53       111\n",
      "                              Online Financial Fraud       0.83      0.97      0.89     26754\n",
      "                            Online Gambling  Betting       1.00      0.47      0.64       270\n",
      "               Online and Social Media Related Crime       0.73      0.73      0.73      7149\n",
      "                                          Ransomware       1.00      1.00      1.00        38\n",
      "           RapeGang Rape RGRSexually Abusive Content       1.00      0.73      0.84       147\n",
      "                               Sexually Explicit Act       0.97      0.34      0.51       911\n",
      "                           Sexually Obscene material       0.94      0.46      0.61      1072\n",
      "\n",
      "                                            accuracy                           0.82     47021\n",
      "                                           macro avg       0.93      0.67      0.76     47021\n",
      "                                        weighted avg       0.82      0.82      0.81     47021\n",
      "\n",
      "Classification Report based on validation data:\n",
      "                                                       precision    recall  f1-score   support\n",
      "\n",
      "                               Any Other Cyber Crime       0.46      0.23      0.31      2766\n",
      "Child Pornography CPChild Sexual Abuse Material CSAM       0.52      0.26      0.34        90\n",
      "                                Cryptocurrency Crime       0.65      0.42      0.51       131\n",
      "                      Cyber Attack/ Dependent Crimes       1.00      1.00      1.00      1083\n",
      "                                     Cyber Terrorism       0.00      0.00      0.00        44\n",
      "      Hacking  Damage to computercomputer system etc       0.40      0.25      0.31       414\n",
      "                            Online Cyber Trafficking       0.00      0.00      0.00        47\n",
      "                              Online Financial Fraud       0.77      0.93      0.84     11468\n",
      "                            Online Gambling  Betting       0.12      0.01      0.02       116\n",
      "               Online and Social Media Related Crime       0.55      0.59      0.57      3065\n",
      "                                          Ransomware       0.60      0.19      0.29        16\n",
      "           RapeGang Rape RGRSexually Abusive Content       0.86      0.10      0.17        63\n",
      "                               Sexually Explicit Act       0.18      0.03      0.04       391\n",
      "                           Sexually Obscene material       0.31      0.07      0.11       459\n",
      "\n",
      "                                            accuracy                           0.72     20153\n",
      "                                           macro avg       0.46      0.29      0.32     20153\n",
      "                                        weighted avg       0.67      0.72      0.68     20153\n",
      "\n",
      "Classification Report based on testing data:\n",
      "                                                        precision    recall  f1-score   support\n",
      "\n",
      "                               Any Other Cyber Crime       0.43      0.20      0.28      3609\n",
      "Child Pornography CPChild Sexual Abuse Material CSAM       0.59      0.24      0.34       114\n",
      "                                Cryptocurrency Crime       0.55      0.38      0.45       162\n",
      "                      Cyber Attack/ Dependent Crimes       1.00      1.00      1.00      1261\n",
      "                                     Cyber Terrorism       0.00      0.00      0.00        51\n",
      "      Hacking  Damage to computercomputer system etc       0.39      0.25      0.31       580\n",
      "                            Online Cyber Trafficking       0.00      0.00      0.00        61\n",
      "                              Online Financial Fraud       0.78      0.94      0.85     16051\n",
      "                            Online Gambling  Betting       0.22      0.02      0.03       133\n",
      "               Online and Social Media Related Crime       0.56      0.58      0.57      4045\n",
      "                                          Ransomware       0.57      0.22      0.32        18\n",
      "           RapeGang Rape RGRSexually Abusive Content       0.44      0.14      0.21        86\n",
      "                               Sexually Explicit Act       0.30      0.04      0.07       518\n",
      "                           Sexually Obscene material       0.41      0.09      0.14       641\n",
      "\n",
      "                                            accuracy                           0.72     27330\n",
      "                                           macro avg       0.45      0.29      0.33     27330\n",
      "                                        weighted avg       0.67      0.72      0.68     27330\n",
      "\n",
      "Model saved!\n",
      "2_xgb_no_weight_change  : Training & testing completed in :  1.2517170190811158  minutes.\n",
      "\n",
      "Running  3_rf_balanced_weights  model.\n",
      "Data splitting & label encoding done\n",
      "Sampling model not selected for data balancing\n",
      "One hot encoding is not selected\n",
      "3_rf_balanced_weights  model is now trained\n",
      "Prediction for training data is done\n",
      "Prediction for validation data is done\n",
      "Prediction for test data is done\n",
      ".\n",
      "Inverse encoding of labels is done\n",
      "Accuracy (Training data):  0.9995108568511941\n",
      "F1-score (Training data):  0.9995115111741023\n",
      "Precision (Training data):  0.9995138495004916\n",
      "Recall (Training data):  0.9995108568511941\n",
      "Accuracy (Validation data):  0.7141864734778941\n",
      "F1-score (Validation data):  0.6481268873097661\n",
      "Precision (Validation data):  0.6842701784403954\n",
      "Recall (Validation data):  0.7141864734778941\n",
      "Accuracy (Testing data):  0.7154774972557629\n",
      "F1-score (Testing data):  0.6564490229934186\n",
      "Precision (Testing data):  0.6809212030231314\n",
      "Recall (Testing data):  0.7154774972557629\n",
      "Classification Report based on training data:\n",
      "                                                       precision    recall  f1-score   support\n",
      "\n",
      "                               Any Other Cyber Crime       1.00      1.00      1.00      6455\n",
      "Child Pornography CPChild Sexual Abuse Material CSAM       0.98      1.00      0.99       210\n",
      "                                Cryptocurrency Crime       0.99      1.00      1.00       306\n",
      "                      Cyber Attack/ Dependent Crimes       1.00      1.00      1.00      2525\n",
      "                                     Cyber Terrorism       1.00      1.00      1.00       103\n",
      "      Hacking  Damage to computercomputer system etc       1.00      1.00      1.00       970\n",
      "                            Online Cyber Trafficking       1.00      1.00      1.00       111\n",
      "                              Online Financial Fraud       1.00      1.00      1.00     26754\n",
      "                            Online Gambling  Betting       1.00      1.00      1.00       270\n",
      "               Online and Social Media Related Crime       1.00      1.00      1.00      7149\n",
      "                                          Ransomware       1.00      1.00      1.00        38\n",
      "           RapeGang Rape RGRSexually Abusive Content       1.00      0.99      1.00       147\n",
      "                               Sexually Explicit Act       1.00      1.00      1.00       911\n",
      "                           Sexually Obscene material       1.00      1.00      1.00      1072\n",
      "\n",
      "                                            accuracy                           1.00     47021\n",
      "                                           macro avg       1.00      1.00      1.00     47021\n",
      "                                        weighted avg       1.00      1.00      1.00     47021\n",
      "\n",
      "Classification Report based on validation data:\n",
      "                                                       precision    recall  f1-score   support\n",
      "\n",
      "                               Any Other Cyber Crime       0.57      0.10      0.18      2766\n",
      "Child Pornography CPChild Sexual Abuse Material CSAM       0.71      0.33      0.45        90\n",
      "                                Cryptocurrency Crime       0.80      0.18      0.30       131\n",
      "                      Cyber Attack/ Dependent Crimes       1.00      1.00      1.00      1083\n",
      "                                     Cyber Terrorism       0.00      0.00      0.00        44\n",
      "      Hacking  Damage to computercomputer system etc       0.46      0.16      0.23       414\n",
      "                            Online Cyber Trafficking       0.00      0.00      0.00        47\n",
      "                              Online Financial Fraud       0.73      0.98      0.83     11468\n",
      "                            Online Gambling  Betting       0.00      0.00      0.00       116\n",
      "               Online and Social Media Related Crime       0.57      0.55      0.56      3065\n",
      "                                          Ransomware       0.67      0.25      0.36        16\n",
      "           RapeGang Rape RGRSexually Abusive Content       1.00      0.08      0.15        63\n",
      "                               Sexually Explicit Act       1.00      0.01      0.01       391\n",
      "                           Sexually Obscene material       0.44      0.02      0.03       459\n",
      "\n",
      "                                            accuracy                           0.71     20153\n",
      "                                           macro avg       0.57      0.26      0.29     20153\n",
      "                                        weighted avg       0.68      0.71      0.65     20153\n",
      "\n",
      "Classification Report based on testing data:\n",
      "                                                        precision    recall  f1-score   support\n",
      "\n",
      "                               Any Other Cyber Crime       0.51      0.10      0.17      3609\n",
      "Child Pornography CPChild Sexual Abuse Material CSAM       0.69      0.27      0.39       114\n",
      "                                Cryptocurrency Crime       0.68      0.22      0.33       162\n",
      "                      Cyber Attack/ Dependent Crimes       1.00      1.00      1.00      1261\n",
      "                                     Cyber Terrorism       0.00      0.00      0.00        51\n",
      "      Hacking  Damage to computercomputer system etc       0.40      0.16      0.23       580\n",
      "                            Online Cyber Trafficking       0.00      0.00      0.00        61\n",
      "                              Online Financial Fraud       0.74      0.96      0.84     16051\n",
      "                            Online Gambling  Betting       0.00      0.00      0.00       133\n",
      "               Online and Social Media Related Crime       0.56      0.55      0.56      4045\n",
      "                                          Ransomware       0.57      0.22      0.32        18\n",
      "           RapeGang Rape RGRSexually Abusive Content       0.65      0.13      0.21        86\n",
      "                               Sexually Explicit Act       0.86      0.06      0.11       518\n",
      "                           Sexually Obscene material       0.71      0.07      0.13       641\n",
      "\n",
      "                                            accuracy                           0.72     27330\n",
      "                                           macro avg       0.53      0.27      0.31     27330\n",
      "                                        weighted avg       0.68      0.72      0.66     27330\n",
      "\n",
      "Model saved!\n",
      "3_rf_balanced_weights  : Training & testing completed in :  1.272138814131419  minutes.\n",
      "\n"
     ]
    }
   ],
   "source": [
    "# AT CATEGORY LEVEL\n",
    "\n",
    "performance_summary_dict = dict()\n",
    "\n",
    "for selected_ml_model_name, selected_ml_model in ml_models.items():\n",
    "    print(\"Running \", selected_ml_model_name, \" model.\")\n",
    "    start = time.time()\n",
    "    \n",
    "    # Set sampling_model = selected_sampling_model if sampling model is being used\n",
    "    # Set sampling_model = None if sampling model not being used\n",
    "    performance_summary_dict[selected_ml_model_name] = run_model(training_data = df_train, testing_data = df_test,\n",
    "                                                        ml_model = selected_ml_model, ml_model_name = selected_ml_model_name,\n",
    "                                                        label='category', sampling_model = None, one_hot_label = 'no', save_ml_model = 'yes')\n",
    "    \n",
    "    end = time.time()\n",
    "    print(selected_ml_model_name,\" : Training & testing completed in : \", (end-start)/60, \" minutes.\\n\")\n"
   ]
  },
  {
   "cell_type": "code",
   "execution_count": null,
   "id": "ef822459-4c7e-48e7-a5e2-704a5c3a49f3",
   "metadata": {},
   "outputs": [],
   "source": []
  },
  {
   "cell_type": "code",
   "execution_count": 9,
   "id": "f1acfc8c-8d0f-4406-8331-28992677e15a",
   "metadata": {},
   "outputs": [
    {
     "name": "stdout",
     "output_type": "stream",
     "text": [
      "Running  1_svm_balanced_weights  model.\n",
      "Data splitting & label encoding done\n",
      "Sampling model not selected for data balancing\n",
      "One hot encoding is not selected\n",
      "1_svm_balanced_weights  model is now trained\n",
      "Prediction for training data is done\n",
      "Prediction for validation data is done\n",
      "Prediction for test data is done\n",
      ".\n",
      "Inverse encoding of labels is done\n",
      "Accuracy (Training data):  0.40086344399310947\n",
      "F1-score (Training data):  0.4091345095328783\n",
      "Precision (Training data):  0.5046212125248953\n",
      "Recall (Training data):  0.40086344399310947\n",
      "Accuracy (Validation data):  0.3646107279313254\n",
      "F1-score (Validation data):  0.38384215195134\n",
      "Precision (Validation data):  0.4784909949359952\n",
      "Recall (Validation data):  0.3646107279313254\n",
      "Accuracy (Testing data):  0.3660446395901939\n",
      "F1-score (Testing data):  0.38777194392809555\n",
      "Precision (Testing data):  0.4799027033574554\n",
      "Recall (Testing data):  0.3660446395901939\n",
      "Classification Report based on training data:\n",
      "                                                                       precision    recall  f1-score   support\n",
      "\n",
      "                             Business Email CompromiseEmail Takeover       0.08      0.63      0.14       175\n",
      "                                           Cheating by Impersonation       0.17      0.08      0.11      1155\n",
      "                Child Pornography CPChild Sexual Abuse Material CSAM       0.16      0.67      0.25       210\n",
      "                                                Cryptocurrency Fraud       0.30      0.91      0.45       306\n",
      "                                   Cyber Bullying  Stalking  Sexting       0.49      0.47      0.48      2411\n",
      "                                                     Cyber Terrorism       0.05      0.72      0.10       103\n",
      "                             Damage to computer computer systems etc       0.08      0.91      0.15        56\n",
      "                                                   Data Breach/Theft       0.20      0.24      0.22       339\n",
      "                                DebitCredit Card FraudSim Swap Fraud       0.66      0.73      0.70      5182\n",
      "                                               DematDepository Fraud       0.11      0.36      0.17       439\n",
      "Denial of Service (DoS)/Distributed Denial of Service (DDOS) attacks       0.20      0.24      0.21       353\n",
      "                                                      EMail Phishing       0.10      0.74      0.18        99\n",
      "                                               EWallet Related Fraud       0.45      0.41      0.43      2140\n",
      "                                                       Email Hacking       0.32      0.77      0.45       217\n",
      "                                           FakeImpersonating Profile       0.38      0.45      0.41      1382\n",
      "                                                   Fraud CallVishing       0.35      0.11      0.17      3550\n",
      "                                                  Hacking/Defacement       0.24      0.21      0.23       378\n",
      "                                                 Impersonating Email       0.24      1.00      0.39        28\n",
      "                                      Internet Banking Related Fraud       0.62      0.49      0.55      4069\n",
      "                                                  Intimidating Email       0.37      1.00      0.54        20\n",
      "                                                      Malware Attack       0.18      0.22      0.20       365\n",
      "                                            Online Gambling  Betting       0.07      0.34      0.11       270\n",
      "                                                    Online Job Fraud       0.20      0.68      0.31       524\n",
      "                                            Online Matrimonial Fraud       0.10      0.96      0.18        69\n",
      "                                                  Online Trafficking       0.04      0.32      0.06       111\n",
      "                                                               Other       0.49      0.08      0.14      6455\n",
      "                                      Profile Hacking Identity Theft       0.45      0.44      0.44      1219\n",
      "                                Provocative Speech for unlawful acts       0.13      0.55      0.21       242\n",
      "                                                          Ransomware       0.26      1.00      0.41        38\n",
      "                                                   Ransomware Attack       0.22      0.24      0.23       374\n",
      "                           RapeGang Rape RGRSexually Abusive Content       0.11      0.72      0.20       147\n",
      "                                                       SQL Injection       0.20      0.19      0.19       356\n",
      "                                               Sexually Explicit Act       0.20      0.06      0.09       911\n",
      "                                           Sexually Obscene material       0.26      0.13      0.17      1072\n",
      "                            Tampering with computer source documents       0.24      0.11      0.15       394\n",
      "                                                  UPI Related Frauds       0.74      0.52      0.62     11199\n",
      "                                      Unauthorised AccessData Breach       0.19      0.52      0.27       610\n",
      "                                           Website DefacementHacking       0.16      0.91      0.27        53\n",
      "\n",
      "                                                            accuracy                           0.40     47021\n",
      "                                                           macro avg       0.26      0.50      0.28     47021\n",
      "                                                        weighted avg       0.50      0.40      0.41     47021\n",
      "\n",
      "Classification Report based on validation data:\n",
      "                                                                       precision    recall  f1-score   support\n",
      "\n",
      "                             Business Email CompromiseEmail Takeover       0.03      0.21      0.05        75\n",
      "                                           Cheating by Impersonation       0.13      0.06      0.08       495\n",
      "                Child Pornography CPChild Sexual Abuse Material CSAM       0.11      0.47      0.17        90\n",
      "                                                Cryptocurrency Fraud       0.23      0.76      0.35       131\n",
      "                                   Cyber Bullying  Stalking  Sexting       0.49      0.47      0.48      1033\n",
      "                                                     Cyber Terrorism       0.01      0.11      0.02        44\n",
      "                             Damage to computer computer systems etc       0.01      0.08      0.01        24\n",
      "                                                   Data Breach/Theft       0.16      0.20      0.18       145\n",
      "                                DebitCredit Card FraudSim Swap Fraud       0.64      0.72      0.68      2221\n",
      "                                               DematDepository Fraud       0.07      0.23      0.11       188\n",
      "Denial of Service (DoS)/Distributed Denial of Service (DDOS) attacks       0.10      0.12      0.11       151\n",
      "                                                      EMail Phishing       0.02      0.19      0.04        43\n",
      "                                               EWallet Related Fraud       0.45      0.40      0.42       918\n",
      "                                                       Email Hacking       0.19      0.47      0.28        93\n",
      "                                           FakeImpersonating Profile       0.34      0.39      0.36       592\n",
      "                                                   Fraud CallVishing       0.32      0.09      0.15      1522\n",
      "                                                  Hacking/Defacement       0.15      0.12      0.14       162\n",
      "                                                 Impersonating Email       0.00      0.00      0.00        12\n",
      "                                      Internet Banking Related Fraud       0.61      0.49      0.54      1744\n",
      "                                                  Intimidating Email       0.03      0.11      0.04         9\n",
      "                                                      Malware Attack       0.14      0.17      0.15       156\n",
      "                                            Online Gambling  Betting       0.04      0.17      0.06       116\n",
      "                                                    Online Job Fraud       0.18      0.60      0.28       225\n",
      "                                            Online Matrimonial Fraud       0.02      0.21      0.04        29\n",
      "                                                  Online Trafficking       0.01      0.09      0.02        47\n",
      "                                                               Other       0.47      0.07      0.13      2766\n",
      "                                      Profile Hacking Identity Theft       0.40      0.42      0.41       523\n",
      "                                Provocative Speech for unlawful acts       0.07      0.29      0.11       104\n",
      "                                                          Ransomware       0.07      0.38      0.12        16\n",
      "                                                   Ransomware Attack       0.13      0.16      0.14       160\n",
      "                           RapeGang Rape RGRSexually Abusive Content       0.05      0.30      0.09        63\n",
      "                                                       SQL Injection       0.17      0.16      0.17       152\n",
      "                                               Sexually Explicit Act       0.12      0.03      0.05       391\n",
      "                                           Sexually Obscene material       0.20      0.09      0.13       459\n",
      "                            Tampering with computer source documents       0.11      0.06      0.08       169\n",
      "                                                  UPI Related Frauds       0.73      0.51      0.60      4800\n",
      "                                      Unauthorised AccessData Breach       0.14      0.38      0.20       262\n",
      "                                           Website DefacementHacking       0.02      0.13      0.04        23\n",
      "\n",
      "                                                            accuracy                           0.36     20153\n",
      "                                                           macro avg       0.19      0.26      0.18     20153\n",
      "                                                        weighted avg       0.48      0.36      0.38     20153\n",
      "\n",
      "Classification Report based on testing data:\n",
      "                                                                        precision    recall  f1-score   support\n",
      "\n",
      "                             Business Email CompromiseEmail Takeover       0.03      0.27      0.06        89\n",
      "                                           Cheating by Impersonation       0.14      0.06      0.08       705\n",
      "                Child Pornography CPChild Sexual Abuse Material CSAM       0.08      0.46      0.13       114\n",
      "                                                Cryptocurrency Fraud       0.21      0.73      0.33       162\n",
      "                                   Cyber Bullying  Stalking  Sexting       0.47      0.43      0.45      1329\n",
      "                                                     Cyber Terrorism       0.00      0.08      0.01        51\n",
      "                             Damage to computer computer systems etc       0.01      0.14      0.03        36\n",
      "                                                   Data Breach/Theft       0.13      0.16      0.14       171\n",
      "                                DebitCredit Card FraudSim Swap Fraud       0.63      0.68      0.66      3091\n",
      "                                               DematDepository Fraud       0.06      0.22      0.10       218\n",
      "Denial of Service (DoS)/Distributed Denial of Service (DDOS) attacks       0.15      0.20      0.17       187\n",
      "                                                      EMail Phishing       0.02      0.17      0.04        54\n",
      "                                               EWallet Related Fraud       0.44      0.42      0.43      1299\n",
      "                                                       Email Hacking       0.19      0.44      0.27       130\n",
      "                                           FakeImpersonating Profile       0.33      0.38      0.35       745\n",
      "                                                   Fraud CallVishing       0.26      0.07      0.12      1792\n",
      "                                                  Hacking/Defacement       0.14      0.10      0.12       200\n",
      "                                                 Impersonating Email       0.02      0.15      0.04        13\n",
      "                                      Internet Banking Related Fraud       0.63      0.47      0.54      2589\n",
      "                                                  Intimidating Email       0.03      0.18      0.05        11\n",
      "                                                      Malware Attack       0.10      0.11      0.11       170\n",
      "                                            Online Gambling  Betting       0.03      0.17      0.05       133\n",
      "                                                    Online Job Fraud       0.17      0.59      0.26       290\n",
      "                                            Online Matrimonial Fraud       0.03      0.30      0.05        37\n",
      "                                                  Online Trafficking       0.00      0.03      0.01        61\n",
      "                                                               Other       0.43      0.06      0.11      3609\n",
      "                                      Profile Hacking Identity Theft       0.42      0.39      0.40       736\n",
      "                                Provocative Speech for unlawful acts       0.06      0.30      0.10       125\n",
      "                                                          Ransomware       0.05      0.33      0.09        18\n",
      "                                                   Ransomware Attack       0.13      0.17      0.15       186\n",
      "                           RapeGang Rape RGRSexually Abusive Content       0.06      0.40      0.11        86\n",
      "                                                       SQL Injection       0.13      0.13      0.13       167\n",
      "                                               Sexually Explicit Act       0.12      0.03      0.05       518\n",
      "                                           Sexually Obscene material       0.20      0.10      0.13       641\n",
      "                            Tampering with computer source documents       0.08      0.04      0.05       194\n",
      "                                                  UPI Related Frauds       0.73      0.51      0.60      6973\n",
      "                                      Unauthorised AccessData Breach       0.15      0.44      0.23       361\n",
      "                                           Website DefacementHacking       0.04      0.18      0.06        39\n",
      "\n",
      "                                                            accuracy                           0.37     27330\n",
      "                                                           macro avg       0.18      0.27      0.18     27330\n",
      "                                                        weighted avg       0.48      0.37      0.39     27330\n",
      "\n",
      "Model saved!\n",
      "1_svm_balanced_weights  : Training & testing completed in :  0.3857142845789591  minutes.\n",
      "\n",
      "Running  2_xgb_no_weight_change  model.\n",
      "Data splitting & label encoding done\n",
      "Sampling model not selected for data balancing\n",
      "One hot encoding is not selected\n",
      "2_xgb_no_weight_change  model is now trained\n",
      "Prediction for training data is done\n",
      "Prediction for validation data is done\n",
      "Prediction for test data is done\n",
      ".\n",
      "Inverse encoding of labels is done\n",
      "Accuracy (Training data):  0.6994959698857957\n",
      "F1-score (Training data):  0.6943645760536439\n",
      "Precision (Training data):  0.7166114824678075\n",
      "Recall (Training data):  0.6994959698857957\n",
      "Accuracy (Validation data):  0.4684166129112291\n",
      "F1-score (Validation data):  0.44403172463029544\n",
      "Precision (Validation data):  0.4439319609194252\n",
      "Recall (Validation data):  0.4684166129112291\n",
      "Accuracy (Testing data):  0.4739114526161727\n",
      "F1-score (Testing data):  0.45312064202263813\n",
      "Precision (Testing data):  0.4574681048362106\n",
      "Recall (Testing data):  0.4739114526161727\n",
      "Classification Report based on training data:\n",
      "                                                                       precision    recall  f1-score   support\n",
      "\n",
      "                             Business Email CompromiseEmail Takeover       0.99      0.77      0.87       175\n",
      "                                           Cheating by Impersonation       0.92      0.30      0.45      1155\n",
      "                Child Pornography CPChild Sexual Abuse Material CSAM       0.91      0.80      0.85       210\n",
      "                                                Cryptocurrency Fraud       0.94      0.91      0.92       306\n",
      "                                   Cyber Bullying  Stalking  Sexting       0.68      0.82      0.74      2411\n",
      "                                                     Cyber Terrorism       1.00      0.72      0.84       103\n",
      "                             Damage to computer computer systems etc       1.00      0.98      0.99        56\n",
      "                                                   Data Breach/Theft       0.46      0.42      0.44       339\n",
      "                                DebitCredit Card FraudSim Swap Fraud       0.77      0.82      0.80      5182\n",
      "                                               DematDepository Fraud       0.96      0.51      0.66       439\n",
      "Denial of Service (DoS)/Distributed Denial of Service (DDOS) attacks       0.47      0.50      0.49       353\n",
      "                                                      EMail Phishing       0.99      0.86      0.92        99\n",
      "                                               EWallet Related Fraud       0.81      0.51      0.63      2140\n",
      "                                                       Email Hacking       0.96      0.93      0.95       217\n",
      "                                           FakeImpersonating Profile       0.76      0.65      0.70      1382\n",
      "                                                   Fraud CallVishing       0.66      0.52      0.58      3550\n",
      "                                                  Hacking/Defacement       0.47      0.53      0.50       378\n",
      "                                                 Impersonating Email       1.00      1.00      1.00        28\n",
      "                                      Internet Banking Related Fraud       0.79      0.66      0.72      4069\n",
      "                                                  Intimidating Email       1.00      1.00      1.00        20\n",
      "                                                      Malware Attack       0.47      0.45      0.46       365\n",
      "                                            Online Gambling  Betting       0.99      0.51      0.68       270\n",
      "                                                    Online Job Fraud       0.89      0.77      0.83       524\n",
      "                                            Online Matrimonial Fraud       1.00      0.87      0.93        69\n",
      "                                                  Online Trafficking       1.00      0.50      0.67       111\n",
      "                                                               Other       0.57      0.63      0.60      6455\n",
      "                                      Profile Hacking Identity Theft       0.80      0.75      0.78      1219\n",
      "                                Provocative Speech for unlawful acts       0.93      0.67      0.78       242\n",
      "                                                          Ransomware       1.00      1.00      1.00        38\n",
      "                                                   Ransomware Attack       0.49      0.50      0.49       374\n",
      "                           RapeGang Rape RGRSexually Abusive Content       1.00      0.84      0.92       147\n",
      "                                                       SQL Injection       0.46      0.52      0.49       356\n",
      "                                               Sexually Explicit Act       0.91      0.49      0.63       911\n",
      "                                           Sexually Obscene material       0.84      0.59      0.69      1072\n",
      "                            Tampering with computer source documents       0.55      0.41      0.47       394\n",
      "                                                  UPI Related Frauds       0.67      0.87      0.76     11199\n",
      "                                      Unauthorised AccessData Breach       0.85      0.75      0.80       610\n",
      "                                           Website DefacementHacking       1.00      1.00      1.00        53\n",
      "\n",
      "                                                            accuracy                           0.70     47021\n",
      "                                                           macro avg       0.81      0.69      0.74     47021\n",
      "                                                        weighted avg       0.72      0.70      0.69     47021\n",
      "\n",
      "Classification Report based on validation data:\n",
      "                                                                       precision    recall  f1-score   support\n",
      "\n",
      "                             Business Email CompromiseEmail Takeover       0.25      0.03      0.05        75\n",
      "                                           Cheating by Impersonation       0.14      0.03      0.05       495\n",
      "                Child Pornography CPChild Sexual Abuse Material CSAM       0.57      0.29      0.38        90\n",
      "                                                Cryptocurrency Fraud       0.55      0.41      0.47       131\n",
      "                                   Cyber Bullying  Stalking  Sexting       0.45      0.57      0.50      1033\n",
      "                                                     Cyber Terrorism       0.00      0.00      0.00        44\n",
      "                             Damage to computer computer systems etc       0.00      0.00      0.00        24\n",
      "                                                   Data Breach/Theft       0.18      0.19      0.19       145\n",
      "                                DebitCredit Card FraudSim Swap Fraud       0.66      0.69      0.68      2221\n",
      "                                               DematDepository Fraud       0.07      0.01      0.02       188\n",
      "Denial of Service (DoS)/Distributed Denial of Service (DDOS) attacks       0.20      0.25      0.22       151\n",
      "                                                      EMail Phishing       0.15      0.05      0.07        43\n",
      "                                               EWallet Related Fraud       0.59      0.33      0.43       918\n",
      "                                                       Email Hacking       0.46      0.28      0.35        93\n",
      "                                           FakeImpersonating Profile       0.42      0.35      0.38       592\n",
      "                                                   Fraud CallVishing       0.30      0.24      0.27      1522\n",
      "                                                  Hacking/Defacement       0.14      0.15      0.15       162\n",
      "                                                 Impersonating Email       0.00      0.00      0.00        12\n",
      "                                      Internet Banking Related Fraud       0.61      0.51      0.56      1744\n",
      "                                                  Intimidating Email       0.50      0.11      0.18         9\n",
      "                                                      Malware Attack       0.10      0.09      0.09       156\n",
      "                                            Online Gambling  Betting       0.09      0.01      0.02       116\n",
      "                                                    Online Job Fraud       0.28      0.17      0.21       225\n",
      "                                            Online Matrimonial Fraud       0.00      0.00      0.00        29\n",
      "                                                  Online Trafficking       0.00      0.00      0.00        47\n",
      "                                                               Other       0.33      0.43      0.37      2766\n",
      "                                      Profile Hacking Identity Theft       0.47      0.44      0.45       523\n",
      "                                Provocative Speech for unlawful acts       0.50      0.12      0.20       104\n",
      "                                                          Ransomware       0.56      0.31      0.40        16\n",
      "                                                   Ransomware Attack       0.16      0.17      0.16       160\n",
      "                           RapeGang Rape RGRSexually Abusive Content       0.64      0.14      0.23        63\n",
      "                                                       SQL Injection       0.12      0.12      0.12       152\n",
      "                                               Sexually Explicit Act       0.21      0.07      0.10       391\n",
      "                                           Sexually Obscene material       0.24      0.14      0.18       459\n",
      "                            Tampering with computer source documents       0.14      0.08      0.10       169\n",
      "                                                  UPI Related Frauds       0.55      0.76      0.64      4800\n",
      "                                      Unauthorised AccessData Breach       0.24      0.19      0.21       262\n",
      "                                           Website DefacementHacking       0.33      0.04      0.08        23\n",
      "\n",
      "                                                            accuracy                           0.47     20153\n",
      "                                                           macro avg       0.30      0.20      0.22     20153\n",
      "                                                        weighted avg       0.44      0.47      0.44     20153\n",
      "\n",
      "Classification Report based on testing data:\n",
      "                                                                        precision    recall  f1-score   support\n",
      "\n",
      "                             Business Email CompromiseEmail Takeover       0.20      0.03      0.06        89\n",
      "                                           Cheating by Impersonation       0.21      0.04      0.06       705\n",
      "                Child Pornography CPChild Sexual Abuse Material CSAM       0.58      0.31      0.40       114\n",
      "                                                Cryptocurrency Fraud       0.50      0.44      0.47       162\n",
      "                                   Cyber Bullying  Stalking  Sexting       0.44      0.55      0.49      1329\n",
      "                                                     Cyber Terrorism       0.00      0.00      0.00        51\n",
      "                             Damage to computer computer systems etc       0.50      0.03      0.05        36\n",
      "                                                   Data Breach/Theft       0.16      0.15      0.15       171\n",
      "                                DebitCredit Card FraudSim Swap Fraud       0.65      0.67      0.66      3091\n",
      "                                               DematDepository Fraud       0.07      0.01      0.02       218\n",
      "Denial of Service (DoS)/Distributed Denial of Service (DDOS) attacks       0.12      0.14      0.13       187\n",
      "                                                      EMail Phishing       0.23      0.06      0.09        54\n",
      "                                               EWallet Related Fraud       0.57      0.34      0.43      1299\n",
      "                                                       Email Hacking       0.43      0.28      0.34       130\n",
      "                                           FakeImpersonating Profile       0.42      0.33      0.37       745\n",
      "                                                   Fraud CallVishing       0.27      0.22      0.24      1792\n",
      "                                                  Hacking/Defacement       0.17      0.18      0.17       200\n",
      "                                                 Impersonating Email       0.00      0.00      0.00        13\n",
      "                                      Internet Banking Related Fraud       0.64      0.51      0.56      2589\n",
      "                                                  Intimidating Email       0.00      0.00      0.00        11\n",
      "                                                      Malware Attack       0.12      0.11      0.11       170\n",
      "                                            Online Gambling  Betting       0.29      0.03      0.05       133\n",
      "                                                    Online Job Fraud       0.26      0.17      0.21       290\n",
      "                                            Online Matrimonial Fraud       0.50      0.03      0.05        37\n",
      "                                                  Online Trafficking       0.00      0.00      0.00        61\n",
      "                                                               Other       0.31      0.43      0.36      3609\n",
      "                                      Profile Hacking Identity Theft       0.50      0.40      0.45       736\n",
      "                                Provocative Speech for unlawful acts       0.34      0.10      0.15       125\n",
      "                                                          Ransomware       0.56      0.28      0.37        18\n",
      "                                                   Ransomware Attack       0.15      0.17      0.16       186\n",
      "                           RapeGang Rape RGRSexually Abusive Content       0.32      0.14      0.19        86\n",
      "                                                       SQL Injection       0.14      0.16      0.15       167\n",
      "                                               Sexually Explicit Act       0.26      0.09      0.14       518\n",
      "                                           Sexually Obscene material       0.32      0.17      0.22       641\n",
      "                            Tampering with computer source documents       0.15      0.09      0.11       194\n",
      "                                                  UPI Related Frauds       0.57      0.75      0.65      6973\n",
      "                                      Unauthorised AccessData Breach       0.29      0.22      0.25       361\n",
      "                                           Website DefacementHacking       0.00      0.00      0.00        39\n",
      "\n",
      "                                                            accuracy                           0.47     27330\n",
      "                                                           macro avg       0.30      0.20      0.22     27330\n",
      "                                                        weighted avg       0.46      0.47      0.45     27330\n",
      "\n",
      "Model saved!\n",
      "2_xgb_no_weight_change  : Training & testing completed in :  3.0440847158432005  minutes.\n",
      "\n",
      "Running  3_rf_balanced_weights  model.\n",
      "Data splitting & label encoding done\n",
      "Sampling model not selected for data balancing\n",
      "One hot encoding is not selected\n",
      "3_rf_balanced_weights  model is now trained\n",
      "Prediction for training data is done\n",
      "Prediction for validation data is done\n",
      "Prediction for test data is done\n",
      ".\n",
      "Inverse encoding of labels is done\n",
      "Accuracy (Training data):  0.9701835350162693\n",
      "F1-score (Training data):  0.9702107242192999\n",
      "Precision (Training data):  0.9704224791245275\n",
      "Recall (Training data):  0.9701835350162693\n",
      "Accuracy (Validation data):  0.4712945963380142\n",
      "F1-score (Validation data):  0.42953946486436145\n",
      "Precision (Validation data):  0.4557544149041086\n",
      "Recall (Validation data):  0.4712945963380142\n",
      "Accuracy (Testing data):  0.47980241492864983\n",
      "F1-score (Testing data):  0.44640497696483916\n",
      "Precision (Testing data):  0.4718938960330506\n",
      "Recall (Testing data):  0.47980241492864983\n",
      "Classification Report based on training data:\n",
      "                                                                       precision    recall  f1-score   support\n",
      "\n",
      "                             Business Email CompromiseEmail Takeover       1.00      1.00      1.00       175\n",
      "                                           Cheating by Impersonation       1.00      1.00      1.00      1155\n",
      "                Child Pornography CPChild Sexual Abuse Material CSAM       0.98      1.00      0.99       210\n",
      "                                                Cryptocurrency Fraud       0.99      1.00      1.00       306\n",
      "                                   Cyber Bullying  Stalking  Sexting       1.00      1.00      1.00      2411\n",
      "                                                     Cyber Terrorism       1.00      1.00      1.00       103\n",
      "                             Damage to computer computer systems etc       1.00      1.00      1.00        56\n",
      "                                                   Data Breach/Theft       0.44      0.48      0.46       339\n",
      "                                DebitCredit Card FraudSim Swap Fraud       1.00      1.00      1.00      5182\n",
      "                                               DematDepository Fraud       1.00      1.00      1.00       439\n",
      "Denial of Service (DoS)/Distributed Denial of Service (DDOS) attacks       0.47      0.52      0.49       353\n",
      "                                                      EMail Phishing       1.00      1.00      1.00        99\n",
      "                                               EWallet Related Fraud       1.00      1.00      1.00      2140\n",
      "                                                       Email Hacking       1.00      1.00      1.00       217\n",
      "                                           FakeImpersonating Profile       1.00      1.00      1.00      1382\n",
      "                                                   Fraud CallVishing       1.00      1.00      1.00      3550\n",
      "                                                  Hacking/Defacement       0.48      0.45      0.46       378\n",
      "                                                 Impersonating Email       1.00      1.00      1.00        28\n",
      "                                      Internet Banking Related Fraud       1.00      1.00      1.00      4069\n",
      "                                                  Intimidating Email       1.00      1.00      1.00        20\n",
      "                                                      Malware Attack       0.45      0.46      0.46       365\n",
      "                                            Online Gambling  Betting       1.00      1.00      1.00       270\n",
      "                                                    Online Job Fraud       1.00      1.00      1.00       524\n",
      "                                            Online Matrimonial Fraud       1.00      1.00      1.00        69\n",
      "                                                  Online Trafficking       1.00      1.00      1.00       111\n",
      "                                                               Other       1.00      1.00      1.00      6455\n",
      "                                      Profile Hacking Identity Theft       1.00      1.00      1.00      1219\n",
      "                                Provocative Speech for unlawful acts       0.93      1.00      0.96       242\n",
      "                                                          Ransomware       1.00      1.00      1.00        38\n",
      "                                                   Ransomware Attack       0.50      0.49      0.49       374\n",
      "                           RapeGang Rape RGRSexually Abusive Content       1.00      0.99      1.00       147\n",
      "                                                       SQL Injection       0.46      0.50      0.48       356\n",
      "                                               Sexually Explicit Act       1.00      1.00      1.00       911\n",
      "                                           Sexually Obscene material       1.00      1.00      1.00      1072\n",
      "                            Tampering with computer source documents       0.56      0.45      0.50       394\n",
      "                                                  UPI Related Frauds       1.00      1.00      1.00     11199\n",
      "                                      Unauthorised AccessData Breach       1.00      1.00      1.00       610\n",
      "                                           Website DefacementHacking       1.00      1.00      1.00        53\n",
      "\n",
      "                                                            accuracy                           0.97     47021\n",
      "                                                           macro avg       0.90      0.90      0.90     47021\n",
      "                                                        weighted avg       0.97      0.97      0.97     47021\n",
      "\n",
      "Classification Report based on validation data:\n",
      "                                                                       precision    recall  f1-score   support\n",
      "\n",
      "                             Business Email CompromiseEmail Takeover       0.00      0.00      0.00        75\n",
      "                                           Cheating by Impersonation       0.33      0.00      0.00       495\n",
      "                Child Pornography CPChild Sexual Abuse Material CSAM       0.61      0.34      0.44        90\n",
      "                                                Cryptocurrency Fraud       0.66      0.41      0.51       131\n",
      "                                   Cyber Bullying  Stalking  Sexting       0.45      0.62      0.52      1033\n",
      "                                                     Cyber Terrorism       0.00      0.00      0.00        44\n",
      "                             Damage to computer computer systems etc       0.00      0.00      0.00        24\n",
      "                                                   Data Breach/Theft       0.18      0.21      0.19       145\n",
      "                                DebitCredit Card FraudSim Swap Fraud       0.67      0.71      0.69      2221\n",
      "                                               DematDepository Fraud       1.00      0.01      0.01       188\n",
      "Denial of Service (DoS)/Distributed Denial of Service (DDOS) attacks       0.18      0.23      0.20       151\n",
      "                                                      EMail Phishing       0.29      0.05      0.08        43\n",
      "                                               EWallet Related Fraud       0.66      0.28      0.39       918\n",
      "                                                       Email Hacking       0.50      0.20      0.29        93\n",
      "                                           FakeImpersonating Profile       0.44      0.39      0.41       592\n",
      "                                                   Fraud CallVishing       0.32      0.15      0.21      1522\n",
      "                                                  Hacking/Defacement       0.14      0.13      0.14       162\n",
      "                                                 Impersonating Email       0.00      0.00      0.00        12\n",
      "                                      Internet Banking Related Fraud       0.69      0.49      0.57      1744\n",
      "                                                  Intimidating Email       0.00      0.00      0.00         9\n",
      "                                                      Malware Attack       0.13      0.12      0.12       156\n",
      "                                            Online Gambling  Betting       0.00      0.00      0.00       116\n",
      "                                                    Online Job Fraud       0.28      0.17      0.21       225\n",
      "                                            Online Matrimonial Fraud       0.50      0.07      0.12        29\n",
      "                                                  Online Trafficking       0.00      0.00      0.00        47\n",
      "                                                               Other       0.34      0.38      0.36      2766\n",
      "                                      Profile Hacking Identity Theft       0.45      0.48      0.46       523\n",
      "                                Provocative Speech for unlawful acts       0.39      0.11      0.17       104\n",
      "                                                          Ransomware       0.57      0.25      0.35        16\n",
      "                                                   Ransomware Attack       0.15      0.16      0.15       160\n",
      "                           RapeGang Rape RGRSexually Abusive Content       0.75      0.10      0.17        63\n",
      "                                                       SQL Injection       0.15      0.15      0.15       152\n",
      "                                               Sexually Explicit Act       0.12      0.01      0.01       391\n",
      "                                           Sexually Obscene material       0.25      0.04      0.07       459\n",
      "                            Tampering with computer source documents       0.16      0.11      0.13       169\n",
      "                                                  UPI Related Frauds       0.49      0.84      0.62      4800\n",
      "                                      Unauthorised AccessData Breach       0.35      0.13      0.18       262\n",
      "                                           Website DefacementHacking       0.00      0.00      0.00        23\n",
      "\n",
      "                                                            accuracy                           0.47     20153\n",
      "                                                           macro avg       0.32      0.19      0.21     20153\n",
      "                                                        weighted avg       0.46      0.47      0.43     20153\n",
      "\n",
      "Classification Report based on testing data:\n",
      "                                                                        precision    recall  f1-score   support\n",
      "\n",
      "                             Business Email CompromiseEmail Takeover       0.50      0.01      0.02        89\n",
      "                                           Cheating by Impersonation       0.20      0.01      0.02       705\n",
      "                Child Pornography CPChild Sexual Abuse Material CSAM       0.64      0.31      0.41       114\n",
      "                                                Cryptocurrency Fraud       0.62      0.46      0.52       162\n",
      "                                   Cyber Bullying  Stalking  Sexting       0.44      0.59      0.51      1329\n",
      "                                                     Cyber Terrorism       0.00      0.00      0.00        51\n",
      "                             Damage to computer computer systems etc       0.00      0.00      0.00        36\n",
      "                                                   Data Breach/Theft       0.18      0.19      0.19       171\n",
      "                                DebitCredit Card FraudSim Swap Fraud       0.67      0.69      0.68      3091\n",
      "                                               DematDepository Fraud       0.00      0.00      0.00       218\n",
      "Denial of Service (DoS)/Distributed Denial of Service (DDOS) attacks       0.16      0.17      0.16       187\n",
      "                                                      EMail Phishing       0.17      0.02      0.03        54\n",
      "                                               EWallet Related Fraud       0.68      0.31      0.42      1299\n",
      "                                                       Email Hacking       0.57      0.27      0.37       130\n",
      "                                           FakeImpersonating Profile       0.45      0.38      0.41       745\n",
      "                                                   Fraud CallVishing       0.31      0.15      0.20      1792\n",
      "                                                  Hacking/Defacement       0.16      0.14      0.15       200\n",
      "                                                 Impersonating Email       0.00      0.00      0.00        13\n",
      "                                      Internet Banking Related Fraud       0.70      0.49      0.58      2589\n",
      "                                                  Intimidating Email       0.00      0.00      0.00        11\n",
      "                                                      Malware Attack       0.12      0.12      0.12       170\n",
      "                                            Online Gambling  Betting       0.29      0.02      0.03       133\n",
      "                                                    Online Job Fraud       0.29      0.17      0.22       290\n",
      "                                            Online Matrimonial Fraud       0.29      0.05      0.09        37\n",
      "                                                  Online Trafficking       0.00      0.00      0.00        61\n",
      "                                                               Other       0.32      0.36      0.34      3609\n",
      "                                      Profile Hacking Identity Theft       0.45      0.45      0.45       736\n",
      "                                Provocative Speech for unlawful acts       0.06      0.12      0.08       125\n",
      "                                                          Ransomware       0.50      0.33      0.40        18\n",
      "                                                   Ransomware Attack       0.13      0.15      0.14       186\n",
      "                           RapeGang Rape RGRSexually Abusive Content       0.52      0.17      0.26        86\n",
      "                                                       SQL Injection       0.14      0.15      0.14       167\n",
      "                                               Sexually Explicit Act       0.70      0.08      0.14       518\n",
      "                                           Sexually Obscene material       0.47      0.12      0.19       641\n",
      "                            Tampering with computer source documents       0.14      0.11      0.13       194\n",
      "                                                  UPI Related Frauds       0.51      0.82      0.63      6973\n",
      "                                      Unauthorised AccessData Breach       0.38      0.17      0.23       361\n",
      "                                           Website DefacementHacking       0.00      0.00      0.00        39\n",
      "\n",
      "                                                            accuracy                           0.48     27330\n",
      "                                                           macro avg       0.31      0.20      0.22     27330\n",
      "                                                        weighted avg       0.47      0.48      0.45     27330\n",
      "\n",
      "Model saved!\n",
      "3_rf_balanced_weights  : Training & testing completed in :  1.8359978953997294  minutes.\n",
      "\n"
     ]
    }
   ],
   "source": [
    "# AT SUB-CATEGORY LEVEL\n",
    "\n",
    "performance_summary_dict_sub = dict()\n",
    "\n",
    "for selected_ml_model_name, selected_ml_model in ml_models.items():\n",
    "    print(\"Running \", selected_ml_model_name, \" model.\")\n",
    "    start = time.time()\n",
    "    \n",
    "    # Set sampling_model = selected_sampling_model if sampling model is being used\n",
    "    # Set sampling_model = None if sampling model not being used\n",
    "    performance_summary_dict_sub[selected_ml_model_name] = run_model(training_data = df_train, testing_data = df_test,\n",
    "                                                        ml_model = selected_ml_model, ml_model_name = selected_ml_model_name,\n",
    "                                                        label='sub_category', sampling_model = None, one_hot_label = 'no', save_ml_model = 'yes')\n",
    "    \n",
    "    end = time.time()\n",
    "    print(selected_ml_model_name,\" : Training & testing completed in : \", (end-start)/60, \" minutes.\\n\")\n"
   ]
  },
  {
   "cell_type": "code",
   "execution_count": null,
   "id": "986c98aa-8af2-40fa-b54e-3489fab6abf6",
   "metadata": {},
   "outputs": [],
   "source": []
  },
  {
   "cell_type": "markdown",
   "id": "6b85db1e-43d5-4124-addb-04c3787e0627",
   "metadata": {
    "jp-MarkdownHeadingCollapsed": true
   },
   "source": [
    "# Explore Models"
   ]
  },
  {
   "cell_type": "code",
   "execution_count": 10,
   "id": "c8410589-b446-4c29-b4a2-cea4450d07d8",
   "metadata": {},
   "outputs": [],
   "source": [
    "\n",
    "#df_vectorized_train = pd.read_csv(filepath_or_buffer = os.path.join(\"Output Data\",\"06_vectorized_train_data.csv\"), sep = \",\", header = 0)\n",
    "#df_vectorized_test = pd.read_csv(filepath_or_buffer = os.path.join(\"Output Data\",\"06_vectorized_test_data.csv\"), sep = \",\", header = 0)"
   ]
  },
  {
   "cell_type": "markdown",
   "id": "a9d202fa-3260-46c3-8728-8e48c4f15c0c",
   "metadata": {},
   "source": [
    "##### Select y_label (category vs sub_category)"
   ]
  },
  {
   "cell_type": "code",
   "execution_count": 63,
   "id": "d6a59ab1-503a-429b-9743-7dd6628db4e9",
   "metadata": {},
   "outputs": [],
   "source": [
    "# Select model level (label = category OR sub_category)\n",
    "label = 'category'"
   ]
  },
  {
   "cell_type": "markdown",
   "id": "c249e758-4ab4-4e49-b39c-337f7667709b",
   "metadata": {},
   "source": [
    "##### Split full training dataset into 2 parts: Training set and Validation set"
   ]
  },
  {
   "cell_type": "code",
   "execution_count": 64,
   "id": "a5fca85f-7bea-4307-b399-5cfd1f6f071d",
   "metadata": {},
   "outputs": [],
   "source": [
    "# Training model to classify on CATEGORIES (not SUB_CATEGORIES)\n",
    "\n",
    "X = df_vectorized_train.iloc[:,9:]\n",
    "y = df_vectorized_train.loc[:,[label]]\n",
    "\n",
    "label_encoder = preprocessing.LabelEncoder()\n",
    "label_encoder.fit(y)\n",
    "\n",
    "y_encoded= label_encoder.transform(y)\n",
    "\n",
    "# DON'T change stratify to category even if you train model at category level (stratification at sub_category level is better to cover all type of reports)\n",
    "X_train, X_val, y_train, y_val = train_test_split(X, y_encoded, test_size=0.3, random_state=1, stratify=df_vectorized_train.loc[:,['sub_category']])"
   ]
  },
  {
   "cell_type": "markdown",
   "id": "07494bd4-f502-41f9-a00d-90c9eeb43ee0",
   "metadata": {},
   "source": [
    "##### Save label encoder"
   ]
  },
  {
   "cell_type": "code",
   "execution_count": 65,
   "id": "22992dba-d2fc-4365-bedc-7c678b728251",
   "metadata": {},
   "outputs": [
    {
     "name": "stdout",
     "output_type": "stream",
     "text": [
      "category : Label encoder saved!\n"
     ]
    }
   ],
   "source": [
    "label_encoder_pkl_file = label+\"_encoder.pkl\"  \n",
    "\n",
    "with open(os.path.join(\"Vectorizers\",label_encoder_pkl_file), 'wb') as file:\n",
    "    pickle.dump(label_encoder, file)\n",
    "    file.close()\n",
    "\n",
    "print(label, \": Label encoder saved!\")"
   ]
  },
  {
   "cell_type": "markdown",
   "id": "30e5a5a1-9a17-4d7b-aa3f-9b0d11f4c906",
   "metadata": {},
   "source": [
    "##### Select sampling model to balance the training data"
   ]
  },
  {
   "cell_type": "code",
   "execution_count": 13,
   "id": "01a459ce-2072-4788-98b4-47960f51b559",
   "metadata": {},
   "outputs": [],
   "source": [
    "## Balancing training data\n",
    "\n",
    "#sampling_model = RandomOverSampler()\n",
    "#X_train, y_train = sampling_model.fit_resample(X_train, y_train)"
   ]
  },
  {
   "cell_type": "code",
   "execution_count": 14,
   "id": "86b8dcfb-e7a9-4423-9535-9b1e91bc333a",
   "metadata": {},
   "outputs": [
    {
     "data": {
      "text/plain": [
       "Counter({7: 26754,\n",
       "         9: 7149,\n",
       "         0: 6455,\n",
       "         3: 2525,\n",
       "         13: 1072,\n",
       "         5: 970,\n",
       "         12: 911,\n",
       "         2: 306,\n",
       "         8: 270,\n",
       "         1: 210,\n",
       "         11: 147,\n",
       "         6: 111,\n",
       "         4: 103,\n",
       "         10: 38})"
      ]
     },
     "execution_count": 14,
     "metadata": {},
     "output_type": "execute_result"
    }
   ],
   "source": [
    "# Record count for each label (category or sub-category)\n",
    "Counter(y_train)"
   ]
  },
  {
   "cell_type": "markdown",
   "id": "669046e8-8b71-43d8-bf62-92df3f4758ee",
   "metadata": {},
   "source": [
    "##### Encode target variable in test dataset"
   ]
  },
  {
   "cell_type": "code",
   "execution_count": 15,
   "id": "90dfb22b-60bb-49c9-88b1-71a026cfbe42",
   "metadata": {},
   "outputs": [],
   "source": [
    "## Preparing test data to check model performance\n",
    "\n",
    "df_vectorized_test_final = df_vectorized_test.query('category != \"Crime Against Women & Children\" & category != \"Report Unlawful Content\"').reset_index(drop=True)\n",
    "X_test = df_vectorized_test_final.iloc[:,9:]\n",
    "y_test = df_vectorized_test_final.loc[:,[label]] # To train on category / sub_category change the column to category / sub_category\n",
    "\n",
    "y_test_encoded= label_encoder.transform(y_test)"
   ]
  },
  {
   "cell_type": "markdown",
   "id": "469d1afa-bb16-42ff-8409-b799465f141a",
   "metadata": {},
   "source": [
    "##### One hot encoding of target variable"
   ]
  },
  {
   "cell_type": "code",
   "execution_count": 16,
   "id": "a8914b58-f883-4aab-a165-115d478cb944",
   "metadata": {},
   "outputs": [],
   "source": [
    "n_classes = max(y_encoded)+1\n",
    "\n",
    "Y_train_one_hot = to_categorical(y_train, n_classes)\n",
    "Y_val_one_hot = to_categorical(y_val, n_classes)\n",
    "\n",
    "Y_test_one_hot = to_categorical(y_test_encoded, n_classes)"
   ]
  },
  {
   "cell_type": "code",
   "execution_count": 17,
   "id": "68322ec4-d537-4142-947d-68e66d5bf0fa",
   "metadata": {},
   "outputs": [
    {
     "name": "stdout",
     "output_type": "stream",
     "text": [
      "Number of independent variables (X):  414\n",
      "Number of labels in dependent variable (Y):  14\n"
     ]
    }
   ],
   "source": [
    "print(\"Number of independent variables (X): \", X.shape[1])\n",
    "print(\"Number of labels in dependent variable (Y): \", Y_train_one_hot.shape[1])"
   ]
  },
  {
   "cell_type": "markdown",
   "id": "95cf309b-1b42-45e7-b869-5102c0862c95",
   "metadata": {},
   "source": [
    "##### Train model"
   ]
  },
  {
   "cell_type": "code",
   "execution_count": 18,
   "id": "c465b8eb-52e7-4e57-a1a5-f7a38c10026f",
   "metadata": {},
   "outputs": [
    {
     "data": {
      "text/html": [
       "<style>#sk-container-id-1 {\n",
       "  /* Definition of color scheme common for light and dark mode */\n",
       "  --sklearn-color-text: black;\n",
       "  --sklearn-color-line: gray;\n",
       "  /* Definition of color scheme for unfitted estimators */\n",
       "  --sklearn-color-unfitted-level-0: #fff5e6;\n",
       "  --sklearn-color-unfitted-level-1: #f6e4d2;\n",
       "  --sklearn-color-unfitted-level-2: #ffe0b3;\n",
       "  --sklearn-color-unfitted-level-3: chocolate;\n",
       "  /* Definition of color scheme for fitted estimators */\n",
       "  --sklearn-color-fitted-level-0: #f0f8ff;\n",
       "  --sklearn-color-fitted-level-1: #d4ebff;\n",
       "  --sklearn-color-fitted-level-2: #b3dbfd;\n",
       "  --sklearn-color-fitted-level-3: cornflowerblue;\n",
       "\n",
       "  /* Specific color for light theme */\n",
       "  --sklearn-color-text-on-default-background: var(--sg-text-color, var(--theme-code-foreground, var(--jp-content-font-color1, black)));\n",
       "  --sklearn-color-background: var(--sg-background-color, var(--theme-background, var(--jp-layout-color0, white)));\n",
       "  --sklearn-color-border-box: var(--sg-text-color, var(--theme-code-foreground, var(--jp-content-font-color1, black)));\n",
       "  --sklearn-color-icon: #696969;\n",
       "\n",
       "  @media (prefers-color-scheme: dark) {\n",
       "    /* Redefinition of color scheme for dark theme */\n",
       "    --sklearn-color-text-on-default-background: var(--sg-text-color, var(--theme-code-foreground, var(--jp-content-font-color1, white)));\n",
       "    --sklearn-color-background: var(--sg-background-color, var(--theme-background, var(--jp-layout-color0, #111)));\n",
       "    --sklearn-color-border-box: var(--sg-text-color, var(--theme-code-foreground, var(--jp-content-font-color1, white)));\n",
       "    --sklearn-color-icon: #878787;\n",
       "  }\n",
       "}\n",
       "\n",
       "#sk-container-id-1 {\n",
       "  color: var(--sklearn-color-text);\n",
       "}\n",
       "\n",
       "#sk-container-id-1 pre {\n",
       "  padding: 0;\n",
       "}\n",
       "\n",
       "#sk-container-id-1 input.sk-hidden--visually {\n",
       "  border: 0;\n",
       "  clip: rect(1px 1px 1px 1px);\n",
       "  clip: rect(1px, 1px, 1px, 1px);\n",
       "  height: 1px;\n",
       "  margin: -1px;\n",
       "  overflow: hidden;\n",
       "  padding: 0;\n",
       "  position: absolute;\n",
       "  width: 1px;\n",
       "}\n",
       "\n",
       "#sk-container-id-1 div.sk-dashed-wrapped {\n",
       "  border: 1px dashed var(--sklearn-color-line);\n",
       "  margin: 0 0.4em 0.5em 0.4em;\n",
       "  box-sizing: border-box;\n",
       "  padding-bottom: 0.4em;\n",
       "  background-color: var(--sklearn-color-background);\n",
       "}\n",
       "\n",
       "#sk-container-id-1 div.sk-container {\n",
       "  /* jupyter's `normalize.less` sets `[hidden] { display: none; }`\n",
       "     but bootstrap.min.css set `[hidden] { display: none !important; }`\n",
       "     so we also need the `!important` here to be able to override the\n",
       "     default hidden behavior on the sphinx rendered scikit-learn.org.\n",
       "     See: https://github.com/scikit-learn/scikit-learn/issues/21755 */\n",
       "  display: inline-block !important;\n",
       "  position: relative;\n",
       "}\n",
       "\n",
       "#sk-container-id-1 div.sk-text-repr-fallback {\n",
       "  display: none;\n",
       "}\n",
       "\n",
       "div.sk-parallel-item,\n",
       "div.sk-serial,\n",
       "div.sk-item {\n",
       "  /* draw centered vertical line to link estimators */\n",
       "  background-image: linear-gradient(var(--sklearn-color-text-on-default-background), var(--sklearn-color-text-on-default-background));\n",
       "  background-size: 2px 100%;\n",
       "  background-repeat: no-repeat;\n",
       "  background-position: center center;\n",
       "}\n",
       "\n",
       "/* Parallel-specific style estimator block */\n",
       "\n",
       "#sk-container-id-1 div.sk-parallel-item::after {\n",
       "  content: \"\";\n",
       "  width: 100%;\n",
       "  border-bottom: 2px solid var(--sklearn-color-text-on-default-background);\n",
       "  flex-grow: 1;\n",
       "}\n",
       "\n",
       "#sk-container-id-1 div.sk-parallel {\n",
       "  display: flex;\n",
       "  align-items: stretch;\n",
       "  justify-content: center;\n",
       "  background-color: var(--sklearn-color-background);\n",
       "  position: relative;\n",
       "}\n",
       "\n",
       "#sk-container-id-1 div.sk-parallel-item {\n",
       "  display: flex;\n",
       "  flex-direction: column;\n",
       "}\n",
       "\n",
       "#sk-container-id-1 div.sk-parallel-item:first-child::after {\n",
       "  align-self: flex-end;\n",
       "  width: 50%;\n",
       "}\n",
       "\n",
       "#sk-container-id-1 div.sk-parallel-item:last-child::after {\n",
       "  align-self: flex-start;\n",
       "  width: 50%;\n",
       "}\n",
       "\n",
       "#sk-container-id-1 div.sk-parallel-item:only-child::after {\n",
       "  width: 0;\n",
       "}\n",
       "\n",
       "/* Serial-specific style estimator block */\n",
       "\n",
       "#sk-container-id-1 div.sk-serial {\n",
       "  display: flex;\n",
       "  flex-direction: column;\n",
       "  align-items: center;\n",
       "  background-color: var(--sklearn-color-background);\n",
       "  padding-right: 1em;\n",
       "  padding-left: 1em;\n",
       "}\n",
       "\n",
       "\n",
       "/* Toggleable style: style used for estimator/Pipeline/ColumnTransformer box that is\n",
       "clickable and can be expanded/collapsed.\n",
       "- Pipeline and ColumnTransformer use this feature and define the default style\n",
       "- Estimators will overwrite some part of the style using the `sk-estimator` class\n",
       "*/\n",
       "\n",
       "/* Pipeline and ColumnTransformer style (default) */\n",
       "\n",
       "#sk-container-id-1 div.sk-toggleable {\n",
       "  /* Default theme specific background. It is overwritten whether we have a\n",
       "  specific estimator or a Pipeline/ColumnTransformer */\n",
       "  background-color: var(--sklearn-color-background);\n",
       "}\n",
       "\n",
       "/* Toggleable label */\n",
       "#sk-container-id-1 label.sk-toggleable__label {\n",
       "  cursor: pointer;\n",
       "  display: block;\n",
       "  width: 100%;\n",
       "  margin-bottom: 0;\n",
       "  padding: 0.5em;\n",
       "  box-sizing: border-box;\n",
       "  text-align: center;\n",
       "}\n",
       "\n",
       "#sk-container-id-1 label.sk-toggleable__label-arrow:before {\n",
       "  /* Arrow on the left of the label */\n",
       "  content: \"▸\";\n",
       "  float: left;\n",
       "  margin-right: 0.25em;\n",
       "  color: var(--sklearn-color-icon);\n",
       "}\n",
       "\n",
       "#sk-container-id-1 label.sk-toggleable__label-arrow:hover:before {\n",
       "  color: var(--sklearn-color-text);\n",
       "}\n",
       "\n",
       "/* Toggleable content - dropdown */\n",
       "\n",
       "#sk-container-id-1 div.sk-toggleable__content {\n",
       "  max-height: 0;\n",
       "  max-width: 0;\n",
       "  overflow: hidden;\n",
       "  text-align: left;\n",
       "  /* unfitted */\n",
       "  background-color: var(--sklearn-color-unfitted-level-0);\n",
       "}\n",
       "\n",
       "#sk-container-id-1 div.sk-toggleable__content.fitted {\n",
       "  /* fitted */\n",
       "  background-color: var(--sklearn-color-fitted-level-0);\n",
       "}\n",
       "\n",
       "#sk-container-id-1 div.sk-toggleable__content pre {\n",
       "  margin: 0.2em;\n",
       "  border-radius: 0.25em;\n",
       "  color: var(--sklearn-color-text);\n",
       "  /* unfitted */\n",
       "  background-color: var(--sklearn-color-unfitted-level-0);\n",
       "}\n",
       "\n",
       "#sk-container-id-1 div.sk-toggleable__content.fitted pre {\n",
       "  /* unfitted */\n",
       "  background-color: var(--sklearn-color-fitted-level-0);\n",
       "}\n",
       "\n",
       "#sk-container-id-1 input.sk-toggleable__control:checked~div.sk-toggleable__content {\n",
       "  /* Expand drop-down */\n",
       "  max-height: 200px;\n",
       "  max-width: 100%;\n",
       "  overflow: auto;\n",
       "}\n",
       "\n",
       "#sk-container-id-1 input.sk-toggleable__control:checked~label.sk-toggleable__label-arrow:before {\n",
       "  content: \"▾\";\n",
       "}\n",
       "\n",
       "/* Pipeline/ColumnTransformer-specific style */\n",
       "\n",
       "#sk-container-id-1 div.sk-label input.sk-toggleable__control:checked~label.sk-toggleable__label {\n",
       "  color: var(--sklearn-color-text);\n",
       "  background-color: var(--sklearn-color-unfitted-level-2);\n",
       "}\n",
       "\n",
       "#sk-container-id-1 div.sk-label.fitted input.sk-toggleable__control:checked~label.sk-toggleable__label {\n",
       "  background-color: var(--sklearn-color-fitted-level-2);\n",
       "}\n",
       "\n",
       "/* Estimator-specific style */\n",
       "\n",
       "/* Colorize estimator box */\n",
       "#sk-container-id-1 div.sk-estimator input.sk-toggleable__control:checked~label.sk-toggleable__label {\n",
       "  /* unfitted */\n",
       "  background-color: var(--sklearn-color-unfitted-level-2);\n",
       "}\n",
       "\n",
       "#sk-container-id-1 div.sk-estimator.fitted input.sk-toggleable__control:checked~label.sk-toggleable__label {\n",
       "  /* fitted */\n",
       "  background-color: var(--sklearn-color-fitted-level-2);\n",
       "}\n",
       "\n",
       "#sk-container-id-1 div.sk-label label.sk-toggleable__label,\n",
       "#sk-container-id-1 div.sk-label label {\n",
       "  /* The background is the default theme color */\n",
       "  color: var(--sklearn-color-text-on-default-background);\n",
       "}\n",
       "\n",
       "/* On hover, darken the color of the background */\n",
       "#sk-container-id-1 div.sk-label:hover label.sk-toggleable__label {\n",
       "  color: var(--sklearn-color-text);\n",
       "  background-color: var(--sklearn-color-unfitted-level-2);\n",
       "}\n",
       "\n",
       "/* Label box, darken color on hover, fitted */\n",
       "#sk-container-id-1 div.sk-label.fitted:hover label.sk-toggleable__label.fitted {\n",
       "  color: var(--sklearn-color-text);\n",
       "  background-color: var(--sklearn-color-fitted-level-2);\n",
       "}\n",
       "\n",
       "/* Estimator label */\n",
       "\n",
       "#sk-container-id-1 div.sk-label label {\n",
       "  font-family: monospace;\n",
       "  font-weight: bold;\n",
       "  display: inline-block;\n",
       "  line-height: 1.2em;\n",
       "}\n",
       "\n",
       "#sk-container-id-1 div.sk-label-container {\n",
       "  text-align: center;\n",
       "}\n",
       "\n",
       "/* Estimator-specific */\n",
       "#sk-container-id-1 div.sk-estimator {\n",
       "  font-family: monospace;\n",
       "  border: 1px dotted var(--sklearn-color-border-box);\n",
       "  border-radius: 0.25em;\n",
       "  box-sizing: border-box;\n",
       "  margin-bottom: 0.5em;\n",
       "  /* unfitted */\n",
       "  background-color: var(--sklearn-color-unfitted-level-0);\n",
       "}\n",
       "\n",
       "#sk-container-id-1 div.sk-estimator.fitted {\n",
       "  /* fitted */\n",
       "  background-color: var(--sklearn-color-fitted-level-0);\n",
       "}\n",
       "\n",
       "/* on hover */\n",
       "#sk-container-id-1 div.sk-estimator:hover {\n",
       "  /* unfitted */\n",
       "  background-color: var(--sklearn-color-unfitted-level-2);\n",
       "}\n",
       "\n",
       "#sk-container-id-1 div.sk-estimator.fitted:hover {\n",
       "  /* fitted */\n",
       "  background-color: var(--sklearn-color-fitted-level-2);\n",
       "}\n",
       "\n",
       "/* Specification for estimator info (e.g. \"i\" and \"?\") */\n",
       "\n",
       "/* Common style for \"i\" and \"?\" */\n",
       "\n",
       ".sk-estimator-doc-link,\n",
       "a:link.sk-estimator-doc-link,\n",
       "a:visited.sk-estimator-doc-link {\n",
       "  float: right;\n",
       "  font-size: smaller;\n",
       "  line-height: 1em;\n",
       "  font-family: monospace;\n",
       "  background-color: var(--sklearn-color-background);\n",
       "  border-radius: 1em;\n",
       "  height: 1em;\n",
       "  width: 1em;\n",
       "  text-decoration: none !important;\n",
       "  margin-left: 1ex;\n",
       "  /* unfitted */\n",
       "  border: var(--sklearn-color-unfitted-level-1) 1pt solid;\n",
       "  color: var(--sklearn-color-unfitted-level-1);\n",
       "}\n",
       "\n",
       ".sk-estimator-doc-link.fitted,\n",
       "a:link.sk-estimator-doc-link.fitted,\n",
       "a:visited.sk-estimator-doc-link.fitted {\n",
       "  /* fitted */\n",
       "  border: var(--sklearn-color-fitted-level-1) 1pt solid;\n",
       "  color: var(--sklearn-color-fitted-level-1);\n",
       "}\n",
       "\n",
       "/* On hover */\n",
       "div.sk-estimator:hover .sk-estimator-doc-link:hover,\n",
       ".sk-estimator-doc-link:hover,\n",
       "div.sk-label-container:hover .sk-estimator-doc-link:hover,\n",
       ".sk-estimator-doc-link:hover {\n",
       "  /* unfitted */\n",
       "  background-color: var(--sklearn-color-unfitted-level-3);\n",
       "  color: var(--sklearn-color-background);\n",
       "  text-decoration: none;\n",
       "}\n",
       "\n",
       "div.sk-estimator.fitted:hover .sk-estimator-doc-link.fitted:hover,\n",
       ".sk-estimator-doc-link.fitted:hover,\n",
       "div.sk-label-container:hover .sk-estimator-doc-link.fitted:hover,\n",
       ".sk-estimator-doc-link.fitted:hover {\n",
       "  /* fitted */\n",
       "  background-color: var(--sklearn-color-fitted-level-3);\n",
       "  color: var(--sklearn-color-background);\n",
       "  text-decoration: none;\n",
       "}\n",
       "\n",
       "/* Span, style for the box shown on hovering the info icon */\n",
       ".sk-estimator-doc-link span {\n",
       "  display: none;\n",
       "  z-index: 9999;\n",
       "  position: relative;\n",
       "  font-weight: normal;\n",
       "  right: .2ex;\n",
       "  padding: .5ex;\n",
       "  margin: .5ex;\n",
       "  width: min-content;\n",
       "  min-width: 20ex;\n",
       "  max-width: 50ex;\n",
       "  color: var(--sklearn-color-text);\n",
       "  box-shadow: 2pt 2pt 4pt #999;\n",
       "  /* unfitted */\n",
       "  background: var(--sklearn-color-unfitted-level-0);\n",
       "  border: .5pt solid var(--sklearn-color-unfitted-level-3);\n",
       "}\n",
       "\n",
       ".sk-estimator-doc-link.fitted span {\n",
       "  /* fitted */\n",
       "  background: var(--sklearn-color-fitted-level-0);\n",
       "  border: var(--sklearn-color-fitted-level-3);\n",
       "}\n",
       "\n",
       ".sk-estimator-doc-link:hover span {\n",
       "  display: block;\n",
       "}\n",
       "\n",
       "/* \"?\"-specific style due to the `<a>` HTML tag */\n",
       "\n",
       "#sk-container-id-1 a.estimator_doc_link {\n",
       "  float: right;\n",
       "  font-size: 1rem;\n",
       "  line-height: 1em;\n",
       "  font-family: monospace;\n",
       "  background-color: var(--sklearn-color-background);\n",
       "  border-radius: 1rem;\n",
       "  height: 1rem;\n",
       "  width: 1rem;\n",
       "  text-decoration: none;\n",
       "  /* unfitted */\n",
       "  color: var(--sklearn-color-unfitted-level-1);\n",
       "  border: var(--sklearn-color-unfitted-level-1) 1pt solid;\n",
       "}\n",
       "\n",
       "#sk-container-id-1 a.estimator_doc_link.fitted {\n",
       "  /* fitted */\n",
       "  border: var(--sklearn-color-fitted-level-1) 1pt solid;\n",
       "  color: var(--sklearn-color-fitted-level-1);\n",
       "}\n",
       "\n",
       "/* On hover */\n",
       "#sk-container-id-1 a.estimator_doc_link:hover {\n",
       "  /* unfitted */\n",
       "  background-color: var(--sklearn-color-unfitted-level-3);\n",
       "  color: var(--sklearn-color-background);\n",
       "  text-decoration: none;\n",
       "}\n",
       "\n",
       "#sk-container-id-1 a.estimator_doc_link.fitted:hover {\n",
       "  /* fitted */\n",
       "  background-color: var(--sklearn-color-fitted-level-3);\n",
       "}\n",
       "</style><div id=\"sk-container-id-1\" class=\"sk-top-container\"><div class=\"sk-text-repr-fallback\"><pre>XGBClassifier(base_score=None, booster=None, callbacks=None,\n",
       "              colsample_bylevel=None, colsample_bynode=None,\n",
       "              colsample_bytree=None, device=None, early_stopping_rounds=None,\n",
       "              enable_categorical=False, eval_metric=None, feature_types=None,\n",
       "              gamma=None, grow_policy=None, importance_type=None,\n",
       "              interaction_constraints=None, learning_rate=None, max_bin=None,\n",
       "              max_cat_threshold=None, max_cat_to_onehot=None,\n",
       "              max_delta_step=None, max_depth=None, max_leaves=None,\n",
       "              min_child_weight=None, missing=nan, monotone_constraints=None,\n",
       "              multi_strategy=None, n_estimators=None, n_jobs=None,\n",
       "              num_parallel_tree=None, objective=&#x27;multi:softprob&#x27;, ...)</pre><b>In a Jupyter environment, please rerun this cell to show the HTML representation or trust the notebook. <br />On GitHub, the HTML representation is unable to render, please try loading this page with nbviewer.org.</b></div><div class=\"sk-container\" hidden><div class=\"sk-item\"><div class=\"sk-estimator fitted sk-toggleable\"><input class=\"sk-toggleable__control sk-hidden--visually\" id=\"sk-estimator-id-1\" type=\"checkbox\" checked><label for=\"sk-estimator-id-1\" class=\"sk-toggleable__label fitted sk-toggleable__label-arrow fitted\">&nbsp;XGBClassifier<span class=\"sk-estimator-doc-link fitted\">i<span>Fitted</span></span></label><div class=\"sk-toggleable__content fitted\"><pre>XGBClassifier(base_score=None, booster=None, callbacks=None,\n",
       "              colsample_bylevel=None, colsample_bynode=None,\n",
       "              colsample_bytree=None, device=None, early_stopping_rounds=None,\n",
       "              enable_categorical=False, eval_metric=None, feature_types=None,\n",
       "              gamma=None, grow_policy=None, importance_type=None,\n",
       "              interaction_constraints=None, learning_rate=None, max_bin=None,\n",
       "              max_cat_threshold=None, max_cat_to_onehot=None,\n",
       "              max_delta_step=None, max_depth=None, max_leaves=None,\n",
       "              min_child_weight=None, missing=nan, monotone_constraints=None,\n",
       "              multi_strategy=None, n_estimators=None, n_jobs=None,\n",
       "              num_parallel_tree=None, objective=&#x27;multi:softprob&#x27;, ...)</pre></div> </div></div></div></div>"
      ],
      "text/plain": [
       "XGBClassifier(base_score=None, booster=None, callbacks=None,\n",
       "              colsample_bylevel=None, colsample_bynode=None,\n",
       "              colsample_bytree=None, device=None, early_stopping_rounds=None,\n",
       "              enable_categorical=False, eval_metric=None, feature_types=None,\n",
       "              gamma=None, grow_policy=None, importance_type=None,\n",
       "              interaction_constraints=None, learning_rate=None, max_bin=None,\n",
       "              max_cat_threshold=None, max_cat_to_onehot=None,\n",
       "              max_delta_step=None, max_depth=None, max_leaves=None,\n",
       "              min_child_weight=None, missing=nan, monotone_constraints=None,\n",
       "              multi_strategy=None, n_estimators=None, n_jobs=None,\n",
       "              num_parallel_tree=None, objective='multi:softprob', ...)"
      ]
     },
     "execution_count": 18,
     "metadata": {},
     "output_type": "execute_result"
    }
   ],
   "source": [
    "# Try multiple models\n",
    "\n",
    "# (1) Linear Support Vector Machine (with balancing of weights)\n",
    "#model = LinearSVC(class_weight='balanced', random_state=1) #notice the “balanced” option to handle imbalanced dataset\n",
    "#model.fit(X_train, y_train) #fit the model with training data\n",
    "\n",
    "# (2) XG Boost\n",
    "model = XGBClassifier(random_state=1)\n",
    "model.fit(X_train, y_train) #fit the model with training data\n",
    "\n",
    "# (3) Random Forest (with balancing of weights)\n",
    "#model = RandomForestClassifier(class_weight='balanced', random_state=1)\n",
    "#model.fit(X_train, y_train) #fit the model with training data\n",
    "\n",
    "# (4) Linear Support Vector Machine (with no balancing of weights)\n",
    "#model = LinearSVC(random_state=1)\n",
    "#model.fit(X_train, y_train) #fit the model with training data\n",
    "\n",
    "# (5) Random Forest (with no balancing of weights)\n",
    "#model = RandomForestClassifier(random_state=1) # Same weightage to each category\n",
    "#model.fit(X_train, y_train) #fit the model with training data\n",
    "\n",
    "# (6) Neural network\n",
    "#layer_input = Input(shape = (X.shape[1],))\n",
    "#layer_1 = Dense(100, activation=\"relu\")(layer_input)\n",
    "#layer_output= Dense(Y_train_one_hot.shape[1], activation=\"softmax\")(layer_1)\n",
    "#model = Model(inputs=layer_input, outputs=layer_output)\n",
    "\n",
    "#model.summary()\n",
    "#model.compile(loss='categorical_crossentropy', metrics=['categorical_accuracy'], optimizer='adam') # categorical_accuracy is used for multi-class classification\n",
    "#model.fit(X_train, Y_train_one_hot, batch_size=100, epochs=10, validation_data=(X_val, Y_val_one_hot))\n",
    "\n",
    "# (7) Try using BERT\n",
    "# Code for BERT is at the end\n",
    "# Couldn't try BERT as laptop it requires more computation power than my laptop's (got Out of Memory error)"
   ]
  },
  {
   "cell_type": "markdown",
   "id": "337dd69f-188e-4984-82d0-d7be6fea1d4d",
   "metadata": {},
   "source": [
    "##### Load saved model (in case already saved)"
   ]
  },
  {
   "cell_type": "code",
   "execution_count": 19,
   "id": "2ba22ec0-cb48-40fe-9742-2f2d4d0bd288",
   "metadata": {},
   "outputs": [],
   "source": [
    "## Read binary file to memory. So, 'rb' mode\n",
    "\n",
    "#model_file_name = \"2_xgb_no_weight_change.pkl\"\n",
    "\n",
    "#with open(os.path.join(\"Models\",label, model_file_name), 'rb') as file:\n",
    "#    model = pickle.load(file)\n",
    "#    file.close()\n",
    "\n",
    "#print('Saved model loaded in memory')"
   ]
  },
  {
   "cell_type": "markdown",
   "id": "1ac16727-cd7e-4e66-8ea0-4aebc9457d28",
   "metadata": {},
   "source": [
    "#### Performance on Training Set"
   ]
  },
  {
   "cell_type": "markdown",
   "id": "f3ca7564-6875-4d0f-b350-34a574d900c6",
   "metadata": {},
   "source": [
    "##### Generate predictions for training dataset"
   ]
  },
  {
   "cell_type": "code",
   "execution_count": 20,
   "id": "ef3d9f0a-3eb9-4b01-b29b-7ee3e42e9bc1",
   "metadata": {},
   "outputs": [],
   "source": [
    "y_pred_train = model.predict(X_train)\n",
    "\n",
    "## For neural network prediction\n",
    "#y_pred_train = np.argmax(y_pred_train, axis=1)"
   ]
  },
  {
   "cell_type": "code",
   "execution_count": 21,
   "id": "bae69d1d-eb8b-4d5b-bb21-50060671fb97",
   "metadata": {},
   "outputs": [
    {
     "name": "stdout",
     "output_type": "stream",
     "text": [
      "Accuracy (training):  0.8223134344229174\n",
      "F1-score (training):  0.8062682668067213\n",
      "Precision (training):  0.8235199912492301\n",
      "Recall (training):  0.8223134344229174\n"
     ]
    }
   ],
   "source": [
    "print(\"Accuracy (training): \", accuracy_score(y_train, y_pred_train))\n",
    "print(\"F1-score (training): \", f1_score(y_train, y_pred_train, average='weighted')) \n",
    "print(\"Precision (training): \", precision_score(y_train, y_pred_train, average='weighted')) \n",
    "print(\"Recall (training): \", recall_score(y_train, y_pred_train, average='weighted'))"
   ]
  },
  {
   "cell_type": "code",
   "execution_count": 22,
   "id": "86cf8ffe-3f2f-4890-8a87-96e8a6b7a0e0",
   "metadata": {},
   "outputs": [
    {
     "name": "stdout",
     "output_type": "stream",
     "text": [
      "Classification Report based on training data:\n",
      "                                                       precision    recall  f1-score   support\n",
      "\n",
      "                               Any Other Cyber Crime       0.77      0.42      0.54      6455\n",
      "Child Pornography CPChild Sexual Abuse Material CSAM       0.95      0.75      0.84       210\n",
      "                                Cryptocurrency Crime       0.98      0.87      0.92       306\n",
      "                      Cyber Attack/ Dependent Crimes       1.00      1.00      1.00      2525\n",
      "                                     Cyber Terrorism       1.00      0.60      0.75       103\n",
      "      Hacking  Damage to computercomputer system etc       0.88      0.71      0.79       970\n",
      "                            Online Cyber Trafficking       1.00      0.36      0.53       111\n",
      "                              Online Financial Fraud       0.83      0.97      0.89     26754\n",
      "                            Online Gambling  Betting       1.00      0.47      0.64       270\n",
      "               Online and Social Media Related Crime       0.73      0.73      0.73      7149\n",
      "                                          Ransomware       1.00      1.00      1.00        38\n",
      "           RapeGang Rape RGRSexually Abusive Content       1.00      0.73      0.84       147\n",
      "                               Sexually Explicit Act       0.97      0.34      0.51       911\n",
      "                           Sexually Obscene material       0.94      0.46      0.61      1072\n",
      "\n",
      "                                            accuracy                           0.82     47021\n",
      "                                           macro avg       0.93      0.67      0.76     47021\n",
      "                                        weighted avg       0.82      0.82      0.81     47021\n",
      "\n"
     ]
    }
   ],
   "source": [
    "print(\"Classification Report based on training data:\\n\", classification_report(label_encoder.inverse_transform(y_train),label_encoder.inverse_transform(y_pred_train)))"
   ]
  },
  {
   "cell_type": "markdown",
   "id": "ca2c58ac-a8e8-4b04-8ac2-18b5dc6c3caa",
   "metadata": {},
   "source": [
    "#### Performance on Validation Set"
   ]
  },
  {
   "cell_type": "markdown",
   "id": "c79c4ee5-80ec-44bc-8d00-4b6d717f4640",
   "metadata": {},
   "source": [
    "##### Generate predictions for validation dataset"
   ]
  },
  {
   "cell_type": "code",
   "execution_count": 23,
   "id": "55e48edc-a0f0-4646-bd9f-6a367efcfe76",
   "metadata": {},
   "outputs": [],
   "source": [
    "y_pred = model.predict(X_val)\n",
    "\n",
    "## For neural network prediction\n",
    "#y_pred = np.argmax(y_pred, axis=1)"
   ]
  },
  {
   "cell_type": "markdown",
   "id": "c0e86b07-99ee-4911-9791-3e7e342cb1a0",
   "metadata": {},
   "source": [
    "##### Cross Validation Score"
   ]
  },
  {
   "cell_type": "code",
   "execution_count": 24,
   "id": "d0ba3ebe-9e09-4708-a82a-95a796313f83",
   "metadata": {},
   "outputs": [],
   "source": [
    "#print(cross_val_score(model, X_train, y_train, cv=5))"
   ]
  },
  {
   "cell_type": "markdown",
   "id": "b1734b05-8f78-4918-8788-1e1d28ca9afc",
   "metadata": {},
   "source": [
    "##### Performance on validation dataset"
   ]
  },
  {
   "cell_type": "code",
   "execution_count": 25,
   "id": "db5481f8-9282-4075-bf8e-ae3e034ed19d",
   "metadata": {},
   "outputs": [
    {
     "name": "stdout",
     "output_type": "stream",
     "text": [
      "Accuracy (validation):  0.7166674936733985\n",
      "F1-score (validation):  0.6781563530770084\n",
      "Precision (validation):  0.6686233626557739\n",
      "Recall (validation):  0.7166674936733985\n"
     ]
    }
   ],
   "source": [
    "print(\"Accuracy (validation): \", accuracy_score(y_val, y_pred))\n",
    "print(\"F1-score (validation): \", f1_score(y_val, y_pred, average='weighted')) \n",
    "print(\"Precision (validation): \", precision_score(y_val, y_pred, average='weighted')) \n",
    "print(\"Recall (validation): \", recall_score(y_val, y_pred, average='weighted'))"
   ]
  },
  {
   "cell_type": "markdown",
   "id": "2b38e771-a342-4a64-961d-2c20fc6dd5c0",
   "metadata": {},
   "source": [
    "##### Classification Report on validation dataset"
   ]
  },
  {
   "cell_type": "code",
   "execution_count": 26,
   "id": "ce8e8593-e406-4da6-9b86-38b9b54aad1e",
   "metadata": {},
   "outputs": [
    {
     "name": "stdout",
     "output_type": "stream",
     "text": [
      "Classification Report based on validation data:\n",
      "                                                       precision    recall  f1-score   support\n",
      "\n",
      "                               Any Other Cyber Crime       0.46      0.23      0.31      2766\n",
      "Child Pornography CPChild Sexual Abuse Material CSAM       0.52      0.26      0.34        90\n",
      "                                Cryptocurrency Crime       0.65      0.42      0.51       131\n",
      "                      Cyber Attack/ Dependent Crimes       1.00      1.00      1.00      1083\n",
      "                                     Cyber Terrorism       0.00      0.00      0.00        44\n",
      "      Hacking  Damage to computercomputer system etc       0.40      0.25      0.31       414\n",
      "                            Online Cyber Trafficking       0.00      0.00      0.00        47\n",
      "                              Online Financial Fraud       0.77      0.93      0.84     11468\n",
      "                            Online Gambling  Betting       0.12      0.01      0.02       116\n",
      "               Online and Social Media Related Crime       0.55      0.59      0.57      3065\n",
      "                                          Ransomware       0.60      0.19      0.29        16\n",
      "           RapeGang Rape RGRSexually Abusive Content       0.86      0.10      0.17        63\n",
      "                               Sexually Explicit Act       0.18      0.03      0.04       391\n",
      "                           Sexually Obscene material       0.31      0.07      0.11       459\n",
      "\n",
      "                                            accuracy                           0.72     20153\n",
      "                                           macro avg       0.46      0.29      0.32     20153\n",
      "                                        weighted avg       0.67      0.72      0.68     20153\n",
      "\n"
     ]
    }
   ],
   "source": [
    "print(\"Classification Report based on validation data:\\n\", classification_report(label_encoder.inverse_transform(y_val),label_encoder.inverse_transform(y_pred)))"
   ]
  },
  {
   "cell_type": "markdown",
   "id": "97c74014-13fe-449f-b474-4858ac62909f",
   "metadata": {},
   "source": [
    "##### Save Model"
   ]
  },
  {
   "cell_type": "code",
   "execution_count": 27,
   "id": "4e460a3b-a10d-4736-af8f-7f0d6318c3f4",
   "metadata": {},
   "outputs": [
    {
     "name": "stdout",
     "output_type": "stream",
     "text": [
      "Model saved!\n"
     ]
    }
   ],
   "source": [
    "model_pkl_file = \"2_xgb_no_weight_change.pkl\"  \n",
    "\n",
    "with open(os.path.join(\"Models\",label,model_pkl_file), 'wb') as file:\n",
    "    pickle.dump(model, file)\n",
    "    file.close()\n",
    "\n",
    "print(\"Model saved!\")"
   ]
  },
  {
   "cell_type": "markdown",
   "id": "52a25162-192d-4884-b093-2e5fc8132205",
   "metadata": {},
   "source": [
    "#### Performance on Testing set"
   ]
  },
  {
   "cell_type": "markdown",
   "id": "2e3397d4-1690-4fab-8c06-780fe7150c2e",
   "metadata": {},
   "source": [
    "##### Genrate predictions for test dataset"
   ]
  },
  {
   "cell_type": "code",
   "execution_count": 28,
   "id": "30bf4dc0-ac9e-4954-ae89-7ca343280269",
   "metadata": {},
   "outputs": [],
   "source": [
    "y_pred_test = model.predict(X_test)\n",
    "\n",
    "## For neural network prediction\n",
    "#y_pred_test = np.argmax(y_pred_test, axis=1)"
   ]
  },
  {
   "cell_type": "markdown",
   "id": "79c2defc-fa45-46e4-81db-d4da536fb90c",
   "metadata": {},
   "source": [
    "##### Performance on test data"
   ]
  },
  {
   "cell_type": "code",
   "execution_count": 29,
   "id": "0fdb22ba-c928-4722-8537-87849fc366fd",
   "metadata": {},
   "outputs": [
    {
     "name": "stdout",
     "output_type": "stream",
     "text": [
      "Accuracy (test):  0.7216245883644347\n",
      "F1-score (test):  0.6822372786078915\n",
      "Precision (test):  0.6737282061031707\n",
      "Recall (test):  0.7216245883644347\n"
     ]
    }
   ],
   "source": [
    "print(\"Accuracy (test): \", accuracy_score(y_test_encoded,y_pred_test))\n",
    "print(\"F1-score (test): \", f1_score(y_test_encoded,y_pred_test, average='weighted')) \n",
    "print(\"Precision (test): \", precision_score(y_test_encoded,y_pred_test, average='weighted'))\n",
    "print(\"Recall (test): \", recall_score(y_test_encoded,y_pred_test, average='weighted'))"
   ]
  },
  {
   "cell_type": "markdown",
   "id": "bb95c62c-619d-4898-b788-b83cc70b5ac5",
   "metadata": {},
   "source": [
    "##### Classification Report on test dataset"
   ]
  },
  {
   "cell_type": "code",
   "execution_count": 30,
   "id": "db6f7f37-5a84-43e3-9390-5dc98c6cccce",
   "metadata": {},
   "outputs": [
    {
     "name": "stdout",
     "output_type": "stream",
     "text": [
      "Classification Report based on test data:\n",
      "                                                       precision    recall  f1-score   support\n",
      "\n",
      "                               Any Other Cyber Crime       0.43      0.20      0.28      3609\n",
      "Child Pornography CPChild Sexual Abuse Material CSAM       0.59      0.24      0.34       114\n",
      "                                Cryptocurrency Crime       0.55      0.38      0.45       162\n",
      "                      Cyber Attack/ Dependent Crimes       1.00      1.00      1.00      1261\n",
      "                                     Cyber Terrorism       0.00      0.00      0.00        51\n",
      "      Hacking  Damage to computercomputer system etc       0.39      0.25      0.31       580\n",
      "                            Online Cyber Trafficking       0.00      0.00      0.00        61\n",
      "                              Online Financial Fraud       0.78      0.94      0.85     16051\n",
      "                            Online Gambling  Betting       0.22      0.02      0.03       133\n",
      "               Online and Social Media Related Crime       0.56      0.58      0.57      4045\n",
      "                                          Ransomware       0.57      0.22      0.32        18\n",
      "           RapeGang Rape RGRSexually Abusive Content       0.44      0.14      0.21        86\n",
      "                               Sexually Explicit Act       0.30      0.04      0.07       518\n",
      "                           Sexually Obscene material       0.41      0.09      0.14       641\n",
      "\n",
      "                                            accuracy                           0.72     27330\n",
      "                                           macro avg       0.45      0.29      0.33     27330\n",
      "                                        weighted avg       0.67      0.72      0.68     27330\n",
      "\n"
     ]
    }
   ],
   "source": [
    "print(\"Classification Report based on test data:\\n\", classification_report(y_test,label_encoder.inverse_transform(y_pred_test)))"
   ]
  },
  {
   "cell_type": "code",
   "execution_count": 31,
   "id": "0ae8d64f-03d3-4bfc-a2a6-79017fc2f97d",
   "metadata": {},
   "outputs": [],
   "source": [
    "test_predicted_labels = label_encoder.inverse_transform(y_pred_test)"
   ]
  },
  {
   "cell_type": "code",
   "execution_count": 32,
   "id": "a86b5b6c-1393-4737-920f-6d1ae0008009",
   "metadata": {},
   "outputs": [],
   "source": [
    "test_predicted_labels = pd.DataFrame(test_predicted_labels, columns =['predicted_label'])"
   ]
  },
  {
   "cell_type": "code",
   "execution_count": 33,
   "id": "c44194e5-c4e9-4b6c-98ff-5445481fa1dd",
   "metadata": {},
   "outputs": [],
   "source": [
    "df_for_analysis = pd.concat([df_vectorized_test_final, test_predicted_labels], axis=1)"
   ]
  },
  {
   "cell_type": "code",
   "execution_count": 34,
   "id": "ed89bf66-bf62-4e95-9307-4b2c0871668f",
   "metadata": {},
   "outputs": [],
   "source": [
    "# For category level predictions\n",
    "df_for_analysis.to_csv(os.path.join(\"Output Data\",\"98_test_data_xgb_predicted_cat_labels.csv\"), index=False)\n",
    "\n",
    "## For sub_category level predictions\n",
    "#df_for_analysis.to_csv(os.path.join(\"Output Data\",\"98_test_data_xgb_predicted_subcat_labels.csv\"), index=False)"
   ]
  },
  {
   "cell_type": "markdown",
   "id": "0cb46832-dadc-49d1-bba5-4c16e6b920fe",
   "metadata": {},
   "source": [
    "#### Explore features (for XG Boost Model)"
   ]
  },
  {
   "cell_type": "markdown",
   "id": "e24caa67-d37a-456b-b851-cc65840b1d36",
   "metadata": {},
   "source": [
    "##### Saving Feature Importance (It will work for Random Forest & XGBoost)"
   ]
  },
  {
   "cell_type": "code",
   "execution_count": 35,
   "id": "73dd218e-a7b4-4754-8d2d-95d20117d627",
   "metadata": {},
   "outputs": [],
   "source": [
    "feat_imp = pd.DataFrame({'feature': X_train.columns, 'importance': model.feature_importances_})\n",
    "feat_imp = feat_imp.sort_values('importance', ascending=False)"
   ]
  },
  {
   "cell_type": "code",
   "execution_count": 36,
   "id": "73e31cb9-7cd4-4a13-989d-13168394a0eb",
   "metadata": {},
   "outputs": [],
   "source": [
    "# For category\n",
    "feat_imp.to_csv(os.path.join(\"Output Data\",\"97_feature_importance_xgb_cat.csv\"), index=False)\n",
    "\n",
    "## For sub-category\n",
    "#feat_imp.to_csv(os.path.join(\"Output Data\",\"97_feature_importance_xgb_sub_cat.csv\"), index=False)"
   ]
  },
  {
   "cell_type": "markdown",
   "id": "06e85442-5c92-41c5-a5c1-4bb22d6b28ea",
   "metadata": {},
   "source": [
    "##### Visualize feature importance (It will work for XGBoost only)"
   ]
  },
  {
   "cell_type": "code",
   "execution_count": 37,
   "id": "96329086-eb20-4ade-b59f-fca1591fa8f3",
   "metadata": {},
   "outputs": [
    {
     "data": {
      "image/png": "[encoded data removed]",
      "text/plain": [
       "<Figure size 1000x600 with 1 Axes>"
      ]
     },
     "metadata": {},
     "output_type": "display_data"
    }
   ],
   "source": [
    "# Set the number of top features to plot\n",
    "\n",
    "top_n = 30\n",
    "\n",
    "# Plot feature importance with feature names\n",
    "\n",
    "fig, ax = plt.subplots(figsize=(10, 6))\n",
    "plot_importance(model, ax=ax, importance_type='gain',max_num_features=top_n, show_values=False)\n",
    "\n",
    "plt.xlabel('Gain')\n",
    "plt.title(f'Top {top_n} Most Important Features')\n",
    "plt.show()"
   ]
  },
  {
   "cell_type": "markdown",
   "id": "f3ac0143-6948-4b80-bd5a-ebf71f6e63e0",
   "metadata": {
    "jp-MarkdownHeadingCollapsed": true
   },
   "source": [
    "# Testing on real time report entry"
   ]
  },
  {
   "cell_type": "code",
   "execution_count": 38,
   "id": "2af4f656-929b-4848-9733-303ac1b68c98",
   "metadata": {},
   "outputs": [],
   "source": [
    "\n",
    "# Create pipeline to pre-process and vectorize report\n",
    "# Load Model\n",
    "# Predict\n",
    "# Load saved label encoder\n",
    "# Invert label encoding to get category/sub-category name"
   ]
  },
  {
   "cell_type": "code",
   "execution_count": 5,
   "id": "a416cf16-eb7d-4d99-8b53-30d38e786788",
   "metadata": {},
   "outputs": [],
   "source": [
    "def clean_text(text):\n",
    "\n",
    "    '''\n",
    "    Returns a clean string.\n",
    "    Converts text to lower case, remove whitespaces, remove punctuations.\n",
    "\n",
    "            Parameters:\n",
    "                    text: string \n",
    "                        Raw input text\n",
    "\n",
    "            Returns:\n",
    "                    text: string\n",
    "                        Clean output text\n",
    "    '''\n",
    "    \n",
    "    text = text.lower() # Change text of reports to lowercase\n",
    "    text = remove_punctuations(text) # Remove punctuations from report text\n",
    "\n",
    "    # Replace redundant whitespaces from text\n",
    "    text = ' '.join(text.split())\n",
    "    \n",
    "    return text"
   ]
  },
  {
   "cell_type": "code",
   "execution_count": 6,
   "id": "c0e253aa-5f73-470f-a5e9-2da1db1745a2",
   "metadata": {},
   "outputs": [],
   "source": [
    "def pre_process_text(text):\n",
    "\n",
    "    '''\n",
    "    Returns pre-processed (stop word removal, lemmatization) string.\n",
    "\n",
    "            Parameters:\n",
    "                    text: string \n",
    "                        Clean text\n",
    "\n",
    "            Returns:\n",
    "                    text: string\n",
    "                        Pre-processed text\n",
    "    '''\n",
    "    \n",
    "    # Perform lemmatization & Remove stop-words\n",
    "    text =  ' '.join(word for word in lemmatize_text(text))\n",
    "    \n",
    "    return text"
   ]
  },
  {
   "cell_type": "code",
   "execution_count": 13,
   "id": "ecd147bd-72f1-4d8c-93a8-3c7b790392bb",
   "metadata": {},
   "outputs": [],
   "source": [
    "def vectorize_text_tf_idf(text, vectorizer_file_name = \"1_tf_idf_transformer.pkl\"):\n",
    "\n",
    "    '''\n",
    "    Returns a dataframe with vectorized dependent (X) variables.\n",
    "\n",
    "            Parameters:\n",
    "                    text: string \n",
    "                        Pre-processed text\n",
    "                    vectorizer_file_name: string\n",
    "                        Name of trained idf transformer to be used for vectorization\n",
    "\n",
    "            Returns:\n",
    "                    X_tf_idf: dataframe\n",
    "                        Dataframe with vectorized dependent (X) variables\n",
    "    '''\n",
    "    \n",
    "\n",
    "    with open(os.path.join('Output Data', 'key_word_list_top_75_sub_cat'), 'rb') as file:\n",
    "        kw_list = pickle.load(file)\n",
    "        file.close()\n",
    "    \n",
    "    #print('Done reading key word list into a list variable (kw_list)')\n",
    "\n",
    "    # Initialize count vectorizer to count term frequency (count) restricting vocabulary to only kw_list\n",
    "    count_vectorizer = CountVectorizer(vocabulary = kw_list)\n",
    "\n",
    "    # Convert input text to a list and then to dataframe (to make it iteratable and in same format as training data)\n",
    "    df = pd.DataFrame([text], columns=['report_aft_swr_lem'])\n",
    "\n",
    "    # Get term frequency / word count of keywords in reports\n",
    "    word_count_vector = count_vectorizer.fit_transform(df['report_aft_swr_lem'])\n",
    "\n",
    "    # Get idf of keywords\n",
    "    # Load already trained idf values\n",
    "    with open(os.path.join(\"Vectorizers\",vectorizer_file_name), 'rb') as file:\n",
    "        tfidf_transformer = pickle.load(file)\n",
    "        file.close()\n",
    "    \n",
    "    #print(vectorizer_file_name, \": TF-IDF transformer loaded!\")\n",
    "    \n",
    "\n",
    "    # Get tf-idf values for each word in reports \n",
    "    X_tf_idf = tfidf_transformer.transform(word_count_vector)\n",
    "\n",
    "    X_tf_idf = pd.DataFrame(X_tf_idf.toarray(), columns=count_vectorizer.get_feature_names_out())\n",
    "    X_tf_idf.sort_index(axis=1, inplace=True) # Sorting columns in ascending order of names (key words)\n",
    "\n",
    "\n",
    "    return X_tf_idf"
   ]
  },
  {
   "cell_type": "code",
   "execution_count": 8,
   "id": "62b55849-5a06-4e01-9d84-d050bcd917d0",
   "metadata": {},
   "outputs": [],
   "source": [
    "def load_classification_model(model_pkl_file = \"2_xgb_no_weight_change.pkl\", label = 'sub_category'):\n",
    "\n",
    "    # Load model\n",
    "    with open(os.path.join(\"Models\", label, model_pkl_file), 'rb') as file:\n",
    "        model = pickle.load(file)\n",
    "        file.close()\n",
    "\n",
    "    # Load label encoder\n",
    "    with open(os.path.join(\"Vectorizers\", label+\"_encoder.pkl\"), 'rb') as file:\n",
    "        label_encoder = pickle.load(file)\n",
    "        file.close()\n",
    "    \n",
    "    return model, label_encoder "
   ]
  },
  {
   "cell_type": "code",
   "execution_count": 9,
   "id": "79ae3fde-0cc8-4ccc-ab47-463e17d59003",
   "metadata": {},
   "outputs": [],
   "source": [
    "def predict_report_class(user_report_description, model, label_encoder):\n",
    "\n",
    "    # Clean, process and vectorize user report description\n",
    "    input = clean_text(user_report_description)\n",
    "    input = pre_process_text(input)\n",
    "    input = vectorize_text_tf_idf(input)\n",
    "    \n",
    "    # Load model & label encoder\n",
    "    #model, label_encoder = load_classification_model(model_pkl_file = \"2_xgb_no_weight_change.pkl\", label = 'sub_category')\n",
    "\n",
    "    # Predict report's class\n",
    "    output = label_encoder.inverse_transform(model.predict(input))\n",
    "    \n",
    "    return output"
   ]
  },
  {
   "cell_type": "code",
   "execution_count": 10,
   "id": "f59ae6dd-4264-4b70-ac00-524b9dd19180",
   "metadata": {},
   "outputs": [],
   "source": [
    "model, label_encoder = load_classification_model(model_pkl_file = \"2_xgb_no_weight_change.pkl\", label = 'sub_category')"
   ]
  },
  {
   "cell_type": "code",
   "execution_count": 15,
   "id": "5b274ee0-b129-4656-9322-c908f801d4f5",
   "metadata": {},
   "outputs": [],
   "source": [
    "test_report = \"paytm se paisa kaat k fraud kar diya\""
   ]
  },
  {
   "cell_type": "code",
   "execution_count": 16,
   "id": "9a115da1-bc9f-42ed-8983-f338e9d7cea0",
   "metadata": {},
   "outputs": [
    {
     "data": {
      "text/plain": [
       "array(['UPI Related Frauds'], dtype=object)"
      ]
     },
     "execution_count": 16,
     "metadata": {},
     "output_type": "execute_result"
    }
   ],
   "source": [
    "predict_report_class(test_report, model, label_encoder)"
   ]
  },
  {
   "cell_type": "markdown",
   "id": "39464881-9e4a-4abd-ba4d-4703f2130e0e",
   "metadata": {
    "jp-MarkdownHeadingCollapsed": true
   },
   "source": [
    "# Trying BERT (Ignore this: Went out of memory)"
   ]
  },
  {
   "cell_type": "code",
   "execution_count": null,
   "id": "3f4d7a8d-a64d-448b-9a20-46a2958752c2",
   "metadata": {},
   "outputs": [],
   "source": [
    "\n",
    "#df_preprocessed_final = pd.read_csv(filepath_or_buffer = os.path.join(\"Output Data\",\"03_preprocessed_train_data_final.csv\"), sep = \",\", header = 0)\n",
    "#df_preprocessed_test_final = pd.read_csv(filepath_or_buffer = os.path.join(\"Output Data\",\"03_preprocessed_test_data_final.csv\"), sep = \",\", header = 0)"
   ]
  },
  {
   "cell_type": "code",
   "execution_count": null,
   "id": "0084becd-b2d3-4bce-97f7-7334b229fd38",
   "metadata": {},
   "outputs": [],
   "source": [
    "\n",
    "#df_preprocessed_bert = copy.deepcopy(df_preprocessed_final)\n",
    "#df_preprocessed_bert = df_preprocessed_bert[['report_aft_swr_lem','category','sub_category']].drop_duplicates().reset_index(drop=True)"
   ]
  },
  {
   "cell_type": "markdown",
   "id": "41507515-9bc6-4d93-8940-683ab2d1c35a",
   "metadata": {},
   "source": [
    "##### Select target label (category or sub_category)"
   ]
  },
  {
   "cell_type": "code",
   "execution_count": null,
   "id": "664d59ff-d56e-4971-80f7-9275578a59e8",
   "metadata": {},
   "outputs": [],
   "source": [
    "#label_col = 'category'"
   ]
  },
  {
   "cell_type": "code",
   "execution_count": null,
   "id": "f8ba5b7c-9e6c-4ad8-85f5-e688dee9b377",
   "metadata": {},
   "outputs": [],
   "source": [
    "#label_encoded_col = label+'_encoded'"
   ]
  },
  {
   "cell_type": "markdown",
   "id": "01568efa-9933-42da-9ab4-4b7c26de1d8f",
   "metadata": {},
   "source": [
    "##### Create training and validation set split"
   ]
  },
  {
   "cell_type": "code",
   "execution_count": null,
   "id": "7df0ef93-ef52-454a-bea5-264716b1791d",
   "metadata": {},
   "outputs": [],
   "source": [
    "#label_encoder_b = preprocessing.LabelEncoder()\n",
    "\n",
    "#df_preprocessed_bert[label_encoded_col] = label_encoder_b.fit_transform(df_preprocessed_bert.loc[:,[label_col]]) \n",
    "\n",
    "## DON'T change stratify to category even if you train model at category level (stratification at sub_category level is better to cover all type of reports)\n",
    "#train_b, val_b = train_test_split(df_preprocessed_bert, test_size=0.3, random_state=1, stratify=df_preprocessed_bert.loc[:,['sub_category']])\n"
   ]
  },
  {
   "cell_type": "code",
   "execution_count": null,
   "id": "28013ad4-6616-411c-9450-a99b8a460c6e",
   "metadata": {},
   "outputs": [],
   "source": [
    "#train_b = train_b.reset_index(drop=True)\n",
    "#val_b = val_b.reset_index(drop=True)"
   ]
  },
  {
   "cell_type": "markdown",
   "id": "db25c6a6-5b49-4897-8fa9-7a026334a3b4",
   "metadata": {},
   "source": [
    "##### Load BERT tokenizer and pre-trained model"
   ]
  },
  {
   "cell_type": "code",
   "execution_count": null,
   "id": "ab41450b-65f7-43f8-8415-3fde3196f25c",
   "metadata": {},
   "outputs": [],
   "source": [
    "#model_name = 'bert-base-uncased'\n",
    "#tokenizer = AutoTokenizer.from_pretrained(model_name)\n",
    "#bert = TFAutoModel.from_pretrained(model_name)"
   ]
  },
  {
   "cell_type": "markdown",
   "id": "89abecb0-39a2-41ac-a9a1-5845d3016d51",
   "metadata": {},
   "source": [
    "##### Tokenize training and validation sets (It will give inputs ids & attention masks)"
   ]
  },
  {
   "cell_type": "code",
   "execution_count": null,
   "id": "76ba5401-7a61-4fd0-a4c6-76189a0aace9",
   "metadata": {},
   "outputs": [],
   "source": [
    "#token_size = 50 # Think of what potential length should be enough to capture the text (everything after that will be truncated)"
   ]
  },
  {
   "cell_type": "code",
   "execution_count": null,
   "id": "7e79aabe-02f8-4064-8386-832e8c1c037c",
   "metadata": {},
   "outputs": [],
   "source": [
    "#start = time.time()\n",
    "\n",
    "#X_train_b = tokenizer(\n",
    "#    text=train_b['report_aft_swr_lem'].tolist(),\n",
    "#    add_special_tokens=True,\n",
    "#    max_length=token_size,\n",
    "#    truncation=True,\n",
    "#    padding=True, \n",
    "#    return_tensors='tf',\n",
    "#    return_token_type_ids = False,\n",
    "#    return_attention_mask = True,\n",
    "#    verbose = True)\n",
    "#X_val_b = tokenizer(\n",
    "#    text=val_b['report_aft_swr_lem'].tolist(),\n",
    "#    add_special_tokens=True,\n",
    "#    max_length=token_size,\n",
    "#    truncation=True,\n",
    "#    padding=True, \n",
    "#    return_tensors='tf',\n",
    "#    return_token_type_ids = False,\n",
    "#    return_attention_mask = True,\n",
    "#    verbose = True)\n",
    "\n",
    "#end = time.time()\n",
    "\n",
    "#print(\"Getting input_ids and attention_mask from training & validation data took: \", (end-start)/60, \" minutes\")"
   ]
  },
  {
   "cell_type": "code",
   "execution_count": null,
   "id": "12831cf0-2ffc-4bdd-97f8-a534658baaa7",
   "metadata": {},
   "outputs": [],
   "source": [
    "#X_train_input_ids = X_train_b['input_ids']\n",
    "#X_train_attention_mask = X_train_b['attention_mask']"
   ]
  },
  {
   "cell_type": "markdown",
   "id": "15925b34-1dd5-4b89-8379-3b644c0591c6",
   "metadata": {},
   "source": [
    "##### Convert label column (category or sub_category) to one hot encoding"
   ]
  },
  {
   "cell_type": "code",
   "execution_count": null,
   "id": "4ede50be-9a58-4821-8196-39579c039702",
   "metadata": {},
   "outputs": [],
   "source": [
    "#n_classes_b = max(train_b[label_encoded_col].values)+1\n",
    "\n",
    "#train_label_one_hot = to_categorical(train_b[label_encoded_col], n_classes_b)\n",
    "#val_label_one_hot = to_categorical(val_b[label_encoded_col], n_classes_b)"
   ]
  },
  {
   "cell_type": "markdown",
   "id": "42ddc152-8594-4092-9504-5238c271748f",
   "metadata": {},
   "source": [
    "##### Use pre-trained BERT and train additional layers for classification"
   ]
  },
  {
   "cell_type": "code",
   "execution_count": null,
   "id": "2733a192-4f2c-49c9-b32e-b85112536564",
   "metadata": {},
   "outputs": [],
   "source": [
    "#bert.summary()"
   ]
  },
  {
   "cell_type": "code",
   "execution_count": null,
   "id": "6be8fe30-1847-4317-b352-32efe8243cdb",
   "metadata": {},
   "outputs": [],
   "source": [
    "## Building BERT Model\n",
    "\n",
    "#start = time.time()\n",
    "\n",
    "#embeddings = bert(X_train_input_ids,attention_mask = X_train_attention_mask)[0] # This requires high computational power (It may give 'Out of Memory Error')\n",
    "#out = GlobalMaxPool1D()(embeddings)\n",
    "#out = Dense(128, activation='relu')(out)\n",
    "#out = Dropout(0.1)(out)\n",
    "#out = Dense(32,activation = 'relu')(out)\n",
    "#y_layer = Dense(n_classes_b,activation = 'softmax')(out)\n",
    "#model = Model(inputs=[input_ids, input_mask], outputs=y_layer)\n",
    "#model.layers[2].trainable = True\n",
    "\n",
    "#end = time.time()\n",
    "\n",
    "#print(\"Building BERT model took: \", (end-start)/60, \" minutes\")"
   ]
  },
  {
   "cell_type": "code",
   "execution_count": null,
   "id": "5be1956d-861a-4a0c-90cf-e386a454130b",
   "metadata": {},
   "outputs": [],
   "source": [
    "## Compile the model\n",
    "## this learning rate is for bert model , taken from huggingface website\n",
    "\n",
    "#model.compile(optimizer = optimizer = Adam(learning_rate=5e-05, epsilon=1e-08, decay=0.01, clipnorm=1.0), loss = CategoricalCrossentropy(from_logits = True), metrics = CategoricalAccuracy('balanced_accuracy'))"
   ]
  },
  {
   "cell_type": "code",
   "execution_count": null,
   "id": "0a3eb3c0-505d-493e-a5be-26f5f642295f",
   "metadata": {},
   "outputs": [],
   "source": [
    "#train_history = model.fit(\n",
    "#    x ={'input_ids':X_train_input_ids,'attention_mask':X_train_attention_mask}, y = train_label_one_hot,\n",
    "#    validation_data = (\n",
    "#    {'input_ids':X_val_input_ids,'attention_mask':X_val_attention_mask}, val_label_one_hot\n",
    "#    ), epochs=1, batch_size=36\n",
    "#    )"
   ]
  },
  {
   "cell_type": "markdown",
   "id": "6a1f4ae2-9853-4e4f-b22f-902a6b7d89c4",
   "metadata": {},
   "source": [
    "##### Generate Predictions for validation dataset"
   ]
  },
  {
   "cell_type": "code",
   "execution_count": null,
   "id": "e60d1a92-0010-4ef3-936d-cd10855d5fe4",
   "metadata": {},
   "outputs": [],
   "source": [
    "#y_pred_b = model.predict({'input_ids':X_val_input_ids,'attention_mask':X_val_attention_mask})"
   ]
  },
  {
   "cell_type": "code",
   "execution_count": null,
   "id": "d9358990-d339-4ac3-9663-b1472b21d9b8",
   "metadata": {},
   "outputs": [],
   "source": [
    "#print(classification_report(val_b[label_encoded_col],np.argmax(y_pred_b, axis=1)))"
   ]
  },
  {
   "cell_type": "markdown",
   "id": "ce291866-47b2-4460-9107-6d03196a1de4",
   "metadata": {},
   "source": [
    "##### Prepare test data set for evaluation"
   ]
  },
  {
   "cell_type": "code",
   "execution_count": null,
   "id": "273a8614-fe1b-49c5-b875-d0ae676447b8",
   "metadata": {},
   "outputs": [],
   "source": [
    "## Generating test_b\n",
    "\n",
    "#test_b = copy.deepcopy(df_preprocessed_test_final)\n",
    "#test_b = test_b.query('category != \"Crime Against Women & Children\" & category != \"Report Unlawful Content\" & major_language==\"en\"')[['report_aft_swr_lem','category','sub_category']].reset_index(drop=True)\n",
    "\n",
    "#test_b[label_encoded_col] = label_encoder_b.transform(test_b.loc[:,[label_col]])"
   ]
  },
  {
   "cell_type": "code",
   "execution_count": null,
   "id": "ea8e5a23-d462-4c39-892c-be45ad87a978",
   "metadata": {},
   "outputs": [],
   "source": [
    "## Generating X_test_input_ids and X_test_attention_mask\n",
    "\n",
    "#X_test_b = tokenizer(\n",
    "#    text=test_b['report_aft_swr_lem'].tolist(),\n",
    "#    add_special_tokens=True,\n",
    "#    max_length=token_size,\n",
    "#    truncation=True,\n",
    "#    padding=True, \n",
    "#    return_tensors='tf',\n",
    "#    return_token_type_ids = False,\n",
    "#    return_attention_mask = True,\n",
    "#    verbose = True)\n",
    "\n",
    "#X_test_input_ids = X_test_b['input_ids']\n",
    "#X_test_attention_mask = X_test_b['attention_mask']\n",
    "\n",
    "#test_label_one_hot = to_categorical(test_b[label_encoded_col], n_classes_b)"
   ]
  },
  {
   "cell_type": "markdown",
   "id": "9201e2e4-8798-4e05-bbb8-7f67f69936b6",
   "metadata": {},
   "source": [
    "##### Generate Predictions for validation dataset"
   ]
  },
  {
   "cell_type": "code",
   "execution_count": null,
   "id": "4039f7b0-69d0-4ef2-9c31-1606d83e7677",
   "metadata": {},
   "outputs": [],
   "source": [
    "#y_pred_test_b = model.predict({'input_ids':X_test_input_ids,'attention_mask':X_test_attention_mask})"
   ]
  },
  {
   "cell_type": "code",
   "execution_count": null,
   "id": "e0ae3953-d94b-4532-a3c5-80a9a989fdb5",
   "metadata": {},
   "outputs": [],
   "source": [
    "#print(classification_report(test_b[label_encoded_col],np.argmax(y_pred_test_b, axis=1)))"
   ]
  },
  {
   "cell_type": "code",
   "execution_count": null,
   "id": "de968e6a-063e-4228-a3b9-694a44d063d7",
   "metadata": {},
   "outputs": [],
   "source": []
  },
  {
   "cell_type": "code",
   "execution_count": null,
   "id": "cb2272b5-facf-4832-a8af-0c6a61799c9d",
   "metadata": {},
   "outputs": [],
   "source": [
    "#X_train_input_ids"
   ]
  },
  {
   "cell_type": "code",
   "execution_count": null,
   "id": "cf9e8c92-caf1-4560-a56d-9c2281264111",
   "metadata": {},
   "outputs": [],
   "source": []
  },
  {
   "cell_type": "markdown",
   "id": "a9bde89b-b93c-4b85-bcde-2dced6eae9f4",
   "metadata": {
    "jp-MarkdownHeadingCollapsed": true
   },
   "source": [
    "# Classification using pre-trained Word2Vec (Similarity of X & Y vectors)"
   ]
  },
  {
   "cell_type": "code",
   "execution_count": null,
   "id": "1e06ad68-a031-4c12-8481-5badfc8942bc",
   "metadata": {},
   "outputs": [],
   "source": [
    "# Define all the labels (by keywords)\n",
    "# Vectorize label definitions\n",
    "# Clean & pre-process user report description\n",
    "# Vectorize user report description\n",
    "# Get cosine similarity of report with all labels\n",
    "# Choose the label with highest similarity (if highest similarity is below a threshold, tag it to OTHER)"
   ]
  },
  {
   "cell_type": "markdown",
   "id": "5319edc9-10ef-4c1a-b2ae-5da6df3bce87",
   "metadata": {},
   "source": [
    "##### Load pre-trained word vectorizer"
   ]
  },
  {
   "cell_type": "code",
   "execution_count": 18,
   "id": "8b1cda75-4d65-44a4-8cd7-dbc4ab06c8a3",
   "metadata": {},
   "outputs": [],
   "source": [
    "from gensim.models import KeyedVectors"
   ]
  },
  {
   "cell_type": "code",
   "execution_count": 48,
   "id": "3c173fcd-7c67-4d73-8cc4-a92cda16359c",
   "metadata": {},
   "outputs": [],
   "source": [
    "model_file_name = 'GoogleNews-vectors-negative300.bin' # Word2vec\n",
    "\n",
    "# Load all words for vectorizing labels (can use only most commonly occuring 100000 words for vectorizing user report description)\n",
    "vec_model = KeyedVectors.load_word2vec_format(os.path.join('Vectorizers', 'pre-trained', model_file_name), binary=True) #, limit = 100000)"
   ]
  },
  {
   "cell_type": "code",
   "execution_count": 26,
   "id": "f89f0070-444d-4f58-b84f-db697ef81211",
   "metadata": {},
   "outputs": [],
   "source": [
    "#vec_model['ransomware'] # ransomware not present in atleast top 100000 words -> keyword error is thrown in such case"
   ]
  },
  {
   "cell_type": "markdown",
   "id": "561f0878-4056-4f1f-a2b9-c01aff1e75c3",
   "metadata": {},
   "source": [
    "##### Load label definitions (in form of keywords)"
   ]
  },
  {
   "cell_type": "markdown",
   "id": "2ebb7da8-b5a7-4fda-92b5-0fa0a8182057",
   "metadata": {},
   "source": [
    "##### APPROACH 1 (considering most common words in training data)"
   ]
  },
  {
   "cell_type": "code",
   "execution_count": 27,
   "id": "edabfba7-a477-41d7-bb3c-47f50bb90d4e",
   "metadata": {},
   "outputs": [],
   "source": [
    "## Most occuring words learnt from training dataset\n",
    "df_sub_cat_def = pd.read_csv(filepath_or_buffer = os.path.join(\"Output Data\",\"05_only_key_words_train_data_by_sub_category.csv\"), sep = \",\", header = 0)"
   ]
  },
  {
   "cell_type": "markdown",
   "id": "a2c1a32f-38fc-41ae-82b5-b767a96ad691",
   "metadata": {},
   "source": [
    "##### Vectorize label definitions (APPROACH 1)"
   ]
  },
  {
   "cell_type": "code",
   "execution_count": 28,
   "id": "9770f3c6-592f-4f74-963f-c1ed2cb264bb",
   "metadata": {},
   "outputs": [
    {
     "name": "stdout",
     "output_type": "stream",
     "text": [
      "\n",
      "Creating definition vector for:  Other\n",
      "whatsapp : This word is not present in pretrained model\n",
      "Created!\n",
      "\n",
      "Creating definition vector for:  Child Pornography CPChild Sexual Abuse Material CSAM\n",
      "whatsapp : This word is not present in pretrained model\n",
      "wanrned : This word is not present in pretrained model\n",
      "complainted : This word is not present in pretrained model\n",
      "instagram : This word is not present in pretrained model\n",
      "Created!\n",
      "\n",
      "Creating definition vector for:  Cryptocurrency Fraud\n",
      "binance : This word is not present in pretrained model\n",
      "whatsapp : This word is not present in pretrained model\n",
      "sharehash : This word is not present in pretrained model\n",
      "bitcoin : This word is not present in pretrained model\n",
      "cryptocurrency : This word is not present in pretrained model\n",
      "Created!\n",
      "\n",
      "Creating definition vector for:  Data Breach/Theft\n",
      "Created!\n",
      "\n",
      "Creating definition vector for:  Denial of Service (DoS)/Distributed Denial of Service (DDOS) attacks\n",
      "Created!\n",
      "\n",
      "Creating definition vector for:  Hacking/Defacement\n",
      "Created!\n",
      "\n",
      "Creating definition vector for:  Malware Attack\n",
      "Created!\n",
      "\n",
      "Creating definition vector for:  Ransomware Attack\n",
      "Created!\n",
      "\n",
      "Creating definition vector for:  SQL Injection\n",
      "Created!\n",
      "\n",
      "Creating definition vector for:  Tampering with computer source documents\n",
      "Created!\n",
      "\n",
      "Creating definition vector for:  Cyber Terrorism\n",
      "whatsapp : This word is not present in pretrained model\n",
      "Created!\n",
      "\n",
      "Creating definition vector for:  Damage to computer computer systems etc\n",
      "whatsapp : This word is not present in pretrained model\n",
      "Created!\n",
      "\n",
      "Creating definition vector for:  Email Hacking\n",
      "instagram : This word is not present in pretrained model\n",
      "Created!\n",
      "\n",
      "Creating definition vector for:  Unauthorised AccessData Breach\n",
      "whatsapp : This word is not present in pretrained model\n",
      "Created!\n",
      "\n",
      "Creating definition vector for:  Website DefacementHacking\n",
      "instagram : This word is not present in pretrained model\n",
      "whatsapp : This word is not present in pretrained model\n",
      "bgmi : This word is not present in pretrained model\n",
      "Created!\n",
      "\n",
      "Creating definition vector for:  Online Trafficking\n",
      "whatsapp : This word is not present in pretrained model\n",
      "Created!\n",
      "\n",
      "Creating definition vector for:  Business Email CompromiseEmail Takeover\n",
      "whatsapp : This word is not present in pretrained model\n",
      "Created!\n",
      "\n",
      "Creating definition vector for:  DebitCredit Card FraudSim Swap Fraud\n",
      "sbi : This word is not present in pretrained model\n",
      "otp : This word is not present in pretrained model\n",
      "anydesk : This word is not present in pretrained model\n",
      "icici : This word is not present in pretrained model\n",
      "Created!\n",
      "\n",
      "Creating definition vector for:  DematDepository Fraud\n",
      "whatsapp : This word is not present in pretrained model\n",
      "Created!\n",
      "\n",
      "Creating definition vector for:  EWallet Related Fraud\n",
      "suchna : This word is not present in pretrained model\n",
      "paytm : This word is not present in pretrained model\n",
      "suchnakrta : This word is not present in pretrained model\n",
      "idt : This word is not present in pretrained model\n",
      "pincode : This word is not present in pretrained model\n",
      "frauder : This word is not present in pretrained model\n",
      "ifsc : This word is not present in pretrained model\n",
      "dhani : This word is not present in pretrained model\n",
      "timepm : This word is not present in pretrained model\n",
      "sbi : This word is not present in pretrained model\n",
      "rupey : This word is not present in pretrained model\n",
      "Created!\n",
      "\n",
      "Creating definition vector for:  Fraud CallVishing\n",
      "whatsapp : This word is not present in pretrained model\n",
      "sbi : This word is not present in pretrained model\n",
      "Created!\n",
      "\n",
      "Creating definition vector for:  Internet Banking Related Fraud\n",
      "sbi : This word is not present in pretrained model\n",
      "kyc : This word is not present in pretrained model\n",
      "otp : This word is not present in pretrained model\n",
      "suchna : This word is not present in pretrained model\n",
      "yono : This word is not present in pretrained model\n",
      "ifsc : This word is not present in pretrained model\n",
      "Created!\n",
      "\n",
      "Creating definition vector for:  UPI Related Frauds\n",
      "paytm : This word is not present in pretrained model\n",
      "phonepe : This word is not present in pretrained model\n",
      "whatsapp : This word is not present in pretrained model\n",
      "Created!\n",
      "\n",
      "Creating definition vector for:  Online Gambling  Betting\n",
      "whatsapp : This word is not present in pretrained model\n",
      "Created!\n",
      "\n",
      "Creating definition vector for:  Cheating by Impersonation\n",
      "whatsapp : This word is not present in pretrained model\n",
      "instagram : This word is not present in pretrained model\n",
      "Created!\n",
      "\n",
      "Creating definition vector for:  Cyber Bullying  Stalking  Sexting\n",
      "whatsapp : This word is not present in pretrained model\n",
      "instagram : This word is not present in pretrained model\n",
      "Created!\n",
      "\n",
      "Creating definition vector for:  EMail Phishing\n",
      "whatsapp : This word is not present in pretrained model\n",
      "instagram : This word is not present in pretrained model\n",
      "Created!\n",
      "\n",
      "Creating definition vector for:  FakeImpersonating Profile\n",
      "instagram : This word is not present in pretrained model\n",
      "whatsapp : This word is not present in pretrained model\n",
      "Created!\n",
      "\n",
      "Creating definition vector for:  Impersonating Email\n",
      "whatsapp : This word is not present in pretrained model\n",
      "Created!\n",
      "\n",
      "Creating definition vector for:  Intimidating Email\n",
      "clrwa : This word is not present in pretrained model\n",
      "mrsarangi : This word is not present in pretrained model\n",
      "Created!\n",
      "\n",
      "Creating definition vector for:  Online Job Fraud\n",
      "whatsapp : This word is not present in pretrained model\n",
      "Created!\n",
      "\n",
      "Creating definition vector for:  Online Matrimonial Fraud\n",
      "whatsapp : This word is not present in pretrained model\n",
      "shaadicom : This word is not present in pretrained model\n",
      "Created!\n",
      "\n",
      "Creating definition vector for:  Profile Hacking Identity Theft\n",
      "instagram : This word is not present in pretrained model\n",
      "whatsapp : This word is not present in pretrained model\n",
      "bgmi : This word is not present in pretrained model\n",
      "Created!\n",
      "\n",
      "Creating definition vector for:  Provocative Speech for unlawful acts\n",
      "whatsapp : This word is not present in pretrained model\n",
      "instagram : This word is not present in pretrained model\n",
      "Created!\n",
      "\n",
      "Creating definition vector for:  Ransomware\n",
      "whatsapp : This word is not present in pretrained model\n",
      "instagram : This word is not present in pretrained model\n",
      "Created!\n",
      "\n",
      "Creating definition vector for:  RapeGang Rape RGRSexually Abusive Content\n",
      "instagram : This word is not present in pretrained model\n",
      "whatsapp : This word is not present in pretrained model\n",
      "Created!\n",
      "\n",
      "Creating definition vector for:  Sexually Explicit Act\n",
      "whatsapp : This word is not present in pretrained model\n",
      "instagram : This word is not present in pretrained model\n",
      "Created!\n",
      "\n",
      "Creating definition vector for:  Sexually Obscene material\n",
      "whatsapp : This word is not present in pretrained model\n",
      "instagram : This word is not present in pretrained model\n",
      "Created!\n"
     ]
    }
   ],
   "source": [
    "label_def_dict = dict()\n",
    "\n",
    "for c, col_name in enumerate(df_sub_cat_def.columns):\n",
    "    print(\"\\nCreating definition vector for: \",col_name)\n",
    "    label_vec = np.zeros(300) # initiate label vector of size 300 (because pretrained model with return arrays of length 300) \n",
    "    for r in range(df_sub_cat_def.shape[0]):\n",
    "        try:\n",
    "            label_vec = label_vec + vec_model[df_sub_cat_def.iloc[r, c]]\n",
    "        except KeyError:\n",
    "            #pass #Skip the word if it is not present in pretrained model\n",
    "            print(df_sub_cat_def.iloc[r, c], \": This word is not present in pretrained model\")\n",
    "    label_def_dict[col_name] = label_vec\n",
    "    print(\"Created!\")\n"
   ]
  },
  {
   "cell_type": "markdown",
   "id": "98209055-16b7-48c4-9aa7-b675c9579b21",
   "metadata": {},
   "source": [
    "##### Save label definitions (APPROACH 1)"
   ]
  },
  {
   "cell_type": "code",
   "execution_count": 30,
   "id": "7f1fcda4-0f51-4b38-a7f3-6af6cd5017d1",
   "metadata": {},
   "outputs": [
    {
     "name": "stdout",
     "output_type": "stream",
     "text": [
      "Sub-category vectors dictionary saved into a binary file\n"
     ]
    }
   ],
   "source": [
    "with open(os.path.join('Output Data', '01_sub_category_vectors'), 'wb') as file:\n",
    "    pickle.dump(label_def_dict, file)\n",
    "    file.close()\n",
    "\n",
    "print('Sub-category vectors dictionary saved into a binary file')"
   ]
  },
  {
   "cell_type": "markdown",
   "id": "6ddac9ae-8b31-4f1e-a63c-eb6ee676d1c9",
   "metadata": {},
   "source": [
    "##### APPROACH 2 (considering manual definitions for each label -> sub-category & category)"
   ]
  },
  {
   "cell_type": "code",
   "execution_count": 29,
   "id": "312fc84f-dbd3-4758-af26-48e82b26938d",
   "metadata": {},
   "outputs": [],
   "source": [
    "# Manually defined\n",
    "df_label_def = pd.read_csv(filepath_or_buffer = os.path.join(\"Input Data\",\"label_mapping.csv\"), sep = \",\", header = 0)"
   ]
  },
  {
   "cell_type": "markdown",
   "id": "b7653db5-7678-49d0-b637-3723602ac846",
   "metadata": {},
   "source": [
    "##### Vectorize label definitions (APPROACH 2)"
   ]
  },
  {
   "cell_type": "code",
   "execution_count": 30,
   "id": "54e5d9e0-5944-4f5d-818f-7ef3ff6efcf8",
   "metadata": {},
   "outputs": [
    {
     "name": "stdout",
     "output_type": "stream",
     "text": [
      "\n",
      "Creating definition vector for:  [Any Other Cyber Crime] Other\n",
      "ooottthhheeerrr : This word is not present in pretrained model\n",
      "Created!\n",
      "\n",
      "Creating definition vector for:  [Child Pornography CPChild Sexual Abuse Material CSAM] Child Pornography CPChild Sexual Abuse Material CSAM\n",
      "Created!\n",
      "\n",
      "Creating definition vector for:  [Crime Against Women & Children] Computer Generated CSAM/CSEM\n",
      "Created!\n",
      "\n",
      "Creating definition vector for:  [Crime Against Women & Children] Cyber Blackmailing & Threatening\n",
      "Created!\n",
      "\n",
      "Creating definition vector for:  [Crime Against Women & Children] Sexual Harassment\n",
      "Created!\n",
      "\n",
      "Creating definition vector for:  [Cryptocurrency Crime] Cryptocurrency Fraud\n",
      "bitcoin : This word is not present in pretrained model\n",
      "sharehash : This word is not present in pretrained model\n",
      "Created!\n",
      "\n",
      "Creating definition vector for:  [Cyber Attack/ Dependent Crimes] Data Breach/Theft\n",
      "Created!\n",
      "\n",
      "Creating definition vector for:  [Cyber Attack/ Dependent Crimes] Denial of Service (DoS)/Distributed Denial of Service (DDOS) attacks\n",
      "Created!\n",
      "\n",
      "Creating definition vector for:  [Cyber Attack/ Dependent Crimes] Hacking/Defacement\n",
      "Created!\n",
      "\n",
      "Creating definition vector for:  [Cyber Attack/ Dependent Crimes] Malware Attack\n",
      "Created!\n",
      "\n",
      "Creating definition vector for:  [Cyber Attack/ Dependent Crimes] Ransomware Attack\n",
      "Created!\n",
      "\n",
      "Creating definition vector for:  [Cyber Attack/ Dependent Crimes] SQL Injection\n",
      "Created!\n",
      "\n",
      "Creating definition vector for:  [Cyber Attack/ Dependent Crimes] Tampering with computer source documents\n",
      "Created!\n",
      "\n",
      "Creating definition vector for:  [Cyber Terrorism] Cyber Terrorism\n",
      "Created!\n",
      "\n",
      "Creating definition vector for:  [Hacking  Damage to computercomputer system etc] Damage to computer computer systems etc\n",
      "Created!\n",
      "\n",
      "Creating definition vector for:  [Hacking  Damage to computercomputer system etc] Email Hacking\n",
      "Created!\n",
      "\n",
      "Creating definition vector for:  [Hacking  Damage to computercomputer system etc] Tampering with computer source documents_2\n",
      "Created!\n",
      "\n",
      "Creating definition vector for:  [Hacking  Damage to computercomputer system etc] Unauthorised AccessData Breach\n",
      "Created!\n",
      "\n",
      "Creating definition vector for:  [Hacking  Damage to computercomputer system etc] Website DefacementHacking\n",
      "Created!\n",
      "\n",
      "Creating definition vector for:  [Online and Social Media Related Crime] Cheating by Impersonation\n",
      "Created!\n",
      "\n",
      "Creating definition vector for:  [Online and Social Media Related Crime] Cyber Bullying  Stalking  Sexting\n",
      "Created!\n",
      "\n",
      "Creating definition vector for:  [Online and Social Media Related Crime] EMail Phishing\n",
      "Created!\n",
      "\n",
      "Creating definition vector for:  [Online and Social Media Related Crime] FakeImpersonating Profile\n",
      "Created!\n",
      "\n",
      "Creating definition vector for:  [Online and Social Media Related Crime] Impersonating Email\n",
      "Created!\n",
      "\n",
      "Creating definition vector for:  [Online and Social Media Related Crime] Intimidating Email\n",
      "Created!\n",
      "\n",
      "Creating definition vector for:  [Online and Social Media Related Crime] Online Job Fraud\n",
      "Created!\n",
      "\n",
      "Creating definition vector for:  [Online and Social Media Related Crime] Online Matrimonial Fraud\n",
      "Created!\n",
      "\n",
      "Creating definition vector for:  [Online and Social Media Related Crime] Profile Hacking Identity Theft\n",
      "Created!\n",
      "\n",
      "Creating definition vector for:  [Online and Social Media Related Crime] Provocative Speech for unlawful acts\n",
      "Created!\n",
      "\n",
      "Creating definition vector for:  [Online Cyber Trafficking] Online Trafficking\n",
      "Created!\n",
      "\n",
      "Creating definition vector for:  [Online Financial Fraud] Business Email CompromiseEmail Takeover\n",
      "Created!\n",
      "\n",
      "Creating definition vector for:  [Online Financial Fraud] DebitCredit Card FraudSim Swap Fraud\n",
      "otp : This word is not present in pretrained model\n",
      "Created!\n",
      "\n",
      "Creating definition vector for:  [Online Financial Fraud] DematDepository Fraud\n",
      "Created!\n",
      "\n",
      "Creating definition vector for:  [Online Financial Fraud] EWallet Related Fraud\n",
      "otp : This word is not present in pretrained model\n",
      "Created!\n",
      "\n",
      "Creating definition vector for:  [Online Financial Fraud] Fraud CallVishing\n",
      "Created!\n",
      "\n",
      "Creating definition vector for:  [Online Financial Fraud] Internet Banking Related Fraud\n",
      "otp : This word is not present in pretrained model\n",
      "Created!\n",
      "\n",
      "Creating definition vector for:  [Online Financial Fraud] UPI Related Frauds\n",
      "otp : This word is not present in pretrained model\n",
      "Created!\n",
      "\n",
      "Creating definition vector for:  [Online Gambling  Betting] Online Gambling  Betting\n",
      "Created!\n",
      "\n",
      "Creating definition vector for:  [Ransomware] Ransomware\n",
      "Created!\n",
      "\n",
      "Creating definition vector for:  [RapeGang Rape RGRSexually Abusive Content] RapeGang Rape RGRSexually Abusive Content\n",
      "Created!\n",
      "\n",
      "Creating definition vector for:  [Report Unlawful Content] Against Interest of sovereignty or integrity of India\n",
      "Created!\n",
      "\n",
      "Creating definition vector for:  [Sexually Explicit Act] Sexually Explicit Act\n",
      "Created!\n",
      "\n",
      "Creating definition vector for:  [Sexually Obscene material] Sexually Obscene material\n",
      "Created!\n"
     ]
    }
   ],
   "source": [
    "label_vec_dict = dict()\n",
    "\n",
    "for row in range(len(df_label_def)):\n",
    "    print(\"\\nCreating definition vector for: \",df_label_def.loc[row, 'label'])\n",
    "    label_vec = np.zeros(300) # initiate label vector of size 300 (because pretrained model with return arrays of length 300) \n",
    "    word_list = df_label_def.loc[row, 'definition'].split(', ')\n",
    "    for word in word_list:\n",
    "        try:\n",
    "            label_vec = label_vec + vec_model[word]\n",
    "        except KeyError:\n",
    "            #pass #Skip the word if it is not present in pretrained model\n",
    "            print(word, \": This word is not present in pretrained model\")\n",
    "    label_vec_dict[df_label_def.loc[row, 'label']] = label_vec\n",
    "    print(\"Created!\")\n"
   ]
  },
  {
   "cell_type": "markdown",
   "id": "47f9886b-85ed-4db2-b5a7-dcb0b271cd53",
   "metadata": {},
   "source": [
    "##### Save label definitions (APPROACH 2)"
   ]
  },
  {
   "cell_type": "code",
   "execution_count": 36,
   "id": "c2ccf7f3-9864-46da-8a9e-1be44764cd3a",
   "metadata": {},
   "outputs": [
    {
     "name": "stdout",
     "output_type": "stream",
     "text": [
      "Label vectors dictionary saved into a binary file\n"
     ]
    }
   ],
   "source": [
    "with open(os.path.join('Output Data', '01_label_vectors'), 'wb') as file:\n",
    "    pickle.dump(label_vec_dict, file)\n",
    "    file.close()\n",
    "\n",
    "print('Label vectors dictionary saved into a binary file')"
   ]
  },
  {
   "cell_type": "markdown",
   "id": "7f62af91-1973-4599-bbfe-3da2c785cdae",
   "metadata": {},
   "source": [
    "##### Clean, process and vectorize user report description"
   ]
  },
  {
   "cell_type": "code",
   "execution_count": 31,
   "id": "e1335155-bfc6-4e88-8a34-c339644e4478",
   "metadata": {},
   "outputs": [],
   "source": [
    "def vectorize_text_pretrained_model(text, size = 300):\n",
    "    \n",
    "    '''\n",
    "    Returns an array / vector representing input text.\n",
    "\n",
    "            Parameters:\n",
    "                    text: string \n",
    "                        Pre-processed text\n",
    "                    size: int, default = 300\n",
    "                        Size of vectors (keep the size same as that returned by pre-trained vectorizer / model) \n",
    "\n",
    "            Returns:\n",
    "                    report_vec: numpy array\n",
    "                        An array / vector representing input text\n",
    "    '''\n",
    "\n",
    "    word_match_list = []\n",
    "    # Initiate report vector\n",
    "    report_vec = np.zeros(size)\n",
    "    # Separate words of text in a list\n",
    "    input_list = text.split()\n",
    "\n",
    "    # Vectorize each word and sum all the vectors \n",
    "    for i, word in enumerate(input_list):\n",
    "        try:\n",
    "            report_vec = report_vec + vec_model[word]\n",
    "            word_match_list.append(word)\n",
    "        except KeyError:\n",
    "            pass #Skip the word if it is not present in pretrained model\n",
    "            #print(word, \": This word is not present in pretrained model\")\n",
    "    \n",
    "    print(\"These words were found in pretrained model: \", word_match_list)\n",
    "    \n",
    "    return report_vec"
   ]
  },
  {
   "cell_type": "code",
   "execution_count": 40,
   "id": "f6098dcd-019a-4a55-bd6c-32057ff16d0d",
   "metadata": {},
   "outputs": [],
   "source": [
    "def predict_report_label(user_report_description, label_definition_dict, label_mapping = None , vector_size = 300):\n",
    "\n",
    "    '''\n",
    "    Returns a dataframe with cosine similarity of user report description with all labels.\n",
    "\n",
    "            Parameters:\n",
    "                    user_report_description: string \n",
    "                        Description of report / complaint entered by user\n",
    "                    label_definition_dict: dictionary \n",
    "                        Dictionary with keys as labels and values as corresponding vectors\n",
    "                    label_mapping: dataframe, default = None \n",
    "                        Mapping of sub-categories and categories\n",
    "                    vector_size: int, default = 300\n",
    "                        Size of label & report vectors (keep the size same as that returned by pre-trained vectorizer / model) \n",
    "\n",
    "            Returns:\n",
    "                    df_cosine_similarity: numpy array\n",
    "                        A dataframe with cosine similarity of user report description with all labels\n",
    "    '''\n",
    "\n",
    "    df_cosine_similarity = pd.DataFrame(columns = ['label', 'cosine_similarity'], index = range(len(label_definition_dict)))\n",
    "    \n",
    "    # Clean, process and vectorize user report description\n",
    "    input = user_report_description\n",
    "\n",
    "    ## Cleaning & pre-processing on user input is optional, because word2vec can pick similar words (eg: no need to change received to receive) \n",
    "    #input = clean_text(user_report_description)\n",
    "    #input = pre_process_text(input)\n",
    "    \n",
    "    print(\"Pre-processed report: \", input)\n",
    "    \n",
    "    input_vector = vectorize_text_pretrained_model(input, vector_size)\n",
    "    \n",
    "    # Get cosine similarity with each label definition vector\n",
    "    row = 0\n",
    "    for label, label_vector in label_definition_dict.items():\n",
    "        cosine_similarity = np.dot(input_vector, label_vector)/(norm(input_vector) * norm(label_vector))\n",
    "        df_cosine_similarity.loc[row] =  [label, cosine_similarity]\n",
    "        row = row + 1\n",
    "    \n",
    "    df_cosine_similarity.sort_values('cosine_similarity', ascending = False, inplace = True)\n",
    "\n",
    "    if label_mapping is not None:\n",
    "        df_cosine_similarity = pd.merge(left = df_cosine_similarity, right = label_mapping, how = 'left', left_on = 'label', right_on = 'sub_category')\n",
    "    \n",
    "    # Get label with highest cosine similarity\n",
    "    #output = label_encoder.inverse_transform(model.predict(input))\n",
    "    \n",
    "    return df_cosine_similarity"
   ]
  },
  {
   "cell_type": "markdown",
   "id": "d47d0190-f8e0-4730-ab85-33de645b4101",
   "metadata": {},
   "source": [
    "##### Load label definition vectors"
   ]
  },
  {
   "cell_type": "code",
   "execution_count": 33,
   "id": "9ed9a628-e92a-43e1-bef0-06d8cb7fdfa6",
   "metadata": {},
   "outputs": [
    {
     "name": "stdout",
     "output_type": "stream",
     "text": [
      "Label vectors dictionary loaded\n"
     ]
    }
   ],
   "source": [
    "with open(os.path.join('Output Data', '01_label_vectors'), 'rb') as file:\n",
    "    label_vec_dict = pickle.load(file)\n",
    "    file.close()\n",
    "\n",
    "print('Label vectors dictionary loaded')"
   ]
  },
  {
   "cell_type": "markdown",
   "id": "a3b91944-b426-45b1-8289-f1b75185c456",
   "metadata": {},
   "source": [
    "##### Load label mapping"
   ]
  },
  {
   "cell_type": "code",
   "execution_count": null,
   "id": "ce3d5e44-2572-468a-8797-5fef1b3c936b",
   "metadata": {},
   "outputs": [],
   "source": [
    "#label_map = pd.read_csv(filepath_or_buffer = os.path.join(\"Input Data\",\"label_mapping.csv\"), sep = \",\", header = 0)"
   ]
  },
  {
   "cell_type": "markdown",
   "id": "c6010108-aaa2-4f35-a447-ba606e466980",
   "metadata": {},
   "source": [
    "##### Load vectorizer for user report description"
   ]
  },
  {
   "cell_type": "code",
   "execution_count": null,
   "id": "a9f00eb3-7736-4608-8366-6bc088a1b724",
   "metadata": {},
   "outputs": [],
   "source": [
    "model_file_name = 'GoogleNews-vectors-negative300.bin' # Word2vec\n",
    "\n",
    "# Load all words for vectorizing labels (can use only most commonly occuring 100000 words for vectorizing user report description)\n",
    "vec_model = KeyedVectors.load_word2vec_format(os.path.join('Vectorizers', 'pre-trained', model_file_name), binary=True, limit = 100000)"
   ]
  },
  {
   "cell_type": "markdown",
   "id": "bffc6b79-9eb9-4c49-86ff-694a75e80766",
   "metadata": {},
   "source": [
    "##### Enter test report description and get label prediction"
   ]
  },
  {
   "cell_type": "code",
   "execution_count": 51,
   "id": "be813390-be43-4030-859b-748de94f8145",
   "metadata": {},
   "outputs": [],
   "source": [
    "test_report = \"fake qr code bhej kar paytm se paisa kaat lia\""
   ]
  },
  {
   "cell_type": "code",
   "execution_count": 52,
   "id": "c8f61043-94f2-4bd8-83d0-22eecac6605f",
   "metadata": {},
   "outputs": [
    {
     "name": "stdout",
     "output_type": "stream",
     "text": [
      "Pre-processed report:  fake qr code bhej kar paytm se paisa kaat lia\n",
      "These words were found in pretrained model:  ['fake', 'code', 'se', 'paisa']\n"
     ]
    },
    {
     "data": {
      "text/html": [
       "<div>\n",
       "<style scoped>\n",
       "    .dataframe tbody tr th:only-of-type {\n",
       "        vertical-align: middle;\n",
       "    }\n",
       "\n",
       "    .dataframe tbody tr th {\n",
       "        vertical-align: top;\n",
       "    }\n",
       "\n",
       "    .dataframe thead th {\n",
       "        text-align: right;\n",
       "    }\n",
       "</style>\n",
       "<table border=\"1\" class=\"dataframe\">\n",
       "  <thead>\n",
       "    <tr style=\"text-align: right;\">\n",
       "      <th></th>\n",
       "      <th>label</th>\n",
       "      <th>cosine_similarity</th>\n",
       "    </tr>\n",
       "  </thead>\n",
       "  <tbody>\n",
       "    <tr>\n",
       "      <th>36</th>\n",
       "      <td>[Online Financial Fraud] UPI Related Frauds</td>\n",
       "      <td>0.567469</td>\n",
       "    </tr>\n",
       "    <tr>\n",
       "      <th>33</th>\n",
       "      <td>[Online Financial Fraud] EWallet Related Fraud</td>\n",
       "      <td>0.484128</td>\n",
       "    </tr>\n",
       "    <tr>\n",
       "      <th>35</th>\n",
       "      <td>[Online Financial Fraud] Internet Banking Related Fraud</td>\n",
       "      <td>0.478055</td>\n",
       "    </tr>\n",
       "    <tr>\n",
       "      <th>31</th>\n",
       "      <td>[Online Financial Fraud] DebitCredit Card FraudSim Swap Fraud</td>\n",
       "      <td>0.419545</td>\n",
       "    </tr>\n",
       "    <tr>\n",
       "      <th>32</th>\n",
       "      <td>[Online Financial Fraud] DematDepository Fraud</td>\n",
       "      <td>0.395349</td>\n",
       "    </tr>\n",
       "    <tr>\n",
       "      <th>40</th>\n",
       "      <td>[Report Unlawful Content] Against Interest of sovereignty or integrity of India</td>\n",
       "      <td>0.378423</td>\n",
       "    </tr>\n",
       "    <tr>\n",
       "      <th>26</th>\n",
       "      <td>[Online and Social Media Related Crime] Online Matrimonial Fraud</td>\n",
       "      <td>0.376555</td>\n",
       "    </tr>\n",
       "    <tr>\n",
       "      <th>5</th>\n",
       "      <td>[Cryptocurrency Crime] Cryptocurrency Fraud</td>\n",
       "      <td>0.353587</td>\n",
       "    </tr>\n",
       "    <tr>\n",
       "      <th>11</th>\n",
       "      <td>[Cyber Attack/ Dependent Crimes] SQL Injection</td>\n",
       "      <td>0.329559</td>\n",
       "    </tr>\n",
       "    <tr>\n",
       "      <th>17</th>\n",
       "      <td>[Hacking  Damage to computercomputer system etc] Unauthorised AccessData Breach</td>\n",
       "      <td>0.327831</td>\n",
       "    </tr>\n",
       "    <tr>\n",
       "      <th>10</th>\n",
       "      <td>[Cyber Attack/ Dependent Crimes] Ransomware Attack</td>\n",
       "      <td>0.326851</td>\n",
       "    </tr>\n",
       "    <tr>\n",
       "      <th>8</th>\n",
       "      <td>[Cyber Attack/ Dependent Crimes] Hacking/Defacement</td>\n",
       "      <td>0.325639</td>\n",
       "    </tr>\n",
       "    <tr>\n",
       "      <th>16</th>\n",
       "      <td>[Hacking  Damage to computercomputer system etc] Tampering with computer source documents_2</td>\n",
       "      <td>0.321989</td>\n",
       "    </tr>\n",
       "    <tr>\n",
       "      <th>38</th>\n",
       "      <td>[Ransomware] Ransomware</td>\n",
       "      <td>0.314196</td>\n",
       "    </tr>\n",
       "    <tr>\n",
       "      <th>12</th>\n",
       "      <td>[Cyber Attack/ Dependent Crimes] Tampering with computer source documents</td>\n",
       "      <td>0.311941</td>\n",
       "    </tr>\n",
       "    <tr>\n",
       "      <th>22</th>\n",
       "      <td>[Online and Social Media Related Crime] FakeImpersonating Profile</td>\n",
       "      <td>0.310239</td>\n",
       "    </tr>\n",
       "    <tr>\n",
       "      <th>13</th>\n",
       "      <td>[Cyber Terrorism] Cyber Terrorism</td>\n",
       "      <td>0.306233</td>\n",
       "    </tr>\n",
       "    <tr>\n",
       "      <th>27</th>\n",
       "      <td>[Online and Social Media Related Crime] Profile Hacking Identity Theft</td>\n",
       "      <td>0.300898</td>\n",
       "    </tr>\n",
       "    <tr>\n",
       "      <th>7</th>\n",
       "      <td>[Cyber Attack/ Dependent Crimes] Denial of Service (DoS)/Distributed Denial of Service (DDOS) at...</td>\n",
       "      <td>0.294758</td>\n",
       "    </tr>\n",
       "    <tr>\n",
       "      <th>18</th>\n",
       "      <td>[Hacking  Damage to computercomputer system etc] Website DefacementHacking</td>\n",
       "      <td>0.28758</td>\n",
       "    </tr>\n",
       "    <tr>\n",
       "      <th>1</th>\n",
       "      <td>[Child Pornography CPChild Sexual Abuse Material CSAM] Child Pornography CPChild Sexual Abuse Ma...</td>\n",
       "      <td>0.286537</td>\n",
       "    </tr>\n",
       "    <tr>\n",
       "      <th>25</th>\n",
       "      <td>[Online and Social Media Related Crime] Online Job Fraud</td>\n",
       "      <td>0.286526</td>\n",
       "    </tr>\n",
       "    <tr>\n",
       "      <th>19</th>\n",
       "      <td>[Online and Social Media Related Crime] Cheating by Impersonation</td>\n",
       "      <td>0.28375</td>\n",
       "    </tr>\n",
       "    <tr>\n",
       "      <th>29</th>\n",
       "      <td>[Online Cyber Trafficking] Online Trafficking</td>\n",
       "      <td>0.283532</td>\n",
       "    </tr>\n",
       "    <tr>\n",
       "      <th>9</th>\n",
       "      <td>[Cyber Attack/ Dependent Crimes] Malware Attack</td>\n",
       "      <td>0.281969</td>\n",
       "    </tr>\n",
       "    <tr>\n",
       "      <th>6</th>\n",
       "      <td>[Cyber Attack/ Dependent Crimes] Data Breach/Theft</td>\n",
       "      <td>0.280441</td>\n",
       "    </tr>\n",
       "    <tr>\n",
       "      <th>2</th>\n",
       "      <td>[Crime Against Women &amp; Children] Computer Generated CSAM/CSEM</td>\n",
       "      <td>0.279006</td>\n",
       "    </tr>\n",
       "    <tr>\n",
       "      <th>28</th>\n",
       "      <td>[Online and Social Media Related Crime] Provocative Speech for unlawful acts</td>\n",
       "      <td>0.277413</td>\n",
       "    </tr>\n",
       "    <tr>\n",
       "      <th>23</th>\n",
       "      <td>[Online and Social Media Related Crime] Impersonating Email</td>\n",
       "      <td>0.273445</td>\n",
       "    </tr>\n",
       "    <tr>\n",
       "      <th>39</th>\n",
       "      <td>[RapeGang Rape RGRSexually Abusive Content] RapeGang Rape RGRSexually Abusive Content</td>\n",
       "      <td>0.273185</td>\n",
       "    </tr>\n",
       "    <tr>\n",
       "      <th>21</th>\n",
       "      <td>[Online and Social Media Related Crime] EMail Phishing</td>\n",
       "      <td>0.260725</td>\n",
       "    </tr>\n",
       "    <tr>\n",
       "      <th>34</th>\n",
       "      <td>[Online Financial Fraud] Fraud CallVishing</td>\n",
       "      <td>0.257468</td>\n",
       "    </tr>\n",
       "    <tr>\n",
       "      <th>24</th>\n",
       "      <td>[Online and Social Media Related Crime] Intimidating Email</td>\n",
       "      <td>0.246892</td>\n",
       "    </tr>\n",
       "    <tr>\n",
       "      <th>42</th>\n",
       "      <td>[Sexually Obscene material] Sexually Obscene material</td>\n",
       "      <td>0.245903</td>\n",
       "    </tr>\n",
       "    <tr>\n",
       "      <th>3</th>\n",
       "      <td>[Crime Against Women &amp; Children] Cyber Blackmailing &amp; Threatening</td>\n",
       "      <td>0.245377</td>\n",
       "    </tr>\n",
       "    <tr>\n",
       "      <th>41</th>\n",
       "      <td>[Sexually Explicit Act] Sexually Explicit Act</td>\n",
       "      <td>0.237518</td>\n",
       "    </tr>\n",
       "    <tr>\n",
       "      <th>14</th>\n",
       "      <td>[Hacking  Damage to computercomputer system etc] Damage to computer computer systems etc</td>\n",
       "      <td>0.232695</td>\n",
       "    </tr>\n",
       "    <tr>\n",
       "      <th>30</th>\n",
       "      <td>[Online Financial Fraud] Business Email CompromiseEmail Takeover</td>\n",
       "      <td>0.230256</td>\n",
       "    </tr>\n",
       "    <tr>\n",
       "      <th>37</th>\n",
       "      <td>[Online Gambling  Betting] Online Gambling  Betting</td>\n",
       "      <td>0.223486</td>\n",
       "    </tr>\n",
       "    <tr>\n",
       "      <th>4</th>\n",
       "      <td>[Crime Against Women &amp; Children] Sexual Harassment</td>\n",
       "      <td>0.221984</td>\n",
       "    </tr>\n",
       "    <tr>\n",
       "      <th>15</th>\n",
       "      <td>[Hacking  Damage to computercomputer system etc] Email Hacking</td>\n",
       "      <td>0.213736</td>\n",
       "    </tr>\n",
       "    <tr>\n",
       "      <th>20</th>\n",
       "      <td>[Online and Social Media Related Crime] Cyber Bullying  Stalking  Sexting</td>\n",
       "      <td>0.178768</td>\n",
       "    </tr>\n",
       "    <tr>\n",
       "      <th>0</th>\n",
       "      <td>[Any Other Cyber Crime] Other</td>\n",
       "      <td>NaN</td>\n",
       "    </tr>\n",
       "  </tbody>\n",
       "</table>\n",
       "</div>"
      ],
      "text/plain": [
       "                                                                                                  label  \\\n",
       "36                                                          [Online Financial Fraud] UPI Related Frauds   \n",
       "33                                                       [Online Financial Fraud] EWallet Related Fraud   \n",
       "35                                              [Online Financial Fraud] Internet Banking Related Fraud   \n",
       "31                                        [Online Financial Fraud] DebitCredit Card FraudSim Swap Fraud   \n",
       "32                                                       [Online Financial Fraud] DematDepository Fraud   \n",
       "40                      [Report Unlawful Content] Against Interest of sovereignty or integrity of India   \n",
       "26                                     [Online and Social Media Related Crime] Online Matrimonial Fraud   \n",
       "5                                                           [Cryptocurrency Crime] Cryptocurrency Fraud   \n",
       "11                                                       [Cyber Attack/ Dependent Crimes] SQL Injection   \n",
       "17                      [Hacking  Damage to computercomputer system etc] Unauthorised AccessData Breach   \n",
       "10                                                   [Cyber Attack/ Dependent Crimes] Ransomware Attack   \n",
       "8                                                   [Cyber Attack/ Dependent Crimes] Hacking/Defacement   \n",
       "16          [Hacking  Damage to computercomputer system etc] Tampering with computer source documents_2   \n",
       "38                                                                              [Ransomware] Ransomware   \n",
       "12                            [Cyber Attack/ Dependent Crimes] Tampering with computer source documents   \n",
       "22                                    [Online and Social Media Related Crime] FakeImpersonating Profile   \n",
       "13                                                                    [Cyber Terrorism] Cyber Terrorism   \n",
       "27                               [Online and Social Media Related Crime] Profile Hacking Identity Theft   \n",
       "7   [Cyber Attack/ Dependent Crimes] Denial of Service (DoS)/Distributed Denial of Service (DDOS) at...   \n",
       "18                           [Hacking  Damage to computercomputer system etc] Website DefacementHacking   \n",
       "1   [Child Pornography CPChild Sexual Abuse Material CSAM] Child Pornography CPChild Sexual Abuse Ma...   \n",
       "25                                             [Online and Social Media Related Crime] Online Job Fraud   \n",
       "19                                    [Online and Social Media Related Crime] Cheating by Impersonation   \n",
       "29                                                        [Online Cyber Trafficking] Online Trafficking   \n",
       "9                                                       [Cyber Attack/ Dependent Crimes] Malware Attack   \n",
       "6                                                    [Cyber Attack/ Dependent Crimes] Data Breach/Theft   \n",
       "2                                         [Crime Against Women & Children] Computer Generated CSAM/CSEM   \n",
       "28                         [Online and Social Media Related Crime] Provocative Speech for unlawful acts   \n",
       "23                                          [Online and Social Media Related Crime] Impersonating Email   \n",
       "39                [RapeGang Rape RGRSexually Abusive Content] RapeGang Rape RGRSexually Abusive Content   \n",
       "21                                               [Online and Social Media Related Crime] EMail Phishing   \n",
       "34                                                           [Online Financial Fraud] Fraud CallVishing   \n",
       "24                                           [Online and Social Media Related Crime] Intimidating Email   \n",
       "42                                                [Sexually Obscene material] Sexually Obscene material   \n",
       "3                                     [Crime Against Women & Children] Cyber Blackmailing & Threatening   \n",
       "41                                                        [Sexually Explicit Act] Sexually Explicit Act   \n",
       "14             [Hacking  Damage to computercomputer system etc] Damage to computer computer systems etc   \n",
       "30                                     [Online Financial Fraud] Business Email CompromiseEmail Takeover   \n",
       "37                                                  [Online Gambling  Betting] Online Gambling  Betting   \n",
       "4                                                    [Crime Against Women & Children] Sexual Harassment   \n",
       "15                                       [Hacking  Damage to computercomputer system etc] Email Hacking   \n",
       "20                            [Online and Social Media Related Crime] Cyber Bullying  Stalking  Sexting   \n",
       "0                                                                         [Any Other Cyber Crime] Other   \n",
       "\n",
       "   cosine_similarity  \n",
       "36          0.567469  \n",
       "33          0.484128  \n",
       "35          0.478055  \n",
       "31          0.419545  \n",
       "32          0.395349  \n",
       "40          0.378423  \n",
       "26          0.376555  \n",
       "5           0.353587  \n",
       "11          0.329559  \n",
       "17          0.327831  \n",
       "10          0.326851  \n",
       "8           0.325639  \n",
       "16          0.321989  \n",
       "38          0.314196  \n",
       "12          0.311941  \n",
       "22          0.310239  \n",
       "13          0.306233  \n",
       "27          0.300898  \n",
       "7           0.294758  \n",
       "18           0.28758  \n",
       "1           0.286537  \n",
       "25          0.286526  \n",
       "19           0.28375  \n",
       "29          0.283532  \n",
       "9           0.281969  \n",
       "6           0.280441  \n",
       "2           0.279006  \n",
       "28          0.277413  \n",
       "23          0.273445  \n",
       "39          0.273185  \n",
       "21          0.260725  \n",
       "34          0.257468  \n",
       "24          0.246892  \n",
       "42          0.245903  \n",
       "3           0.245377  \n",
       "41          0.237518  \n",
       "14          0.232695  \n",
       "30          0.230256  \n",
       "37          0.223486  \n",
       "4           0.221984  \n",
       "15          0.213736  \n",
       "20          0.178768  \n",
       "0                NaN  "
      ]
     },
     "execution_count": 52,
     "metadata": {},
     "output_type": "execute_result"
    }
   ],
   "source": [
    "pd.set_option(\"display.max_colwidth\", 100)\n",
    "predict_report_label(user_report_description = test_report, label_definition_dict = label_vec_dict, label_mapping = None, vector_size = 300)"
   ]
  },
  {
   "cell_type": "code",
   "execution_count": null,
   "id": "e90397b2-20f4-4620-be9e-10102674ff08",
   "metadata": {},
   "outputs": [],
   "source": []
  },
  {
   "cell_type": "code",
   "execution_count": 45,
   "id": "a57530ca-e348-485b-b4ce-fbc100fe283c",
   "metadata": {},
   "outputs": [
    {
     "data": {
      "text/plain": [
       "[('loot', 0.7476598620414734),\n",
       " ('lia', 0.6898898482322693),\n",
       " ('acho', 0.6517269015312195),\n",
       " ('humein', 0.6396244168281555),\n",
       " ('na_mi', 0.6388674974441528),\n",
       " ('guna', 0.6383475065231323),\n",
       " ('nje', 0.6368123888969421),\n",
       " ('desh', 0.6367586255073547),\n",
       " ('vanhu', 0.6340150833129883),\n",
       " ('raju', 0.6331471800804138)]"
      ]
     },
     "execution_count": 45,
     "metadata": {},
     "output_type": "execute_result"
    }
   ],
   "source": [
    "# Just checking how effective combination of word vectors\n",
    "vec = vec_model['humein'] + vec_model['loot'] + vec_model['lia'] #+ vec_model['app'] \n",
    "vec_model.most_similar(vec)"
   ]
  },
  {
   "cell_type": "code",
   "execution_count": null,
   "id": "86f9367a-c3f5-4be8-95a0-54e006692e37",
   "metadata": {},
   "outputs": [],
   "source": []
  },
  {
   "cell_type": "code",
   "execution_count": null,
   "id": "4d1eac71-e6e0-4506-9270-5aaa170b1f02",
   "metadata": {},
   "outputs": [],
   "source": [
    "# May be check performance on test dataset\n",
    "\n",
    "#df_preprocessed_final = pd.read_csv(filepath_or_buffer = os.path.join(\"Output Data\",\"03_preprocessed_train_data_final.csv\"), sep = \",\", header = 0)\n",
    "#df_preprocessed_test_final = pd.read_csv(filepath_or_buffer = os.path.join(\"Output Data\",\"03_preprocessed_test_data_final.csv\"), sep = \",\", header = 0)"
   ]
  },
  {
   "cell_type": "markdown",
   "id": "e8699004-3623-474d-b528-fb544ebef9f3",
   "metadata": {},
   "source": [
    "# Steps"
   ]
  },
  {
   "cell_type": "code",
   "execution_count": null,
   "id": "7fe27143-7609-42ad-9648-d4f7051707a9",
   "metadata": {},
   "outputs": [],
   "source": [
    "# TRIED (in stage 1):\n",
    "\n",
    "#(0) Understand & explore data - Done\n",
    "#(1) Try other models (XGB, RF, NN) on TF-IDF vectors - Done\n",
    "#(2) Try BERT classification - Done (Out of memory)\n",
    "#(3) Try all models after balancing dataset - Done\n",
    "#(4) Check importance of features/words\n",
    "#(5) Improve key-word list / Handle over-fitting - Partially done (considered top 75 key words from each sub-category to prepare feature list)\n",
    "#(6) Test entire notebook - Done (Running Successfully)\n",
    "\n",
    "# XG Boost Model is working best so far"
   ]
  },
  {
   "cell_type": "code",
   "execution_count": null,
   "id": "4a65b82f-ea1a-40f4-a67f-a892e22cd2ec",
   "metadata": {},
   "outputs": [],
   "source": [
    "# NEXT (for stage 2):\n",
    "\n",
    "#(1) Agree with hackathon team on category / sub-category definitions & mapping\n",
    "#(2) Explore available attachments\n",
    "#(3) Adjust features / keywords based on agreed definitions & info. extracted from attachments\n",
    "#(4) Fine-tune XG Boost to improve model performance\n",
    "#(5) Create separate training & inference pipelines\n",
    "#(6) Test model on real time reports\n",
    "#(5) Prepare deployment plan"
   ]
  },
  {
   "cell_type": "code",
   "execution_count": null,
   "id": "2cb9cb22-3035-4987-ad77-8941b8196e1a",
   "metadata": {},
   "outputs": [],
   "source": []
  },
  {
   "cell_type": "code",
   "execution_count": null,
   "id": "f836d065-a0dc-48a0-af8b-45f73b5f41a1",
   "metadata": {},
   "outputs": [],
   "source": []
  }
 ],
 "metadata": {
  "kernelspec": {
   "display_name": "Python 3 (ipykernel)",
   "language": "python",
   "name": "python3"
  },
  "language_info": {
   "codemirror_mode": {
    "name": "ipython",
    "version": 3
   },
   "file_extension": ".py",
   "mimetype": "text/x-python",
   "name": "python",
   "nbconvert_exporter": "python",
   "pygments_lexer": "ipython3",
   "version": "3.11.10"
  }
 },
 "nbformat": 4,
 "nbformat_minor": 5
}
